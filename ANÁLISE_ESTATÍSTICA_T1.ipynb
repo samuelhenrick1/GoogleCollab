{
  "nbformat": 4,
  "nbformat_minor": 0,
  "metadata": {
    "colab": {
      "name": "ANÁLISE ESTATÍSTICA - T1.ipynb",
      "provenance": [],
      "authorship_tag": "ABX9TyM6cy+tSgutupfpivWq3Nla",
      "include_colab_link": true
    },
    "kernelspec": {
      "name": "ir",
      "display_name": "R"
    },
    "language_info": {
      "name": "R"
    }
  },
  "cells": [
    {
      "cell_type": "markdown",
      "metadata": {
        "id": "view-in-github",
        "colab_type": "text"
      },
      "source": [
        "<a href=\"https://colab.research.google.com/github/samuelhenrick1/GoogleCollab/blob/main/AN%C3%81LISE_ESTAT%C3%8DSTICA_T1.ipynb\" target=\"_parent\"><img src=\"https://colab.research.google.com/assets/colab-badge.svg\" alt=\"Open In Colab\"/></a>"
      ]
    },
    {
      "cell_type": "markdown",
      "source": [
        "#Dicionário"
      ],
      "metadata": {
        "id": "2cEZrclT_4hn"
      }
    },
    {
      "cell_type": "markdown",
      "source": [
        "### Procedimentos para criação do dicionário"
      ],
      "metadata": {
        "id": "8sPQh3RUqhMx"
      }
    },
    {
      "cell_type": "code",
      "source": [
        "install.packages(\"formattable\") #Instalando a biblioteca no notebook\n",
        "library(formattable) #Chamando a biblioteca"
      ],
      "metadata": {
        "colab": {
          "base_uri": "https://localhost:8080/"
        },
        "id": "PIXMrgnIyrqV",
        "outputId": "bf8ee05d-8147-459c-a600-93404a7f7054"
      },
      "execution_count": 292,
      "outputs": [
        {
          "output_type": "stream",
          "name": "stderr",
          "text": [
            "Installing package into ‘/usr/local/lib/R/site-library’\n",
            "(as ‘lib’ is unspecified)\n",
            "\n"
          ]
        }
      ]
    },
    {
      "cell_type": "code",
      "source": [
        "#Definindo dicionário como um dataframe com os respectivos atributos e valores esperados\n",
        "\n",
        "dicionario <- data.frame(\n",
        "  id = 1:8,\n",
        "  'Nome da Variável' = c('cliente', 'tipoCliente', 'itens', 'vendasLiquidas', 'metodoPagamento', 'genero', 'estadoCivil', 'idade'),\n",
        "    'Descrição' = c('Número do cliente na amostra','Indica se o cliente comprou usando um cupom de descontos','Número Total de itens comprados','A quantia total ($) cobrada pelo cartão de crédito','Bandeira de cartão de crédito utilizada','Sexo do cliente','Estado civil do cliente','Idade do cliente'), \n",
        "    'Tipo de Variável' = c('Quantitativa','Qualitativa','Quantitativa','Quantitativa','Qualitativa','Qualitativa','Qualitativa','Quantitativa'),\n",
        "    'Tipo de mensuração' = c('Contínua','Nominal','Discreta','Discreta','Nominal','Nominal','Nominal','Discreta'),\n",
        "    'Valores Possíveis' = c('Inteiros de 1 a 100','Promocional, Regular','Números inteiros positivos','Valor em moeda corrente','Qualquer método de pagamento aceito pela empresa','Masculino, Feminino','Casado, solteiro, divorciado, separado, viúvo','1 a 150'),\n",
        "    check.names = FALSE\n",
        ")"
      ],
      "metadata": {
        "id": "BfewkOHX0twN"
      },
      "execution_count": 201,
      "outputs": []
    },
    {
      "cell_type": "markdown",
      "source": [
        "### Exibição do dicionário criado"
      ],
      "metadata": {
        "id": "6WwXok_aqvvX"
      }
    },
    {
      "cell_type": "code",
      "source": [
        "#Exibição do dicionário construído\n",
        "dicionario"
      ],
      "metadata": {
        "colab": {
          "base_uri": "https://localhost:8080/",
          "height": 349
        },
        "id": "i75z5YRX1IlF",
        "outputId": "0ef8679a-d18d-46a2-a9ea-e09aa3490608"
      },
      "execution_count": 202,
      "outputs": [
        {
          "output_type": "display_data",
          "data": {
            "text/plain": [
              "  id Nome da Variável Descrição                                               \n",
              "1 1  cliente          Número do cliente na amostra                            \n",
              "2 2  tipoCliente      Indica se o cliente comprou usando um cupom de descontos\n",
              "3 3  itens            Número Total de itens comprados                         \n",
              "4 4  vendasLiquidas   A quantia total ($) cobrada pelo cartão de crédito      \n",
              "5 5  metodoPagamento  Bandeira de cartão de crédito utilizada                 \n",
              "6 6  genero           Sexo do cliente                                         \n",
              "7 7  estadoCivil      Estado civil do cliente                                 \n",
              "8 8  idade            Idade do cliente                                        \n",
              "  Tipo de Variável Tipo de mensuração\n",
              "1 Quantitativa     Contínua          \n",
              "2 Qualitativa      Nominal           \n",
              "3 Quantitativa     Discreta          \n",
              "4 Quantitativa     Discreta          \n",
              "5 Qualitativa      Nominal           \n",
              "6 Qualitativa      Nominal           \n",
              "7 Qualitativa      Nominal           \n",
              "8 Quantitativa     Discreta          \n",
              "  Valores Possíveis                               \n",
              "1 Inteiros de 1 a 100                             \n",
              "2 Promocional, Regular                            \n",
              "3 Números inteiros positivos                      \n",
              "4 Valor em moeda corrente                         \n",
              "5 Qualquer método de pagamento aceito pela empresa\n",
              "6 Masculino, Feminino                             \n",
              "7 Casado, solteiro, divorciado, separado, viúvo   \n",
              "8 1 a 150                                         "
            ],
            "text/latex": "A data.frame: 8 × 6\n\\begin{tabular}{llllll}\n id & Nome da Variável & Descrição & Tipo de Variável & Tipo de mensuração & Valores Possíveis\\\\\n <int> & <chr> & <chr> & <chr> & <chr> & <chr>\\\\\n\\hline\n\t 1 & cliente         & Número do cliente na amostra                             & Quantitativa & Contínua & Inteiros de 1 a 100                             \\\\\n\t 2 & tipoCliente     & Indica se o cliente comprou usando um cupom de descontos & Qualitativa  & Nominal  & Promocional, Regular                            \\\\\n\t 3 & itens           & Número Total de itens comprados                          & Quantitativa & Discreta & Números inteiros positivos                      \\\\\n\t 4 & vendasLiquidas  & A quantia total (\\$) cobrada pelo cartão de crédito       & Quantitativa & Discreta & Valor em moeda corrente                         \\\\\n\t 5 & metodoPagamento & Bandeira de cartão de crédito utilizada                  & Qualitativa  & Nominal  & Qualquer método de pagamento aceito pela empresa\\\\\n\t 6 & genero          & Sexo do cliente                                          & Qualitativa  & Nominal  & Masculino, Feminino                             \\\\\n\t 7 & estadoCivil     & Estado civil do cliente                                  & Qualitativa  & Nominal  & Casado, solteiro, divorciado, separado, viúvo   \\\\\n\t 8 & idade           & Idade do cliente                                         & Quantitativa & Discreta & 1 a 150                                         \\\\\n\\end{tabular}\n",
            "text/markdown": "\nA data.frame: 8 × 6\n\n| id &lt;int&gt; | Nome da Variável &lt;chr&gt; | Descrição &lt;chr&gt; | Tipo de Variável &lt;chr&gt; | Tipo de mensuração &lt;chr&gt; | Valores Possíveis &lt;chr&gt; |\n|---|---|---|---|---|---|\n| 1 | cliente         | Número do cliente na amostra                             | Quantitativa | Contínua | Inteiros de 1 a 100                              |\n| 2 | tipoCliente     | Indica se o cliente comprou usando um cupom de descontos | Qualitativa  | Nominal  | Promocional, Regular                             |\n| 3 | itens           | Número Total de itens comprados                          | Quantitativa | Discreta | Números inteiros positivos                       |\n| 4 | vendasLiquidas  | A quantia total ($) cobrada pelo cartão de crédito       | Quantitativa | Discreta | Valor em moeda corrente                          |\n| 5 | metodoPagamento | Bandeira de cartão de crédito utilizada                  | Qualitativa  | Nominal  | Qualquer método de pagamento aceito pela empresa |\n| 6 | genero          | Sexo do cliente                                          | Qualitativa  | Nominal  | Masculino, Feminino                              |\n| 7 | estadoCivil     | Estado civil do cliente                                  | Qualitativa  | Nominal  | Casado, solteiro, divorciado, separado, viúvo    |\n| 8 | idade           | Idade do cliente                                         | Quantitativa | Discreta | 1 a 150                                          |\n\n",
            "text/html": [
              "<table class=\"dataframe\">\n",
              "<caption>A data.frame: 8 × 6</caption>\n",
              "<thead>\n",
              "\t<tr><th scope=col>id</th><th scope=col>Nome da Variável</th><th scope=col>Descrição</th><th scope=col>Tipo de Variável</th><th scope=col>Tipo de mensuração</th><th scope=col>Valores Possíveis</th></tr>\n",
              "\t<tr><th scope=col>&lt;int&gt;</th><th scope=col>&lt;chr&gt;</th><th scope=col>&lt;chr&gt;</th><th scope=col>&lt;chr&gt;</th><th scope=col>&lt;chr&gt;</th><th scope=col>&lt;chr&gt;</th></tr>\n",
              "</thead>\n",
              "<tbody>\n",
              "\t<tr><td>1</td><td>cliente        </td><td>Número do cliente na amostra                            </td><td>Quantitativa</td><td>Contínua</td><td>Inteiros de 1 a 100                             </td></tr>\n",
              "\t<tr><td>2</td><td>tipoCliente    </td><td>Indica se o cliente comprou usando um cupom de descontos</td><td>Qualitativa </td><td>Nominal </td><td>Promocional, Regular                            </td></tr>\n",
              "\t<tr><td>3</td><td>itens          </td><td>Número Total de itens comprados                         </td><td>Quantitativa</td><td>Discreta</td><td>Números inteiros positivos                      </td></tr>\n",
              "\t<tr><td>4</td><td>vendasLiquidas </td><td>A quantia total ($) cobrada pelo cartão de crédito      </td><td>Quantitativa</td><td>Discreta</td><td>Valor em moeda corrente                         </td></tr>\n",
              "\t<tr><td>5</td><td>metodoPagamento</td><td>Bandeira de cartão de crédito utilizada                 </td><td>Qualitativa </td><td>Nominal </td><td>Qualquer método de pagamento aceito pela empresa</td></tr>\n",
              "\t<tr><td>6</td><td>genero         </td><td>Sexo do cliente                                         </td><td>Qualitativa </td><td>Nominal </td><td>Masculino, Feminino                             </td></tr>\n",
              "\t<tr><td>7</td><td>estadoCivil    </td><td>Estado civil do cliente                                 </td><td>Qualitativa </td><td>Nominal </td><td>Casado, solteiro, divorciado, separado, viúvo   </td></tr>\n",
              "\t<tr><td>8</td><td>idade          </td><td>Idade do cliente                                        </td><td>Quantitativa</td><td>Discreta</td><td>1 a 150                                         </td></tr>\n",
              "</tbody>\n",
              "</table>\n"
            ]
          },
          "metadata": {}
        }
      ]
    },
    {
      "cell_type": "markdown",
      "source": [
        "#Dados"
      ],
      "metadata": {
        "id": "FL65I0Dd__fD"
      }
    },
    {
      "cell_type": "markdown",
      "source": [
        "### Procedimentos para importar um arquivo do tipo CSV para o JupyterNotebok "
      ],
      "metadata": {
        "id": "Vy-VemMCq6GI"
      }
    },
    {
      "cell_type": "code",
      "execution_count": 203,
      "metadata": {
        "id": "HpCX5QXKyEKk"
      },
      "outputs": [],
      "source": [
        "dados <- read.csv(file='/content/PelicanStores.csv')"
      ]
    },
    {
      "cell_type": "markdown",
      "source": [
        "### Exibição do arquivo importado"
      ],
      "metadata": {
        "id": "DHUi72z2rDu9"
      }
    },
    {
      "cell_type": "code",
      "source": [
        "dados"
      ],
      "metadata": {
        "colab": {
          "base_uri": "https://localhost:8080/",
          "height": 1000
        },
        "id": "c2GVbJcuylE0",
        "outputId": "75dece2a-0462-410d-db84-43edb4cadb96"
      },
      "execution_count": 204,
      "outputs": [
        {
          "output_type": "display_data",
          "data": {
            "text/plain": [
              "    Cliente Tipo.de.Cliente Itens Vendas.líquidas Método.de.Pagamento Gênero   \n",
              "1    1      Regular         1     39,5            Discover            Masculino\n",
              "2    2      Promocional     1     102,4           Cartão Proprietário Feminino \n",
              "3    3      Regular         1     22,5            Cartão Proprietário Feminino \n",
              "4    4      Promocional     5     100,4           Cartão Proprietário Feminino \n",
              "5    5      Regular         2     54              MasterCard          Feminino \n",
              "6    6      Regular         1     44,5            MasterCard          Feminino \n",
              "7    7      Promocional     2     78              Cartão Proprietário Feminino \n",
              "8    8      Regular         1     22,5            Visa                Feminino \n",
              "9    9      Promocional     2     56,52           Cartão Proprietário Feminino \n",
              "10  10      Regular         1     44,5            Cartão Proprietário Feminino \n",
              "11  11      Regular         1     29,5            Cartão Proprietário Feminino \n",
              "12  12      Promocional     1     31,6            Cartão Proprietário Feminino \n",
              "13  13      Promocional     9     160,4           Visa                Feminino \n",
              "14  14      Promocional     2     64,5            Visa                Feminino \n",
              "15  15      Regular         1     49,5            Visa                Masculino\n",
              "16  16      Promocional     2     71,4            Cartão Proprietário Masculino\n",
              "17  17      Promocional     3     94              Cartão Proprietário Feminino \n",
              "18  18      Regular         3     54,5            Discover            Feminino \n",
              "19  19      Promocional     2     38,5            MasterCard          Feminino \n",
              "20  20      Promocional     6     44,8            Cartão Proprietário Feminino \n",
              "21  21      Promocional     1     31,6            Cartão Proprietário Feminino \n",
              "22  22      Promocional     4     70,82           Cartão Proprietário Feminino \n",
              "23  23      Promocional     7     266             American Express    Feminino \n",
              "24  24      Regular         2     74              Cartão Proprietário Feminino \n",
              "25  25      Promocional     2     39,5            Visa                Masculino\n",
              "26  26      Promocional     1     30,02           Cartão Proprietário Feminino \n",
              "27  27      Regular         1     44,5            Cartão Proprietário Feminino \n",
              "28  28      Promocional     5     192,8           Cartão Proprietário Feminino \n",
              "29  29      Promocional     3     71,2            Cartão Proprietário Feminino \n",
              "30  30      Promocional     1     18              Cartão Proprietário Feminino \n",
              "⋮   ⋮       ⋮               ⋮     ⋮               ⋮                   ⋮        \n",
              "71   71     Promocional      5    155,32          Cartão Proprietário Feminino \n",
              "72   72     Promocional      4    58              MasterCard          Feminino \n",
              "73   73     Regular          1    69              Cartão Proprietário Feminino \n",
              "74   74     Promocional      2    46,5            Cartão Proprietário Feminino \n",
              "75   75     Promocional      2    45,22           Cartão Proprietário Feminino \n",
              "76   76     Promocional      4    84,74           Cartão Proprietário Feminino \n",
              "77   77     Regular          2    39              Cartão Proprietário Feminino \n",
              "78   78     Promocional      4    111,14          Cartão Proprietário Feminino \n",
              "79   79     Promocional      3    86,8            Cartão Proprietário Feminino \n",
              "80   80     Regular          2    89              Discover            Feminino \n",
              "81   81     Promocional      2    78              MasterCard          Feminino \n",
              "82   82     Promocional      6    53,2            Cartão Proprietário Feminino \n",
              "83   83     Promocional      4    58,5            Visa                Feminino \n",
              "84   84     Promocional      3    46              Cartão Proprietário Feminino \n",
              "85   85     Regular          2    37,5            Visa                Feminino \n",
              "86   86     Promocional      1    20,8            Cartão Proprietário Feminino \n",
              "87   87     Regular          6    144             MasterCard          Feminino \n",
              "88   88     Regular          4    107             Cartão Proprietário Feminino \n",
              "89   89     Promocional      1    31,6            Cartão Proprietário Feminino \n",
              "90   90     Promocional      6    57,6            Cartão Proprietário Feminino \n",
              "91   91     Promocional      4    95,2            Cartão Proprietário Feminino \n",
              "92   92     Promocional      1    22,42           Cartão Proprietário Feminino \n",
              "93   93     Regular          5    159,75          Cartão Proprietário Feminino \n",
              "94   94     Promocional     17    229,5           Cartão Proprietário Feminino \n",
              "95   95     Regular          3    66              American Express    Feminino \n",
              "96   96     Regular          1    39,5            MasterCard          Feminino \n",
              "97   97     Promocional      9    253             Cartão Proprietário Feminino \n",
              "98   98     Promocional     10    287,59          Cartão Proprietário Feminino \n",
              "99   99     Promocional      2    47,6            Cartão Proprietário Feminino \n",
              "100 100     Promocional      1    28,44           Cartão Proprietário Feminino \n",
              "    Estado.Civil Idade\n",
              "1   Casado       32   \n",
              "2   Casado       36   \n",
              "3   Casado       32   \n",
              "4   Casado       28   \n",
              "5   Casado       34   \n",
              "6   Casado       44   \n",
              "7   Casado       30   \n",
              "8   Casado       40   \n",
              "9   Casado       46   \n",
              "10  Casado       36   \n",
              "11  Casado       48   \n",
              "12  Casado       40   \n",
              "13  Casado       40   \n",
              "14  Casado       46   \n",
              "15  Solteiro     24   \n",
              "16  Solteiro     36   \n",
              "17  Solteiro     22   \n",
              "18  Casado       40   \n",
              "19  Casado       32   \n",
              "20  Casado       56   \n",
              "21  Solteiro     28   \n",
              "22  Casado       38   \n",
              "23  Casado       50   \n",
              "24  Casado       42   \n",
              "25  Casado       48   \n",
              "26  Casado       60   \n",
              "27  Casado       54   \n",
              "28  Solteiro     42   \n",
              "29  Casado       32   \n",
              "30  Casado       70   \n",
              "⋮   ⋮            ⋮    \n",
              "71  Casado       30   \n",
              "72  Casado       32   \n",
              "73  Solteiro     22   \n",
              "74  Casado       32   \n",
              "75  Casado       74   \n",
              "76  Casado       62   \n",
              "77  Casado       42   \n",
              "78  Casado       28   \n",
              "79  Casado       38   \n",
              "80  Casado       54   \n",
              "81  Casado       68   \n",
              "82  Solteiro     30   \n",
              "83  Casado       36   \n",
              "84  Casado       44   \n",
              "85  Casado       44   \n",
              "86  Casado       62   \n",
              "87  Solteiro     48   \n",
              "88  Casado       36   \n",
              "89  Solteiro     20   \n",
              "90  Casado       42   \n",
              "91  Casado       54   \n",
              "92  Casado       54   \n",
              "93  Casado       72   \n",
              "94  Casado       30   \n",
              "95  Casado       46   \n",
              "96  Casado       44   \n",
              "97  Casado       30   \n",
              "98  Casado       52   \n",
              "99  Casado       30   \n",
              "100 Casado       44   "
            ],
            "text/latex": "A data.frame: 100 × 8\n\\begin{tabular}{llllllll}\n Cliente & Tipo.de.Cliente & Itens & Vendas.líquidas & Método.de.Pagamento & Gênero & Estado.Civil & Idade\\\\\n <int> & <chr> & <int> & <chr> & <chr> & <chr> & <chr> & <int>\\\\\n\\hline\n\t  1 & Regular     & 1 & 39,5  & Discover            & Masculino & Casado   & 32\\\\\n\t  2 & Promocional & 1 & 102,4 & Cartão Proprietário & Feminino  & Casado   & 36\\\\\n\t  3 & Regular     & 1 & 22,5  & Cartão Proprietário & Feminino  & Casado   & 32\\\\\n\t  4 & Promocional & 5 & 100,4 & Cartão Proprietário & Feminino  & Casado   & 28\\\\\n\t  5 & Regular     & 2 & 54    & MasterCard          & Feminino  & Casado   & 34\\\\\n\t  6 & Regular     & 1 & 44,5  & MasterCard          & Feminino  & Casado   & 44\\\\\n\t  7 & Promocional & 2 & 78    & Cartão Proprietário & Feminino  & Casado   & 30\\\\\n\t  8 & Regular     & 1 & 22,5  & Visa                & Feminino  & Casado   & 40\\\\\n\t  9 & Promocional & 2 & 56,52 & Cartão Proprietário & Feminino  & Casado   & 46\\\\\n\t 10 & Regular     & 1 & 44,5  & Cartão Proprietário & Feminino  & Casado   & 36\\\\\n\t 11 & Regular     & 1 & 29,5  & Cartão Proprietário & Feminino  & Casado   & 48\\\\\n\t 12 & Promocional & 1 & 31,6  & Cartão Proprietário & Feminino  & Casado   & 40\\\\\n\t 13 & Promocional & 9 & 160,4 & Visa                & Feminino  & Casado   & 40\\\\\n\t 14 & Promocional & 2 & 64,5  & Visa                & Feminino  & Casado   & 46\\\\\n\t 15 & Regular     & 1 & 49,5  & Visa                & Masculino & Solteiro & 24\\\\\n\t 16 & Promocional & 2 & 71,4  & Cartão Proprietário & Masculino & Solteiro & 36\\\\\n\t 17 & Promocional & 3 & 94    & Cartão Proprietário & Feminino  & Solteiro & 22\\\\\n\t 18 & Regular     & 3 & 54,5  & Discover            & Feminino  & Casado   & 40\\\\\n\t 19 & Promocional & 2 & 38,5  & MasterCard          & Feminino  & Casado   & 32\\\\\n\t 20 & Promocional & 6 & 44,8  & Cartão Proprietário & Feminino  & Casado   & 56\\\\\n\t 21 & Promocional & 1 & 31,6  & Cartão Proprietário & Feminino  & Solteiro & 28\\\\\n\t 22 & Promocional & 4 & 70,82 & Cartão Proprietário & Feminino  & Casado   & 38\\\\\n\t 23 & Promocional & 7 & 266   & American Express    & Feminino  & Casado   & 50\\\\\n\t 24 & Regular     & 2 & 74    & Cartão Proprietário & Feminino  & Casado   & 42\\\\\n\t 25 & Promocional & 2 & 39,5  & Visa                & Masculino & Casado   & 48\\\\\n\t 26 & Promocional & 1 & 30,02 & Cartão Proprietário & Feminino  & Casado   & 60\\\\\n\t 27 & Regular     & 1 & 44,5  & Cartão Proprietário & Feminino  & Casado   & 54\\\\\n\t 28 & Promocional & 5 & 192,8 & Cartão Proprietário & Feminino  & Solteiro & 42\\\\\n\t 29 & Promocional & 3 & 71,2  & Cartão Proprietário & Feminino  & Casado   & 32\\\\\n\t 30 & Promocional & 1 & 18    & Cartão Proprietário & Feminino  & Casado   & 70\\\\\n\t ⋮ & ⋮ & ⋮ & ⋮ & ⋮ & ⋮ & ⋮ & ⋮\\\\\n\t  71 & Promocional &  5 & 155,32 & Cartão Proprietário & Feminino & Casado   & 30\\\\\n\t  72 & Promocional &  4 & 58     & MasterCard          & Feminino & Casado   & 32\\\\\n\t  73 & Regular     &  1 & 69     & Cartão Proprietário & Feminino & Solteiro & 22\\\\\n\t  74 & Promocional &  2 & 46,5   & Cartão Proprietário & Feminino & Casado   & 32\\\\\n\t  75 & Promocional &  2 & 45,22  & Cartão Proprietário & Feminino & Casado   & 74\\\\\n\t  76 & Promocional &  4 & 84,74  & Cartão Proprietário & Feminino & Casado   & 62\\\\\n\t  77 & Regular     &  2 & 39     & Cartão Proprietário & Feminino & Casado   & 42\\\\\n\t  78 & Promocional &  4 & 111,14 & Cartão Proprietário & Feminino & Casado   & 28\\\\\n\t  79 & Promocional &  3 & 86,8   & Cartão Proprietário & Feminino & Casado   & 38\\\\\n\t  80 & Regular     &  2 & 89     & Discover            & Feminino & Casado   & 54\\\\\n\t  81 & Promocional &  2 & 78     & MasterCard          & Feminino & Casado   & 68\\\\\n\t  82 & Promocional &  6 & 53,2   & Cartão Proprietário & Feminino & Solteiro & 30\\\\\n\t  83 & Promocional &  4 & 58,5   & Visa                & Feminino & Casado   & 36\\\\\n\t  84 & Promocional &  3 & 46     & Cartão Proprietário & Feminino & Casado   & 44\\\\\n\t  85 & Regular     &  2 & 37,5   & Visa                & Feminino & Casado   & 44\\\\\n\t  86 & Promocional &  1 & 20,8   & Cartão Proprietário & Feminino & Casado   & 62\\\\\n\t  87 & Regular     &  6 & 144    & MasterCard          & Feminino & Solteiro & 48\\\\\n\t  88 & Regular     &  4 & 107    & Cartão Proprietário & Feminino & Casado   & 36\\\\\n\t  89 & Promocional &  1 & 31,6   & Cartão Proprietário & Feminino & Solteiro & 20\\\\\n\t  90 & Promocional &  6 & 57,6   & Cartão Proprietário & Feminino & Casado   & 42\\\\\n\t  91 & Promocional &  4 & 95,2   & Cartão Proprietário & Feminino & Casado   & 54\\\\\n\t  92 & Promocional &  1 & 22,42  & Cartão Proprietário & Feminino & Casado   & 54\\\\\n\t  93 & Regular     &  5 & 159,75 & Cartão Proprietário & Feminino & Casado   & 72\\\\\n\t  94 & Promocional & 17 & 229,5  & Cartão Proprietário & Feminino & Casado   & 30\\\\\n\t  95 & Regular     &  3 & 66     & American Express    & Feminino & Casado   & 46\\\\\n\t  96 & Regular     &  1 & 39,5   & MasterCard          & Feminino & Casado   & 44\\\\\n\t  97 & Promocional &  9 & 253    & Cartão Proprietário & Feminino & Casado   & 30\\\\\n\t  98 & Promocional & 10 & 287,59 & Cartão Proprietário & Feminino & Casado   & 52\\\\\n\t  99 & Promocional &  2 & 47,6   & Cartão Proprietário & Feminino & Casado   & 30\\\\\n\t 100 & Promocional &  1 & 28,44  & Cartão Proprietário & Feminino & Casado   & 44\\\\\n\\end{tabular}\n",
            "text/markdown": "\nA data.frame: 100 × 8\n\n| Cliente &lt;int&gt; | Tipo.de.Cliente &lt;chr&gt; | Itens &lt;int&gt; | Vendas.líquidas &lt;chr&gt; | Método.de.Pagamento &lt;chr&gt; | Gênero &lt;chr&gt; | Estado.Civil &lt;chr&gt; | Idade &lt;int&gt; |\n|---|---|---|---|---|---|---|---|\n|  1 | Regular     | 1 | 39,5  | Discover            | Masculino | Casado   | 32 |\n|  2 | Promocional | 1 | 102,4 | Cartão Proprietário | Feminino  | Casado   | 36 |\n|  3 | Regular     | 1 | 22,5  | Cartão Proprietário | Feminino  | Casado   | 32 |\n|  4 | Promocional | 5 | 100,4 | Cartão Proprietário | Feminino  | Casado   | 28 |\n|  5 | Regular     | 2 | 54    | MasterCard          | Feminino  | Casado   | 34 |\n|  6 | Regular     | 1 | 44,5  | MasterCard          | Feminino  | Casado   | 44 |\n|  7 | Promocional | 2 | 78    | Cartão Proprietário | Feminino  | Casado   | 30 |\n|  8 | Regular     | 1 | 22,5  | Visa                | Feminino  | Casado   | 40 |\n|  9 | Promocional | 2 | 56,52 | Cartão Proprietário | Feminino  | Casado   | 46 |\n| 10 | Regular     | 1 | 44,5  | Cartão Proprietário | Feminino  | Casado   | 36 |\n| 11 | Regular     | 1 | 29,5  | Cartão Proprietário | Feminino  | Casado   | 48 |\n| 12 | Promocional | 1 | 31,6  | Cartão Proprietário | Feminino  | Casado   | 40 |\n| 13 | Promocional | 9 | 160,4 | Visa                | Feminino  | Casado   | 40 |\n| 14 | Promocional | 2 | 64,5  | Visa                | Feminino  | Casado   | 46 |\n| 15 | Regular     | 1 | 49,5  | Visa                | Masculino | Solteiro | 24 |\n| 16 | Promocional | 2 | 71,4  | Cartão Proprietário | Masculino | Solteiro | 36 |\n| 17 | Promocional | 3 | 94    | Cartão Proprietário | Feminino  | Solteiro | 22 |\n| 18 | Regular     | 3 | 54,5  | Discover            | Feminino  | Casado   | 40 |\n| 19 | Promocional | 2 | 38,5  | MasterCard          | Feminino  | Casado   | 32 |\n| 20 | Promocional | 6 | 44,8  | Cartão Proprietário | Feminino  | Casado   | 56 |\n| 21 | Promocional | 1 | 31,6  | Cartão Proprietário | Feminino  | Solteiro | 28 |\n| 22 | Promocional | 4 | 70,82 | Cartão Proprietário | Feminino  | Casado   | 38 |\n| 23 | Promocional | 7 | 266   | American Express    | Feminino  | Casado   | 50 |\n| 24 | Regular     | 2 | 74    | Cartão Proprietário | Feminino  | Casado   | 42 |\n| 25 | Promocional | 2 | 39,5  | Visa                | Masculino | Casado   | 48 |\n| 26 | Promocional | 1 | 30,02 | Cartão Proprietário | Feminino  | Casado   | 60 |\n| 27 | Regular     | 1 | 44,5  | Cartão Proprietário | Feminino  | Casado   | 54 |\n| 28 | Promocional | 5 | 192,8 | Cartão Proprietário | Feminino  | Solteiro | 42 |\n| 29 | Promocional | 3 | 71,2  | Cartão Proprietário | Feminino  | Casado   | 32 |\n| 30 | Promocional | 1 | 18    | Cartão Proprietário | Feminino  | Casado   | 70 |\n| ⋮ | ⋮ | ⋮ | ⋮ | ⋮ | ⋮ | ⋮ | ⋮ |\n|  71 | Promocional |  5 | 155,32 | Cartão Proprietário | Feminino | Casado   | 30 |\n|  72 | Promocional |  4 | 58     | MasterCard          | Feminino | Casado   | 32 |\n|  73 | Regular     |  1 | 69     | Cartão Proprietário | Feminino | Solteiro | 22 |\n|  74 | Promocional |  2 | 46,5   | Cartão Proprietário | Feminino | Casado   | 32 |\n|  75 | Promocional |  2 | 45,22  | Cartão Proprietário | Feminino | Casado   | 74 |\n|  76 | Promocional |  4 | 84,74  | Cartão Proprietário | Feminino | Casado   | 62 |\n|  77 | Regular     |  2 | 39     | Cartão Proprietário | Feminino | Casado   | 42 |\n|  78 | Promocional |  4 | 111,14 | Cartão Proprietário | Feminino | Casado   | 28 |\n|  79 | Promocional |  3 | 86,8   | Cartão Proprietário | Feminino | Casado   | 38 |\n|  80 | Regular     |  2 | 89     | Discover            | Feminino | Casado   | 54 |\n|  81 | Promocional |  2 | 78     | MasterCard          | Feminino | Casado   | 68 |\n|  82 | Promocional |  6 | 53,2   | Cartão Proprietário | Feminino | Solteiro | 30 |\n|  83 | Promocional |  4 | 58,5   | Visa                | Feminino | Casado   | 36 |\n|  84 | Promocional |  3 | 46     | Cartão Proprietário | Feminino | Casado   | 44 |\n|  85 | Regular     |  2 | 37,5   | Visa                | Feminino | Casado   | 44 |\n|  86 | Promocional |  1 | 20,8   | Cartão Proprietário | Feminino | Casado   | 62 |\n|  87 | Regular     |  6 | 144    | MasterCard          | Feminino | Solteiro | 48 |\n|  88 | Regular     |  4 | 107    | Cartão Proprietário | Feminino | Casado   | 36 |\n|  89 | Promocional |  1 | 31,6   | Cartão Proprietário | Feminino | Solteiro | 20 |\n|  90 | Promocional |  6 | 57,6   | Cartão Proprietário | Feminino | Casado   | 42 |\n|  91 | Promocional |  4 | 95,2   | Cartão Proprietário | Feminino | Casado   | 54 |\n|  92 | Promocional |  1 | 22,42  | Cartão Proprietário | Feminino | Casado   | 54 |\n|  93 | Regular     |  5 | 159,75 | Cartão Proprietário | Feminino | Casado   | 72 |\n|  94 | Promocional | 17 | 229,5  | Cartão Proprietário | Feminino | Casado   | 30 |\n|  95 | Regular     |  3 | 66     | American Express    | Feminino | Casado   | 46 |\n|  96 | Regular     |  1 | 39,5   | MasterCard          | Feminino | Casado   | 44 |\n|  97 | Promocional |  9 | 253    | Cartão Proprietário | Feminino | Casado   | 30 |\n|  98 | Promocional | 10 | 287,59 | Cartão Proprietário | Feminino | Casado   | 52 |\n|  99 | Promocional |  2 | 47,6   | Cartão Proprietário | Feminino | Casado   | 30 |\n| 100 | Promocional |  1 | 28,44  | Cartão Proprietário | Feminino | Casado   | 44 |\n\n",
            "text/html": [
              "<table class=\"dataframe\">\n",
              "<caption>A data.frame: 100 × 8</caption>\n",
              "<thead>\n",
              "\t<tr><th scope=col>Cliente</th><th scope=col>Tipo.de.Cliente</th><th scope=col>Itens</th><th scope=col>Vendas.líquidas</th><th scope=col>Método.de.Pagamento</th><th scope=col>Gênero</th><th scope=col>Estado.Civil</th><th scope=col>Idade</th></tr>\n",
              "\t<tr><th scope=col>&lt;int&gt;</th><th scope=col>&lt;chr&gt;</th><th scope=col>&lt;int&gt;</th><th scope=col>&lt;chr&gt;</th><th scope=col>&lt;chr&gt;</th><th scope=col>&lt;chr&gt;</th><th scope=col>&lt;chr&gt;</th><th scope=col>&lt;int&gt;</th></tr>\n",
              "</thead>\n",
              "<tbody>\n",
              "\t<tr><td> 1</td><td>Regular    </td><td>1</td><td>39,5 </td><td>Discover           </td><td>Masculino</td><td>Casado  </td><td>32</td></tr>\n",
              "\t<tr><td> 2</td><td>Promocional</td><td>1</td><td>102,4</td><td>Cartão Proprietário</td><td>Feminino </td><td>Casado  </td><td>36</td></tr>\n",
              "\t<tr><td> 3</td><td>Regular    </td><td>1</td><td>22,5 </td><td>Cartão Proprietário</td><td>Feminino </td><td>Casado  </td><td>32</td></tr>\n",
              "\t<tr><td> 4</td><td>Promocional</td><td>5</td><td>100,4</td><td>Cartão Proprietário</td><td>Feminino </td><td>Casado  </td><td>28</td></tr>\n",
              "\t<tr><td> 5</td><td>Regular    </td><td>2</td><td>54   </td><td>MasterCard         </td><td>Feminino </td><td>Casado  </td><td>34</td></tr>\n",
              "\t<tr><td> 6</td><td>Regular    </td><td>1</td><td>44,5 </td><td>MasterCard         </td><td>Feminino </td><td>Casado  </td><td>44</td></tr>\n",
              "\t<tr><td> 7</td><td>Promocional</td><td>2</td><td>78   </td><td>Cartão Proprietário</td><td>Feminino </td><td>Casado  </td><td>30</td></tr>\n",
              "\t<tr><td> 8</td><td>Regular    </td><td>1</td><td>22,5 </td><td>Visa               </td><td>Feminino </td><td>Casado  </td><td>40</td></tr>\n",
              "\t<tr><td> 9</td><td>Promocional</td><td>2</td><td>56,52</td><td>Cartão Proprietário</td><td>Feminino </td><td>Casado  </td><td>46</td></tr>\n",
              "\t<tr><td>10</td><td>Regular    </td><td>1</td><td>44,5 </td><td>Cartão Proprietário</td><td>Feminino </td><td>Casado  </td><td>36</td></tr>\n",
              "\t<tr><td>11</td><td>Regular    </td><td>1</td><td>29,5 </td><td>Cartão Proprietário</td><td>Feminino </td><td>Casado  </td><td>48</td></tr>\n",
              "\t<tr><td>12</td><td>Promocional</td><td>1</td><td>31,6 </td><td>Cartão Proprietário</td><td>Feminino </td><td>Casado  </td><td>40</td></tr>\n",
              "\t<tr><td>13</td><td>Promocional</td><td>9</td><td>160,4</td><td>Visa               </td><td>Feminino </td><td>Casado  </td><td>40</td></tr>\n",
              "\t<tr><td>14</td><td>Promocional</td><td>2</td><td>64,5 </td><td>Visa               </td><td>Feminino </td><td>Casado  </td><td>46</td></tr>\n",
              "\t<tr><td>15</td><td>Regular    </td><td>1</td><td>49,5 </td><td>Visa               </td><td>Masculino</td><td>Solteiro</td><td>24</td></tr>\n",
              "\t<tr><td>16</td><td>Promocional</td><td>2</td><td>71,4 </td><td>Cartão Proprietário</td><td>Masculino</td><td>Solteiro</td><td>36</td></tr>\n",
              "\t<tr><td>17</td><td>Promocional</td><td>3</td><td>94   </td><td>Cartão Proprietário</td><td>Feminino </td><td>Solteiro</td><td>22</td></tr>\n",
              "\t<tr><td>18</td><td>Regular    </td><td>3</td><td>54,5 </td><td>Discover           </td><td>Feminino </td><td>Casado  </td><td>40</td></tr>\n",
              "\t<tr><td>19</td><td>Promocional</td><td>2</td><td>38,5 </td><td>MasterCard         </td><td>Feminino </td><td>Casado  </td><td>32</td></tr>\n",
              "\t<tr><td>20</td><td>Promocional</td><td>6</td><td>44,8 </td><td>Cartão Proprietário</td><td>Feminino </td><td>Casado  </td><td>56</td></tr>\n",
              "\t<tr><td>21</td><td>Promocional</td><td>1</td><td>31,6 </td><td>Cartão Proprietário</td><td>Feminino </td><td>Solteiro</td><td>28</td></tr>\n",
              "\t<tr><td>22</td><td>Promocional</td><td>4</td><td>70,82</td><td>Cartão Proprietário</td><td>Feminino </td><td>Casado  </td><td>38</td></tr>\n",
              "\t<tr><td>23</td><td>Promocional</td><td>7</td><td>266  </td><td>American Express   </td><td>Feminino </td><td>Casado  </td><td>50</td></tr>\n",
              "\t<tr><td>24</td><td>Regular    </td><td>2</td><td>74   </td><td>Cartão Proprietário</td><td>Feminino </td><td>Casado  </td><td>42</td></tr>\n",
              "\t<tr><td>25</td><td>Promocional</td><td>2</td><td>39,5 </td><td>Visa               </td><td>Masculino</td><td>Casado  </td><td>48</td></tr>\n",
              "\t<tr><td>26</td><td>Promocional</td><td>1</td><td>30,02</td><td>Cartão Proprietário</td><td>Feminino </td><td>Casado  </td><td>60</td></tr>\n",
              "\t<tr><td>27</td><td>Regular    </td><td>1</td><td>44,5 </td><td>Cartão Proprietário</td><td>Feminino </td><td>Casado  </td><td>54</td></tr>\n",
              "\t<tr><td>28</td><td>Promocional</td><td>5</td><td>192,8</td><td>Cartão Proprietário</td><td>Feminino </td><td>Solteiro</td><td>42</td></tr>\n",
              "\t<tr><td>29</td><td>Promocional</td><td>3</td><td>71,2 </td><td>Cartão Proprietário</td><td>Feminino </td><td>Casado  </td><td>32</td></tr>\n",
              "\t<tr><td>30</td><td>Promocional</td><td>1</td><td>18   </td><td>Cartão Proprietário</td><td>Feminino </td><td>Casado  </td><td>70</td></tr>\n",
              "\t<tr><td>⋮</td><td>⋮</td><td>⋮</td><td>⋮</td><td>⋮</td><td>⋮</td><td>⋮</td><td>⋮</td></tr>\n",
              "\t<tr><td> 71</td><td>Promocional</td><td> 5</td><td>155,32</td><td>Cartão Proprietário</td><td>Feminino</td><td>Casado  </td><td>30</td></tr>\n",
              "\t<tr><td> 72</td><td>Promocional</td><td> 4</td><td>58    </td><td>MasterCard         </td><td>Feminino</td><td>Casado  </td><td>32</td></tr>\n",
              "\t<tr><td> 73</td><td>Regular    </td><td> 1</td><td>69    </td><td>Cartão Proprietário</td><td>Feminino</td><td>Solteiro</td><td>22</td></tr>\n",
              "\t<tr><td> 74</td><td>Promocional</td><td> 2</td><td>46,5  </td><td>Cartão Proprietário</td><td>Feminino</td><td>Casado  </td><td>32</td></tr>\n",
              "\t<tr><td> 75</td><td>Promocional</td><td> 2</td><td>45,22 </td><td>Cartão Proprietário</td><td>Feminino</td><td>Casado  </td><td>74</td></tr>\n",
              "\t<tr><td> 76</td><td>Promocional</td><td> 4</td><td>84,74 </td><td>Cartão Proprietário</td><td>Feminino</td><td>Casado  </td><td>62</td></tr>\n",
              "\t<tr><td> 77</td><td>Regular    </td><td> 2</td><td>39    </td><td>Cartão Proprietário</td><td>Feminino</td><td>Casado  </td><td>42</td></tr>\n",
              "\t<tr><td> 78</td><td>Promocional</td><td> 4</td><td>111,14</td><td>Cartão Proprietário</td><td>Feminino</td><td>Casado  </td><td>28</td></tr>\n",
              "\t<tr><td> 79</td><td>Promocional</td><td> 3</td><td>86,8  </td><td>Cartão Proprietário</td><td>Feminino</td><td>Casado  </td><td>38</td></tr>\n",
              "\t<tr><td> 80</td><td>Regular    </td><td> 2</td><td>89    </td><td>Discover           </td><td>Feminino</td><td>Casado  </td><td>54</td></tr>\n",
              "\t<tr><td> 81</td><td>Promocional</td><td> 2</td><td>78    </td><td>MasterCard         </td><td>Feminino</td><td>Casado  </td><td>68</td></tr>\n",
              "\t<tr><td> 82</td><td>Promocional</td><td> 6</td><td>53,2  </td><td>Cartão Proprietário</td><td>Feminino</td><td>Solteiro</td><td>30</td></tr>\n",
              "\t<tr><td> 83</td><td>Promocional</td><td> 4</td><td>58,5  </td><td>Visa               </td><td>Feminino</td><td>Casado  </td><td>36</td></tr>\n",
              "\t<tr><td> 84</td><td>Promocional</td><td> 3</td><td>46    </td><td>Cartão Proprietário</td><td>Feminino</td><td>Casado  </td><td>44</td></tr>\n",
              "\t<tr><td> 85</td><td>Regular    </td><td> 2</td><td>37,5  </td><td>Visa               </td><td>Feminino</td><td>Casado  </td><td>44</td></tr>\n",
              "\t<tr><td> 86</td><td>Promocional</td><td> 1</td><td>20,8  </td><td>Cartão Proprietário</td><td>Feminino</td><td>Casado  </td><td>62</td></tr>\n",
              "\t<tr><td> 87</td><td>Regular    </td><td> 6</td><td>144   </td><td>MasterCard         </td><td>Feminino</td><td>Solteiro</td><td>48</td></tr>\n",
              "\t<tr><td> 88</td><td>Regular    </td><td> 4</td><td>107   </td><td>Cartão Proprietário</td><td>Feminino</td><td>Casado  </td><td>36</td></tr>\n",
              "\t<tr><td> 89</td><td>Promocional</td><td> 1</td><td>31,6  </td><td>Cartão Proprietário</td><td>Feminino</td><td>Solteiro</td><td>20</td></tr>\n",
              "\t<tr><td> 90</td><td>Promocional</td><td> 6</td><td>57,6  </td><td>Cartão Proprietário</td><td>Feminino</td><td>Casado  </td><td>42</td></tr>\n",
              "\t<tr><td> 91</td><td>Promocional</td><td> 4</td><td>95,2  </td><td>Cartão Proprietário</td><td>Feminino</td><td>Casado  </td><td>54</td></tr>\n",
              "\t<tr><td> 92</td><td>Promocional</td><td> 1</td><td>22,42 </td><td>Cartão Proprietário</td><td>Feminino</td><td>Casado  </td><td>54</td></tr>\n",
              "\t<tr><td> 93</td><td>Regular    </td><td> 5</td><td>159,75</td><td>Cartão Proprietário</td><td>Feminino</td><td>Casado  </td><td>72</td></tr>\n",
              "\t<tr><td> 94</td><td>Promocional</td><td>17</td><td>229,5 </td><td>Cartão Proprietário</td><td>Feminino</td><td>Casado  </td><td>30</td></tr>\n",
              "\t<tr><td> 95</td><td>Regular    </td><td> 3</td><td>66    </td><td>American Express   </td><td>Feminino</td><td>Casado  </td><td>46</td></tr>\n",
              "\t<tr><td> 96</td><td>Regular    </td><td> 1</td><td>39,5  </td><td>MasterCard         </td><td>Feminino</td><td>Casado  </td><td>44</td></tr>\n",
              "\t<tr><td> 97</td><td>Promocional</td><td> 9</td><td>253   </td><td>Cartão Proprietário</td><td>Feminino</td><td>Casado  </td><td>30</td></tr>\n",
              "\t<tr><td> 98</td><td>Promocional</td><td>10</td><td>287,59</td><td>Cartão Proprietário</td><td>Feminino</td><td>Casado  </td><td>52</td></tr>\n",
              "\t<tr><td> 99</td><td>Promocional</td><td> 2</td><td>47,6  </td><td>Cartão Proprietário</td><td>Feminino</td><td>Casado  </td><td>30</td></tr>\n",
              "\t<tr><td>100</td><td>Promocional</td><td> 1</td><td>28,44 </td><td>Cartão Proprietário</td><td>Feminino</td><td>Casado  </td><td>44</td></tr>\n",
              "</tbody>\n",
              "</table>\n"
            ]
          },
          "metadata": {}
        }
      ]
    },
    {
      "cell_type": "markdown",
      "source": [
        "### Tipo de Estrutura de Dados do Arquivo Importado que serão manipulados ao decorrer da atividade"
      ],
      "metadata": {
        "id": "7KNfYVLgrIUW"
      }
    },
    {
      "cell_type": "code",
      "source": [
        "str(dados)"
      ],
      "metadata": {
        "colab": {
          "base_uri": "https://localhost:8080/"
        },
        "id": "ka10mhJgAHqv",
        "outputId": "88153ef5-b87b-4ca9-c356-8c772e3d640b"
      },
      "execution_count": 205,
      "outputs": [
        {
          "output_type": "stream",
          "name": "stdout",
          "text": [
            "'data.frame':\t100 obs. of  8 variables:\n",
            " $ Cliente            : int  1 2 3 4 5 6 7 8 9 10 ...\n",
            " $ Tipo.de.Cliente    : chr  \"Regular\" \"Promocional\" \"Regular\" \"Promocional\" ...\n",
            " $ Itens              : int  1 1 1 5 2 1 2 1 2 1 ...\n",
            " $ Vendas.líquidas    : chr  \"39,5\" \"102,4\" \"22,5\" \"100,4\" ...\n",
            " $ Método.de.Pagamento: chr  \"Discover\" \"Cartão Proprietário\" \"Cartão Proprietário\" \"Cartão Proprietário\" ...\n",
            " $ Gênero             : chr  \"Masculino\" \"Feminino\" \"Feminino\" \"Feminino\" ...\n",
            " $ Estado.Civil       : chr  \"Casado\" \"Casado\" \"Casado\" \"Casado\" ...\n",
            " $ Idade              : int  32 36 32 28 34 44 30 40 46 36 ...\n"
          ]
        }
      ]
    },
    {
      "cell_type": "markdown",
      "source": [
        "# A) Itens -- O número total de itens comprados"
      ],
      "metadata": {
        "id": "HHbn0u2gFDs9"
      }
    },
    {
      "cell_type": "code",
      "source": [
        "soma_itens = sum(dados$Itens)\n",
        "print(\"Total de itens comprados: \")\n",
        "soma_itens"
      ],
      "metadata": {
        "colab": {
          "base_uri": "https://localhost:8080/",
          "height": 52
        },
        "id": "oQ6yNLCsECgP",
        "outputId": "6a42d56f-2ef7-4ad6-a01c-1913284027de"
      },
      "execution_count": 295,
      "outputs": [
        {
          "output_type": "stream",
          "name": "stdout",
          "text": [
            "[1] \"Total de itens comprados: \"\n"
          ]
        },
        {
          "output_type": "display_data",
          "data": {
            "text/plain": [
              "[1] 322"
            ],
            "text/latex": "322",
            "text/markdown": "322",
            "text/html": [
              "322"
            ]
          },
          "metadata": {}
        }
      ]
    },
    {
      "cell_type": "markdown",
      "source": [
        "#B) Vendas líquidas -- A quantia total ($) cobrada pelo cartão de crédito\n",
        "\n",
        "*Obs: O método de pagamento chamado “Cartão Proprietário” se refere a cobranças feitas utilizando um cartão de crédito da National Clothing."
      ],
      "metadata": {
        "id": "bQkt4gI3FIHB"
      }
    },
    {
      "cell_type": "code",
      "source": [
        "names(dados)"
      ],
      "metadata": {
        "colab": {
          "base_uri": "https://localhost:8080/",
          "height": 34
        },
        "id": "eit1aKMxFQkM",
        "outputId": "a25b4555-eb4e-417d-9f95-62d0b43c8fba"
      },
      "execution_count": 207,
      "outputs": [
        {
          "output_type": "display_data",
          "data": {
            "text/plain": [
              "[1] \"Cliente\"             \"Tipo.de.Cliente\"     \"Itens\"              \n",
              "[4] \"Vendas.líquidas\"     \"Método.de.Pagamento\" \"Gênero\"             \n",
              "[7] \"Estado.Civil\"        \"Idade\"              "
            ],
            "text/latex": "\\begin{enumerate*}\n\\item 'Cliente'\n\\item 'Tipo.de.Cliente'\n\\item 'Itens'\n\\item 'Vendas.líquidas'\n\\item 'Método.de.Pagamento'\n\\item 'Gênero'\n\\item 'Estado.Civil'\n\\item 'Idade'\n\\end{enumerate*}\n",
            "text/markdown": "1. 'Cliente'\n2. 'Tipo.de.Cliente'\n3. 'Itens'\n4. 'Vendas.líquidas'\n5. 'Método.de.Pagamento'\n6. 'Gênero'\n7. 'Estado.Civil'\n8. 'Idade'\n\n\n",
            "text/html": [
              "<style>\n",
              ".list-inline {list-style: none; margin:0; padding: 0}\n",
              ".list-inline>li {display: inline-block}\n",
              ".list-inline>li:not(:last-child)::after {content: \"\\00b7\"; padding: 0 .5ex}\n",
              "</style>\n",
              "<ol class=list-inline><li>'Cliente'</li><li>'Tipo.de.Cliente'</li><li>'Itens'</li><li>'Vendas.líquidas'</li><li>'Método.de.Pagamento'</li><li>'Gênero'</li><li>'Estado.Civil'</li><li>'Idade'</li></ol>\n"
            ]
          },
          "metadata": {}
        }
      ]
    },
    {
      "cell_type": "code",
      "source": [
        "tab2 = dados[, c(\"Vendas.líquidas\",\"Método.de.Pagamento\")]"
      ],
      "metadata": {
        "id": "BTJ4BEQZHo2P"
      },
      "execution_count": 208,
      "outputs": []
    },
    {
      "cell_type": "code",
      "source": [
        "head(tab2)"
      ],
      "metadata": {
        "colab": {
          "base_uri": "https://localhost:8080/",
          "height": 286
        },
        "id": "L_jObIimNl2h",
        "outputId": "b08b2d1c-7d30-412a-ce3c-9dad4e147ccd"
      },
      "execution_count": 209,
      "outputs": [
        {
          "output_type": "display_data",
          "data": {
            "text/plain": [
              "  Vendas.líquidas Método.de.Pagamento\n",
              "1 39,5            Discover           \n",
              "2 102,4           Cartão Proprietário\n",
              "3 22,5            Cartão Proprietário\n",
              "4 100,4           Cartão Proprietário\n",
              "5 54              MasterCard         \n",
              "6 44,5            MasterCard         "
            ],
            "text/latex": "A data.frame: 6 × 2\n\\begin{tabular}{r|ll}\n  & Vendas.líquidas & Método.de.Pagamento\\\\\n  & <chr> & <chr>\\\\\n\\hline\n\t1 & 39,5  & Discover           \\\\\n\t2 & 102,4 & Cartão Proprietário\\\\\n\t3 & 22,5  & Cartão Proprietário\\\\\n\t4 & 100,4 & Cartão Proprietário\\\\\n\t5 & 54    & MasterCard         \\\\\n\t6 & 44,5  & MasterCard         \\\\\n\\end{tabular}\n",
            "text/markdown": "\nA data.frame: 6 × 2\n\n| <!--/--> | Vendas.líquidas &lt;chr&gt; | Método.de.Pagamento &lt;chr&gt; |\n|---|---|---|\n| 1 | 39,5  | Discover            |\n| 2 | 102,4 | Cartão Proprietário |\n| 3 | 22,5  | Cartão Proprietário |\n| 4 | 100,4 | Cartão Proprietário |\n| 5 | 54    | MasterCard          |\n| 6 | 44,5  | MasterCard          |\n\n",
            "text/html": [
              "<table class=\"dataframe\">\n",
              "<caption>A data.frame: 6 × 2</caption>\n",
              "<thead>\n",
              "\t<tr><th></th><th scope=col>Vendas.líquidas</th><th scope=col>Método.de.Pagamento</th></tr>\n",
              "\t<tr><th></th><th scope=col>&lt;chr&gt;</th><th scope=col>&lt;chr&gt;</th></tr>\n",
              "</thead>\n",
              "<tbody>\n",
              "\t<tr><th scope=row>1</th><td>39,5 </td><td>Discover           </td></tr>\n",
              "\t<tr><th scope=row>2</th><td>102,4</td><td>Cartão Proprietário</td></tr>\n",
              "\t<tr><th scope=row>3</th><td>22,5 </td><td>Cartão Proprietário</td></tr>\n",
              "\t<tr><th scope=row>4</th><td>100,4</td><td>Cartão Proprietário</td></tr>\n",
              "\t<tr><th scope=row>5</th><td>54   </td><td>MasterCard         </td></tr>\n",
              "\t<tr><th scope=row>6</th><td>44,5 </td><td>MasterCard         </td></tr>\n",
              "</tbody>\n",
              "</table>\n"
            ]
          },
          "metadata": {}
        }
      ]
    },
    {
      "cell_type": "code",
      "source": [
        "library(dplyr)\n",
        "library(stringr)\n",
        "library(magrittr)\n",
        "\n",
        "\n",
        "tab2 %>% \n",
        "  filter(\n",
        "    str_detect(tab2$`Método.de.Pagamento`, \"Cartão Proprietário\")\n",
        "    )"
      ],
      "metadata": {
        "colab": {
          "base_uri": "https://localhost:8080/",
          "height": 1000
        },
        "id": "FA0DSYe8Kpuq",
        "outputId": "939eae4a-253d-496f-d128-0abe992a4602"
      },
      "execution_count": 210,
      "outputs": [
        {
          "output_type": "display_data",
          "data": {
            "text/plain": [
              "   Vendas.líquidas Método.de.Pagamento\n",
              "1  102,4           Cartão Proprietário\n",
              "2  22,5            Cartão Proprietário\n",
              "3  100,4           Cartão Proprietário\n",
              "4  78              Cartão Proprietário\n",
              "5  56,52           Cartão Proprietário\n",
              "6  44,5            Cartão Proprietário\n",
              "7  29,5            Cartão Proprietário\n",
              "8  31,6            Cartão Proprietário\n",
              "9  71,4            Cartão Proprietário\n",
              "10 94              Cartão Proprietário\n",
              "11 44,8            Cartão Proprietário\n",
              "12 31,6            Cartão Proprietário\n",
              "13 70,82           Cartão Proprietário\n",
              "14 74              Cartão Proprietário\n",
              "15 30,02           Cartão Proprietário\n",
              "16 44,5            Cartão Proprietário\n",
              "17 192,8           Cartão Proprietário\n",
              "18 71,2            Cartão Proprietário\n",
              "19 18              Cartão Proprietário\n",
              "20 75              Cartão Proprietário\n",
              "21 63,2            Cartão Proprietário\n",
              "22 40              Cartão Proprietário\n",
              "23 117,5           Cartão Proprietário\n",
              "24 13,23           Cartão Proprietário\n",
              "25 52,5            Cartão Proprietário\n",
              "26 198,8           Cartão Proprietário\n",
              "27 123,5           Cartão Proprietário\n",
              "28 62,4            Cartão Proprietário\n",
              "29 23,8            Cartão Proprietário\n",
              "30 39,6            Cartão Proprietário\n",
              "⋮  ⋮               ⋮                  \n",
              "41 53,6            Cartão Proprietário\n",
              "42 31,6            Cartão Proprietário\n",
              "43 49,5            Cartão Proprietário\n",
              "44 39,6            Cartão Proprietário\n",
              "45 59,5            Cartão Proprietário\n",
              "46 146,8           Cartão Proprietário\n",
              "47 47,2            Cartão Proprietário\n",
              "48 95,05           Cartão Proprietário\n",
              "49 155,32          Cartão Proprietário\n",
              "50 69              Cartão Proprietário\n",
              "51 46,5            Cartão Proprietário\n",
              "52 45,22           Cartão Proprietário\n",
              "53 84,74           Cartão Proprietário\n",
              "54 39              Cartão Proprietário\n",
              "55 111,14          Cartão Proprietário\n",
              "56 86,8            Cartão Proprietário\n",
              "57 53,2            Cartão Proprietário\n",
              "58 46              Cartão Proprietário\n",
              "59 20,8            Cartão Proprietário\n",
              "60 107             Cartão Proprietário\n",
              "61 31,6            Cartão Proprietário\n",
              "62 57,6            Cartão Proprietário\n",
              "63 95,2            Cartão Proprietário\n",
              "64 22,42           Cartão Proprietário\n",
              "65 159,75          Cartão Proprietário\n",
              "66 229,5           Cartão Proprietário\n",
              "67 253             Cartão Proprietário\n",
              "68 287,59          Cartão Proprietário\n",
              "69 47,6            Cartão Proprietário\n",
              "70 28,44           Cartão Proprietário"
            ],
            "text/latex": "A data.frame: 70 × 2\n\\begin{tabular}{ll}\n Vendas.líquidas & Método.de.Pagamento\\\\\n <chr> & <chr>\\\\\n\\hline\n\t 102,4 & Cartão Proprietário\\\\\n\t 22,5  & Cartão Proprietário\\\\\n\t 100,4 & Cartão Proprietário\\\\\n\t 78    & Cartão Proprietário\\\\\n\t 56,52 & Cartão Proprietário\\\\\n\t 44,5  & Cartão Proprietário\\\\\n\t 29,5  & Cartão Proprietário\\\\\n\t 31,6  & Cartão Proprietário\\\\\n\t 71,4  & Cartão Proprietário\\\\\n\t 94    & Cartão Proprietário\\\\\n\t 44,8  & Cartão Proprietário\\\\\n\t 31,6  & Cartão Proprietário\\\\\n\t 70,82 & Cartão Proprietário\\\\\n\t 74    & Cartão Proprietário\\\\\n\t 30,02 & Cartão Proprietário\\\\\n\t 44,5  & Cartão Proprietário\\\\\n\t 192,8 & Cartão Proprietário\\\\\n\t 71,2  & Cartão Proprietário\\\\\n\t 18    & Cartão Proprietário\\\\\n\t 75    & Cartão Proprietário\\\\\n\t 63,2  & Cartão Proprietário\\\\\n\t 40    & Cartão Proprietário\\\\\n\t 117,5 & Cartão Proprietário\\\\\n\t 13,23 & Cartão Proprietário\\\\\n\t 52,5  & Cartão Proprietário\\\\\n\t 198,8 & Cartão Proprietário\\\\\n\t 123,5 & Cartão Proprietário\\\\\n\t 62,4  & Cartão Proprietário\\\\\n\t 23,8  & Cartão Proprietário\\\\\n\t 39,6  & Cartão Proprietário\\\\\n\t ⋮ & ⋮\\\\\n\t 53,6   & Cartão Proprietário\\\\\n\t 31,6   & Cartão Proprietário\\\\\n\t 49,5   & Cartão Proprietário\\\\\n\t 39,6   & Cartão Proprietário\\\\\n\t 59,5   & Cartão Proprietário\\\\\n\t 146,8  & Cartão Proprietário\\\\\n\t 47,2   & Cartão Proprietário\\\\\n\t 95,05  & Cartão Proprietário\\\\\n\t 155,32 & Cartão Proprietário\\\\\n\t 69     & Cartão Proprietário\\\\\n\t 46,5   & Cartão Proprietário\\\\\n\t 45,22  & Cartão Proprietário\\\\\n\t 84,74  & Cartão Proprietário\\\\\n\t 39     & Cartão Proprietário\\\\\n\t 111,14 & Cartão Proprietário\\\\\n\t 86,8   & Cartão Proprietário\\\\\n\t 53,2   & Cartão Proprietário\\\\\n\t 46     & Cartão Proprietário\\\\\n\t 20,8   & Cartão Proprietário\\\\\n\t 107    & Cartão Proprietário\\\\\n\t 31,6   & Cartão Proprietário\\\\\n\t 57,6   & Cartão Proprietário\\\\\n\t 95,2   & Cartão Proprietário\\\\\n\t 22,42  & Cartão Proprietário\\\\\n\t 159,75 & Cartão Proprietário\\\\\n\t 229,5  & Cartão Proprietário\\\\\n\t 253    & Cartão Proprietário\\\\\n\t 287,59 & Cartão Proprietário\\\\\n\t 47,6   & Cartão Proprietário\\\\\n\t 28,44  & Cartão Proprietário\\\\\n\\end{tabular}\n",
            "text/markdown": "\nA data.frame: 70 × 2\n\n| Vendas.líquidas &lt;chr&gt; | Método.de.Pagamento &lt;chr&gt; |\n|---|---|\n| 102,4 | Cartão Proprietário |\n| 22,5  | Cartão Proprietário |\n| 100,4 | Cartão Proprietário |\n| 78    | Cartão Proprietário |\n| 56,52 | Cartão Proprietário |\n| 44,5  | Cartão Proprietário |\n| 29,5  | Cartão Proprietário |\n| 31,6  | Cartão Proprietário |\n| 71,4  | Cartão Proprietário |\n| 94    | Cartão Proprietário |\n| 44,8  | Cartão Proprietário |\n| 31,6  | Cartão Proprietário |\n| 70,82 | Cartão Proprietário |\n| 74    | Cartão Proprietário |\n| 30,02 | Cartão Proprietário |\n| 44,5  | Cartão Proprietário |\n| 192,8 | Cartão Proprietário |\n| 71,2  | Cartão Proprietário |\n| 18    | Cartão Proprietário |\n| 75    | Cartão Proprietário |\n| 63,2  | Cartão Proprietário |\n| 40    | Cartão Proprietário |\n| 117,5 | Cartão Proprietário |\n| 13,23 | Cartão Proprietário |\n| 52,5  | Cartão Proprietário |\n| 198,8 | Cartão Proprietário |\n| 123,5 | Cartão Proprietário |\n| 62,4  | Cartão Proprietário |\n| 23,8  | Cartão Proprietário |\n| 39,6  | Cartão Proprietário |\n| ⋮ | ⋮ |\n| 53,6   | Cartão Proprietário |\n| 31,6   | Cartão Proprietário |\n| 49,5   | Cartão Proprietário |\n| 39,6   | Cartão Proprietário |\n| 59,5   | Cartão Proprietário |\n| 146,8  | Cartão Proprietário |\n| 47,2   | Cartão Proprietário |\n| 95,05  | Cartão Proprietário |\n| 155,32 | Cartão Proprietário |\n| 69     | Cartão Proprietário |\n| 46,5   | Cartão Proprietário |\n| 45,22  | Cartão Proprietário |\n| 84,74  | Cartão Proprietário |\n| 39     | Cartão Proprietário |\n| 111,14 | Cartão Proprietário |\n| 86,8   | Cartão Proprietário |\n| 53,2   | Cartão Proprietário |\n| 46     | Cartão Proprietário |\n| 20,8   | Cartão Proprietário |\n| 107    | Cartão Proprietário |\n| 31,6   | Cartão Proprietário |\n| 57,6   | Cartão Proprietário |\n| 95,2   | Cartão Proprietário |\n| 22,42  | Cartão Proprietário |\n| 159,75 | Cartão Proprietário |\n| 229,5  | Cartão Proprietário |\n| 253    | Cartão Proprietário |\n| 287,59 | Cartão Proprietário |\n| 47,6   | Cartão Proprietário |\n| 28,44  | Cartão Proprietário |\n\n",
            "text/html": [
              "<table class=\"dataframe\">\n",
              "<caption>A data.frame: 70 × 2</caption>\n",
              "<thead>\n",
              "\t<tr><th scope=col>Vendas.líquidas</th><th scope=col>Método.de.Pagamento</th></tr>\n",
              "\t<tr><th scope=col>&lt;chr&gt;</th><th scope=col>&lt;chr&gt;</th></tr>\n",
              "</thead>\n",
              "<tbody>\n",
              "\t<tr><td>102,4</td><td>Cartão Proprietário</td></tr>\n",
              "\t<tr><td>22,5 </td><td>Cartão Proprietário</td></tr>\n",
              "\t<tr><td>100,4</td><td>Cartão Proprietário</td></tr>\n",
              "\t<tr><td>78   </td><td>Cartão Proprietário</td></tr>\n",
              "\t<tr><td>56,52</td><td>Cartão Proprietário</td></tr>\n",
              "\t<tr><td>44,5 </td><td>Cartão Proprietário</td></tr>\n",
              "\t<tr><td>29,5 </td><td>Cartão Proprietário</td></tr>\n",
              "\t<tr><td>31,6 </td><td>Cartão Proprietário</td></tr>\n",
              "\t<tr><td>71,4 </td><td>Cartão Proprietário</td></tr>\n",
              "\t<tr><td>94   </td><td>Cartão Proprietário</td></tr>\n",
              "\t<tr><td>44,8 </td><td>Cartão Proprietário</td></tr>\n",
              "\t<tr><td>31,6 </td><td>Cartão Proprietário</td></tr>\n",
              "\t<tr><td>70,82</td><td>Cartão Proprietário</td></tr>\n",
              "\t<tr><td>74   </td><td>Cartão Proprietário</td></tr>\n",
              "\t<tr><td>30,02</td><td>Cartão Proprietário</td></tr>\n",
              "\t<tr><td>44,5 </td><td>Cartão Proprietário</td></tr>\n",
              "\t<tr><td>192,8</td><td>Cartão Proprietário</td></tr>\n",
              "\t<tr><td>71,2 </td><td>Cartão Proprietário</td></tr>\n",
              "\t<tr><td>18   </td><td>Cartão Proprietário</td></tr>\n",
              "\t<tr><td>75   </td><td>Cartão Proprietário</td></tr>\n",
              "\t<tr><td>63,2 </td><td>Cartão Proprietário</td></tr>\n",
              "\t<tr><td>40   </td><td>Cartão Proprietário</td></tr>\n",
              "\t<tr><td>117,5</td><td>Cartão Proprietário</td></tr>\n",
              "\t<tr><td>13,23</td><td>Cartão Proprietário</td></tr>\n",
              "\t<tr><td>52,5 </td><td>Cartão Proprietário</td></tr>\n",
              "\t<tr><td>198,8</td><td>Cartão Proprietário</td></tr>\n",
              "\t<tr><td>123,5</td><td>Cartão Proprietário</td></tr>\n",
              "\t<tr><td>62,4 </td><td>Cartão Proprietário</td></tr>\n",
              "\t<tr><td>23,8 </td><td>Cartão Proprietário</td></tr>\n",
              "\t<tr><td>39,6 </td><td>Cartão Proprietário</td></tr>\n",
              "\t<tr><td>⋮</td><td>⋮</td></tr>\n",
              "\t<tr><td>53,6  </td><td>Cartão Proprietário</td></tr>\n",
              "\t<tr><td>31,6  </td><td>Cartão Proprietário</td></tr>\n",
              "\t<tr><td>49,5  </td><td>Cartão Proprietário</td></tr>\n",
              "\t<tr><td>39,6  </td><td>Cartão Proprietário</td></tr>\n",
              "\t<tr><td>59,5  </td><td>Cartão Proprietário</td></tr>\n",
              "\t<tr><td>146,8 </td><td>Cartão Proprietário</td></tr>\n",
              "\t<tr><td>47,2  </td><td>Cartão Proprietário</td></tr>\n",
              "\t<tr><td>95,05 </td><td>Cartão Proprietário</td></tr>\n",
              "\t<tr><td>155,32</td><td>Cartão Proprietário</td></tr>\n",
              "\t<tr><td>69    </td><td>Cartão Proprietário</td></tr>\n",
              "\t<tr><td>46,5  </td><td>Cartão Proprietário</td></tr>\n",
              "\t<tr><td>45,22 </td><td>Cartão Proprietário</td></tr>\n",
              "\t<tr><td>84,74 </td><td>Cartão Proprietário</td></tr>\n",
              "\t<tr><td>39    </td><td>Cartão Proprietário</td></tr>\n",
              "\t<tr><td>111,14</td><td>Cartão Proprietário</td></tr>\n",
              "\t<tr><td>86,8  </td><td>Cartão Proprietário</td></tr>\n",
              "\t<tr><td>53,2  </td><td>Cartão Proprietário</td></tr>\n",
              "\t<tr><td>46    </td><td>Cartão Proprietário</td></tr>\n",
              "\t<tr><td>20,8  </td><td>Cartão Proprietário</td></tr>\n",
              "\t<tr><td>107   </td><td>Cartão Proprietário</td></tr>\n",
              "\t<tr><td>31,6  </td><td>Cartão Proprietário</td></tr>\n",
              "\t<tr><td>57,6  </td><td>Cartão Proprietário</td></tr>\n",
              "\t<tr><td>95,2  </td><td>Cartão Proprietário</td></tr>\n",
              "\t<tr><td>22,42 </td><td>Cartão Proprietário</td></tr>\n",
              "\t<tr><td>159,75</td><td>Cartão Proprietário</td></tr>\n",
              "\t<tr><td>229,5 </td><td>Cartão Proprietário</td></tr>\n",
              "\t<tr><td>253   </td><td>Cartão Proprietário</td></tr>\n",
              "\t<tr><td>287,59</td><td>Cartão Proprietário</td></tr>\n",
              "\t<tr><td>47,6  </td><td>Cartão Proprietário</td></tr>\n",
              "\t<tr><td>28,44 </td><td>Cartão Proprietário</td></tr>\n",
              "</tbody>\n",
              "</table>\n"
            ]
          },
          "metadata": {}
        }
      ]
    },
    {
      "cell_type": "code",
      "source": [
        "str(tab2)"
      ],
      "metadata": {
        "colab": {
          "base_uri": "https://localhost:8080/"
        },
        "id": "C-cAe2pYjQyf",
        "outputId": "0617f539-2ec0-4a5b-e5c2-8379f8696f7d"
      },
      "execution_count": 211,
      "outputs": [
        {
          "output_type": "stream",
          "name": "stdout",
          "text": [
            "'data.frame':\t100 obs. of  2 variables:\n",
            " $ Vendas.líquidas    : chr  \"39,5\" \"102,4\" \"22,5\" \"100,4\" ...\n",
            " $ Método.de.Pagamento: chr  \"Discover\" \"Cartão Proprietário\" \"Cartão Proprietário\" \"Cartão Proprietário\" ...\n"
          ]
        }
      ]
    },
    {
      "cell_type": "code",
      "source": [
        "tab3 = dados$`Vendas.líquidas`\n",
        "tab3"
      ],
      "metadata": {
        "colab": {
          "base_uri": "https://localhost:8080/",
          "height": 86
        },
        "id": "YB-v2RpVSirU",
        "outputId": "0ac4b867-ce02-47fa-943c-1063c806229b"
      },
      "execution_count": 212,
      "outputs": [
        {
          "output_type": "display_data",
          "data": {
            "text/plain": [
              "  [1] \"39,5\"   \"102,4\"  \"22,5\"   \"100,4\"  \"54\"     \"44,5\"   \"78\"     \"22,5\"  \n",
              "  [9] \"56,52\"  \"44,5\"   \"29,5\"   \"31,6\"   \"160,4\"  \"64,5\"   \"49,5\"   \"71,4\"  \n",
              " [17] \"94\"     \"54,5\"   \"38,5\"   \"44,8\"   \"31,6\"   \"70,82\"  \"266\"    \"74\"    \n",
              " [25] \"39,5\"   \"30,02\"  \"44,5\"   \"192,8\"  \"71,2\"   \"18\"     \"63,2\"   \"75\"    \n",
              " [33] \"63,2\"   \"40\"     \"105,5\"  \"29,5\"   \"102,5\"  \"117,5\"  \"13,23\"  \"52,5\"  \n",
              " [41] \"198,8\"  \"19,5\"   \"123,5\"  \"62,4\"   \"23,8\"   \"39,6\"   \"25\"     \"63,64\" \n",
              " [49] \"14,82\"  \"145,2\"  \"176,62\" \"118,8\"  \"58\"     \"74\"     \"49,5\"   \"141,6\" \n",
              " [57] \"123,1\"  \"80,4\"   \"65,2\"   \"113\"    \"108,8\"  \"59,91\"  \"53,6\"   \"31,6\"  \n",
              " [65] \"49,5\"   \"39,6\"   \"59,5\"   \"146,8\"  \"47,2\"   \"95,05\"  \"155,32\" \"58\"    \n",
              " [73] \"69\"     \"46,5\"   \"45,22\"  \"84,74\"  \"39\"     \"111,14\" \"86,8\"   \"89\"    \n",
              " [81] \"78\"     \"53,2\"   \"58,5\"   \"46\"     \"37,5\"   \"20,8\"   \"144\"    \"107\"   \n",
              " [89] \"31,6\"   \"57,6\"   \"95,2\"   \"22,42\"  \"159,75\" \"229,5\"  \"66\"     \"39,5\"  \n",
              " [97] \"253\"    \"287,59\" \"47,6\"   \"28,44\" "
            ],
            "text/latex": "\\begin{enumerate*}\n\\item '39,5'\n\\item '102,4'\n\\item '22,5'\n\\item '100,4'\n\\item '54'\n\\item '44,5'\n\\item '78'\n\\item '22,5'\n\\item '56,52'\n\\item '44,5'\n\\item '29,5'\n\\item '31,6'\n\\item '160,4'\n\\item '64,5'\n\\item '49,5'\n\\item '71,4'\n\\item '94'\n\\item '54,5'\n\\item '38,5'\n\\item '44,8'\n\\item '31,6'\n\\item '70,82'\n\\item '266'\n\\item '74'\n\\item '39,5'\n\\item '30,02'\n\\item '44,5'\n\\item '192,8'\n\\item '71,2'\n\\item '18'\n\\item '63,2'\n\\item '75'\n\\item '63,2'\n\\item '40'\n\\item '105,5'\n\\item '29,5'\n\\item '102,5'\n\\item '117,5'\n\\item '13,23'\n\\item '52,5'\n\\item '198,8'\n\\item '19,5'\n\\item '123,5'\n\\item '62,4'\n\\item '23,8'\n\\item '39,6'\n\\item '25'\n\\item '63,64'\n\\item '14,82'\n\\item '145,2'\n\\item '176,62'\n\\item '118,8'\n\\item '58'\n\\item '74'\n\\item '49,5'\n\\item '141,6'\n\\item '123,1'\n\\item '80,4'\n\\item '65,2'\n\\item '113'\n\\item '108,8'\n\\item '59,91'\n\\item '53,6'\n\\item '31,6'\n\\item '49,5'\n\\item '39,6'\n\\item '59,5'\n\\item '146,8'\n\\item '47,2'\n\\item '95,05'\n\\item '155,32'\n\\item '58'\n\\item '69'\n\\item '46,5'\n\\item '45,22'\n\\item '84,74'\n\\item '39'\n\\item '111,14'\n\\item '86,8'\n\\item '89'\n\\item '78'\n\\item '53,2'\n\\item '58,5'\n\\item '46'\n\\item '37,5'\n\\item '20,8'\n\\item '144'\n\\item '107'\n\\item '31,6'\n\\item '57,6'\n\\item '95,2'\n\\item '22,42'\n\\item '159,75'\n\\item '229,5'\n\\item '66'\n\\item '39,5'\n\\item '253'\n\\item '287,59'\n\\item '47,6'\n\\item '28,44'\n\\end{enumerate*}\n",
            "text/markdown": "1. '39,5'\n2. '102,4'\n3. '22,5'\n4. '100,4'\n5. '54'\n6. '44,5'\n7. '78'\n8. '22,5'\n9. '56,52'\n10. '44,5'\n11. '29,5'\n12. '31,6'\n13. '160,4'\n14. '64,5'\n15. '49,5'\n16. '71,4'\n17. '94'\n18. '54,5'\n19. '38,5'\n20. '44,8'\n21. '31,6'\n22. '70,82'\n23. '266'\n24. '74'\n25. '39,5'\n26. '30,02'\n27. '44,5'\n28. '192,8'\n29. '71,2'\n30. '18'\n31. '63,2'\n32. '75'\n33. '63,2'\n34. '40'\n35. '105,5'\n36. '29,5'\n37. '102,5'\n38. '117,5'\n39. '13,23'\n40. '52,5'\n41. '198,8'\n42. '19,5'\n43. '123,5'\n44. '62,4'\n45. '23,8'\n46. '39,6'\n47. '25'\n48. '63,64'\n49. '14,82'\n50. '145,2'\n51. '176,62'\n52. '118,8'\n53. '58'\n54. '74'\n55. '49,5'\n56. '141,6'\n57. '123,1'\n58. '80,4'\n59. '65,2'\n60. '113'\n61. '108,8'\n62. '59,91'\n63. '53,6'\n64. '31,6'\n65. '49,5'\n66. '39,6'\n67. '59,5'\n68. '146,8'\n69. '47,2'\n70. '95,05'\n71. '155,32'\n72. '58'\n73. '69'\n74. '46,5'\n75. '45,22'\n76. '84,74'\n77. '39'\n78. '111,14'\n79. '86,8'\n80. '89'\n81. '78'\n82. '53,2'\n83. '58,5'\n84. '46'\n85. '37,5'\n86. '20,8'\n87. '144'\n88. '107'\n89. '31,6'\n90. '57,6'\n91. '95,2'\n92. '22,42'\n93. '159,75'\n94. '229,5'\n95. '66'\n96. '39,5'\n97. '253'\n98. '287,59'\n99. '47,6'\n100. '28,44'\n\n\n",
            "text/html": [
              "<style>\n",
              ".list-inline {list-style: none; margin:0; padding: 0}\n",
              ".list-inline>li {display: inline-block}\n",
              ".list-inline>li:not(:last-child)::after {content: \"\\00b7\"; padding: 0 .5ex}\n",
              "</style>\n",
              "<ol class=list-inline><li>'39,5'</li><li>'102,4'</li><li>'22,5'</li><li>'100,4'</li><li>'54'</li><li>'44,5'</li><li>'78'</li><li>'22,5'</li><li>'56,52'</li><li>'44,5'</li><li>'29,5'</li><li>'31,6'</li><li>'160,4'</li><li>'64,5'</li><li>'49,5'</li><li>'71,4'</li><li>'94'</li><li>'54,5'</li><li>'38,5'</li><li>'44,8'</li><li>'31,6'</li><li>'70,82'</li><li>'266'</li><li>'74'</li><li>'39,5'</li><li>'30,02'</li><li>'44,5'</li><li>'192,8'</li><li>'71,2'</li><li>'18'</li><li>'63,2'</li><li>'75'</li><li>'63,2'</li><li>'40'</li><li>'105,5'</li><li>'29,5'</li><li>'102,5'</li><li>'117,5'</li><li>'13,23'</li><li>'52,5'</li><li>'198,8'</li><li>'19,5'</li><li>'123,5'</li><li>'62,4'</li><li>'23,8'</li><li>'39,6'</li><li>'25'</li><li>'63,64'</li><li>'14,82'</li><li>'145,2'</li><li>'176,62'</li><li>'118,8'</li><li>'58'</li><li>'74'</li><li>'49,5'</li><li>'141,6'</li><li>'123,1'</li><li>'80,4'</li><li>'65,2'</li><li>'113'</li><li>'108,8'</li><li>'59,91'</li><li>'53,6'</li><li>'31,6'</li><li>'49,5'</li><li>'39,6'</li><li>'59,5'</li><li>'146,8'</li><li>'47,2'</li><li>'95,05'</li><li>'155,32'</li><li>'58'</li><li>'69'</li><li>'46,5'</li><li>'45,22'</li><li>'84,74'</li><li>'39'</li><li>'111,14'</li><li>'86,8'</li><li>'89'</li><li>'78'</li><li>'53,2'</li><li>'58,5'</li><li>'46'</li><li>'37,5'</li><li>'20,8'</li><li>'144'</li><li>'107'</li><li>'31,6'</li><li>'57,6'</li><li>'95,2'</li><li>'22,42'</li><li>'159,75'</li><li>'229,5'</li><li>'66'</li><li>'39,5'</li><li>'253'</li><li>'287,59'</li><li>'47,6'</li><li>'28,44'</li></ol>\n"
            ]
          },
          "metadata": {}
        }
      ]
    },
    {
      "cell_type": "code",
      "source": [
        "str_replace(tab3,\n",
        "            pattern = \",\",\n",
        "            replacement = \".\")"
      ],
      "metadata": {
        "colab": {
          "base_uri": "https://localhost:8080/",
          "height": 86
        },
        "id": "v_79rShWdl56",
        "outputId": "6535848e-5a8c-4f8d-efca-b323f041805e"
      },
      "execution_count": 213,
      "outputs": [
        {
          "output_type": "display_data",
          "data": {
            "text/plain": [
              "  [1] \"39.5\"   \"102.4\"  \"22.5\"   \"100.4\"  \"54\"     \"44.5\"   \"78\"     \"22.5\"  \n",
              "  [9] \"56.52\"  \"44.5\"   \"29.5\"   \"31.6\"   \"160.4\"  \"64.5\"   \"49.5\"   \"71.4\"  \n",
              " [17] \"94\"     \"54.5\"   \"38.5\"   \"44.8\"   \"31.6\"   \"70.82\"  \"266\"    \"74\"    \n",
              " [25] \"39.5\"   \"30.02\"  \"44.5\"   \"192.8\"  \"71.2\"   \"18\"     \"63.2\"   \"75\"    \n",
              " [33] \"63.2\"   \"40\"     \"105.5\"  \"29.5\"   \"102.5\"  \"117.5\"  \"13.23\"  \"52.5\"  \n",
              " [41] \"198.8\"  \"19.5\"   \"123.5\"  \"62.4\"   \"23.8\"   \"39.6\"   \"25\"     \"63.64\" \n",
              " [49] \"14.82\"  \"145.2\"  \"176.62\" \"118.8\"  \"58\"     \"74\"     \"49.5\"   \"141.6\" \n",
              " [57] \"123.1\"  \"80.4\"   \"65.2\"   \"113\"    \"108.8\"  \"59.91\"  \"53.6\"   \"31.6\"  \n",
              " [65] \"49.5\"   \"39.6\"   \"59.5\"   \"146.8\"  \"47.2\"   \"95.05\"  \"155.32\" \"58\"    \n",
              " [73] \"69\"     \"46.5\"   \"45.22\"  \"84.74\"  \"39\"     \"111.14\" \"86.8\"   \"89\"    \n",
              " [81] \"78\"     \"53.2\"   \"58.5\"   \"46\"     \"37.5\"   \"20.8\"   \"144\"    \"107\"   \n",
              " [89] \"31.6\"   \"57.6\"   \"95.2\"   \"22.42\"  \"159.75\" \"229.5\"  \"66\"     \"39.5\"  \n",
              " [97] \"253\"    \"287.59\" \"47.6\"   \"28.44\" "
            ],
            "text/latex": "\\begin{enumerate*}\n\\item '39.5'\n\\item '102.4'\n\\item '22.5'\n\\item '100.4'\n\\item '54'\n\\item '44.5'\n\\item '78'\n\\item '22.5'\n\\item '56.52'\n\\item '44.5'\n\\item '29.5'\n\\item '31.6'\n\\item '160.4'\n\\item '64.5'\n\\item '49.5'\n\\item '71.4'\n\\item '94'\n\\item '54.5'\n\\item '38.5'\n\\item '44.8'\n\\item '31.6'\n\\item '70.82'\n\\item '266'\n\\item '74'\n\\item '39.5'\n\\item '30.02'\n\\item '44.5'\n\\item '192.8'\n\\item '71.2'\n\\item '18'\n\\item '63.2'\n\\item '75'\n\\item '63.2'\n\\item '40'\n\\item '105.5'\n\\item '29.5'\n\\item '102.5'\n\\item '117.5'\n\\item '13.23'\n\\item '52.5'\n\\item '198.8'\n\\item '19.5'\n\\item '123.5'\n\\item '62.4'\n\\item '23.8'\n\\item '39.6'\n\\item '25'\n\\item '63.64'\n\\item '14.82'\n\\item '145.2'\n\\item '176.62'\n\\item '118.8'\n\\item '58'\n\\item '74'\n\\item '49.5'\n\\item '141.6'\n\\item '123.1'\n\\item '80.4'\n\\item '65.2'\n\\item '113'\n\\item '108.8'\n\\item '59.91'\n\\item '53.6'\n\\item '31.6'\n\\item '49.5'\n\\item '39.6'\n\\item '59.5'\n\\item '146.8'\n\\item '47.2'\n\\item '95.05'\n\\item '155.32'\n\\item '58'\n\\item '69'\n\\item '46.5'\n\\item '45.22'\n\\item '84.74'\n\\item '39'\n\\item '111.14'\n\\item '86.8'\n\\item '89'\n\\item '78'\n\\item '53.2'\n\\item '58.5'\n\\item '46'\n\\item '37.5'\n\\item '20.8'\n\\item '144'\n\\item '107'\n\\item '31.6'\n\\item '57.6'\n\\item '95.2'\n\\item '22.42'\n\\item '159.75'\n\\item '229.5'\n\\item '66'\n\\item '39.5'\n\\item '253'\n\\item '287.59'\n\\item '47.6'\n\\item '28.44'\n\\end{enumerate*}\n",
            "text/markdown": "1. '39.5'\n2. '102.4'\n3. '22.5'\n4. '100.4'\n5. '54'\n6. '44.5'\n7. '78'\n8. '22.5'\n9. '56.52'\n10. '44.5'\n11. '29.5'\n12. '31.6'\n13. '160.4'\n14. '64.5'\n15. '49.5'\n16. '71.4'\n17. '94'\n18. '54.5'\n19. '38.5'\n20. '44.8'\n21. '31.6'\n22. '70.82'\n23. '266'\n24. '74'\n25. '39.5'\n26. '30.02'\n27. '44.5'\n28. '192.8'\n29. '71.2'\n30. '18'\n31. '63.2'\n32. '75'\n33. '63.2'\n34. '40'\n35. '105.5'\n36. '29.5'\n37. '102.5'\n38. '117.5'\n39. '13.23'\n40. '52.5'\n41. '198.8'\n42. '19.5'\n43. '123.5'\n44. '62.4'\n45. '23.8'\n46. '39.6'\n47. '25'\n48. '63.64'\n49. '14.82'\n50. '145.2'\n51. '176.62'\n52. '118.8'\n53. '58'\n54. '74'\n55. '49.5'\n56. '141.6'\n57. '123.1'\n58. '80.4'\n59. '65.2'\n60. '113'\n61. '108.8'\n62. '59.91'\n63. '53.6'\n64. '31.6'\n65. '49.5'\n66. '39.6'\n67. '59.5'\n68. '146.8'\n69. '47.2'\n70. '95.05'\n71. '155.32'\n72. '58'\n73. '69'\n74. '46.5'\n75. '45.22'\n76. '84.74'\n77. '39'\n78. '111.14'\n79. '86.8'\n80. '89'\n81. '78'\n82. '53.2'\n83. '58.5'\n84. '46'\n85. '37.5'\n86. '20.8'\n87. '144'\n88. '107'\n89. '31.6'\n90. '57.6'\n91. '95.2'\n92. '22.42'\n93. '159.75'\n94. '229.5'\n95. '66'\n96. '39.5'\n97. '253'\n98. '287.59'\n99. '47.6'\n100. '28.44'\n\n\n",
            "text/html": [
              "<style>\n",
              ".list-inline {list-style: none; margin:0; padding: 0}\n",
              ".list-inline>li {display: inline-block}\n",
              ".list-inline>li:not(:last-child)::after {content: \"\\00b7\"; padding: 0 .5ex}\n",
              "</style>\n",
              "<ol class=list-inline><li>'39.5'</li><li>'102.4'</li><li>'22.5'</li><li>'100.4'</li><li>'54'</li><li>'44.5'</li><li>'78'</li><li>'22.5'</li><li>'56.52'</li><li>'44.5'</li><li>'29.5'</li><li>'31.6'</li><li>'160.4'</li><li>'64.5'</li><li>'49.5'</li><li>'71.4'</li><li>'94'</li><li>'54.5'</li><li>'38.5'</li><li>'44.8'</li><li>'31.6'</li><li>'70.82'</li><li>'266'</li><li>'74'</li><li>'39.5'</li><li>'30.02'</li><li>'44.5'</li><li>'192.8'</li><li>'71.2'</li><li>'18'</li><li>'63.2'</li><li>'75'</li><li>'63.2'</li><li>'40'</li><li>'105.5'</li><li>'29.5'</li><li>'102.5'</li><li>'117.5'</li><li>'13.23'</li><li>'52.5'</li><li>'198.8'</li><li>'19.5'</li><li>'123.5'</li><li>'62.4'</li><li>'23.8'</li><li>'39.6'</li><li>'25'</li><li>'63.64'</li><li>'14.82'</li><li>'145.2'</li><li>'176.62'</li><li>'118.8'</li><li>'58'</li><li>'74'</li><li>'49.5'</li><li>'141.6'</li><li>'123.1'</li><li>'80.4'</li><li>'65.2'</li><li>'113'</li><li>'108.8'</li><li>'59.91'</li><li>'53.6'</li><li>'31.6'</li><li>'49.5'</li><li>'39.6'</li><li>'59.5'</li><li>'146.8'</li><li>'47.2'</li><li>'95.05'</li><li>'155.32'</li><li>'58'</li><li>'69'</li><li>'46.5'</li><li>'45.22'</li><li>'84.74'</li><li>'39'</li><li>'111.14'</li><li>'86.8'</li><li>'89'</li><li>'78'</li><li>'53.2'</li><li>'58.5'</li><li>'46'</li><li>'37.5'</li><li>'20.8'</li><li>'144'</li><li>'107'</li><li>'31.6'</li><li>'57.6'</li><li>'95.2'</li><li>'22.42'</li><li>'159.75'</li><li>'229.5'</li><li>'66'</li><li>'39.5'</li><li>'253'</li><li>'287.59'</li><li>'47.6'</li><li>'28.44'</li></ol>\n"
            ]
          },
          "metadata": {}
        }
      ]
    },
    {
      "cell_type": "code",
      "source": [
        "as.double(tab3)"
      ],
      "metadata": {
        "colab": {
          "base_uri": "https://localhost:8080/",
          "height": 121
        },
        "id": "-bBbpe7TXVbG",
        "outputId": "3a416f46-c010-4e7b-8391-eb1672aedeb4"
      },
      "execution_count": 214,
      "outputs": [
        {
          "output_type": "stream",
          "name": "stderr",
          "text": [
            "Warning message in eval(expr, envir, enclos):\n",
            "“NAs introduced by coercion”\n"
          ]
        },
        {
          "output_type": "display_data",
          "data": {
            "text/plain": [
              "  [1]  NA  NA  NA  NA  54  NA  78  NA  NA  NA  NA  NA  NA  NA  NA  NA  94  NA\n",
              " [19]  NA  NA  NA  NA 266  74  NA  NA  NA  NA  NA  18  NA  75  NA  40  NA  NA\n",
              " [37]  NA  NA  NA  NA  NA  NA  NA  NA  NA  NA  25  NA  NA  NA  NA  NA  58  74\n",
              " [55]  NA  NA  NA  NA  NA 113  NA  NA  NA  NA  NA  NA  NA  NA  NA  NA  NA  58\n",
              " [73]  69  NA  NA  NA  39  NA  NA  89  78  NA  NA  46  NA  NA 144 107  NA  NA\n",
              " [91]  NA  NA  NA  NA  66  NA 253  NA  NA  NA"
            ],
            "text/latex": "\\begin{enumerate*}\n\\item <NA>\n\\item <NA>\n\\item <NA>\n\\item <NA>\n\\item 54\n\\item <NA>\n\\item 78\n\\item <NA>\n\\item <NA>\n\\item <NA>\n\\item <NA>\n\\item <NA>\n\\item <NA>\n\\item <NA>\n\\item <NA>\n\\item <NA>\n\\item 94\n\\item <NA>\n\\item <NA>\n\\item <NA>\n\\item <NA>\n\\item <NA>\n\\item 266\n\\item 74\n\\item <NA>\n\\item <NA>\n\\item <NA>\n\\item <NA>\n\\item <NA>\n\\item 18\n\\item <NA>\n\\item 75\n\\item <NA>\n\\item 40\n\\item <NA>\n\\item <NA>\n\\item <NA>\n\\item <NA>\n\\item <NA>\n\\item <NA>\n\\item <NA>\n\\item <NA>\n\\item <NA>\n\\item <NA>\n\\item <NA>\n\\item <NA>\n\\item 25\n\\item <NA>\n\\item <NA>\n\\item <NA>\n\\item <NA>\n\\item <NA>\n\\item 58\n\\item 74\n\\item <NA>\n\\item <NA>\n\\item <NA>\n\\item <NA>\n\\item <NA>\n\\item 113\n\\item <NA>\n\\item <NA>\n\\item <NA>\n\\item <NA>\n\\item <NA>\n\\item <NA>\n\\item <NA>\n\\item <NA>\n\\item <NA>\n\\item <NA>\n\\item <NA>\n\\item 58\n\\item 69\n\\item <NA>\n\\item <NA>\n\\item <NA>\n\\item 39\n\\item <NA>\n\\item <NA>\n\\item 89\n\\item 78\n\\item <NA>\n\\item <NA>\n\\item 46\n\\item <NA>\n\\item <NA>\n\\item 144\n\\item 107\n\\item <NA>\n\\item <NA>\n\\item <NA>\n\\item <NA>\n\\item <NA>\n\\item <NA>\n\\item 66\n\\item <NA>\n\\item 253\n\\item <NA>\n\\item <NA>\n\\item <NA>\n\\end{enumerate*}\n",
            "text/markdown": "1. &lt;NA&gt;\n2. &lt;NA&gt;\n3. &lt;NA&gt;\n4. &lt;NA&gt;\n5. 54\n6. &lt;NA&gt;\n7. 78\n8. &lt;NA&gt;\n9. &lt;NA&gt;\n10. &lt;NA&gt;\n11. &lt;NA&gt;\n12. &lt;NA&gt;\n13. &lt;NA&gt;\n14. &lt;NA&gt;\n15. &lt;NA&gt;\n16. &lt;NA&gt;\n17. 94\n18. &lt;NA&gt;\n19. &lt;NA&gt;\n20. &lt;NA&gt;\n21. &lt;NA&gt;\n22. &lt;NA&gt;\n23. 266\n24. 74\n25. &lt;NA&gt;\n26. &lt;NA&gt;\n27. &lt;NA&gt;\n28. &lt;NA&gt;\n29. &lt;NA&gt;\n30. 18\n31. &lt;NA&gt;\n32. 75\n33. &lt;NA&gt;\n34. 40\n35. &lt;NA&gt;\n36. &lt;NA&gt;\n37. &lt;NA&gt;\n38. &lt;NA&gt;\n39. &lt;NA&gt;\n40. &lt;NA&gt;\n41. &lt;NA&gt;\n42. &lt;NA&gt;\n43. &lt;NA&gt;\n44. &lt;NA&gt;\n45. &lt;NA&gt;\n46. &lt;NA&gt;\n47. 25\n48. &lt;NA&gt;\n49. &lt;NA&gt;\n50. &lt;NA&gt;\n51. &lt;NA&gt;\n52. &lt;NA&gt;\n53. 58\n54. 74\n55. &lt;NA&gt;\n56. &lt;NA&gt;\n57. &lt;NA&gt;\n58. &lt;NA&gt;\n59. &lt;NA&gt;\n60. 113\n61. &lt;NA&gt;\n62. &lt;NA&gt;\n63. &lt;NA&gt;\n64. &lt;NA&gt;\n65. &lt;NA&gt;\n66. &lt;NA&gt;\n67. &lt;NA&gt;\n68. &lt;NA&gt;\n69. &lt;NA&gt;\n70. &lt;NA&gt;\n71. &lt;NA&gt;\n72. 58\n73. 69\n74. &lt;NA&gt;\n75. &lt;NA&gt;\n76. &lt;NA&gt;\n77. 39\n78. &lt;NA&gt;\n79. &lt;NA&gt;\n80. 89\n81. 78\n82. &lt;NA&gt;\n83. &lt;NA&gt;\n84. 46\n85. &lt;NA&gt;\n86. &lt;NA&gt;\n87. 144\n88. 107\n89. &lt;NA&gt;\n90. &lt;NA&gt;\n91. &lt;NA&gt;\n92. &lt;NA&gt;\n93. &lt;NA&gt;\n94. &lt;NA&gt;\n95. 66\n96. &lt;NA&gt;\n97. 253\n98. &lt;NA&gt;\n99. &lt;NA&gt;\n100. &lt;NA&gt;\n\n\n",
            "text/html": [
              "<style>\n",
              ".list-inline {list-style: none; margin:0; padding: 0}\n",
              ".list-inline>li {display: inline-block}\n",
              ".list-inline>li:not(:last-child)::after {content: \"\\00b7\"; padding: 0 .5ex}\n",
              "</style>\n",
              "<ol class=list-inline><li>&lt;NA&gt;</li><li>&lt;NA&gt;</li><li>&lt;NA&gt;</li><li>&lt;NA&gt;</li><li>54</li><li>&lt;NA&gt;</li><li>78</li><li>&lt;NA&gt;</li><li>&lt;NA&gt;</li><li>&lt;NA&gt;</li><li>&lt;NA&gt;</li><li>&lt;NA&gt;</li><li>&lt;NA&gt;</li><li>&lt;NA&gt;</li><li>&lt;NA&gt;</li><li>&lt;NA&gt;</li><li>94</li><li>&lt;NA&gt;</li><li>&lt;NA&gt;</li><li>&lt;NA&gt;</li><li>&lt;NA&gt;</li><li>&lt;NA&gt;</li><li>266</li><li>74</li><li>&lt;NA&gt;</li><li>&lt;NA&gt;</li><li>&lt;NA&gt;</li><li>&lt;NA&gt;</li><li>&lt;NA&gt;</li><li>18</li><li>&lt;NA&gt;</li><li>75</li><li>&lt;NA&gt;</li><li>40</li><li>&lt;NA&gt;</li><li>&lt;NA&gt;</li><li>&lt;NA&gt;</li><li>&lt;NA&gt;</li><li>&lt;NA&gt;</li><li>&lt;NA&gt;</li><li>&lt;NA&gt;</li><li>&lt;NA&gt;</li><li>&lt;NA&gt;</li><li>&lt;NA&gt;</li><li>&lt;NA&gt;</li><li>&lt;NA&gt;</li><li>25</li><li>&lt;NA&gt;</li><li>&lt;NA&gt;</li><li>&lt;NA&gt;</li><li>&lt;NA&gt;</li><li>&lt;NA&gt;</li><li>58</li><li>74</li><li>&lt;NA&gt;</li><li>&lt;NA&gt;</li><li>&lt;NA&gt;</li><li>&lt;NA&gt;</li><li>&lt;NA&gt;</li><li>113</li><li>&lt;NA&gt;</li><li>&lt;NA&gt;</li><li>&lt;NA&gt;</li><li>&lt;NA&gt;</li><li>&lt;NA&gt;</li><li>&lt;NA&gt;</li><li>&lt;NA&gt;</li><li>&lt;NA&gt;</li><li>&lt;NA&gt;</li><li>&lt;NA&gt;</li><li>&lt;NA&gt;</li><li>58</li><li>69</li><li>&lt;NA&gt;</li><li>&lt;NA&gt;</li><li>&lt;NA&gt;</li><li>39</li><li>&lt;NA&gt;</li><li>&lt;NA&gt;</li><li>89</li><li>78</li><li>&lt;NA&gt;</li><li>&lt;NA&gt;</li><li>46</li><li>&lt;NA&gt;</li><li>&lt;NA&gt;</li><li>144</li><li>107</li><li>&lt;NA&gt;</li><li>&lt;NA&gt;</li><li>&lt;NA&gt;</li><li>&lt;NA&gt;</li><li>&lt;NA&gt;</li><li>&lt;NA&gt;</li><li>66</li><li>&lt;NA&gt;</li><li>253</li><li>&lt;NA&gt;</li><li>&lt;NA&gt;</li><li>&lt;NA&gt;</li></ol>\n"
            ]
          },
          "metadata": {}
        }
      ]
    },
    {
      "cell_type": "code",
      "source": [
        "str(tab3)"
      ],
      "metadata": {
        "colab": {
          "base_uri": "https://localhost:8080/"
        },
        "id": "FmvKG6OjpaFT",
        "outputId": "e6ee51f3-50cd-423e-a8f9-7de75eeacf5a"
      },
      "execution_count": 215,
      "outputs": [
        {
          "output_type": "stream",
          "name": "stdout",
          "text": [
            " chr [1:100] \"39,5\" \"102,4\" \"22,5\" \"100,4\" \"54\" \"44,5\" \"78\" \"22,5\" \"56,52\" ...\n"
          ]
        }
      ]
    },
    {
      "cell_type": "code",
      "source": [
        "colunanumerica <- as.numeric(sub(\",\", \".\", tab2$`Vendas.líquidas`))\n"
      ],
      "metadata": {
        "id": "OIfZ7f32p3q7"
      },
      "execution_count": 216,
      "outputs": []
    },
    {
      "cell_type": "code",
      "source": [
        "str(colunanumerica)"
      ],
      "metadata": {
        "colab": {
          "base_uri": "https://localhost:8080/"
        },
        "id": "pOwgJwdOrP6b",
        "outputId": "2ea69312-94b0-489b-de53-8a915e533f8e"
      },
      "execution_count": 217,
      "outputs": [
        {
          "output_type": "stream",
          "name": "stdout",
          "text": [
            " num [1:100] 39.5 102.4 22.5 100.4 54 ...\n"
          ]
        }
      ]
    },
    {
      "cell_type": "code",
      "source": [
        "tab2$`Vendas.líquidas` = colunanumerica"
      ],
      "metadata": {
        "id": "zyBTbDysrTxi"
      },
      "execution_count": 218,
      "outputs": []
    },
    {
      "cell_type": "code",
      "source": [
        "str(tab2)"
      ],
      "metadata": {
        "colab": {
          "base_uri": "https://localhost:8080/"
        },
        "id": "UL7nJo0MrW0x",
        "outputId": "10a954c3-85dd-4d2b-c00a-0504bbf4c306"
      },
      "execution_count": 219,
      "outputs": [
        {
          "output_type": "stream",
          "name": "stdout",
          "text": [
            "'data.frame':\t100 obs. of  2 variables:\n",
            " $ Vendas.líquidas    : num  39.5 102.4 22.5 100.4 54 ...\n",
            " $ Método.de.Pagamento: chr  \"Discover\" \"Cartão Proprietário\" \"Cartão Proprietário\" \"Cartão Proprietário\" ...\n"
          ]
        }
      ]
    },
    {
      "cell_type": "code",
      "source": [
        "tab2"
      ],
      "metadata": {
        "colab": {
          "base_uri": "https://localhost:8080/",
          "height": 1000
        },
        "id": "ehyOMpBhragz",
        "outputId": "1b61e5bb-123e-4cab-abb4-7c10fb197942"
      },
      "execution_count": 220,
      "outputs": [
        {
          "output_type": "display_data",
          "data": {
            "text/plain": [
              "    Vendas.líquidas Método.de.Pagamento\n",
              "1    39.50          Discover           \n",
              "2   102.40          Cartão Proprietário\n",
              "3    22.50          Cartão Proprietário\n",
              "4   100.40          Cartão Proprietário\n",
              "5    54.00          MasterCard         \n",
              "6    44.50          MasterCard         \n",
              "7    78.00          Cartão Proprietário\n",
              "8    22.50          Visa               \n",
              "9    56.52          Cartão Proprietário\n",
              "10   44.50          Cartão Proprietário\n",
              "11   29.50          Cartão Proprietário\n",
              "12   31.60          Cartão Proprietário\n",
              "13  160.40          Visa               \n",
              "14   64.50          Visa               \n",
              "15   49.50          Visa               \n",
              "16   71.40          Cartão Proprietário\n",
              "17   94.00          Cartão Proprietário\n",
              "18   54.50          Discover           \n",
              "19   38.50          MasterCard         \n",
              "20   44.80          Cartão Proprietário\n",
              "21   31.60          Cartão Proprietário\n",
              "22   70.82          Cartão Proprietário\n",
              "23  266.00          American Express   \n",
              "24   74.00          Cartão Proprietário\n",
              "25   39.50          Visa               \n",
              "26   30.02          Cartão Proprietário\n",
              "27   44.50          Cartão Proprietário\n",
              "28  192.80          Cartão Proprietário\n",
              "29   71.20          Cartão Proprietário\n",
              "30   18.00          Cartão Proprietário\n",
              "⋮   ⋮               ⋮                  \n",
              "71  155.32          Cartão Proprietário\n",
              "72   58.00          MasterCard         \n",
              "73   69.00          Cartão Proprietário\n",
              "74   46.50          Cartão Proprietário\n",
              "75   45.22          Cartão Proprietário\n",
              "76   84.74          Cartão Proprietário\n",
              "77   39.00          Cartão Proprietário\n",
              "78  111.14          Cartão Proprietário\n",
              "79   86.80          Cartão Proprietário\n",
              "80   89.00          Discover           \n",
              "81   78.00          MasterCard         \n",
              "82   53.20          Cartão Proprietário\n",
              "83   58.50          Visa               \n",
              "84   46.00          Cartão Proprietário\n",
              "85   37.50          Visa               \n",
              "86   20.80          Cartão Proprietário\n",
              "87  144.00          MasterCard         \n",
              "88  107.00          Cartão Proprietário\n",
              "89   31.60          Cartão Proprietário\n",
              "90   57.60          Cartão Proprietário\n",
              "91   95.20          Cartão Proprietário\n",
              "92   22.42          Cartão Proprietário\n",
              "93  159.75          Cartão Proprietário\n",
              "94  229.50          Cartão Proprietário\n",
              "95   66.00          American Express   \n",
              "96   39.50          MasterCard         \n",
              "97  253.00          Cartão Proprietário\n",
              "98  287.59          Cartão Proprietário\n",
              "99   47.60          Cartão Proprietário\n",
              "100  28.44          Cartão Proprietário"
            ],
            "text/latex": "A data.frame: 100 × 2\n\\begin{tabular}{ll}\n Vendas.líquidas & Método.de.Pagamento\\\\\n <dbl> & <chr>\\\\\n\\hline\n\t  39.50 & Discover           \\\\\n\t 102.40 & Cartão Proprietário\\\\\n\t  22.50 & Cartão Proprietário\\\\\n\t 100.40 & Cartão Proprietário\\\\\n\t  54.00 & MasterCard         \\\\\n\t  44.50 & MasterCard         \\\\\n\t  78.00 & Cartão Proprietário\\\\\n\t  22.50 & Visa               \\\\\n\t  56.52 & Cartão Proprietário\\\\\n\t  44.50 & Cartão Proprietário\\\\\n\t  29.50 & Cartão Proprietário\\\\\n\t  31.60 & Cartão Proprietário\\\\\n\t 160.40 & Visa               \\\\\n\t  64.50 & Visa               \\\\\n\t  49.50 & Visa               \\\\\n\t  71.40 & Cartão Proprietário\\\\\n\t  94.00 & Cartão Proprietário\\\\\n\t  54.50 & Discover           \\\\\n\t  38.50 & MasterCard         \\\\\n\t  44.80 & Cartão Proprietário\\\\\n\t  31.60 & Cartão Proprietário\\\\\n\t  70.82 & Cartão Proprietário\\\\\n\t 266.00 & American Express   \\\\\n\t  74.00 & Cartão Proprietário\\\\\n\t  39.50 & Visa               \\\\\n\t  30.02 & Cartão Proprietário\\\\\n\t  44.50 & Cartão Proprietário\\\\\n\t 192.80 & Cartão Proprietário\\\\\n\t  71.20 & Cartão Proprietário\\\\\n\t  18.00 & Cartão Proprietário\\\\\n\t ⋮ & ⋮\\\\\n\t 155.32 & Cartão Proprietário\\\\\n\t  58.00 & MasterCard         \\\\\n\t  69.00 & Cartão Proprietário\\\\\n\t  46.50 & Cartão Proprietário\\\\\n\t  45.22 & Cartão Proprietário\\\\\n\t  84.74 & Cartão Proprietário\\\\\n\t  39.00 & Cartão Proprietário\\\\\n\t 111.14 & Cartão Proprietário\\\\\n\t  86.80 & Cartão Proprietário\\\\\n\t  89.00 & Discover           \\\\\n\t  78.00 & MasterCard         \\\\\n\t  53.20 & Cartão Proprietário\\\\\n\t  58.50 & Visa               \\\\\n\t  46.00 & Cartão Proprietário\\\\\n\t  37.50 & Visa               \\\\\n\t  20.80 & Cartão Proprietário\\\\\n\t 144.00 & MasterCard         \\\\\n\t 107.00 & Cartão Proprietário\\\\\n\t  31.60 & Cartão Proprietário\\\\\n\t  57.60 & Cartão Proprietário\\\\\n\t  95.20 & Cartão Proprietário\\\\\n\t  22.42 & Cartão Proprietário\\\\\n\t 159.75 & Cartão Proprietário\\\\\n\t 229.50 & Cartão Proprietário\\\\\n\t  66.00 & American Express   \\\\\n\t  39.50 & MasterCard         \\\\\n\t 253.00 & Cartão Proprietário\\\\\n\t 287.59 & Cartão Proprietário\\\\\n\t  47.60 & Cartão Proprietário\\\\\n\t  28.44 & Cartão Proprietário\\\\\n\\end{tabular}\n",
            "text/markdown": "\nA data.frame: 100 × 2\n\n| Vendas.líquidas &lt;dbl&gt; | Método.de.Pagamento &lt;chr&gt; |\n|---|---|\n|  39.50 | Discover            |\n| 102.40 | Cartão Proprietário |\n|  22.50 | Cartão Proprietário |\n| 100.40 | Cartão Proprietário |\n|  54.00 | MasterCard          |\n|  44.50 | MasterCard          |\n|  78.00 | Cartão Proprietário |\n|  22.50 | Visa                |\n|  56.52 | Cartão Proprietário |\n|  44.50 | Cartão Proprietário |\n|  29.50 | Cartão Proprietário |\n|  31.60 | Cartão Proprietário |\n| 160.40 | Visa                |\n|  64.50 | Visa                |\n|  49.50 | Visa                |\n|  71.40 | Cartão Proprietário |\n|  94.00 | Cartão Proprietário |\n|  54.50 | Discover            |\n|  38.50 | MasterCard          |\n|  44.80 | Cartão Proprietário |\n|  31.60 | Cartão Proprietário |\n|  70.82 | Cartão Proprietário |\n| 266.00 | American Express    |\n|  74.00 | Cartão Proprietário |\n|  39.50 | Visa                |\n|  30.02 | Cartão Proprietário |\n|  44.50 | Cartão Proprietário |\n| 192.80 | Cartão Proprietário |\n|  71.20 | Cartão Proprietário |\n|  18.00 | Cartão Proprietário |\n| ⋮ | ⋮ |\n| 155.32 | Cartão Proprietário |\n|  58.00 | MasterCard          |\n|  69.00 | Cartão Proprietário |\n|  46.50 | Cartão Proprietário |\n|  45.22 | Cartão Proprietário |\n|  84.74 | Cartão Proprietário |\n|  39.00 | Cartão Proprietário |\n| 111.14 | Cartão Proprietário |\n|  86.80 | Cartão Proprietário |\n|  89.00 | Discover            |\n|  78.00 | MasterCard          |\n|  53.20 | Cartão Proprietário |\n|  58.50 | Visa                |\n|  46.00 | Cartão Proprietário |\n|  37.50 | Visa                |\n|  20.80 | Cartão Proprietário |\n| 144.00 | MasterCard          |\n| 107.00 | Cartão Proprietário |\n|  31.60 | Cartão Proprietário |\n|  57.60 | Cartão Proprietário |\n|  95.20 | Cartão Proprietário |\n|  22.42 | Cartão Proprietário |\n| 159.75 | Cartão Proprietário |\n| 229.50 | Cartão Proprietário |\n|  66.00 | American Express    |\n|  39.50 | MasterCard          |\n| 253.00 | Cartão Proprietário |\n| 287.59 | Cartão Proprietário |\n|  47.60 | Cartão Proprietário |\n|  28.44 | Cartão Proprietário |\n\n",
            "text/html": [
              "<table class=\"dataframe\">\n",
              "<caption>A data.frame: 100 × 2</caption>\n",
              "<thead>\n",
              "\t<tr><th scope=col>Vendas.líquidas</th><th scope=col>Método.de.Pagamento</th></tr>\n",
              "\t<tr><th scope=col>&lt;dbl&gt;</th><th scope=col>&lt;chr&gt;</th></tr>\n",
              "</thead>\n",
              "<tbody>\n",
              "\t<tr><td> 39.50</td><td>Discover           </td></tr>\n",
              "\t<tr><td>102.40</td><td>Cartão Proprietário</td></tr>\n",
              "\t<tr><td> 22.50</td><td>Cartão Proprietário</td></tr>\n",
              "\t<tr><td>100.40</td><td>Cartão Proprietário</td></tr>\n",
              "\t<tr><td> 54.00</td><td>MasterCard         </td></tr>\n",
              "\t<tr><td> 44.50</td><td>MasterCard         </td></tr>\n",
              "\t<tr><td> 78.00</td><td>Cartão Proprietário</td></tr>\n",
              "\t<tr><td> 22.50</td><td>Visa               </td></tr>\n",
              "\t<tr><td> 56.52</td><td>Cartão Proprietário</td></tr>\n",
              "\t<tr><td> 44.50</td><td>Cartão Proprietário</td></tr>\n",
              "\t<tr><td> 29.50</td><td>Cartão Proprietário</td></tr>\n",
              "\t<tr><td> 31.60</td><td>Cartão Proprietário</td></tr>\n",
              "\t<tr><td>160.40</td><td>Visa               </td></tr>\n",
              "\t<tr><td> 64.50</td><td>Visa               </td></tr>\n",
              "\t<tr><td> 49.50</td><td>Visa               </td></tr>\n",
              "\t<tr><td> 71.40</td><td>Cartão Proprietário</td></tr>\n",
              "\t<tr><td> 94.00</td><td>Cartão Proprietário</td></tr>\n",
              "\t<tr><td> 54.50</td><td>Discover           </td></tr>\n",
              "\t<tr><td> 38.50</td><td>MasterCard         </td></tr>\n",
              "\t<tr><td> 44.80</td><td>Cartão Proprietário</td></tr>\n",
              "\t<tr><td> 31.60</td><td>Cartão Proprietário</td></tr>\n",
              "\t<tr><td> 70.82</td><td>Cartão Proprietário</td></tr>\n",
              "\t<tr><td>266.00</td><td>American Express   </td></tr>\n",
              "\t<tr><td> 74.00</td><td>Cartão Proprietário</td></tr>\n",
              "\t<tr><td> 39.50</td><td>Visa               </td></tr>\n",
              "\t<tr><td> 30.02</td><td>Cartão Proprietário</td></tr>\n",
              "\t<tr><td> 44.50</td><td>Cartão Proprietário</td></tr>\n",
              "\t<tr><td>192.80</td><td>Cartão Proprietário</td></tr>\n",
              "\t<tr><td> 71.20</td><td>Cartão Proprietário</td></tr>\n",
              "\t<tr><td> 18.00</td><td>Cartão Proprietário</td></tr>\n",
              "\t<tr><td>⋮</td><td>⋮</td></tr>\n",
              "\t<tr><td>155.32</td><td>Cartão Proprietário</td></tr>\n",
              "\t<tr><td> 58.00</td><td>MasterCard         </td></tr>\n",
              "\t<tr><td> 69.00</td><td>Cartão Proprietário</td></tr>\n",
              "\t<tr><td> 46.50</td><td>Cartão Proprietário</td></tr>\n",
              "\t<tr><td> 45.22</td><td>Cartão Proprietário</td></tr>\n",
              "\t<tr><td> 84.74</td><td>Cartão Proprietário</td></tr>\n",
              "\t<tr><td> 39.00</td><td>Cartão Proprietário</td></tr>\n",
              "\t<tr><td>111.14</td><td>Cartão Proprietário</td></tr>\n",
              "\t<tr><td> 86.80</td><td>Cartão Proprietário</td></tr>\n",
              "\t<tr><td> 89.00</td><td>Discover           </td></tr>\n",
              "\t<tr><td> 78.00</td><td>MasterCard         </td></tr>\n",
              "\t<tr><td> 53.20</td><td>Cartão Proprietário</td></tr>\n",
              "\t<tr><td> 58.50</td><td>Visa               </td></tr>\n",
              "\t<tr><td> 46.00</td><td>Cartão Proprietário</td></tr>\n",
              "\t<tr><td> 37.50</td><td>Visa               </td></tr>\n",
              "\t<tr><td> 20.80</td><td>Cartão Proprietário</td></tr>\n",
              "\t<tr><td>144.00</td><td>MasterCard         </td></tr>\n",
              "\t<tr><td>107.00</td><td>Cartão Proprietário</td></tr>\n",
              "\t<tr><td> 31.60</td><td>Cartão Proprietário</td></tr>\n",
              "\t<tr><td> 57.60</td><td>Cartão Proprietário</td></tr>\n",
              "\t<tr><td> 95.20</td><td>Cartão Proprietário</td></tr>\n",
              "\t<tr><td> 22.42</td><td>Cartão Proprietário</td></tr>\n",
              "\t<tr><td>159.75</td><td>Cartão Proprietário</td></tr>\n",
              "\t<tr><td>229.50</td><td>Cartão Proprietário</td></tr>\n",
              "\t<tr><td> 66.00</td><td>American Express   </td></tr>\n",
              "\t<tr><td> 39.50</td><td>MasterCard         </td></tr>\n",
              "\t<tr><td>253.00</td><td>Cartão Proprietário</td></tr>\n",
              "\t<tr><td>287.59</td><td>Cartão Proprietário</td></tr>\n",
              "\t<tr><td> 47.60</td><td>Cartão Proprietário</td></tr>\n",
              "\t<tr><td> 28.44</td><td>Cartão Proprietário</td></tr>\n",
              "</tbody>\n",
              "</table>\n"
            ]
          },
          "metadata": {}
        }
      ]
    },
    {
      "cell_type": "code",
      "source": [
        "tab2 %>% \n",
        "  filter(\n",
        "    str_detect(tab2$`Método.de.Pagamento`, \"Cartão Proprietário\")\n",
        "    )"
      ],
      "metadata": {
        "colab": {
          "base_uri": "https://localhost:8080/",
          "height": 1000
        },
        "id": "KXbGLhz5yoDT",
        "outputId": "8c518a3f-e991-4fcd-f301-1c8cc973ecd9"
      },
      "execution_count": 221,
      "outputs": [
        {
          "output_type": "display_data",
          "data": {
            "text/plain": [
              "   Vendas.líquidas Método.de.Pagamento\n",
              "1  102.40          Cartão Proprietário\n",
              "2   22.50          Cartão Proprietário\n",
              "3  100.40          Cartão Proprietário\n",
              "4   78.00          Cartão Proprietário\n",
              "5   56.52          Cartão Proprietário\n",
              "6   44.50          Cartão Proprietário\n",
              "7   29.50          Cartão Proprietário\n",
              "8   31.60          Cartão Proprietário\n",
              "9   71.40          Cartão Proprietário\n",
              "10  94.00          Cartão Proprietário\n",
              "11  44.80          Cartão Proprietário\n",
              "12  31.60          Cartão Proprietário\n",
              "13  70.82          Cartão Proprietário\n",
              "14  74.00          Cartão Proprietário\n",
              "15  30.02          Cartão Proprietário\n",
              "16  44.50          Cartão Proprietário\n",
              "17 192.80          Cartão Proprietário\n",
              "18  71.20          Cartão Proprietário\n",
              "19  18.00          Cartão Proprietário\n",
              "20  75.00          Cartão Proprietário\n",
              "21  63.20          Cartão Proprietário\n",
              "22  40.00          Cartão Proprietário\n",
              "23 117.50          Cartão Proprietário\n",
              "24  13.23          Cartão Proprietário\n",
              "25  52.50          Cartão Proprietário\n",
              "26 198.80          Cartão Proprietário\n",
              "27 123.50          Cartão Proprietário\n",
              "28  62.40          Cartão Proprietário\n",
              "29  23.80          Cartão Proprietário\n",
              "30  39.60          Cartão Proprietário\n",
              "⋮  ⋮               ⋮                  \n",
              "41  53.60          Cartão Proprietário\n",
              "42  31.60          Cartão Proprietário\n",
              "43  49.50          Cartão Proprietário\n",
              "44  39.60          Cartão Proprietário\n",
              "45  59.50          Cartão Proprietário\n",
              "46 146.80          Cartão Proprietário\n",
              "47  47.20          Cartão Proprietário\n",
              "48  95.05          Cartão Proprietário\n",
              "49 155.32          Cartão Proprietário\n",
              "50  69.00          Cartão Proprietário\n",
              "51  46.50          Cartão Proprietário\n",
              "52  45.22          Cartão Proprietário\n",
              "53  84.74          Cartão Proprietário\n",
              "54  39.00          Cartão Proprietário\n",
              "55 111.14          Cartão Proprietário\n",
              "56  86.80          Cartão Proprietário\n",
              "57  53.20          Cartão Proprietário\n",
              "58  46.00          Cartão Proprietário\n",
              "59  20.80          Cartão Proprietário\n",
              "60 107.00          Cartão Proprietário\n",
              "61  31.60          Cartão Proprietário\n",
              "62  57.60          Cartão Proprietário\n",
              "63  95.20          Cartão Proprietário\n",
              "64  22.42          Cartão Proprietário\n",
              "65 159.75          Cartão Proprietário\n",
              "66 229.50          Cartão Proprietário\n",
              "67 253.00          Cartão Proprietário\n",
              "68 287.59          Cartão Proprietário\n",
              "69  47.60          Cartão Proprietário\n",
              "70  28.44          Cartão Proprietário"
            ],
            "text/latex": "A data.frame: 70 × 2\n\\begin{tabular}{ll}\n Vendas.líquidas & Método.de.Pagamento\\\\\n <dbl> & <chr>\\\\\n\\hline\n\t 102.40 & Cartão Proprietário\\\\\n\t  22.50 & Cartão Proprietário\\\\\n\t 100.40 & Cartão Proprietário\\\\\n\t  78.00 & Cartão Proprietário\\\\\n\t  56.52 & Cartão Proprietário\\\\\n\t  44.50 & Cartão Proprietário\\\\\n\t  29.50 & Cartão Proprietário\\\\\n\t  31.60 & Cartão Proprietário\\\\\n\t  71.40 & Cartão Proprietário\\\\\n\t  94.00 & Cartão Proprietário\\\\\n\t  44.80 & Cartão Proprietário\\\\\n\t  31.60 & Cartão Proprietário\\\\\n\t  70.82 & Cartão Proprietário\\\\\n\t  74.00 & Cartão Proprietário\\\\\n\t  30.02 & Cartão Proprietário\\\\\n\t  44.50 & Cartão Proprietário\\\\\n\t 192.80 & Cartão Proprietário\\\\\n\t  71.20 & Cartão Proprietário\\\\\n\t  18.00 & Cartão Proprietário\\\\\n\t  75.00 & Cartão Proprietário\\\\\n\t  63.20 & Cartão Proprietário\\\\\n\t  40.00 & Cartão Proprietário\\\\\n\t 117.50 & Cartão Proprietário\\\\\n\t  13.23 & Cartão Proprietário\\\\\n\t  52.50 & Cartão Proprietário\\\\\n\t 198.80 & Cartão Proprietário\\\\\n\t 123.50 & Cartão Proprietário\\\\\n\t  62.40 & Cartão Proprietário\\\\\n\t  23.80 & Cartão Proprietário\\\\\n\t  39.60 & Cartão Proprietário\\\\\n\t ⋮ & ⋮\\\\\n\t  53.60 & Cartão Proprietário\\\\\n\t  31.60 & Cartão Proprietário\\\\\n\t  49.50 & Cartão Proprietário\\\\\n\t  39.60 & Cartão Proprietário\\\\\n\t  59.50 & Cartão Proprietário\\\\\n\t 146.80 & Cartão Proprietário\\\\\n\t  47.20 & Cartão Proprietário\\\\\n\t  95.05 & Cartão Proprietário\\\\\n\t 155.32 & Cartão Proprietário\\\\\n\t  69.00 & Cartão Proprietário\\\\\n\t  46.50 & Cartão Proprietário\\\\\n\t  45.22 & Cartão Proprietário\\\\\n\t  84.74 & Cartão Proprietário\\\\\n\t  39.00 & Cartão Proprietário\\\\\n\t 111.14 & Cartão Proprietário\\\\\n\t  86.80 & Cartão Proprietário\\\\\n\t  53.20 & Cartão Proprietário\\\\\n\t  46.00 & Cartão Proprietário\\\\\n\t  20.80 & Cartão Proprietário\\\\\n\t 107.00 & Cartão Proprietário\\\\\n\t  31.60 & Cartão Proprietário\\\\\n\t  57.60 & Cartão Proprietário\\\\\n\t  95.20 & Cartão Proprietário\\\\\n\t  22.42 & Cartão Proprietário\\\\\n\t 159.75 & Cartão Proprietário\\\\\n\t 229.50 & Cartão Proprietário\\\\\n\t 253.00 & Cartão Proprietário\\\\\n\t 287.59 & Cartão Proprietário\\\\\n\t  47.60 & Cartão Proprietário\\\\\n\t  28.44 & Cartão Proprietário\\\\\n\\end{tabular}\n",
            "text/markdown": "\nA data.frame: 70 × 2\n\n| Vendas.líquidas &lt;dbl&gt; | Método.de.Pagamento &lt;chr&gt; |\n|---|---|\n| 102.40 | Cartão Proprietário |\n|  22.50 | Cartão Proprietário |\n| 100.40 | Cartão Proprietário |\n|  78.00 | Cartão Proprietário |\n|  56.52 | Cartão Proprietário |\n|  44.50 | Cartão Proprietário |\n|  29.50 | Cartão Proprietário |\n|  31.60 | Cartão Proprietário |\n|  71.40 | Cartão Proprietário |\n|  94.00 | Cartão Proprietário |\n|  44.80 | Cartão Proprietário |\n|  31.60 | Cartão Proprietário |\n|  70.82 | Cartão Proprietário |\n|  74.00 | Cartão Proprietário |\n|  30.02 | Cartão Proprietário |\n|  44.50 | Cartão Proprietário |\n| 192.80 | Cartão Proprietário |\n|  71.20 | Cartão Proprietário |\n|  18.00 | Cartão Proprietário |\n|  75.00 | Cartão Proprietário |\n|  63.20 | Cartão Proprietário |\n|  40.00 | Cartão Proprietário |\n| 117.50 | Cartão Proprietário |\n|  13.23 | Cartão Proprietário |\n|  52.50 | Cartão Proprietário |\n| 198.80 | Cartão Proprietário |\n| 123.50 | Cartão Proprietário |\n|  62.40 | Cartão Proprietário |\n|  23.80 | Cartão Proprietário |\n|  39.60 | Cartão Proprietário |\n| ⋮ | ⋮ |\n|  53.60 | Cartão Proprietário |\n|  31.60 | Cartão Proprietário |\n|  49.50 | Cartão Proprietário |\n|  39.60 | Cartão Proprietário |\n|  59.50 | Cartão Proprietário |\n| 146.80 | Cartão Proprietário |\n|  47.20 | Cartão Proprietário |\n|  95.05 | Cartão Proprietário |\n| 155.32 | Cartão Proprietário |\n|  69.00 | Cartão Proprietário |\n|  46.50 | Cartão Proprietário |\n|  45.22 | Cartão Proprietário |\n|  84.74 | Cartão Proprietário |\n|  39.00 | Cartão Proprietário |\n| 111.14 | Cartão Proprietário |\n|  86.80 | Cartão Proprietário |\n|  53.20 | Cartão Proprietário |\n|  46.00 | Cartão Proprietário |\n|  20.80 | Cartão Proprietário |\n| 107.00 | Cartão Proprietário |\n|  31.60 | Cartão Proprietário |\n|  57.60 | Cartão Proprietário |\n|  95.20 | Cartão Proprietário |\n|  22.42 | Cartão Proprietário |\n| 159.75 | Cartão Proprietário |\n| 229.50 | Cartão Proprietário |\n| 253.00 | Cartão Proprietário |\n| 287.59 | Cartão Proprietário |\n|  47.60 | Cartão Proprietário |\n|  28.44 | Cartão Proprietário |\n\n",
            "text/html": [
              "<table class=\"dataframe\">\n",
              "<caption>A data.frame: 70 × 2</caption>\n",
              "<thead>\n",
              "\t<tr><th scope=col>Vendas.líquidas</th><th scope=col>Método.de.Pagamento</th></tr>\n",
              "\t<tr><th scope=col>&lt;dbl&gt;</th><th scope=col>&lt;chr&gt;</th></tr>\n",
              "</thead>\n",
              "<tbody>\n",
              "\t<tr><td>102.40</td><td>Cartão Proprietário</td></tr>\n",
              "\t<tr><td> 22.50</td><td>Cartão Proprietário</td></tr>\n",
              "\t<tr><td>100.40</td><td>Cartão Proprietário</td></tr>\n",
              "\t<tr><td> 78.00</td><td>Cartão Proprietário</td></tr>\n",
              "\t<tr><td> 56.52</td><td>Cartão Proprietário</td></tr>\n",
              "\t<tr><td> 44.50</td><td>Cartão Proprietário</td></tr>\n",
              "\t<tr><td> 29.50</td><td>Cartão Proprietário</td></tr>\n",
              "\t<tr><td> 31.60</td><td>Cartão Proprietário</td></tr>\n",
              "\t<tr><td> 71.40</td><td>Cartão Proprietário</td></tr>\n",
              "\t<tr><td> 94.00</td><td>Cartão Proprietário</td></tr>\n",
              "\t<tr><td> 44.80</td><td>Cartão Proprietário</td></tr>\n",
              "\t<tr><td> 31.60</td><td>Cartão Proprietário</td></tr>\n",
              "\t<tr><td> 70.82</td><td>Cartão Proprietário</td></tr>\n",
              "\t<tr><td> 74.00</td><td>Cartão Proprietário</td></tr>\n",
              "\t<tr><td> 30.02</td><td>Cartão Proprietário</td></tr>\n",
              "\t<tr><td> 44.50</td><td>Cartão Proprietário</td></tr>\n",
              "\t<tr><td>192.80</td><td>Cartão Proprietário</td></tr>\n",
              "\t<tr><td> 71.20</td><td>Cartão Proprietário</td></tr>\n",
              "\t<tr><td> 18.00</td><td>Cartão Proprietário</td></tr>\n",
              "\t<tr><td> 75.00</td><td>Cartão Proprietário</td></tr>\n",
              "\t<tr><td> 63.20</td><td>Cartão Proprietário</td></tr>\n",
              "\t<tr><td> 40.00</td><td>Cartão Proprietário</td></tr>\n",
              "\t<tr><td>117.50</td><td>Cartão Proprietário</td></tr>\n",
              "\t<tr><td> 13.23</td><td>Cartão Proprietário</td></tr>\n",
              "\t<tr><td> 52.50</td><td>Cartão Proprietário</td></tr>\n",
              "\t<tr><td>198.80</td><td>Cartão Proprietário</td></tr>\n",
              "\t<tr><td>123.50</td><td>Cartão Proprietário</td></tr>\n",
              "\t<tr><td> 62.40</td><td>Cartão Proprietário</td></tr>\n",
              "\t<tr><td> 23.80</td><td>Cartão Proprietário</td></tr>\n",
              "\t<tr><td> 39.60</td><td>Cartão Proprietário</td></tr>\n",
              "\t<tr><td>⋮</td><td>⋮</td></tr>\n",
              "\t<tr><td> 53.60</td><td>Cartão Proprietário</td></tr>\n",
              "\t<tr><td> 31.60</td><td>Cartão Proprietário</td></tr>\n",
              "\t<tr><td> 49.50</td><td>Cartão Proprietário</td></tr>\n",
              "\t<tr><td> 39.60</td><td>Cartão Proprietário</td></tr>\n",
              "\t<tr><td> 59.50</td><td>Cartão Proprietário</td></tr>\n",
              "\t<tr><td>146.80</td><td>Cartão Proprietário</td></tr>\n",
              "\t<tr><td> 47.20</td><td>Cartão Proprietário</td></tr>\n",
              "\t<tr><td> 95.05</td><td>Cartão Proprietário</td></tr>\n",
              "\t<tr><td>155.32</td><td>Cartão Proprietário</td></tr>\n",
              "\t<tr><td> 69.00</td><td>Cartão Proprietário</td></tr>\n",
              "\t<tr><td> 46.50</td><td>Cartão Proprietário</td></tr>\n",
              "\t<tr><td> 45.22</td><td>Cartão Proprietário</td></tr>\n",
              "\t<tr><td> 84.74</td><td>Cartão Proprietário</td></tr>\n",
              "\t<tr><td> 39.00</td><td>Cartão Proprietário</td></tr>\n",
              "\t<tr><td>111.14</td><td>Cartão Proprietário</td></tr>\n",
              "\t<tr><td> 86.80</td><td>Cartão Proprietário</td></tr>\n",
              "\t<tr><td> 53.20</td><td>Cartão Proprietário</td></tr>\n",
              "\t<tr><td> 46.00</td><td>Cartão Proprietário</td></tr>\n",
              "\t<tr><td> 20.80</td><td>Cartão Proprietário</td></tr>\n",
              "\t<tr><td>107.00</td><td>Cartão Proprietário</td></tr>\n",
              "\t<tr><td> 31.60</td><td>Cartão Proprietário</td></tr>\n",
              "\t<tr><td> 57.60</td><td>Cartão Proprietário</td></tr>\n",
              "\t<tr><td> 95.20</td><td>Cartão Proprietário</td></tr>\n",
              "\t<tr><td> 22.42</td><td>Cartão Proprietário</td></tr>\n",
              "\t<tr><td>159.75</td><td>Cartão Proprietário</td></tr>\n",
              "\t<tr><td>229.50</td><td>Cartão Proprietário</td></tr>\n",
              "\t<tr><td>253.00</td><td>Cartão Proprietário</td></tr>\n",
              "\t<tr><td>287.59</td><td>Cartão Proprietário</td></tr>\n",
              "\t<tr><td> 47.60</td><td>Cartão Proprietário</td></tr>\n",
              "\t<tr><td> 28.44</td><td>Cartão Proprietário</td></tr>\n",
              "</tbody>\n",
              "</table>\n"
            ]
          },
          "metadata": {}
        }
      ]
    },
    {
      "cell_type": "code",
      "source": [
        "library(tidyverse)"
      ],
      "metadata": {
        "id": "BmmyDO9Yrjls"
      },
      "execution_count": 222,
      "outputs": []
    },
    {
      "cell_type": "markdown",
      "source": [
        "#Estatísticas"
      ],
      "metadata": {
        "id": "3U447yAgPKSU"
      }
    },
    {
      "cell_type": "markdown",
      "source": [
        "###Determine as medidas de posição e variabilidade para as variáveis apropriadas. Para isso, utilize o conjunto de dados completo."
      ],
      "metadata": {
        "id": "etLCLJNlUCpc"
      }
    },
    {
      "cell_type": "markdown",
      "source": [
        "#### Variável \"Itens\". Determinando:\n",
        "Quartis;\n",
        "Percentis;\n",
        "Média;\n",
        "Mediana;\n",
        "Desvio Padrão;\n",
        "Variança;\n",
        "Moda.\n"
      ],
      "metadata": {
        "id": "lHfhvjaOr_pd"
      }
    },
    {
      "cell_type": "code",
      "source": [
        "e_itens = dados$Itens\n",
        "e_itens"
      ],
      "metadata": {
        "colab": {
          "base_uri": "https://localhost:8080/",
          "height": 52
        },
        "id": "P2ixTf3mLPB0",
        "outputId": "56fe60d5-d7d6-4f7b-c5a8-7982b1af727a"
      },
      "execution_count": 223,
      "outputs": [
        {
          "output_type": "display_data",
          "data": {
            "text/plain": [
              "  [1]  1  1  1  5  2  1  2  1  2  1  1  1  9  2  1  2  3  3  2  6  1  4  7  2  2\n",
              " [26]  1  1  5  3  1  2  1  3  1  5  1  2  6  5  2 13  4  2  1  2  2  1  3  1  9\n",
              " [51]  6  5  1  2  2  3  6  2  4  4  1  3  5  1  2  1  2  5  2  8  5  4  1  2  2\n",
              " [76]  4  2  4  3  2  2  6  4  3  2  1  6  4  1  6  4  1  5 17  3  1  9 10  2  1"
            ],
            "text/latex": "\\begin{enumerate*}\n\\item 1\n\\item 1\n\\item 1\n\\item 5\n\\item 2\n\\item 1\n\\item 2\n\\item 1\n\\item 2\n\\item 1\n\\item 1\n\\item 1\n\\item 9\n\\item 2\n\\item 1\n\\item 2\n\\item 3\n\\item 3\n\\item 2\n\\item 6\n\\item 1\n\\item 4\n\\item 7\n\\item 2\n\\item 2\n\\item 1\n\\item 1\n\\item 5\n\\item 3\n\\item 1\n\\item 2\n\\item 1\n\\item 3\n\\item 1\n\\item 5\n\\item 1\n\\item 2\n\\item 6\n\\item 5\n\\item 2\n\\item 13\n\\item 4\n\\item 2\n\\item 1\n\\item 2\n\\item 2\n\\item 1\n\\item 3\n\\item 1\n\\item 9\n\\item 6\n\\item 5\n\\item 1\n\\item 2\n\\item 2\n\\item 3\n\\item 6\n\\item 2\n\\item 4\n\\item 4\n\\item 1\n\\item 3\n\\item 5\n\\item 1\n\\item 2\n\\item 1\n\\item 2\n\\item 5\n\\item 2\n\\item 8\n\\item 5\n\\item 4\n\\item 1\n\\item 2\n\\item 2\n\\item 4\n\\item 2\n\\item 4\n\\item 3\n\\item 2\n\\item 2\n\\item 6\n\\item 4\n\\item 3\n\\item 2\n\\item 1\n\\item 6\n\\item 4\n\\item 1\n\\item 6\n\\item 4\n\\item 1\n\\item 5\n\\item 17\n\\item 3\n\\item 1\n\\item 9\n\\item 10\n\\item 2\n\\item 1\n\\end{enumerate*}\n",
            "text/markdown": "1. 1\n2. 1\n3. 1\n4. 5\n5. 2\n6. 1\n7. 2\n8. 1\n9. 2\n10. 1\n11. 1\n12. 1\n13. 9\n14. 2\n15. 1\n16. 2\n17. 3\n18. 3\n19. 2\n20. 6\n21. 1\n22. 4\n23. 7\n24. 2\n25. 2\n26. 1\n27. 1\n28. 5\n29. 3\n30. 1\n31. 2\n32. 1\n33. 3\n34. 1\n35. 5\n36. 1\n37. 2\n38. 6\n39. 5\n40. 2\n41. 13\n42. 4\n43. 2\n44. 1\n45. 2\n46. 2\n47. 1\n48. 3\n49. 1\n50. 9\n51. 6\n52. 5\n53. 1\n54. 2\n55. 2\n56. 3\n57. 6\n58. 2\n59. 4\n60. 4\n61. 1\n62. 3\n63. 5\n64. 1\n65. 2\n66. 1\n67. 2\n68. 5\n69. 2\n70. 8\n71. 5\n72. 4\n73. 1\n74. 2\n75. 2\n76. 4\n77. 2\n78. 4\n79. 3\n80. 2\n81. 2\n82. 6\n83. 4\n84. 3\n85. 2\n86. 1\n87. 6\n88. 4\n89. 1\n90. 6\n91. 4\n92. 1\n93. 5\n94. 17\n95. 3\n96. 1\n97. 9\n98. 10\n99. 2\n100. 1\n\n\n",
            "text/html": [
              "<style>\n",
              ".list-inline {list-style: none; margin:0; padding: 0}\n",
              ".list-inline>li {display: inline-block}\n",
              ".list-inline>li:not(:last-child)::after {content: \"\\00b7\"; padding: 0 .5ex}\n",
              "</style>\n",
              "<ol class=list-inline><li>1</li><li>1</li><li>1</li><li>5</li><li>2</li><li>1</li><li>2</li><li>1</li><li>2</li><li>1</li><li>1</li><li>1</li><li>9</li><li>2</li><li>1</li><li>2</li><li>3</li><li>3</li><li>2</li><li>6</li><li>1</li><li>4</li><li>7</li><li>2</li><li>2</li><li>1</li><li>1</li><li>5</li><li>3</li><li>1</li><li>2</li><li>1</li><li>3</li><li>1</li><li>5</li><li>1</li><li>2</li><li>6</li><li>5</li><li>2</li><li>13</li><li>4</li><li>2</li><li>1</li><li>2</li><li>2</li><li>1</li><li>3</li><li>1</li><li>9</li><li>6</li><li>5</li><li>1</li><li>2</li><li>2</li><li>3</li><li>6</li><li>2</li><li>4</li><li>4</li><li>1</li><li>3</li><li>5</li><li>1</li><li>2</li><li>1</li><li>2</li><li>5</li><li>2</li><li>8</li><li>5</li><li>4</li><li>1</li><li>2</li><li>2</li><li>4</li><li>2</li><li>4</li><li>3</li><li>2</li><li>2</li><li>6</li><li>4</li><li>3</li><li>2</li><li>1</li><li>6</li><li>4</li><li>1</li><li>6</li><li>4</li><li>1</li><li>5</li><li>17</li><li>3</li><li>1</li><li>9</li><li>10</li><li>2</li><li>1</li></ol>\n"
            ]
          },
          "metadata": {}
        }
      ]
    },
    {
      "cell_type": "code",
      "source": [
        "print(summary(e_itens))#Quartis\n",
        "print(quantile(e_itens))\n",
        "print(\"Média:\") \n",
        "mean (e_itens) #Média\n",
        "print(\"Mediana:\") \n",
        "median(e_itens) #Mediana\n",
        "print(\"Desvio Padrão:\") \n",
        "sd(e_itens) #Desvio Padrão\n",
        "print(\"Variância\") \n",
        "var(e_itens) #Variância"
      ],
      "metadata": {
        "colab": {
          "base_uri": "https://localhost:8080/",
          "height": 242
        },
        "id": "yfaOBfWWLVJS",
        "outputId": "cef0738e-c749-42e9-b9c1-b5f4c8b8e283"
      },
      "execution_count": 224,
      "outputs": [
        {
          "output_type": "stream",
          "name": "stdout",
          "text": [
            "   Min. 1st Qu.  Median    Mean 3rd Qu.    Max. \n",
            "   1.00    1.00    2.00    3.22    4.00   17.00 \n",
            "  0%  25%  50%  75% 100% \n",
            "   1    1    2    4   17 \n",
            "[1] \"Média:\"\n"
          ]
        },
        {
          "output_type": "display_data",
          "data": {
            "text/plain": [
              "[1] 3.22"
            ],
            "text/latex": "3.22",
            "text/markdown": "3.22",
            "text/html": [
              "3.22"
            ]
          },
          "metadata": {}
        },
        {
          "output_type": "stream",
          "name": "stdout",
          "text": [
            "[1] \"Mediana:\"\n"
          ]
        },
        {
          "output_type": "display_data",
          "data": {
            "text/plain": [
              "[1] 2"
            ],
            "text/latex": "2",
            "text/markdown": "2",
            "text/html": [
              "2"
            ]
          },
          "metadata": {}
        },
        {
          "output_type": "stream",
          "name": "stdout",
          "text": [
            "[1] \"Desvio Padrão:\"\n"
          ]
        },
        {
          "output_type": "display_data",
          "data": {
            "text/plain": [
              "[1] 2.73614"
            ],
            "text/latex": "2.73614046541194",
            "text/markdown": "2.73614046541194",
            "text/html": [
              "2.73614046541194"
            ]
          },
          "metadata": {}
        },
        {
          "output_type": "stream",
          "name": "stdout",
          "text": [
            "[1] \"Variância\"\n"
          ]
        },
        {
          "output_type": "display_data",
          "data": {
            "text/plain": [
              "[1] 7.486465"
            ],
            "text/latex": "7.48646464646465",
            "text/markdown": "7.48646464646465",
            "text/html": [
              "7.48646464646465"
            ]
          },
          "metadata": {}
        },
        {
          "output_type": "stream",
          "name": "stdout",
          "text": [
            "[1] \"Moda:\"\n"
          ]
        }
      ]
    },
    {
      "cell_type": "code",
      "source": [
        "# Create the function.\n",
        "getmode <- function(v) {\n",
        "   uniqv <- unique(v)\n",
        "   uniqv[which.max(tabulate(match(v, uniqv)))]\n",
        "}\n",
        "\n",
        "# Create the vector with numbers.\n",
        "v <- e_itens\n",
        "\n",
        "# Calculate the mode using the user function.\n",
        "result <- getmode(v)\n",
        "print(result)\n"
      ],
      "metadata": {
        "colab": {
          "base_uri": "https://localhost:8080/"
        },
        "id": "MlIQWLRhoW4b",
        "outputId": "d56a809d-817e-4ff7-a4c6-e6048e8c52f1"
      },
      "execution_count": 225,
      "outputs": [
        {
          "output_type": "stream",
          "name": "stdout",
          "text": [
            "[1] 1\n"
          ]
        }
      ]
    },
    {
      "cell_type": "markdown",
      "source": [
        "#### Variável \"Vendas Líquidas\". Determinando:\n",
        "Quartis;\n",
        "Percentis;\n",
        "Média;\n",
        "Mediana;\n",
        "Desvio Padrão;\n",
        "Variança;\n",
        "Moda.\n"
      ],
      "metadata": {
        "id": "aah1Jcg-sauA"
      }
    },
    {
      "cell_type": "code",
      "source": [
        "e_vendas = colunanumerica\n",
        "e_vendas"
      ],
      "metadata": {
        "colab": {
          "base_uri": "https://localhost:8080/",
          "height": 69
        },
        "id": "FsQnDtpiKtMx",
        "outputId": "468a3eb2-bb76-4c04-8843-f7fd18ed0cb0"
      },
      "execution_count": 226,
      "outputs": [
        {
          "output_type": "display_data",
          "data": {
            "text/plain": [
              "  [1]  39.50 102.40  22.50 100.40  54.00  44.50  78.00  22.50  56.52  44.50\n",
              " [11]  29.50  31.60 160.40  64.50  49.50  71.40  94.00  54.50  38.50  44.80\n",
              " [21]  31.60  70.82 266.00  74.00  39.50  30.02  44.50 192.80  71.20  18.00\n",
              " [31]  63.20  75.00  63.20  40.00 105.50  29.50 102.50 117.50  13.23  52.50\n",
              " [41] 198.80  19.50 123.50  62.40  23.80  39.60  25.00  63.64  14.82 145.20\n",
              " [51] 176.62 118.80  58.00  74.00  49.50 141.60 123.10  80.40  65.20 113.00\n",
              " [61] 108.80  59.91  53.60  31.60  49.50  39.60  59.50 146.80  47.20  95.05\n",
              " [71] 155.32  58.00  69.00  46.50  45.22  84.74  39.00 111.14  86.80  89.00\n",
              " [81]  78.00  53.20  58.50  46.00  37.50  20.80 144.00 107.00  31.60  57.60\n",
              " [91]  95.20  22.42 159.75 229.50  66.00  39.50 253.00 287.59  47.60  28.44"
            ],
            "text/latex": "\\begin{enumerate*}\n\\item 39.5\n\\item 102.4\n\\item 22.5\n\\item 100.4\n\\item 54\n\\item 44.5\n\\item 78\n\\item 22.5\n\\item 56.52\n\\item 44.5\n\\item 29.5\n\\item 31.6\n\\item 160.4\n\\item 64.5\n\\item 49.5\n\\item 71.4\n\\item 94\n\\item 54.5\n\\item 38.5\n\\item 44.8\n\\item 31.6\n\\item 70.82\n\\item 266\n\\item 74\n\\item 39.5\n\\item 30.02\n\\item 44.5\n\\item 192.8\n\\item 71.2\n\\item 18\n\\item 63.2\n\\item 75\n\\item 63.2\n\\item 40\n\\item 105.5\n\\item 29.5\n\\item 102.5\n\\item 117.5\n\\item 13.23\n\\item 52.5\n\\item 198.8\n\\item 19.5\n\\item 123.5\n\\item 62.4\n\\item 23.8\n\\item 39.6\n\\item 25\n\\item 63.64\n\\item 14.82\n\\item 145.2\n\\item 176.62\n\\item 118.8\n\\item 58\n\\item 74\n\\item 49.5\n\\item 141.6\n\\item 123.1\n\\item 80.4\n\\item 65.2\n\\item 113\n\\item 108.8\n\\item 59.91\n\\item 53.6\n\\item 31.6\n\\item 49.5\n\\item 39.6\n\\item 59.5\n\\item 146.8\n\\item 47.2\n\\item 95.05\n\\item 155.32\n\\item 58\n\\item 69\n\\item 46.5\n\\item 45.22\n\\item 84.74\n\\item 39\n\\item 111.14\n\\item 86.8\n\\item 89\n\\item 78\n\\item 53.2\n\\item 58.5\n\\item 46\n\\item 37.5\n\\item 20.8\n\\item 144\n\\item 107\n\\item 31.6\n\\item 57.6\n\\item 95.2\n\\item 22.42\n\\item 159.75\n\\item 229.5\n\\item 66\n\\item 39.5\n\\item 253\n\\item 287.59\n\\item 47.6\n\\item 28.44\n\\end{enumerate*}\n",
            "text/markdown": "1. 39.5\n2. 102.4\n3. 22.5\n4. 100.4\n5. 54\n6. 44.5\n7. 78\n8. 22.5\n9. 56.52\n10. 44.5\n11. 29.5\n12. 31.6\n13. 160.4\n14. 64.5\n15. 49.5\n16. 71.4\n17. 94\n18. 54.5\n19. 38.5\n20. 44.8\n21. 31.6\n22. 70.82\n23. 266\n24. 74\n25. 39.5\n26. 30.02\n27. 44.5\n28. 192.8\n29. 71.2\n30. 18\n31. 63.2\n32. 75\n33. 63.2\n34. 40\n35. 105.5\n36. 29.5\n37. 102.5\n38. 117.5\n39. 13.23\n40. 52.5\n41. 198.8\n42. 19.5\n43. 123.5\n44. 62.4\n45. 23.8\n46. 39.6\n47. 25\n48. 63.64\n49. 14.82\n50. 145.2\n51. 176.62\n52. 118.8\n53. 58\n54. 74\n55. 49.5\n56. 141.6\n57. 123.1\n58. 80.4\n59. 65.2\n60. 113\n61. 108.8\n62. 59.91\n63. 53.6\n64. 31.6\n65. 49.5\n66. 39.6\n67. 59.5\n68. 146.8\n69. 47.2\n70. 95.05\n71. 155.32\n72. 58\n73. 69\n74. 46.5\n75. 45.22\n76. 84.74\n77. 39\n78. 111.14\n79. 86.8\n80. 89\n81. 78\n82. 53.2\n83. 58.5\n84. 46\n85. 37.5\n86. 20.8\n87. 144\n88. 107\n89. 31.6\n90. 57.6\n91. 95.2\n92. 22.42\n93. 159.75\n94. 229.5\n95. 66\n96. 39.5\n97. 253\n98. 287.59\n99. 47.6\n100. 28.44\n\n\n",
            "text/html": [
              "<style>\n",
              ".list-inline {list-style: none; margin:0; padding: 0}\n",
              ".list-inline>li {display: inline-block}\n",
              ".list-inline>li:not(:last-child)::after {content: \"\\00b7\"; padding: 0 .5ex}\n",
              "</style>\n",
              "<ol class=list-inline><li>39.5</li><li>102.4</li><li>22.5</li><li>100.4</li><li>54</li><li>44.5</li><li>78</li><li>22.5</li><li>56.52</li><li>44.5</li><li>29.5</li><li>31.6</li><li>160.4</li><li>64.5</li><li>49.5</li><li>71.4</li><li>94</li><li>54.5</li><li>38.5</li><li>44.8</li><li>31.6</li><li>70.82</li><li>266</li><li>74</li><li>39.5</li><li>30.02</li><li>44.5</li><li>192.8</li><li>71.2</li><li>18</li><li>63.2</li><li>75</li><li>63.2</li><li>40</li><li>105.5</li><li>29.5</li><li>102.5</li><li>117.5</li><li>13.23</li><li>52.5</li><li>198.8</li><li>19.5</li><li>123.5</li><li>62.4</li><li>23.8</li><li>39.6</li><li>25</li><li>63.64</li><li>14.82</li><li>145.2</li><li>176.62</li><li>118.8</li><li>58</li><li>74</li><li>49.5</li><li>141.6</li><li>123.1</li><li>80.4</li><li>65.2</li><li>113</li><li>108.8</li><li>59.91</li><li>53.6</li><li>31.6</li><li>49.5</li><li>39.6</li><li>59.5</li><li>146.8</li><li>47.2</li><li>95.05</li><li>155.32</li><li>58</li><li>69</li><li>46.5</li><li>45.22</li><li>84.74</li><li>39</li><li>111.14</li><li>86.8</li><li>89</li><li>78</li><li>53.2</li><li>58.5</li><li>46</li><li>37.5</li><li>20.8</li><li>144</li><li>107</li><li>31.6</li><li>57.6</li><li>95.2</li><li>22.42</li><li>159.75</li><li>229.5</li><li>66</li><li>39.5</li><li>253</li><li>287.59</li><li>47.6</li><li>28.44</li></ol>\n"
            ]
          },
          "metadata": {}
        }
      ]
    },
    {
      "cell_type": "code",
      "source": [
        "print(summary(e_vendas))#Quartis\n",
        "print(quantile(e_vendas))\n",
        "print(\"Média:\") \n",
        "mean (e_vendas) #Média\n",
        "print(\"Mediana:\") \n",
        "median(e_vendas) #Mediana\n",
        "print(\"Desvio Padrão:\") \n",
        "sd(e_vendas) #Desvio Padrão\n",
        "print(\"Variância\") \n",
        "var(e_vendas) #Variância "
      ],
      "metadata": {
        "colab": {
          "base_uri": "https://localhost:8080/",
          "height": 226
        },
        "id": "1ckjc0L-KxSj",
        "outputId": "dbb0c666-3238-4edc-f269-af86a3d9c5f6"
      },
      "execution_count": 296,
      "outputs": [
        {
          "output_type": "stream",
          "name": "stdout",
          "text": [
            "   Min. 1st Qu.  Median    Mean 3rd Qu.    Max. \n",
            "  13.23   39.60   59.70   77.60  100.90  287.59 \n",
            "     0%     25%     50%     75%    100% \n",
            " 13.230  39.600  59.705 100.900 287.590 \n",
            "[1] \"Média:\"\n"
          ]
        },
        {
          "output_type": "display_data",
          "data": {
            "text/plain": [
              "[1] 77.6005"
            ],
            "text/latex": "77.6005",
            "text/markdown": "77.6005",
            "text/html": [
              "77.6005"
            ]
          },
          "metadata": {}
        },
        {
          "output_type": "stream",
          "name": "stdout",
          "text": [
            "[1] \"Mediana:\"\n"
          ]
        },
        {
          "output_type": "display_data",
          "data": {
            "text/plain": [
              "[1] 59.705"
            ],
            "text/latex": "59.705",
            "text/markdown": "59.705",
            "text/html": [
              "59.705"
            ]
          },
          "metadata": {}
        },
        {
          "output_type": "stream",
          "name": "stdout",
          "text": [
            "[1] \"Desvio Padrão:\"\n"
          ]
        },
        {
          "output_type": "display_data",
          "data": {
            "text/plain": [
              "[1] 55.66494"
            ],
            "text/latex": "55.664938430349",
            "text/markdown": "55.664938430349",
            "text/html": [
              "55.664938430349"
            ]
          },
          "metadata": {}
        },
        {
          "output_type": "stream",
          "name": "stdout",
          "text": [
            "[1] \"Variância\"\n"
          ]
        },
        {
          "output_type": "display_data",
          "data": {
            "text/plain": [
              "[1] 3098.585"
            ],
            "text/latex": "3098.58537045455",
            "text/markdown": "3098.58537045455",
            "text/html": [
              "3098.58537045455"
            ]
          },
          "metadata": {}
        }
      ]
    },
    {
      "cell_type": "code",
      "source": [
        "# Create the function.\n",
        "getmode <- function(v) {\n",
        "   uniqv <- unique(v)\n",
        "   uniqv[which.max(tabulate(match(v, uniqv)))]\n",
        "}\n",
        "\n",
        "# Create the vector with numbers.\n",
        "v <- e_vendas\n",
        "\n",
        "# Calculate the mode using the user function.\n",
        "result <- getmode(v)\n",
        "print(result)\n"
      ],
      "metadata": {
        "colab": {
          "base_uri": "https://localhost:8080/"
        },
        "id": "NotmtoIZoqtO",
        "outputId": "259f3551-f6be-4104-ae4d-c793f67ee1a8"
      },
      "execution_count": 228,
      "outputs": [
        {
          "output_type": "stream",
          "name": "stdout",
          "text": [
            "[1] 31.6\n"
          ]
        }
      ]
    },
    {
      "cell_type": "markdown",
      "source": [
        "#### Variável \"Idade\". Determinando:\n",
        "Quartis;\n",
        "Percentis;\n",
        "Média;\n",
        "Mediana;\n",
        "Desvio Padrão;\n",
        "Variança;\n",
        "Moda.\n"
      ],
      "metadata": {
        "id": "vUnQT_79snef"
      }
    },
    {
      "cell_type": "code",
      "source": [
        "e_idade = dados$Idade\n",
        "e_idade"
      ],
      "metadata": {
        "colab": {
          "base_uri": "https://localhost:8080/",
          "height": 52
        },
        "id": "gyBHtFwSPD4n",
        "outputId": "4cb90711-8ea0-4f05-e22b-aeceaf6a10d0"
      },
      "execution_count": 229,
      "outputs": [
        {
          "output_type": "display_data",
          "data": {
            "text/plain": [
              "  [1] 32 36 32 28 34 44 30 40 46 36 48 40 40 46 24 36 22 40 32 56 28 38 50 42 48\n",
              " [26] 60 54 42 32 70 28 52 44 34 56 36 42 50 44 58 42 46 48 54 38 60 46 30 32 46\n",
              " [51] 38 68 78 20 32 38 54 48 46 50 46 30 54 42 48 62 34 28 46 54 30 32 22 32 74\n",
              " [76] 62 42 28 38 54 68 30 36 44 44 62 48 36 20 42 54 54 72 30 46 44 30 52 30 44"
            ],
            "text/latex": "\\begin{enumerate*}\n\\item 32\n\\item 36\n\\item 32\n\\item 28\n\\item 34\n\\item 44\n\\item 30\n\\item 40\n\\item 46\n\\item 36\n\\item 48\n\\item 40\n\\item 40\n\\item 46\n\\item 24\n\\item 36\n\\item 22\n\\item 40\n\\item 32\n\\item 56\n\\item 28\n\\item 38\n\\item 50\n\\item 42\n\\item 48\n\\item 60\n\\item 54\n\\item 42\n\\item 32\n\\item 70\n\\item 28\n\\item 52\n\\item 44\n\\item 34\n\\item 56\n\\item 36\n\\item 42\n\\item 50\n\\item 44\n\\item 58\n\\item 42\n\\item 46\n\\item 48\n\\item 54\n\\item 38\n\\item 60\n\\item 46\n\\item 30\n\\item 32\n\\item 46\n\\item 38\n\\item 68\n\\item 78\n\\item 20\n\\item 32\n\\item 38\n\\item 54\n\\item 48\n\\item 46\n\\item 50\n\\item 46\n\\item 30\n\\item 54\n\\item 42\n\\item 48\n\\item 62\n\\item 34\n\\item 28\n\\item 46\n\\item 54\n\\item 30\n\\item 32\n\\item 22\n\\item 32\n\\item 74\n\\item 62\n\\item 42\n\\item 28\n\\item 38\n\\item 54\n\\item 68\n\\item 30\n\\item 36\n\\item 44\n\\item 44\n\\item 62\n\\item 48\n\\item 36\n\\item 20\n\\item 42\n\\item 54\n\\item 54\n\\item 72\n\\item 30\n\\item 46\n\\item 44\n\\item 30\n\\item 52\n\\item 30\n\\item 44\n\\end{enumerate*}\n",
            "text/markdown": "1. 32\n2. 36\n3. 32\n4. 28\n5. 34\n6. 44\n7. 30\n8. 40\n9. 46\n10. 36\n11. 48\n12. 40\n13. 40\n14. 46\n15. 24\n16. 36\n17. 22\n18. 40\n19. 32\n20. 56\n21. 28\n22. 38\n23. 50\n24. 42\n25. 48\n26. 60\n27. 54\n28. 42\n29. 32\n30. 70\n31. 28\n32. 52\n33. 44\n34. 34\n35. 56\n36. 36\n37. 42\n38. 50\n39. 44\n40. 58\n41. 42\n42. 46\n43. 48\n44. 54\n45. 38\n46. 60\n47. 46\n48. 30\n49. 32\n50. 46\n51. 38\n52. 68\n53. 78\n54. 20\n55. 32\n56. 38\n57. 54\n58. 48\n59. 46\n60. 50\n61. 46\n62. 30\n63. 54\n64. 42\n65. 48\n66. 62\n67. 34\n68. 28\n69. 46\n70. 54\n71. 30\n72. 32\n73. 22\n74. 32\n75. 74\n76. 62\n77. 42\n78. 28\n79. 38\n80. 54\n81. 68\n82. 30\n83. 36\n84. 44\n85. 44\n86. 62\n87. 48\n88. 36\n89. 20\n90. 42\n91. 54\n92. 54\n93. 72\n94. 30\n95. 46\n96. 44\n97. 30\n98. 52\n99. 30\n100. 44\n\n\n",
            "text/html": [
              "<style>\n",
              ".list-inline {list-style: none; margin:0; padding: 0}\n",
              ".list-inline>li {display: inline-block}\n",
              ".list-inline>li:not(:last-child)::after {content: \"\\00b7\"; padding: 0 .5ex}\n",
              "</style>\n",
              "<ol class=list-inline><li>32</li><li>36</li><li>32</li><li>28</li><li>34</li><li>44</li><li>30</li><li>40</li><li>46</li><li>36</li><li>48</li><li>40</li><li>40</li><li>46</li><li>24</li><li>36</li><li>22</li><li>40</li><li>32</li><li>56</li><li>28</li><li>38</li><li>50</li><li>42</li><li>48</li><li>60</li><li>54</li><li>42</li><li>32</li><li>70</li><li>28</li><li>52</li><li>44</li><li>34</li><li>56</li><li>36</li><li>42</li><li>50</li><li>44</li><li>58</li><li>42</li><li>46</li><li>48</li><li>54</li><li>38</li><li>60</li><li>46</li><li>30</li><li>32</li><li>46</li><li>38</li><li>68</li><li>78</li><li>20</li><li>32</li><li>38</li><li>54</li><li>48</li><li>46</li><li>50</li><li>46</li><li>30</li><li>54</li><li>42</li><li>48</li><li>62</li><li>34</li><li>28</li><li>46</li><li>54</li><li>30</li><li>32</li><li>22</li><li>32</li><li>74</li><li>62</li><li>42</li><li>28</li><li>38</li><li>54</li><li>68</li><li>30</li><li>36</li><li>44</li><li>44</li><li>62</li><li>48</li><li>36</li><li>20</li><li>42</li><li>54</li><li>54</li><li>72</li><li>30</li><li>46</li><li>44</li><li>30</li><li>52</li><li>30</li><li>44</li></ol>\n"
            ]
          },
          "metadata": {}
        }
      ]
    },
    {
      "cell_type": "code",
      "source": [
        "print(summary(e_idade))#Quartis\n",
        "print(quantile(e_idade))\n",
        "print(\"Média:\") \n",
        "mean (e_idade) #Média\n",
        "print(\"Mediana:\") \n",
        "median(e_idade) #Mediana\n",
        "print(\"Desvio Padrão:\") \n",
        "sd(e_idade) #Desvio Padrão\n",
        "print(\"Variância\") \n",
        "var(e_idade) #Variância "
      ],
      "metadata": {
        "colab": {
          "base_uri": "https://localhost:8080/",
          "height": 226
        },
        "id": "S0wyozaNKhTh",
        "outputId": "cd66f3b0-0607-4b7f-80c1-a014df4aa83b"
      },
      "execution_count": 297,
      "outputs": [
        {
          "output_type": "stream",
          "name": "stdout",
          "text": [
            "   Min. 1st Qu.  Median    Mean 3rd Qu.    Max. \n",
            "  20.00   32.00   42.00   43.08   50.00   78.00 \n",
            "  0%  25%  50%  75% 100% \n",
            "  20   32   42   50   78 \n",
            "[1] \"Média:\"\n"
          ]
        },
        {
          "output_type": "display_data",
          "data": {
            "text/plain": [
              "[1] 43.08"
            ],
            "text/latex": "43.08",
            "text/markdown": "43.08",
            "text/html": [
              "43.08"
            ]
          },
          "metadata": {}
        },
        {
          "output_type": "stream",
          "name": "stdout",
          "text": [
            "[1] \"Mediana:\"\n"
          ]
        },
        {
          "output_type": "display_data",
          "data": {
            "text/plain": [
              "[1] 42"
            ],
            "text/latex": "42",
            "text/markdown": "42",
            "text/html": [
              "42"
            ]
          },
          "metadata": {}
        },
        {
          "output_type": "stream",
          "name": "stdout",
          "text": [
            "[1] \"Desvio Padrão:\"\n"
          ]
        },
        {
          "output_type": "display_data",
          "data": {
            "text/plain": [
              "[1] 12.38905"
            ],
            "text/latex": "12.3890469709532",
            "text/markdown": "12.3890469709532",
            "text/html": [
              "12.3890469709532"
            ]
          },
          "metadata": {}
        },
        {
          "output_type": "stream",
          "name": "stdout",
          "text": [
            "[1] \"Variância\"\n"
          ]
        },
        {
          "output_type": "display_data",
          "data": {
            "text/plain": [
              "[1] 153.4885"
            ],
            "text/latex": "153.488484848485",
            "text/markdown": "153.488484848485",
            "text/html": [
              "153.488484848485"
            ]
          },
          "metadata": {}
        }
      ]
    },
    {
      "cell_type": "code",
      "source": [
        "# Create the function.\n",
        "getmode <- function(v) {\n",
        "   uniqv <- unique(v)\n",
        "   uniqv[which.max(tabulate(match(v, uniqv)))]\n",
        "}\n",
        "\n",
        "# Create the vector with numbers.\n",
        "v <- e_idade\n",
        "\n",
        "# Calculate the mode using the user function.\n",
        "result <- getmode(v)\n",
        "print(result)\n"
      ],
      "metadata": {
        "colab": {
          "base_uri": "https://localhost:8080/"
        },
        "id": "UtYRUpNqoyVT",
        "outputId": "a56afd63-efe4-494c-df6e-69c94caf81a2"
      },
      "execution_count": 231,
      "outputs": [
        {
          "output_type": "stream",
          "name": "stdout",
          "text": [
            "[1] 46\n"
          ]
        }
      ]
    },
    {
      "cell_type": "markdown",
      "source": [
        "#Distribuição da Frequência"
      ],
      "metadata": {
        "id": "2ZrMh8rvqs7k"
      }
    },
    {
      "cell_type": "markdown",
      "source": [
        "####Filtro para: Tipo de Cliente"
      ],
      "metadata": {
        "id": "JzSshZzT2EHZ"
      }
    },
    {
      "cell_type": "code",
      "source": [
        "freq_tipo_cliente = dados$Tipo.de.Cliente\n",
        "freq_tipo_cliente"
      ],
      "metadata": {
        "colab": {
          "base_uri": "https://localhost:8080/",
          "height": 138
        },
        "id": "moX0jrWsqUNc",
        "outputId": "e6f83035-c4d2-406d-89cf-1b6046f42254"
      },
      "execution_count": 232,
      "outputs": [
        {
          "output_type": "display_data",
          "data": {
            "text/plain": [
              "  [1] \"Regular\"     \"Promocional\" \"Regular\"     \"Promocional\" \"Regular\"    \n",
              "  [6] \"Regular\"     \"Promocional\" \"Regular\"     \"Promocional\" \"Regular\"    \n",
              " [11] \"Regular\"     \"Promocional\" \"Promocional\" \"Promocional\" \"Regular\"    \n",
              " [16] \"Promocional\" \"Promocional\" \"Regular\"     \"Promocional\" \"Promocional\"\n",
              " [21] \"Promocional\" \"Promocional\" \"Promocional\" \"Regular\"     \"Promocional\"\n",
              " [26] \"Promocional\" \"Regular\"     \"Promocional\" \"Promocional\" \"Promocional\"\n",
              " [31] \"Promocional\" \"Regular\"     \"Promocional\" \"Regular\"     \"Promocional\"\n",
              " [36] \"Regular\"     \"Regular\"     \"Promocional\" \"Promocional\" \"Regular\"    \n",
              " [41] \"Promocional\" \"Promocional\" \"Regular\"     \"Promocional\" \"Promocional\"\n",
              " [46] \"Promocional\" \"Regular\"     \"Promocional\" \"Promocional\" \"Promocional\"\n",
              " [51] \"Promocional\" \"Promocional\" \"Regular\"     \"Regular\"     \"Regular\"    \n",
              " [56] \"Promocional\" \"Promocional\" \"Promocional\" \"Promocional\" \"Promocional\"\n",
              " [61] \"Promocional\" \"Promocional\" \"Promocional\" \"Promocional\" \"Promocional\"\n",
              " [66] \"Promocional\" \"Promocional\" \"Promocional\" \"Promocional\" \"Promocional\"\n",
              " [71] \"Promocional\" \"Promocional\" \"Regular\"     \"Promocional\" \"Promocional\"\n",
              " [76] \"Promocional\" \"Regular\"     \"Promocional\" \"Promocional\" \"Regular\"    \n",
              " [81] \"Promocional\" \"Promocional\" \"Promocional\" \"Promocional\" \"Regular\"    \n",
              " [86] \"Promocional\" \"Regular\"     \"Regular\"     \"Promocional\" \"Promocional\"\n",
              " [91] \"Promocional\" \"Promocional\" \"Regular\"     \"Promocional\" \"Regular\"    \n",
              " [96] \"Regular\"     \"Promocional\" \"Promocional\" \"Promocional\" \"Promocional\""
            ],
            "text/latex": "\\begin{enumerate*}\n\\item 'Regular'\n\\item 'Promocional'\n\\item 'Regular'\n\\item 'Promocional'\n\\item 'Regular'\n\\item 'Regular'\n\\item 'Promocional'\n\\item 'Regular'\n\\item 'Promocional'\n\\item 'Regular'\n\\item 'Regular'\n\\item 'Promocional'\n\\item 'Promocional'\n\\item 'Promocional'\n\\item 'Regular'\n\\item 'Promocional'\n\\item 'Promocional'\n\\item 'Regular'\n\\item 'Promocional'\n\\item 'Promocional'\n\\item 'Promocional'\n\\item 'Promocional'\n\\item 'Promocional'\n\\item 'Regular'\n\\item 'Promocional'\n\\item 'Promocional'\n\\item 'Regular'\n\\item 'Promocional'\n\\item 'Promocional'\n\\item 'Promocional'\n\\item 'Promocional'\n\\item 'Regular'\n\\item 'Promocional'\n\\item 'Regular'\n\\item 'Promocional'\n\\item 'Regular'\n\\item 'Regular'\n\\item 'Promocional'\n\\item 'Promocional'\n\\item 'Regular'\n\\item 'Promocional'\n\\item 'Promocional'\n\\item 'Regular'\n\\item 'Promocional'\n\\item 'Promocional'\n\\item 'Promocional'\n\\item 'Regular'\n\\item 'Promocional'\n\\item 'Promocional'\n\\item 'Promocional'\n\\item 'Promocional'\n\\item 'Promocional'\n\\item 'Regular'\n\\item 'Regular'\n\\item 'Regular'\n\\item 'Promocional'\n\\item 'Promocional'\n\\item 'Promocional'\n\\item 'Promocional'\n\\item 'Promocional'\n\\item 'Promocional'\n\\item 'Promocional'\n\\item 'Promocional'\n\\item 'Promocional'\n\\item 'Promocional'\n\\item 'Promocional'\n\\item 'Promocional'\n\\item 'Promocional'\n\\item 'Promocional'\n\\item 'Promocional'\n\\item 'Promocional'\n\\item 'Promocional'\n\\item 'Regular'\n\\item 'Promocional'\n\\item 'Promocional'\n\\item 'Promocional'\n\\item 'Regular'\n\\item 'Promocional'\n\\item 'Promocional'\n\\item 'Regular'\n\\item 'Promocional'\n\\item 'Promocional'\n\\item 'Promocional'\n\\item 'Promocional'\n\\item 'Regular'\n\\item 'Promocional'\n\\item 'Regular'\n\\item 'Regular'\n\\item 'Promocional'\n\\item 'Promocional'\n\\item 'Promocional'\n\\item 'Promocional'\n\\item 'Regular'\n\\item 'Promocional'\n\\item 'Regular'\n\\item 'Regular'\n\\item 'Promocional'\n\\item 'Promocional'\n\\item 'Promocional'\n\\item 'Promocional'\n\\end{enumerate*}\n",
            "text/markdown": "1. 'Regular'\n2. 'Promocional'\n3. 'Regular'\n4. 'Promocional'\n5. 'Regular'\n6. 'Regular'\n7. 'Promocional'\n8. 'Regular'\n9. 'Promocional'\n10. 'Regular'\n11. 'Regular'\n12. 'Promocional'\n13. 'Promocional'\n14. 'Promocional'\n15. 'Regular'\n16. 'Promocional'\n17. 'Promocional'\n18. 'Regular'\n19. 'Promocional'\n20. 'Promocional'\n21. 'Promocional'\n22. 'Promocional'\n23. 'Promocional'\n24. 'Regular'\n25. 'Promocional'\n26. 'Promocional'\n27. 'Regular'\n28. 'Promocional'\n29. 'Promocional'\n30. 'Promocional'\n31. 'Promocional'\n32. 'Regular'\n33. 'Promocional'\n34. 'Regular'\n35. 'Promocional'\n36. 'Regular'\n37. 'Regular'\n38. 'Promocional'\n39. 'Promocional'\n40. 'Regular'\n41. 'Promocional'\n42. 'Promocional'\n43. 'Regular'\n44. 'Promocional'\n45. 'Promocional'\n46. 'Promocional'\n47. 'Regular'\n48. 'Promocional'\n49. 'Promocional'\n50. 'Promocional'\n51. 'Promocional'\n52. 'Promocional'\n53. 'Regular'\n54. 'Regular'\n55. 'Regular'\n56. 'Promocional'\n57. 'Promocional'\n58. 'Promocional'\n59. 'Promocional'\n60. 'Promocional'\n61. 'Promocional'\n62. 'Promocional'\n63. 'Promocional'\n64. 'Promocional'\n65. 'Promocional'\n66. 'Promocional'\n67. 'Promocional'\n68. 'Promocional'\n69. 'Promocional'\n70. 'Promocional'\n71. 'Promocional'\n72. 'Promocional'\n73. 'Regular'\n74. 'Promocional'\n75. 'Promocional'\n76. 'Promocional'\n77. 'Regular'\n78. 'Promocional'\n79. 'Promocional'\n80. 'Regular'\n81. 'Promocional'\n82. 'Promocional'\n83. 'Promocional'\n84. 'Promocional'\n85. 'Regular'\n86. 'Promocional'\n87. 'Regular'\n88. 'Regular'\n89. 'Promocional'\n90. 'Promocional'\n91. 'Promocional'\n92. 'Promocional'\n93. 'Regular'\n94. 'Promocional'\n95. 'Regular'\n96. 'Regular'\n97. 'Promocional'\n98. 'Promocional'\n99. 'Promocional'\n100. 'Promocional'\n\n\n",
            "text/html": [
              "<style>\n",
              ".list-inline {list-style: none; margin:0; padding: 0}\n",
              ".list-inline>li {display: inline-block}\n",
              ".list-inline>li:not(:last-child)::after {content: \"\\00b7\"; padding: 0 .5ex}\n",
              "</style>\n",
              "<ol class=list-inline><li>'Regular'</li><li>'Promocional'</li><li>'Regular'</li><li>'Promocional'</li><li>'Regular'</li><li>'Regular'</li><li>'Promocional'</li><li>'Regular'</li><li>'Promocional'</li><li>'Regular'</li><li>'Regular'</li><li>'Promocional'</li><li>'Promocional'</li><li>'Promocional'</li><li>'Regular'</li><li>'Promocional'</li><li>'Promocional'</li><li>'Regular'</li><li>'Promocional'</li><li>'Promocional'</li><li>'Promocional'</li><li>'Promocional'</li><li>'Promocional'</li><li>'Regular'</li><li>'Promocional'</li><li>'Promocional'</li><li>'Regular'</li><li>'Promocional'</li><li>'Promocional'</li><li>'Promocional'</li><li>'Promocional'</li><li>'Regular'</li><li>'Promocional'</li><li>'Regular'</li><li>'Promocional'</li><li>'Regular'</li><li>'Regular'</li><li>'Promocional'</li><li>'Promocional'</li><li>'Regular'</li><li>'Promocional'</li><li>'Promocional'</li><li>'Regular'</li><li>'Promocional'</li><li>'Promocional'</li><li>'Promocional'</li><li>'Regular'</li><li>'Promocional'</li><li>'Promocional'</li><li>'Promocional'</li><li>'Promocional'</li><li>'Promocional'</li><li>'Regular'</li><li>'Regular'</li><li>'Regular'</li><li>'Promocional'</li><li>'Promocional'</li><li>'Promocional'</li><li>'Promocional'</li><li>'Promocional'</li><li>'Promocional'</li><li>'Promocional'</li><li>'Promocional'</li><li>'Promocional'</li><li>'Promocional'</li><li>'Promocional'</li><li>'Promocional'</li><li>'Promocional'</li><li>'Promocional'</li><li>'Promocional'</li><li>'Promocional'</li><li>'Promocional'</li><li>'Regular'</li><li>'Promocional'</li><li>'Promocional'</li><li>'Promocional'</li><li>'Regular'</li><li>'Promocional'</li><li>'Promocional'</li><li>'Regular'</li><li>'Promocional'</li><li>'Promocional'</li><li>'Promocional'</li><li>'Promocional'</li><li>'Regular'</li><li>'Promocional'</li><li>'Regular'</li><li>'Regular'</li><li>'Promocional'</li><li>'Promocional'</li><li>'Promocional'</li><li>'Promocional'</li><li>'Regular'</li><li>'Promocional'</li><li>'Regular'</li><li>'Regular'</li><li>'Promocional'</li><li>'Promocional'</li><li>'Promocional'</li><li>'Promocional'</li></ol>\n"
            ]
          },
          "metadata": {}
        }
      ]
    },
    {
      "cell_type": "code",
      "source": [
        "cont_freq_cliente1 = str_replace(freq_tipo_cliente,\n",
        "            pattern = \"Regular\", \n",
        "            replacement = \"1\")\n",
        "cont_freq_cliente1            "
      ],
      "metadata": {
        "colab": {
          "base_uri": "https://localhost:8080/",
          "height": 121
        },
        "id": "vo-0fujzrHk6",
        "outputId": "fd949f56-f639-46b1-c31a-a2307d2361b3"
      },
      "execution_count": 233,
      "outputs": [
        {
          "output_type": "display_data",
          "data": {
            "text/plain": [
              "  [1] \"1\"           \"Promocional\" \"1\"           \"Promocional\" \"1\"          \n",
              "  [6] \"1\"           \"Promocional\" \"1\"           \"Promocional\" \"1\"          \n",
              " [11] \"1\"           \"Promocional\" \"Promocional\" \"Promocional\" \"1\"          \n",
              " [16] \"Promocional\" \"Promocional\" \"1\"           \"Promocional\" \"Promocional\"\n",
              " [21] \"Promocional\" \"Promocional\" \"Promocional\" \"1\"           \"Promocional\"\n",
              " [26] \"Promocional\" \"1\"           \"Promocional\" \"Promocional\" \"Promocional\"\n",
              " [31] \"Promocional\" \"1\"           \"Promocional\" \"1\"           \"Promocional\"\n",
              " [36] \"1\"           \"1\"           \"Promocional\" \"Promocional\" \"1\"          \n",
              " [41] \"Promocional\" \"Promocional\" \"1\"           \"Promocional\" \"Promocional\"\n",
              " [46] \"Promocional\" \"1\"           \"Promocional\" \"Promocional\" \"Promocional\"\n",
              " [51] \"Promocional\" \"Promocional\" \"1\"           \"1\"           \"1\"          \n",
              " [56] \"Promocional\" \"Promocional\" \"Promocional\" \"Promocional\" \"Promocional\"\n",
              " [61] \"Promocional\" \"Promocional\" \"Promocional\" \"Promocional\" \"Promocional\"\n",
              " [66] \"Promocional\" \"Promocional\" \"Promocional\" \"Promocional\" \"Promocional\"\n",
              " [71] \"Promocional\" \"Promocional\" \"1\"           \"Promocional\" \"Promocional\"\n",
              " [76] \"Promocional\" \"1\"           \"Promocional\" \"Promocional\" \"1\"          \n",
              " [81] \"Promocional\" \"Promocional\" \"Promocional\" \"Promocional\" \"1\"          \n",
              " [86] \"Promocional\" \"1\"           \"1\"           \"Promocional\" \"Promocional\"\n",
              " [91] \"Promocional\" \"Promocional\" \"1\"           \"Promocional\" \"1\"          \n",
              " [96] \"1\"           \"Promocional\" \"Promocional\" \"Promocional\" \"Promocional\""
            ],
            "text/latex": "\\begin{enumerate*}\n\\item '1'\n\\item 'Promocional'\n\\item '1'\n\\item 'Promocional'\n\\item '1'\n\\item '1'\n\\item 'Promocional'\n\\item '1'\n\\item 'Promocional'\n\\item '1'\n\\item '1'\n\\item 'Promocional'\n\\item 'Promocional'\n\\item 'Promocional'\n\\item '1'\n\\item 'Promocional'\n\\item 'Promocional'\n\\item '1'\n\\item 'Promocional'\n\\item 'Promocional'\n\\item 'Promocional'\n\\item 'Promocional'\n\\item 'Promocional'\n\\item '1'\n\\item 'Promocional'\n\\item 'Promocional'\n\\item '1'\n\\item 'Promocional'\n\\item 'Promocional'\n\\item 'Promocional'\n\\item 'Promocional'\n\\item '1'\n\\item 'Promocional'\n\\item '1'\n\\item 'Promocional'\n\\item '1'\n\\item '1'\n\\item 'Promocional'\n\\item 'Promocional'\n\\item '1'\n\\item 'Promocional'\n\\item 'Promocional'\n\\item '1'\n\\item 'Promocional'\n\\item 'Promocional'\n\\item 'Promocional'\n\\item '1'\n\\item 'Promocional'\n\\item 'Promocional'\n\\item 'Promocional'\n\\item 'Promocional'\n\\item 'Promocional'\n\\item '1'\n\\item '1'\n\\item '1'\n\\item 'Promocional'\n\\item 'Promocional'\n\\item 'Promocional'\n\\item 'Promocional'\n\\item 'Promocional'\n\\item 'Promocional'\n\\item 'Promocional'\n\\item 'Promocional'\n\\item 'Promocional'\n\\item 'Promocional'\n\\item 'Promocional'\n\\item 'Promocional'\n\\item 'Promocional'\n\\item 'Promocional'\n\\item 'Promocional'\n\\item 'Promocional'\n\\item 'Promocional'\n\\item '1'\n\\item 'Promocional'\n\\item 'Promocional'\n\\item 'Promocional'\n\\item '1'\n\\item 'Promocional'\n\\item 'Promocional'\n\\item '1'\n\\item 'Promocional'\n\\item 'Promocional'\n\\item 'Promocional'\n\\item 'Promocional'\n\\item '1'\n\\item 'Promocional'\n\\item '1'\n\\item '1'\n\\item 'Promocional'\n\\item 'Promocional'\n\\item 'Promocional'\n\\item 'Promocional'\n\\item '1'\n\\item 'Promocional'\n\\item '1'\n\\item '1'\n\\item 'Promocional'\n\\item 'Promocional'\n\\item 'Promocional'\n\\item 'Promocional'\n\\end{enumerate*}\n",
            "text/markdown": "1. '1'\n2. 'Promocional'\n3. '1'\n4. 'Promocional'\n5. '1'\n6. '1'\n7. 'Promocional'\n8. '1'\n9. 'Promocional'\n10. '1'\n11. '1'\n12. 'Promocional'\n13. 'Promocional'\n14. 'Promocional'\n15. '1'\n16. 'Promocional'\n17. 'Promocional'\n18. '1'\n19. 'Promocional'\n20. 'Promocional'\n21. 'Promocional'\n22. 'Promocional'\n23. 'Promocional'\n24. '1'\n25. 'Promocional'\n26. 'Promocional'\n27. '1'\n28. 'Promocional'\n29. 'Promocional'\n30. 'Promocional'\n31. 'Promocional'\n32. '1'\n33. 'Promocional'\n34. '1'\n35. 'Promocional'\n36. '1'\n37. '1'\n38. 'Promocional'\n39. 'Promocional'\n40. '1'\n41. 'Promocional'\n42. 'Promocional'\n43. '1'\n44. 'Promocional'\n45. 'Promocional'\n46. 'Promocional'\n47. '1'\n48. 'Promocional'\n49. 'Promocional'\n50. 'Promocional'\n51. 'Promocional'\n52. 'Promocional'\n53. '1'\n54. '1'\n55. '1'\n56. 'Promocional'\n57. 'Promocional'\n58. 'Promocional'\n59. 'Promocional'\n60. 'Promocional'\n61. 'Promocional'\n62. 'Promocional'\n63. 'Promocional'\n64. 'Promocional'\n65. 'Promocional'\n66. 'Promocional'\n67. 'Promocional'\n68. 'Promocional'\n69. 'Promocional'\n70. 'Promocional'\n71. 'Promocional'\n72. 'Promocional'\n73. '1'\n74. 'Promocional'\n75. 'Promocional'\n76. 'Promocional'\n77. '1'\n78. 'Promocional'\n79. 'Promocional'\n80. '1'\n81. 'Promocional'\n82. 'Promocional'\n83. 'Promocional'\n84. 'Promocional'\n85. '1'\n86. 'Promocional'\n87. '1'\n88. '1'\n89. 'Promocional'\n90. 'Promocional'\n91. 'Promocional'\n92. 'Promocional'\n93. '1'\n94. 'Promocional'\n95. '1'\n96. '1'\n97. 'Promocional'\n98. 'Promocional'\n99. 'Promocional'\n100. 'Promocional'\n\n\n",
            "text/html": [
              "<style>\n",
              ".list-inline {list-style: none; margin:0; padding: 0}\n",
              ".list-inline>li {display: inline-block}\n",
              ".list-inline>li:not(:last-child)::after {content: \"\\00b7\"; padding: 0 .5ex}\n",
              "</style>\n",
              "<ol class=list-inline><li>'1'</li><li>'Promocional'</li><li>'1'</li><li>'Promocional'</li><li>'1'</li><li>'1'</li><li>'Promocional'</li><li>'1'</li><li>'Promocional'</li><li>'1'</li><li>'1'</li><li>'Promocional'</li><li>'Promocional'</li><li>'Promocional'</li><li>'1'</li><li>'Promocional'</li><li>'Promocional'</li><li>'1'</li><li>'Promocional'</li><li>'Promocional'</li><li>'Promocional'</li><li>'Promocional'</li><li>'Promocional'</li><li>'1'</li><li>'Promocional'</li><li>'Promocional'</li><li>'1'</li><li>'Promocional'</li><li>'Promocional'</li><li>'Promocional'</li><li>'Promocional'</li><li>'1'</li><li>'Promocional'</li><li>'1'</li><li>'Promocional'</li><li>'1'</li><li>'1'</li><li>'Promocional'</li><li>'Promocional'</li><li>'1'</li><li>'Promocional'</li><li>'Promocional'</li><li>'1'</li><li>'Promocional'</li><li>'Promocional'</li><li>'Promocional'</li><li>'1'</li><li>'Promocional'</li><li>'Promocional'</li><li>'Promocional'</li><li>'Promocional'</li><li>'Promocional'</li><li>'1'</li><li>'1'</li><li>'1'</li><li>'Promocional'</li><li>'Promocional'</li><li>'Promocional'</li><li>'Promocional'</li><li>'Promocional'</li><li>'Promocional'</li><li>'Promocional'</li><li>'Promocional'</li><li>'Promocional'</li><li>'Promocional'</li><li>'Promocional'</li><li>'Promocional'</li><li>'Promocional'</li><li>'Promocional'</li><li>'Promocional'</li><li>'Promocional'</li><li>'Promocional'</li><li>'1'</li><li>'Promocional'</li><li>'Promocional'</li><li>'Promocional'</li><li>'1'</li><li>'Promocional'</li><li>'Promocional'</li><li>'1'</li><li>'Promocional'</li><li>'Promocional'</li><li>'Promocional'</li><li>'Promocional'</li><li>'1'</li><li>'Promocional'</li><li>'1'</li><li>'1'</li><li>'Promocional'</li><li>'Promocional'</li><li>'Promocional'</li><li>'Promocional'</li><li>'1'</li><li>'Promocional'</li><li>'1'</li><li>'1'</li><li>'Promocional'</li><li>'Promocional'</li><li>'Promocional'</li><li>'Promocional'</li></ol>\n"
            ]
          },
          "metadata": {}
        }
      ]
    },
    {
      "cell_type": "code",
      "source": [
        "cont_freq_cliente2 = str_replace(cont_freq_cliente,\n",
        "            pattern = \"Promocional\",\n",
        "            replacement = \"2\")\n",
        "cont_freq_cliente2"
      ],
      "metadata": {
        "colab": {
          "base_uri": "https://localhost:8080/",
          "height": 52
        },
        "id": "XVD9sayVrNlp",
        "outputId": "831157e2-0159-437c-c21a-956c282f0881"
      },
      "execution_count": 234,
      "outputs": [
        {
          "output_type": "display_data",
          "data": {
            "text/plain": [
              "  [1] \"1\" \"2\" \"1\" \"2\" \"1\" \"1\" \"2\" \"1\" \"2\" \"1\" \"1\" \"2\" \"2\" \"2\" \"1\" \"2\" \"2\" \"1\"\n",
              " [19] \"2\" \"2\" \"2\" \"2\" \"2\" \"1\" \"2\" \"2\" \"1\" \"2\" \"2\" \"2\" \"2\" \"1\" \"2\" \"1\" \"2\" \"1\"\n",
              " [37] \"1\" \"2\" \"2\" \"1\" \"2\" \"2\" \"1\" \"2\" \"2\" \"2\" \"1\" \"2\" \"2\" \"2\" \"2\" \"2\" \"1\" \"1\"\n",
              " [55] \"1\" \"2\" \"2\" \"2\" \"2\" \"2\" \"2\" \"2\" \"2\" \"2\" \"2\" \"2\" \"2\" \"2\" \"2\" \"2\" \"2\" \"2\"\n",
              " [73] \"1\" \"2\" \"2\" \"2\" \"1\" \"2\" \"2\" \"1\" \"2\" \"2\" \"2\" \"2\" \"1\" \"2\" \"1\" \"1\" \"2\" \"2\"\n",
              " [91] \"2\" \"2\" \"1\" \"2\" \"1\" \"1\" \"2\" \"2\" \"2\" \"2\""
            ],
            "text/latex": "\\begin{enumerate*}\n\\item '1'\n\\item '2'\n\\item '1'\n\\item '2'\n\\item '1'\n\\item '1'\n\\item '2'\n\\item '1'\n\\item '2'\n\\item '1'\n\\item '1'\n\\item '2'\n\\item '2'\n\\item '2'\n\\item '1'\n\\item '2'\n\\item '2'\n\\item '1'\n\\item '2'\n\\item '2'\n\\item '2'\n\\item '2'\n\\item '2'\n\\item '1'\n\\item '2'\n\\item '2'\n\\item '1'\n\\item '2'\n\\item '2'\n\\item '2'\n\\item '2'\n\\item '1'\n\\item '2'\n\\item '1'\n\\item '2'\n\\item '1'\n\\item '1'\n\\item '2'\n\\item '2'\n\\item '1'\n\\item '2'\n\\item '2'\n\\item '1'\n\\item '2'\n\\item '2'\n\\item '2'\n\\item '1'\n\\item '2'\n\\item '2'\n\\item '2'\n\\item '2'\n\\item '2'\n\\item '1'\n\\item '1'\n\\item '1'\n\\item '2'\n\\item '2'\n\\item '2'\n\\item '2'\n\\item '2'\n\\item '2'\n\\item '2'\n\\item '2'\n\\item '2'\n\\item '2'\n\\item '2'\n\\item '2'\n\\item '2'\n\\item '2'\n\\item '2'\n\\item '2'\n\\item '2'\n\\item '1'\n\\item '2'\n\\item '2'\n\\item '2'\n\\item '1'\n\\item '2'\n\\item '2'\n\\item '1'\n\\item '2'\n\\item '2'\n\\item '2'\n\\item '2'\n\\item '1'\n\\item '2'\n\\item '1'\n\\item '1'\n\\item '2'\n\\item '2'\n\\item '2'\n\\item '2'\n\\item '1'\n\\item '2'\n\\item '1'\n\\item '1'\n\\item '2'\n\\item '2'\n\\item '2'\n\\item '2'\n\\end{enumerate*}\n",
            "text/markdown": "1. '1'\n2. '2'\n3. '1'\n4. '2'\n5. '1'\n6. '1'\n7. '2'\n8. '1'\n9. '2'\n10. '1'\n11. '1'\n12. '2'\n13. '2'\n14. '2'\n15. '1'\n16. '2'\n17. '2'\n18. '1'\n19. '2'\n20. '2'\n21. '2'\n22. '2'\n23. '2'\n24. '1'\n25. '2'\n26. '2'\n27. '1'\n28. '2'\n29. '2'\n30. '2'\n31. '2'\n32. '1'\n33. '2'\n34. '1'\n35. '2'\n36. '1'\n37. '1'\n38. '2'\n39. '2'\n40. '1'\n41. '2'\n42. '2'\n43. '1'\n44. '2'\n45. '2'\n46. '2'\n47. '1'\n48. '2'\n49. '2'\n50. '2'\n51. '2'\n52. '2'\n53. '1'\n54. '1'\n55. '1'\n56. '2'\n57. '2'\n58. '2'\n59. '2'\n60. '2'\n61. '2'\n62. '2'\n63. '2'\n64. '2'\n65. '2'\n66. '2'\n67. '2'\n68. '2'\n69. '2'\n70. '2'\n71. '2'\n72. '2'\n73. '1'\n74. '2'\n75. '2'\n76. '2'\n77. '1'\n78. '2'\n79. '2'\n80. '1'\n81. '2'\n82. '2'\n83. '2'\n84. '2'\n85. '1'\n86. '2'\n87. '1'\n88. '1'\n89. '2'\n90. '2'\n91. '2'\n92. '2'\n93. '1'\n94. '2'\n95. '1'\n96. '1'\n97. '2'\n98. '2'\n99. '2'\n100. '2'\n\n\n",
            "text/html": [
              "<style>\n",
              ".list-inline {list-style: none; margin:0; padding: 0}\n",
              ".list-inline>li {display: inline-block}\n",
              ".list-inline>li:not(:last-child)::after {content: \"\\00b7\"; padding: 0 .5ex}\n",
              "</style>\n",
              "<ol class=list-inline><li>'1'</li><li>'2'</li><li>'1'</li><li>'2'</li><li>'1'</li><li>'1'</li><li>'2'</li><li>'1'</li><li>'2'</li><li>'1'</li><li>'1'</li><li>'2'</li><li>'2'</li><li>'2'</li><li>'1'</li><li>'2'</li><li>'2'</li><li>'1'</li><li>'2'</li><li>'2'</li><li>'2'</li><li>'2'</li><li>'2'</li><li>'1'</li><li>'2'</li><li>'2'</li><li>'1'</li><li>'2'</li><li>'2'</li><li>'2'</li><li>'2'</li><li>'1'</li><li>'2'</li><li>'1'</li><li>'2'</li><li>'1'</li><li>'1'</li><li>'2'</li><li>'2'</li><li>'1'</li><li>'2'</li><li>'2'</li><li>'1'</li><li>'2'</li><li>'2'</li><li>'2'</li><li>'1'</li><li>'2'</li><li>'2'</li><li>'2'</li><li>'2'</li><li>'2'</li><li>'1'</li><li>'1'</li><li>'1'</li><li>'2'</li><li>'2'</li><li>'2'</li><li>'2'</li><li>'2'</li><li>'2'</li><li>'2'</li><li>'2'</li><li>'2'</li><li>'2'</li><li>'2'</li><li>'2'</li><li>'2'</li><li>'2'</li><li>'2'</li><li>'2'</li><li>'2'</li><li>'1'</li><li>'2'</li><li>'2'</li><li>'2'</li><li>'1'</li><li>'2'</li><li>'2'</li><li>'1'</li><li>'2'</li><li>'2'</li><li>'2'</li><li>'2'</li><li>'1'</li><li>'2'</li><li>'1'</li><li>'1'</li><li>'2'</li><li>'2'</li><li>'2'</li><li>'2'</li><li>'1'</li><li>'2'</li><li>'1'</li><li>'1'</li><li>'2'</li><li>'2'</li><li>'2'</li><li>'2'</li></ol>\n"
            ]
          },
          "metadata": {}
        }
      ]
    },
    {
      "cell_type": "code",
      "source": [
        "cont_freq_cliente3 <- as.numeric(sub(\"1\", \"0\", cont_freq_cliente2))\n",
        "cont_freq_cliente3\n",
        "cont_freq_cliente4 = sum(cont_freq_cliente3)/2\n",
        "cont_freq_cliente4"
      ],
      "metadata": {
        "colab": {
          "base_uri": "https://localhost:8080/",
          "height": 69
        },
        "id": "68Wx2sHByRNA",
        "outputId": "9c19d75d-9678-4f1e-fac8-49456b0cb51f"
      },
      "execution_count": 235,
      "outputs": [
        {
          "output_type": "display_data",
          "data": {
            "text/plain": [
              "  [1] 0 2 0 2 0 0 2 0 2 0 0 2 2 2 0 2 2 0 2 2 2 2 2 0 2 2 0 2 2 2 2 0 2 0 2 0 0\n",
              " [38] 2 2 0 2 2 0 2 2 2 0 2 2 2 2 2 0 0 0 2 2 2 2 2 2 2 2 2 2 2 2 2 2 2 2 2 0 2\n",
              " [75] 2 2 0 2 2 0 2 2 2 2 0 2 0 0 2 2 2 2 0 2 0 0 2 2 2 2"
            ],
            "text/latex": "\\begin{enumerate*}\n\\item 0\n\\item 2\n\\item 0\n\\item 2\n\\item 0\n\\item 0\n\\item 2\n\\item 0\n\\item 2\n\\item 0\n\\item 0\n\\item 2\n\\item 2\n\\item 2\n\\item 0\n\\item 2\n\\item 2\n\\item 0\n\\item 2\n\\item 2\n\\item 2\n\\item 2\n\\item 2\n\\item 0\n\\item 2\n\\item 2\n\\item 0\n\\item 2\n\\item 2\n\\item 2\n\\item 2\n\\item 0\n\\item 2\n\\item 0\n\\item 2\n\\item 0\n\\item 0\n\\item 2\n\\item 2\n\\item 0\n\\item 2\n\\item 2\n\\item 0\n\\item 2\n\\item 2\n\\item 2\n\\item 0\n\\item 2\n\\item 2\n\\item 2\n\\item 2\n\\item 2\n\\item 0\n\\item 0\n\\item 0\n\\item 2\n\\item 2\n\\item 2\n\\item 2\n\\item 2\n\\item 2\n\\item 2\n\\item 2\n\\item 2\n\\item 2\n\\item 2\n\\item 2\n\\item 2\n\\item 2\n\\item 2\n\\item 2\n\\item 2\n\\item 0\n\\item 2\n\\item 2\n\\item 2\n\\item 0\n\\item 2\n\\item 2\n\\item 0\n\\item 2\n\\item 2\n\\item 2\n\\item 2\n\\item 0\n\\item 2\n\\item 0\n\\item 0\n\\item 2\n\\item 2\n\\item 2\n\\item 2\n\\item 0\n\\item 2\n\\item 0\n\\item 0\n\\item 2\n\\item 2\n\\item 2\n\\item 2\n\\end{enumerate*}\n",
            "text/markdown": "1. 0\n2. 2\n3. 0\n4. 2\n5. 0\n6. 0\n7. 2\n8. 0\n9. 2\n10. 0\n11. 0\n12. 2\n13. 2\n14. 2\n15. 0\n16. 2\n17. 2\n18. 0\n19. 2\n20. 2\n21. 2\n22. 2\n23. 2\n24. 0\n25. 2\n26. 2\n27. 0\n28. 2\n29. 2\n30. 2\n31. 2\n32. 0\n33. 2\n34. 0\n35. 2\n36. 0\n37. 0\n38. 2\n39. 2\n40. 0\n41. 2\n42. 2\n43. 0\n44. 2\n45. 2\n46. 2\n47. 0\n48. 2\n49. 2\n50. 2\n51. 2\n52. 2\n53. 0\n54. 0\n55. 0\n56. 2\n57. 2\n58. 2\n59. 2\n60. 2\n61. 2\n62. 2\n63. 2\n64. 2\n65. 2\n66. 2\n67. 2\n68. 2\n69. 2\n70. 2\n71. 2\n72. 2\n73. 0\n74. 2\n75. 2\n76. 2\n77. 0\n78. 2\n79. 2\n80. 0\n81. 2\n82. 2\n83. 2\n84. 2\n85. 0\n86. 2\n87. 0\n88. 0\n89. 2\n90. 2\n91. 2\n92. 2\n93. 0\n94. 2\n95. 0\n96. 0\n97. 2\n98. 2\n99. 2\n100. 2\n\n\n",
            "text/html": [
              "<style>\n",
              ".list-inline {list-style: none; margin:0; padding: 0}\n",
              ".list-inline>li {display: inline-block}\n",
              ".list-inline>li:not(:last-child)::after {content: \"\\00b7\"; padding: 0 .5ex}\n",
              "</style>\n",
              "<ol class=list-inline><li>0</li><li>2</li><li>0</li><li>2</li><li>0</li><li>0</li><li>2</li><li>0</li><li>2</li><li>0</li><li>0</li><li>2</li><li>2</li><li>2</li><li>0</li><li>2</li><li>2</li><li>0</li><li>2</li><li>2</li><li>2</li><li>2</li><li>2</li><li>0</li><li>2</li><li>2</li><li>0</li><li>2</li><li>2</li><li>2</li><li>2</li><li>0</li><li>2</li><li>0</li><li>2</li><li>0</li><li>0</li><li>2</li><li>2</li><li>0</li><li>2</li><li>2</li><li>0</li><li>2</li><li>2</li><li>2</li><li>0</li><li>2</li><li>2</li><li>2</li><li>2</li><li>2</li><li>0</li><li>0</li><li>0</li><li>2</li><li>2</li><li>2</li><li>2</li><li>2</li><li>2</li><li>2</li><li>2</li><li>2</li><li>2</li><li>2</li><li>2</li><li>2</li><li>2</li><li>2</li><li>2</li><li>2</li><li>0</li><li>2</li><li>2</li><li>2</li><li>0</li><li>2</li><li>2</li><li>0</li><li>2</li><li>2</li><li>2</li><li>2</li><li>0</li><li>2</li><li>0</li><li>0</li><li>2</li><li>2</li><li>2</li><li>2</li><li>0</li><li>2</li><li>0</li><li>0</li><li>2</li><li>2</li><li>2</li><li>2</li></ol>\n"
            ]
          },
          "metadata": {}
        },
        {
          "output_type": "display_data",
          "data": {
            "text/plain": [
              "[1] 70"
            ],
            "text/latex": "70",
            "text/markdown": "70",
            "text/html": [
              "70"
            ]
          },
          "metadata": {}
        }
      ]
    },
    {
      "cell_type": "code",
      "source": [
        "cont_freq_cliente5 <- as.numeric(sub(\"2\", \"0\", cont_freq_cliente2))\n",
        "cont_freq_cliente5\n",
        "cont_freq_cliente6 = sum(cont_freq_cliente5)\n",
        "cont_freq_cliente6"
      ],
      "metadata": {
        "colab": {
          "base_uri": "https://localhost:8080/",
          "height": 69
        },
        "id": "8JgMUPb11aZR",
        "outputId": "85a01a54-cf39-42ef-9fad-550262e87fa2"
      },
      "execution_count": 236,
      "outputs": [
        {
          "output_type": "display_data",
          "data": {
            "text/plain": [
              "  [1] 1 0 1 0 1 1 0 1 0 1 1 0 0 0 1 0 0 1 0 0 0 0 0 1 0 0 1 0 0 0 0 1 0 1 0 1 1\n",
              " [38] 0 0 1 0 0 1 0 0 0 1 0 0 0 0 0 1 1 1 0 0 0 0 0 0 0 0 0 0 0 0 0 0 0 0 0 1 0\n",
              " [75] 0 0 1 0 0 1 0 0 0 0 1 0 1 1 0 0 0 0 1 0 1 1 0 0 0 0"
            ],
            "text/latex": "\\begin{enumerate*}\n\\item 1\n\\item 0\n\\item 1\n\\item 0\n\\item 1\n\\item 1\n\\item 0\n\\item 1\n\\item 0\n\\item 1\n\\item 1\n\\item 0\n\\item 0\n\\item 0\n\\item 1\n\\item 0\n\\item 0\n\\item 1\n\\item 0\n\\item 0\n\\item 0\n\\item 0\n\\item 0\n\\item 1\n\\item 0\n\\item 0\n\\item 1\n\\item 0\n\\item 0\n\\item 0\n\\item 0\n\\item 1\n\\item 0\n\\item 1\n\\item 0\n\\item 1\n\\item 1\n\\item 0\n\\item 0\n\\item 1\n\\item 0\n\\item 0\n\\item 1\n\\item 0\n\\item 0\n\\item 0\n\\item 1\n\\item 0\n\\item 0\n\\item 0\n\\item 0\n\\item 0\n\\item 1\n\\item 1\n\\item 1\n\\item 0\n\\item 0\n\\item 0\n\\item 0\n\\item 0\n\\item 0\n\\item 0\n\\item 0\n\\item 0\n\\item 0\n\\item 0\n\\item 0\n\\item 0\n\\item 0\n\\item 0\n\\item 0\n\\item 0\n\\item 1\n\\item 0\n\\item 0\n\\item 0\n\\item 1\n\\item 0\n\\item 0\n\\item 1\n\\item 0\n\\item 0\n\\item 0\n\\item 0\n\\item 1\n\\item 0\n\\item 1\n\\item 1\n\\item 0\n\\item 0\n\\item 0\n\\item 0\n\\item 1\n\\item 0\n\\item 1\n\\item 1\n\\item 0\n\\item 0\n\\item 0\n\\item 0\n\\end{enumerate*}\n",
            "text/markdown": "1. 1\n2. 0\n3. 1\n4. 0\n5. 1\n6. 1\n7. 0\n8. 1\n9. 0\n10. 1\n11. 1\n12. 0\n13. 0\n14. 0\n15. 1\n16. 0\n17. 0\n18. 1\n19. 0\n20. 0\n21. 0\n22. 0\n23. 0\n24. 1\n25. 0\n26. 0\n27. 1\n28. 0\n29. 0\n30. 0\n31. 0\n32. 1\n33. 0\n34. 1\n35. 0\n36. 1\n37. 1\n38. 0\n39. 0\n40. 1\n41. 0\n42. 0\n43. 1\n44. 0\n45. 0\n46. 0\n47. 1\n48. 0\n49. 0\n50. 0\n51. 0\n52. 0\n53. 1\n54. 1\n55. 1\n56. 0\n57. 0\n58. 0\n59. 0\n60. 0\n61. 0\n62. 0\n63. 0\n64. 0\n65. 0\n66. 0\n67. 0\n68. 0\n69. 0\n70. 0\n71. 0\n72. 0\n73. 1\n74. 0\n75. 0\n76. 0\n77. 1\n78. 0\n79. 0\n80. 1\n81. 0\n82. 0\n83. 0\n84. 0\n85. 1\n86. 0\n87. 1\n88. 1\n89. 0\n90. 0\n91. 0\n92. 0\n93. 1\n94. 0\n95. 1\n96. 1\n97. 0\n98. 0\n99. 0\n100. 0\n\n\n",
            "text/html": [
              "<style>\n",
              ".list-inline {list-style: none; margin:0; padding: 0}\n",
              ".list-inline>li {display: inline-block}\n",
              ".list-inline>li:not(:last-child)::after {content: \"\\00b7\"; padding: 0 .5ex}\n",
              "</style>\n",
              "<ol class=list-inline><li>1</li><li>0</li><li>1</li><li>0</li><li>1</li><li>1</li><li>0</li><li>1</li><li>0</li><li>1</li><li>1</li><li>0</li><li>0</li><li>0</li><li>1</li><li>0</li><li>0</li><li>1</li><li>0</li><li>0</li><li>0</li><li>0</li><li>0</li><li>1</li><li>0</li><li>0</li><li>1</li><li>0</li><li>0</li><li>0</li><li>0</li><li>1</li><li>0</li><li>1</li><li>0</li><li>1</li><li>1</li><li>0</li><li>0</li><li>1</li><li>0</li><li>0</li><li>1</li><li>0</li><li>0</li><li>0</li><li>1</li><li>0</li><li>0</li><li>0</li><li>0</li><li>0</li><li>1</li><li>1</li><li>1</li><li>0</li><li>0</li><li>0</li><li>0</li><li>0</li><li>0</li><li>0</li><li>0</li><li>0</li><li>0</li><li>0</li><li>0</li><li>0</li><li>0</li><li>0</li><li>0</li><li>0</li><li>1</li><li>0</li><li>0</li><li>0</li><li>1</li><li>0</li><li>0</li><li>1</li><li>0</li><li>0</li><li>0</li><li>0</li><li>1</li><li>0</li><li>1</li><li>1</li><li>0</li><li>0</li><li>0</li><li>0</li><li>1</li><li>0</li><li>1</li><li>1</li><li>0</li><li>0</li><li>0</li><li>0</li></ol>\n"
            ]
          },
          "metadata": {}
        },
        {
          "output_type": "display_data",
          "data": {
            "text/plain": [
              "[1] 30"
            ],
            "text/latex": "30",
            "text/markdown": "30",
            "text/html": [
              "30"
            ]
          },
          "metadata": {}
        }
      ]
    },
    {
      "cell_type": "code",
      "source": [
        "print(\"Total de Clientes do tipo Promocional\")\n",
        "cont_freq_cliente4\n",
        "print(\"Total de Clientes do tipo Regular\")\n",
        "cont_freq_cliente6"
      ],
      "metadata": {
        "colab": {
          "base_uri": "https://localhost:8080/",
          "height": 86
        },
        "id": "rM0ur9bGtI7r",
        "outputId": "b65236f2-4360-4c05-9012-d73f9e90709c"
      },
      "execution_count": 298,
      "outputs": [
        {
          "output_type": "stream",
          "name": "stdout",
          "text": [
            "[1] \"Total de Clientes do tipo Promocional\"\n"
          ]
        },
        {
          "output_type": "display_data",
          "data": {
            "text/plain": [
              "[1] 70"
            ],
            "text/latex": "70",
            "text/markdown": "70",
            "text/html": [
              "70"
            ]
          },
          "metadata": {}
        },
        {
          "output_type": "stream",
          "name": "stdout",
          "text": [
            "[1] \"Total de Clientes do tipo Regular\"\n"
          ]
        },
        {
          "output_type": "display_data",
          "data": {
            "text/plain": [
              "[1] 30"
            ],
            "text/latex": "30",
            "text/markdown": "30",
            "text/html": [
              "30"
            ]
          },
          "metadata": {}
        }
      ]
    },
    {
      "cell_type": "markdown",
      "source": [
        "####Filtro para: Método de Pagamento"
      ],
      "metadata": {
        "id": "fIK1SIWY2GsS"
      }
    },
    {
      "cell_type": "code",
      "source": [
        "cont_freq_pgto = dados$`Método.de.Pagamento`\n",
        "cont_freq_pgto"
      ],
      "metadata": {
        "colab": {
          "base_uri": "https://localhost:8080/",
          "height": 173
        },
        "id": "_9sc6b1LNdP0",
        "outputId": "35245c23-b2c4-4d03-deed-9a0fa397966a"
      },
      "execution_count": 237,
      "outputs": [
        {
          "output_type": "display_data",
          "data": {
            "text/plain": [
              "  [1] \"Discover\"            \"Cartão Proprietário\" \"Cartão Proprietário\"\n",
              "  [4] \"Cartão Proprietário\" \"MasterCard\"          \"MasterCard\"         \n",
              "  [7] \"Cartão Proprietário\" \"Visa\"                \"Cartão Proprietário\"\n",
              " [10] \"Cartão Proprietário\" \"Cartão Proprietário\" \"Cartão Proprietário\"\n",
              " [13] \"Visa\"                \"Visa\"                \"Visa\"               \n",
              " [16] \"Cartão Proprietário\" \"Cartão Proprietário\" \"Discover\"           \n",
              " [19] \"MasterCard\"          \"Cartão Proprietário\" \"Cartão Proprietário\"\n",
              " [22] \"Cartão Proprietário\" \"American Express\"    \"Cartão Proprietário\"\n",
              " [25] \"Visa\"                \"Cartão Proprietário\" \"Cartão Proprietário\"\n",
              " [28] \"Cartão Proprietário\" \"Cartão Proprietário\" \"Cartão Proprietário\"\n",
              " [31] \"MasterCard\"          \"Cartão Proprietário\" \"Cartão Proprietário\"\n",
              " [34] \"Cartão Proprietário\" \"MasterCard\"          \"MasterCard\"         \n",
              " [37] \"Visa\"                \"Cartão Proprietário\" \"Cartão Proprietário\"\n",
              " [40] \"Cartão Proprietário\" \"Cartão Proprietário\" \"Visa\"               \n",
              " [43] \"Cartão Proprietário\" \"Cartão Proprietário\" \"Cartão Proprietário\"\n",
              " [46] \"Cartão Proprietário\" \"MasterCard\"          \"Cartão Proprietário\"\n",
              " [49] \"Cartão Proprietário\" \"MasterCard\"          \"Cartão Proprietário\"\n",
              " [52] \"Cartão Proprietário\" \"Discover\"            \"Visa\"               \n",
              " [55] \"MasterCard\"          \"Cartão Proprietário\" \"Cartão Proprietário\"\n",
              " [58] \"Cartão Proprietário\" \"MasterCard\"          \"Cartão Proprietário\"\n",
              " [61] \"Cartão Proprietário\" \"Cartão Proprietário\" \"Cartão Proprietário\"\n",
              " [64] \"Cartão Proprietário\" \"Cartão Proprietário\" \"Cartão Proprietário\"\n",
              " [67] \"Cartão Proprietário\" \"Cartão Proprietário\" \"Cartão Proprietário\"\n",
              " [70] \"Cartão Proprietário\" \"Cartão Proprietário\" \"MasterCard\"         \n",
              " [73] \"Cartão Proprietário\" \"Cartão Proprietário\" \"Cartão Proprietário\"\n",
              " [76] \"Cartão Proprietário\" \"Cartão Proprietário\" \"Cartão Proprietário\"\n",
              " [79] \"Cartão Proprietário\" \"Discover\"            \"MasterCard\"         \n",
              " [82] \"Cartão Proprietário\" \"Visa\"                \"Cartão Proprietário\"\n",
              " [85] \"Visa\"                \"Cartão Proprietário\" \"MasterCard\"         \n",
              " [88] \"Cartão Proprietário\" \"Cartão Proprietário\" \"Cartão Proprietário\"\n",
              " [91] \"Cartão Proprietário\" \"Cartão Proprietário\" \"Cartão Proprietário\"\n",
              " [94] \"Cartão Proprietário\" \"American Express\"    \"MasterCard\"         \n",
              " [97] \"Cartão Proprietário\" \"Cartão Proprietário\" \"Cartão Proprietário\"\n",
              "[100] \"Cartão Proprietário\""
            ],
            "text/latex": "\\begin{enumerate*}\n\\item 'Discover'\n\\item 'Cartão Proprietário'\n\\item 'Cartão Proprietário'\n\\item 'Cartão Proprietário'\n\\item 'MasterCard'\n\\item 'MasterCard'\n\\item 'Cartão Proprietário'\n\\item 'Visa'\n\\item 'Cartão Proprietário'\n\\item 'Cartão Proprietário'\n\\item 'Cartão Proprietário'\n\\item 'Cartão Proprietário'\n\\item 'Visa'\n\\item 'Visa'\n\\item 'Visa'\n\\item 'Cartão Proprietário'\n\\item 'Cartão Proprietário'\n\\item 'Discover'\n\\item 'MasterCard'\n\\item 'Cartão Proprietário'\n\\item 'Cartão Proprietário'\n\\item 'Cartão Proprietário'\n\\item 'American Express'\n\\item 'Cartão Proprietário'\n\\item 'Visa'\n\\item 'Cartão Proprietário'\n\\item 'Cartão Proprietário'\n\\item 'Cartão Proprietário'\n\\item 'Cartão Proprietário'\n\\item 'Cartão Proprietário'\n\\item 'MasterCard'\n\\item 'Cartão Proprietário'\n\\item 'Cartão Proprietário'\n\\item 'Cartão Proprietário'\n\\item 'MasterCard'\n\\item 'MasterCard'\n\\item 'Visa'\n\\item 'Cartão Proprietário'\n\\item 'Cartão Proprietário'\n\\item 'Cartão Proprietário'\n\\item 'Cartão Proprietário'\n\\item 'Visa'\n\\item 'Cartão Proprietário'\n\\item 'Cartão Proprietário'\n\\item 'Cartão Proprietário'\n\\item 'Cartão Proprietário'\n\\item 'MasterCard'\n\\item 'Cartão Proprietário'\n\\item 'Cartão Proprietário'\n\\item 'MasterCard'\n\\item 'Cartão Proprietário'\n\\item 'Cartão Proprietário'\n\\item 'Discover'\n\\item 'Visa'\n\\item 'MasterCard'\n\\item 'Cartão Proprietário'\n\\item 'Cartão Proprietário'\n\\item 'Cartão Proprietário'\n\\item 'MasterCard'\n\\item 'Cartão Proprietário'\n\\item 'Cartão Proprietário'\n\\item 'Cartão Proprietário'\n\\item 'Cartão Proprietário'\n\\item 'Cartão Proprietário'\n\\item 'Cartão Proprietário'\n\\item 'Cartão Proprietário'\n\\item 'Cartão Proprietário'\n\\item 'Cartão Proprietário'\n\\item 'Cartão Proprietário'\n\\item 'Cartão Proprietário'\n\\item 'Cartão Proprietário'\n\\item 'MasterCard'\n\\item 'Cartão Proprietário'\n\\item 'Cartão Proprietário'\n\\item 'Cartão Proprietário'\n\\item 'Cartão Proprietário'\n\\item 'Cartão Proprietário'\n\\item 'Cartão Proprietário'\n\\item 'Cartão Proprietário'\n\\item 'Discover'\n\\item 'MasterCard'\n\\item 'Cartão Proprietário'\n\\item 'Visa'\n\\item 'Cartão Proprietário'\n\\item 'Visa'\n\\item 'Cartão Proprietário'\n\\item 'MasterCard'\n\\item 'Cartão Proprietário'\n\\item 'Cartão Proprietário'\n\\item 'Cartão Proprietário'\n\\item 'Cartão Proprietário'\n\\item 'Cartão Proprietário'\n\\item 'Cartão Proprietário'\n\\item 'Cartão Proprietário'\n\\item 'American Express'\n\\item 'MasterCard'\n\\item 'Cartão Proprietário'\n\\item 'Cartão Proprietário'\n\\item 'Cartão Proprietário'\n\\item 'Cartão Proprietário'\n\\end{enumerate*}\n",
            "text/markdown": "1. 'Discover'\n2. 'Cartão Proprietário'\n3. 'Cartão Proprietário'\n4. 'Cartão Proprietário'\n5. 'MasterCard'\n6. 'MasterCard'\n7. 'Cartão Proprietário'\n8. 'Visa'\n9. 'Cartão Proprietário'\n10. 'Cartão Proprietário'\n11. 'Cartão Proprietário'\n12. 'Cartão Proprietário'\n13. 'Visa'\n14. 'Visa'\n15. 'Visa'\n16. 'Cartão Proprietário'\n17. 'Cartão Proprietário'\n18. 'Discover'\n19. 'MasterCard'\n20. 'Cartão Proprietário'\n21. 'Cartão Proprietário'\n22. 'Cartão Proprietário'\n23. 'American Express'\n24. 'Cartão Proprietário'\n25. 'Visa'\n26. 'Cartão Proprietário'\n27. 'Cartão Proprietário'\n28. 'Cartão Proprietário'\n29. 'Cartão Proprietário'\n30. 'Cartão Proprietário'\n31. 'MasterCard'\n32. 'Cartão Proprietário'\n33. 'Cartão Proprietário'\n34. 'Cartão Proprietário'\n35. 'MasterCard'\n36. 'MasterCard'\n37. 'Visa'\n38. 'Cartão Proprietário'\n39. 'Cartão Proprietário'\n40. 'Cartão Proprietário'\n41. 'Cartão Proprietário'\n42. 'Visa'\n43. 'Cartão Proprietário'\n44. 'Cartão Proprietário'\n45. 'Cartão Proprietário'\n46. 'Cartão Proprietário'\n47. 'MasterCard'\n48. 'Cartão Proprietário'\n49. 'Cartão Proprietário'\n50. 'MasterCard'\n51. 'Cartão Proprietário'\n52. 'Cartão Proprietário'\n53. 'Discover'\n54. 'Visa'\n55. 'MasterCard'\n56. 'Cartão Proprietário'\n57. 'Cartão Proprietário'\n58. 'Cartão Proprietário'\n59. 'MasterCard'\n60. 'Cartão Proprietário'\n61. 'Cartão Proprietário'\n62. 'Cartão Proprietário'\n63. 'Cartão Proprietário'\n64. 'Cartão Proprietário'\n65. 'Cartão Proprietário'\n66. 'Cartão Proprietário'\n67. 'Cartão Proprietário'\n68. 'Cartão Proprietário'\n69. 'Cartão Proprietário'\n70. 'Cartão Proprietário'\n71. 'Cartão Proprietário'\n72. 'MasterCard'\n73. 'Cartão Proprietário'\n74. 'Cartão Proprietário'\n75. 'Cartão Proprietário'\n76. 'Cartão Proprietário'\n77. 'Cartão Proprietário'\n78. 'Cartão Proprietário'\n79. 'Cartão Proprietário'\n80. 'Discover'\n81. 'MasterCard'\n82. 'Cartão Proprietário'\n83. 'Visa'\n84. 'Cartão Proprietário'\n85. 'Visa'\n86. 'Cartão Proprietário'\n87. 'MasterCard'\n88. 'Cartão Proprietário'\n89. 'Cartão Proprietário'\n90. 'Cartão Proprietário'\n91. 'Cartão Proprietário'\n92. 'Cartão Proprietário'\n93. 'Cartão Proprietário'\n94. 'Cartão Proprietário'\n95. 'American Express'\n96. 'MasterCard'\n97. 'Cartão Proprietário'\n98. 'Cartão Proprietário'\n99. 'Cartão Proprietário'\n100. 'Cartão Proprietário'\n\n\n",
            "text/html": [
              "<style>\n",
              ".list-inline {list-style: none; margin:0; padding: 0}\n",
              ".list-inline>li {display: inline-block}\n",
              ".list-inline>li:not(:last-child)::after {content: \"\\00b7\"; padding: 0 .5ex}\n",
              "</style>\n",
              "<ol class=list-inline><li>'Discover'</li><li>'Cartão Proprietário'</li><li>'Cartão Proprietário'</li><li>'Cartão Proprietário'</li><li>'MasterCard'</li><li>'MasterCard'</li><li>'Cartão Proprietário'</li><li>'Visa'</li><li>'Cartão Proprietário'</li><li>'Cartão Proprietário'</li><li>'Cartão Proprietário'</li><li>'Cartão Proprietário'</li><li>'Visa'</li><li>'Visa'</li><li>'Visa'</li><li>'Cartão Proprietário'</li><li>'Cartão Proprietário'</li><li>'Discover'</li><li>'MasterCard'</li><li>'Cartão Proprietário'</li><li>'Cartão Proprietário'</li><li>'Cartão Proprietário'</li><li>'American Express'</li><li>'Cartão Proprietário'</li><li>'Visa'</li><li>'Cartão Proprietário'</li><li>'Cartão Proprietário'</li><li>'Cartão Proprietário'</li><li>'Cartão Proprietário'</li><li>'Cartão Proprietário'</li><li>'MasterCard'</li><li>'Cartão Proprietário'</li><li>'Cartão Proprietário'</li><li>'Cartão Proprietário'</li><li>'MasterCard'</li><li>'MasterCard'</li><li>'Visa'</li><li>'Cartão Proprietário'</li><li>'Cartão Proprietário'</li><li>'Cartão Proprietário'</li><li>'Cartão Proprietário'</li><li>'Visa'</li><li>'Cartão Proprietário'</li><li>'Cartão Proprietário'</li><li>'Cartão Proprietário'</li><li>'Cartão Proprietário'</li><li>'MasterCard'</li><li>'Cartão Proprietário'</li><li>'Cartão Proprietário'</li><li>'MasterCard'</li><li>'Cartão Proprietário'</li><li>'Cartão Proprietário'</li><li>'Discover'</li><li>'Visa'</li><li>'MasterCard'</li><li>'Cartão Proprietário'</li><li>'Cartão Proprietário'</li><li>'Cartão Proprietário'</li><li>'MasterCard'</li><li>'Cartão Proprietário'</li><li>'Cartão Proprietário'</li><li>'Cartão Proprietário'</li><li>'Cartão Proprietário'</li><li>'Cartão Proprietário'</li><li>'Cartão Proprietário'</li><li>'Cartão Proprietário'</li><li>'Cartão Proprietário'</li><li>'Cartão Proprietário'</li><li>'Cartão Proprietário'</li><li>'Cartão Proprietário'</li><li>'Cartão Proprietário'</li><li>'MasterCard'</li><li>'Cartão Proprietário'</li><li>'Cartão Proprietário'</li><li>'Cartão Proprietário'</li><li>'Cartão Proprietário'</li><li>'Cartão Proprietário'</li><li>'Cartão Proprietário'</li><li>'Cartão Proprietário'</li><li>'Discover'</li><li>'MasterCard'</li><li>'Cartão Proprietário'</li><li>'Visa'</li><li>'Cartão Proprietário'</li><li>'Visa'</li><li>'Cartão Proprietário'</li><li>'MasterCard'</li><li>'Cartão Proprietário'</li><li>'Cartão Proprietário'</li><li>'Cartão Proprietário'</li><li>'Cartão Proprietário'</li><li>'Cartão Proprietário'</li><li>'Cartão Proprietário'</li><li>'Cartão Proprietário'</li><li>'American Express'</li><li>'MasterCard'</li><li>'Cartão Proprietário'</li><li>'Cartão Proprietário'</li><li>'Cartão Proprietário'</li><li>'Cartão Proprietário'</li></ol>\n"
            ]
          },
          "metadata": {}
        }
      ]
    },
    {
      "cell_type": "code",
      "source": [
        "cont_freq_pgto1 = str_replace(cont_freq_pgto,\n",
        "            pattern = \"Cartão Proprietário\", \n",
        "            replacement = \"1\")\n",
        "cont_freq_pgto1            "
      ],
      "metadata": {
        "colab": {
          "base_uri": "https://localhost:8080/",
          "height": 69
        },
        "id": "WiWZkqpXNoKL",
        "outputId": "cc2b45c1-ab4f-4b55-c61a-7dd45e76b51e"
      },
      "execution_count": 238,
      "outputs": [
        {
          "output_type": "display_data",
          "data": {
            "text/plain": [
              "  [1] \"Discover\"         \"1\"                \"1\"               \n",
              "  [4] \"1\"                \"MasterCard\"       \"MasterCard\"      \n",
              "  [7] \"1\"                \"Visa\"             \"1\"               \n",
              " [10] \"1\"                \"1\"                \"1\"               \n",
              " [13] \"Visa\"             \"Visa\"             \"Visa\"            \n",
              " [16] \"1\"                \"1\"                \"Discover\"        \n",
              " [19] \"MasterCard\"       \"1\"                \"1\"               \n",
              " [22] \"1\"                \"American Express\" \"1\"               \n",
              " [25] \"Visa\"             \"1\"                \"1\"               \n",
              " [28] \"1\"                \"1\"                \"1\"               \n",
              " [31] \"MasterCard\"       \"1\"                \"1\"               \n",
              " [34] \"1\"                \"MasterCard\"       \"MasterCard\"      \n",
              " [37] \"Visa\"             \"1\"                \"1\"               \n",
              " [40] \"1\"                \"1\"                \"Visa\"            \n",
              " [43] \"1\"                \"1\"                \"1\"               \n",
              " [46] \"1\"                \"MasterCard\"       \"1\"               \n",
              " [49] \"1\"                \"MasterCard\"       \"1\"               \n",
              " [52] \"1\"                \"Discover\"         \"Visa\"            \n",
              " [55] \"MasterCard\"       \"1\"                \"1\"               \n",
              " [58] \"1\"                \"MasterCard\"       \"1\"               \n",
              " [61] \"1\"                \"1\"                \"1\"               \n",
              " [64] \"1\"                \"1\"                \"1\"               \n",
              " [67] \"1\"                \"1\"                \"1\"               \n",
              " [70] \"1\"                \"1\"                \"MasterCard\"      \n",
              " [73] \"1\"                \"1\"                \"1\"               \n",
              " [76] \"1\"                \"1\"                \"1\"               \n",
              " [79] \"1\"                \"Discover\"         \"MasterCard\"      \n",
              " [82] \"1\"                \"Visa\"             \"1\"               \n",
              " [85] \"Visa\"             \"1\"                \"MasterCard\"      \n",
              " [88] \"1\"                \"1\"                \"1\"               \n",
              " [91] \"1\"                \"1\"                \"1\"               \n",
              " [94] \"1\"                \"American Express\" \"MasterCard\"      \n",
              " [97] \"1\"                \"1\"                \"1\"               \n",
              "[100] \"1\"               "
            ],
            "text/latex": "\\begin{enumerate*}\n\\item 'Discover'\n\\item '1'\n\\item '1'\n\\item '1'\n\\item 'MasterCard'\n\\item 'MasterCard'\n\\item '1'\n\\item 'Visa'\n\\item '1'\n\\item '1'\n\\item '1'\n\\item '1'\n\\item 'Visa'\n\\item 'Visa'\n\\item 'Visa'\n\\item '1'\n\\item '1'\n\\item 'Discover'\n\\item 'MasterCard'\n\\item '1'\n\\item '1'\n\\item '1'\n\\item 'American Express'\n\\item '1'\n\\item 'Visa'\n\\item '1'\n\\item '1'\n\\item '1'\n\\item '1'\n\\item '1'\n\\item 'MasterCard'\n\\item '1'\n\\item '1'\n\\item '1'\n\\item 'MasterCard'\n\\item 'MasterCard'\n\\item 'Visa'\n\\item '1'\n\\item '1'\n\\item '1'\n\\item '1'\n\\item 'Visa'\n\\item '1'\n\\item '1'\n\\item '1'\n\\item '1'\n\\item 'MasterCard'\n\\item '1'\n\\item '1'\n\\item 'MasterCard'\n\\item '1'\n\\item '1'\n\\item 'Discover'\n\\item 'Visa'\n\\item 'MasterCard'\n\\item '1'\n\\item '1'\n\\item '1'\n\\item 'MasterCard'\n\\item '1'\n\\item '1'\n\\item '1'\n\\item '1'\n\\item '1'\n\\item '1'\n\\item '1'\n\\item '1'\n\\item '1'\n\\item '1'\n\\item '1'\n\\item '1'\n\\item 'MasterCard'\n\\item '1'\n\\item '1'\n\\item '1'\n\\item '1'\n\\item '1'\n\\item '1'\n\\item '1'\n\\item 'Discover'\n\\item 'MasterCard'\n\\item '1'\n\\item 'Visa'\n\\item '1'\n\\item 'Visa'\n\\item '1'\n\\item 'MasterCard'\n\\item '1'\n\\item '1'\n\\item '1'\n\\item '1'\n\\item '1'\n\\item '1'\n\\item '1'\n\\item 'American Express'\n\\item 'MasterCard'\n\\item '1'\n\\item '1'\n\\item '1'\n\\item '1'\n\\end{enumerate*}\n",
            "text/markdown": "1. 'Discover'\n2. '1'\n3. '1'\n4. '1'\n5. 'MasterCard'\n6. 'MasterCard'\n7. '1'\n8. 'Visa'\n9. '1'\n10. '1'\n11. '1'\n12. '1'\n13. 'Visa'\n14. 'Visa'\n15. 'Visa'\n16. '1'\n17. '1'\n18. 'Discover'\n19. 'MasterCard'\n20. '1'\n21. '1'\n22. '1'\n23. 'American Express'\n24. '1'\n25. 'Visa'\n26. '1'\n27. '1'\n28. '1'\n29. '1'\n30. '1'\n31. 'MasterCard'\n32. '1'\n33. '1'\n34. '1'\n35. 'MasterCard'\n36. 'MasterCard'\n37. 'Visa'\n38. '1'\n39. '1'\n40. '1'\n41. '1'\n42. 'Visa'\n43. '1'\n44. '1'\n45. '1'\n46. '1'\n47. 'MasterCard'\n48. '1'\n49. '1'\n50. 'MasterCard'\n51. '1'\n52. '1'\n53. 'Discover'\n54. 'Visa'\n55. 'MasterCard'\n56. '1'\n57. '1'\n58. '1'\n59. 'MasterCard'\n60. '1'\n61. '1'\n62. '1'\n63. '1'\n64. '1'\n65. '1'\n66. '1'\n67. '1'\n68. '1'\n69. '1'\n70. '1'\n71. '1'\n72. 'MasterCard'\n73. '1'\n74. '1'\n75. '1'\n76. '1'\n77. '1'\n78. '1'\n79. '1'\n80. 'Discover'\n81. 'MasterCard'\n82. '1'\n83. 'Visa'\n84. '1'\n85. 'Visa'\n86. '1'\n87. 'MasterCard'\n88. '1'\n89. '1'\n90. '1'\n91. '1'\n92. '1'\n93. '1'\n94. '1'\n95. 'American Express'\n96. 'MasterCard'\n97. '1'\n98. '1'\n99. '1'\n100. '1'\n\n\n",
            "text/html": [
              "<style>\n",
              ".list-inline {list-style: none; margin:0; padding: 0}\n",
              ".list-inline>li {display: inline-block}\n",
              ".list-inline>li:not(:last-child)::after {content: \"\\00b7\"; padding: 0 .5ex}\n",
              "</style>\n",
              "<ol class=list-inline><li>'Discover'</li><li>'1'</li><li>'1'</li><li>'1'</li><li>'MasterCard'</li><li>'MasterCard'</li><li>'1'</li><li>'Visa'</li><li>'1'</li><li>'1'</li><li>'1'</li><li>'1'</li><li>'Visa'</li><li>'Visa'</li><li>'Visa'</li><li>'1'</li><li>'1'</li><li>'Discover'</li><li>'MasterCard'</li><li>'1'</li><li>'1'</li><li>'1'</li><li>'American Express'</li><li>'1'</li><li>'Visa'</li><li>'1'</li><li>'1'</li><li>'1'</li><li>'1'</li><li>'1'</li><li>'MasterCard'</li><li>'1'</li><li>'1'</li><li>'1'</li><li>'MasterCard'</li><li>'MasterCard'</li><li>'Visa'</li><li>'1'</li><li>'1'</li><li>'1'</li><li>'1'</li><li>'Visa'</li><li>'1'</li><li>'1'</li><li>'1'</li><li>'1'</li><li>'MasterCard'</li><li>'1'</li><li>'1'</li><li>'MasterCard'</li><li>'1'</li><li>'1'</li><li>'Discover'</li><li>'Visa'</li><li>'MasterCard'</li><li>'1'</li><li>'1'</li><li>'1'</li><li>'MasterCard'</li><li>'1'</li><li>'1'</li><li>'1'</li><li>'1'</li><li>'1'</li><li>'1'</li><li>'1'</li><li>'1'</li><li>'1'</li><li>'1'</li><li>'1'</li><li>'1'</li><li>'MasterCard'</li><li>'1'</li><li>'1'</li><li>'1'</li><li>'1'</li><li>'1'</li><li>'1'</li><li>'1'</li><li>'Discover'</li><li>'MasterCard'</li><li>'1'</li><li>'Visa'</li><li>'1'</li><li>'Visa'</li><li>'1'</li><li>'MasterCard'</li><li>'1'</li><li>'1'</li><li>'1'</li><li>'1'</li><li>'1'</li><li>'1'</li><li>'1'</li><li>'American Express'</li><li>'MasterCard'</li><li>'1'</li><li>'1'</li><li>'1'</li><li>'1'</li></ol>\n"
            ]
          },
          "metadata": {}
        }
      ]
    },
    {
      "cell_type": "code",
      "source": [
        "cont_freq_pgto1 = str_replace(cont_freq_pgto1,\n",
        "            pattern = \"MasterCard\", \n",
        "            replacement = \"0\")\n",
        "cont_freq_pgto1            "
      ],
      "metadata": {
        "colab": {
          "base_uri": "https://localhost:8080/",
          "height": 69
        },
        "id": "0jJxWBG5O8An",
        "outputId": "1c3138d7-c771-4b5b-a845-0d10713aa500"
      },
      "execution_count": 244,
      "outputs": [
        {
          "output_type": "display_data",
          "data": {
            "text/plain": [
              "  [1] \"Discover\"         \"1\"                \"1\"               \n",
              "  [4] \"1\"                \"0\"                \"0\"               \n",
              "  [7] \"1\"                \"Visa\"             \"1\"               \n",
              " [10] \"1\"                \"1\"                \"1\"               \n",
              " [13] \"Visa\"             \"Visa\"             \"Visa\"            \n",
              " [16] \"1\"                \"1\"                \"Discover\"        \n",
              " [19] \"0\"                \"1\"                \"1\"               \n",
              " [22] \"1\"                \"American Express\" \"1\"               \n",
              " [25] \"Visa\"             \"1\"                \"1\"               \n",
              " [28] \"1\"                \"1\"                \"1\"               \n",
              " [31] \"0\"                \"1\"                \"1\"               \n",
              " [34] \"1\"                \"0\"                \"0\"               \n",
              " [37] \"Visa\"             \"1\"                \"1\"               \n",
              " [40] \"1\"                \"1\"                \"Visa\"            \n",
              " [43] \"1\"                \"1\"                \"1\"               \n",
              " [46] \"1\"                \"0\"                \"1\"               \n",
              " [49] \"1\"                \"0\"                \"1\"               \n",
              " [52] \"1\"                \"Discover\"         \"Visa\"            \n",
              " [55] \"0\"                \"1\"                \"1\"               \n",
              " [58] \"1\"                \"0\"                \"1\"               \n",
              " [61] \"1\"                \"1\"                \"1\"               \n",
              " [64] \"1\"                \"1\"                \"1\"               \n",
              " [67] \"1\"                \"1\"                \"1\"               \n",
              " [70] \"1\"                \"1\"                \"0\"               \n",
              " [73] \"1\"                \"1\"                \"1\"               \n",
              " [76] \"1\"                \"1\"                \"1\"               \n",
              " [79] \"1\"                \"Discover\"         \"0\"               \n",
              " [82] \"1\"                \"Visa\"             \"1\"               \n",
              " [85] \"Visa\"             \"1\"                \"0\"               \n",
              " [88] \"1\"                \"1\"                \"1\"               \n",
              " [91] \"1\"                \"1\"                \"1\"               \n",
              " [94] \"1\"                \"American Express\" \"0\"               \n",
              " [97] \"1\"                \"1\"                \"1\"               \n",
              "[100] \"1\"               "
            ],
            "text/latex": "\\begin{enumerate*}\n\\item 'Discover'\n\\item '1'\n\\item '1'\n\\item '1'\n\\item '0'\n\\item '0'\n\\item '1'\n\\item 'Visa'\n\\item '1'\n\\item '1'\n\\item '1'\n\\item '1'\n\\item 'Visa'\n\\item 'Visa'\n\\item 'Visa'\n\\item '1'\n\\item '1'\n\\item 'Discover'\n\\item '0'\n\\item '1'\n\\item '1'\n\\item '1'\n\\item 'American Express'\n\\item '1'\n\\item 'Visa'\n\\item '1'\n\\item '1'\n\\item '1'\n\\item '1'\n\\item '1'\n\\item '0'\n\\item '1'\n\\item '1'\n\\item '1'\n\\item '0'\n\\item '0'\n\\item 'Visa'\n\\item '1'\n\\item '1'\n\\item '1'\n\\item '1'\n\\item 'Visa'\n\\item '1'\n\\item '1'\n\\item '1'\n\\item '1'\n\\item '0'\n\\item '1'\n\\item '1'\n\\item '0'\n\\item '1'\n\\item '1'\n\\item 'Discover'\n\\item 'Visa'\n\\item '0'\n\\item '1'\n\\item '1'\n\\item '1'\n\\item '0'\n\\item '1'\n\\item '1'\n\\item '1'\n\\item '1'\n\\item '1'\n\\item '1'\n\\item '1'\n\\item '1'\n\\item '1'\n\\item '1'\n\\item '1'\n\\item '1'\n\\item '0'\n\\item '1'\n\\item '1'\n\\item '1'\n\\item '1'\n\\item '1'\n\\item '1'\n\\item '1'\n\\item 'Discover'\n\\item '0'\n\\item '1'\n\\item 'Visa'\n\\item '1'\n\\item 'Visa'\n\\item '1'\n\\item '0'\n\\item '1'\n\\item '1'\n\\item '1'\n\\item '1'\n\\item '1'\n\\item '1'\n\\item '1'\n\\item 'American Express'\n\\item '0'\n\\item '1'\n\\item '1'\n\\item '1'\n\\item '1'\n\\end{enumerate*}\n",
            "text/markdown": "1. 'Discover'\n2. '1'\n3. '1'\n4. '1'\n5. '0'\n6. '0'\n7. '1'\n8. 'Visa'\n9. '1'\n10. '1'\n11. '1'\n12. '1'\n13. 'Visa'\n14. 'Visa'\n15. 'Visa'\n16. '1'\n17. '1'\n18. 'Discover'\n19. '0'\n20. '1'\n21. '1'\n22. '1'\n23. 'American Express'\n24. '1'\n25. 'Visa'\n26. '1'\n27. '1'\n28. '1'\n29. '1'\n30. '1'\n31. '0'\n32. '1'\n33. '1'\n34. '1'\n35. '0'\n36. '0'\n37. 'Visa'\n38. '1'\n39. '1'\n40. '1'\n41. '1'\n42. 'Visa'\n43. '1'\n44. '1'\n45. '1'\n46. '1'\n47. '0'\n48. '1'\n49. '1'\n50. '0'\n51. '1'\n52. '1'\n53. 'Discover'\n54. 'Visa'\n55. '0'\n56. '1'\n57. '1'\n58. '1'\n59. '0'\n60. '1'\n61. '1'\n62. '1'\n63. '1'\n64. '1'\n65. '1'\n66. '1'\n67. '1'\n68. '1'\n69. '1'\n70. '1'\n71. '1'\n72. '0'\n73. '1'\n74. '1'\n75. '1'\n76. '1'\n77. '1'\n78. '1'\n79. '1'\n80. 'Discover'\n81. '0'\n82. '1'\n83. 'Visa'\n84. '1'\n85. 'Visa'\n86. '1'\n87. '0'\n88. '1'\n89. '1'\n90. '1'\n91. '1'\n92. '1'\n93. '1'\n94. '1'\n95. 'American Express'\n96. '0'\n97. '1'\n98. '1'\n99. '1'\n100. '1'\n\n\n",
            "text/html": [
              "<style>\n",
              ".list-inline {list-style: none; margin:0; padding: 0}\n",
              ".list-inline>li {display: inline-block}\n",
              ".list-inline>li:not(:last-child)::after {content: \"\\00b7\"; padding: 0 .5ex}\n",
              "</style>\n",
              "<ol class=list-inline><li>'Discover'</li><li>'1'</li><li>'1'</li><li>'1'</li><li>'0'</li><li>'0'</li><li>'1'</li><li>'Visa'</li><li>'1'</li><li>'1'</li><li>'1'</li><li>'1'</li><li>'Visa'</li><li>'Visa'</li><li>'Visa'</li><li>'1'</li><li>'1'</li><li>'Discover'</li><li>'0'</li><li>'1'</li><li>'1'</li><li>'1'</li><li>'American Express'</li><li>'1'</li><li>'Visa'</li><li>'1'</li><li>'1'</li><li>'1'</li><li>'1'</li><li>'1'</li><li>'0'</li><li>'1'</li><li>'1'</li><li>'1'</li><li>'0'</li><li>'0'</li><li>'Visa'</li><li>'1'</li><li>'1'</li><li>'1'</li><li>'1'</li><li>'Visa'</li><li>'1'</li><li>'1'</li><li>'1'</li><li>'1'</li><li>'0'</li><li>'1'</li><li>'1'</li><li>'0'</li><li>'1'</li><li>'1'</li><li>'Discover'</li><li>'Visa'</li><li>'0'</li><li>'1'</li><li>'1'</li><li>'1'</li><li>'0'</li><li>'1'</li><li>'1'</li><li>'1'</li><li>'1'</li><li>'1'</li><li>'1'</li><li>'1'</li><li>'1'</li><li>'1'</li><li>'1'</li><li>'1'</li><li>'1'</li><li>'0'</li><li>'1'</li><li>'1'</li><li>'1'</li><li>'1'</li><li>'1'</li><li>'1'</li><li>'1'</li><li>'Discover'</li><li>'0'</li><li>'1'</li><li>'Visa'</li><li>'1'</li><li>'Visa'</li><li>'1'</li><li>'0'</li><li>'1'</li><li>'1'</li><li>'1'</li><li>'1'</li><li>'1'</li><li>'1'</li><li>'1'</li><li>'American Express'</li><li>'0'</li><li>'1'</li><li>'1'</li><li>'1'</li><li>'1'</li></ol>\n"
            ]
          },
          "metadata": {}
        }
      ]
    },
    {
      "cell_type": "code",
      "source": [
        "cont_freq_pgto1 = str_replace(cont_freq_pgto1,\n",
        "            pattern = \"Discover\", \n",
        "            replacement = \"0\")\n",
        "cont_freq_pgto1            "
      ],
      "metadata": {
        "colab": {
          "base_uri": "https://localhost:8080/",
          "height": 69
        },
        "id": "OaUa7Ur-Ok_P",
        "outputId": "061a95a3-e8c7-4d81-ee3a-47b75b8fec38"
      },
      "execution_count": 245,
      "outputs": [
        {
          "output_type": "display_data",
          "data": {
            "text/plain": [
              "  [1] \"0\"                \"1\"                \"1\"               \n",
              "  [4] \"1\"                \"0\"                \"0\"               \n",
              "  [7] \"1\"                \"Visa\"             \"1\"               \n",
              " [10] \"1\"                \"1\"                \"1\"               \n",
              " [13] \"Visa\"             \"Visa\"             \"Visa\"            \n",
              " [16] \"1\"                \"1\"                \"0\"               \n",
              " [19] \"0\"                \"1\"                \"1\"               \n",
              " [22] \"1\"                \"American Express\" \"1\"               \n",
              " [25] \"Visa\"             \"1\"                \"1\"               \n",
              " [28] \"1\"                \"1\"                \"1\"               \n",
              " [31] \"0\"                \"1\"                \"1\"               \n",
              " [34] \"1\"                \"0\"                \"0\"               \n",
              " [37] \"Visa\"             \"1\"                \"1\"               \n",
              " [40] \"1\"                \"1\"                \"Visa\"            \n",
              " [43] \"1\"                \"1\"                \"1\"               \n",
              " [46] \"1\"                \"0\"                \"1\"               \n",
              " [49] \"1\"                \"0\"                \"1\"               \n",
              " [52] \"1\"                \"0\"                \"Visa\"            \n",
              " [55] \"0\"                \"1\"                \"1\"               \n",
              " [58] \"1\"                \"0\"                \"1\"               \n",
              " [61] \"1\"                \"1\"                \"1\"               \n",
              " [64] \"1\"                \"1\"                \"1\"               \n",
              " [67] \"1\"                \"1\"                \"1\"               \n",
              " [70] \"1\"                \"1\"                \"0\"               \n",
              " [73] \"1\"                \"1\"                \"1\"               \n",
              " [76] \"1\"                \"1\"                \"1\"               \n",
              " [79] \"1\"                \"0\"                \"0\"               \n",
              " [82] \"1\"                \"Visa\"             \"1\"               \n",
              " [85] \"Visa\"             \"1\"                \"0\"               \n",
              " [88] \"1\"                \"1\"                \"1\"               \n",
              " [91] \"1\"                \"1\"                \"1\"               \n",
              " [94] \"1\"                \"American Express\" \"0\"               \n",
              " [97] \"1\"                \"1\"                \"1\"               \n",
              "[100] \"1\"               "
            ],
            "text/latex": "\\begin{enumerate*}\n\\item '0'\n\\item '1'\n\\item '1'\n\\item '1'\n\\item '0'\n\\item '0'\n\\item '1'\n\\item 'Visa'\n\\item '1'\n\\item '1'\n\\item '1'\n\\item '1'\n\\item 'Visa'\n\\item 'Visa'\n\\item 'Visa'\n\\item '1'\n\\item '1'\n\\item '0'\n\\item '0'\n\\item '1'\n\\item '1'\n\\item '1'\n\\item 'American Express'\n\\item '1'\n\\item 'Visa'\n\\item '1'\n\\item '1'\n\\item '1'\n\\item '1'\n\\item '1'\n\\item '0'\n\\item '1'\n\\item '1'\n\\item '1'\n\\item '0'\n\\item '0'\n\\item 'Visa'\n\\item '1'\n\\item '1'\n\\item '1'\n\\item '1'\n\\item 'Visa'\n\\item '1'\n\\item '1'\n\\item '1'\n\\item '1'\n\\item '0'\n\\item '1'\n\\item '1'\n\\item '0'\n\\item '1'\n\\item '1'\n\\item '0'\n\\item 'Visa'\n\\item '0'\n\\item '1'\n\\item '1'\n\\item '1'\n\\item '0'\n\\item '1'\n\\item '1'\n\\item '1'\n\\item '1'\n\\item '1'\n\\item '1'\n\\item '1'\n\\item '1'\n\\item '1'\n\\item '1'\n\\item '1'\n\\item '1'\n\\item '0'\n\\item '1'\n\\item '1'\n\\item '1'\n\\item '1'\n\\item '1'\n\\item '1'\n\\item '1'\n\\item '0'\n\\item '0'\n\\item '1'\n\\item 'Visa'\n\\item '1'\n\\item 'Visa'\n\\item '1'\n\\item '0'\n\\item '1'\n\\item '1'\n\\item '1'\n\\item '1'\n\\item '1'\n\\item '1'\n\\item '1'\n\\item 'American Express'\n\\item '0'\n\\item '1'\n\\item '1'\n\\item '1'\n\\item '1'\n\\end{enumerate*}\n",
            "text/markdown": "1. '0'\n2. '1'\n3. '1'\n4. '1'\n5. '0'\n6. '0'\n7. '1'\n8. 'Visa'\n9. '1'\n10. '1'\n11. '1'\n12. '1'\n13. 'Visa'\n14. 'Visa'\n15. 'Visa'\n16. '1'\n17. '1'\n18. '0'\n19. '0'\n20. '1'\n21. '1'\n22. '1'\n23. 'American Express'\n24. '1'\n25. 'Visa'\n26. '1'\n27. '1'\n28. '1'\n29. '1'\n30. '1'\n31. '0'\n32. '1'\n33. '1'\n34. '1'\n35. '0'\n36. '0'\n37. 'Visa'\n38. '1'\n39. '1'\n40. '1'\n41. '1'\n42. 'Visa'\n43. '1'\n44. '1'\n45. '1'\n46. '1'\n47. '0'\n48. '1'\n49. '1'\n50. '0'\n51. '1'\n52. '1'\n53. '0'\n54. 'Visa'\n55. '0'\n56. '1'\n57. '1'\n58. '1'\n59. '0'\n60. '1'\n61. '1'\n62. '1'\n63. '1'\n64. '1'\n65. '1'\n66. '1'\n67. '1'\n68. '1'\n69. '1'\n70. '1'\n71. '1'\n72. '0'\n73. '1'\n74. '1'\n75. '1'\n76. '1'\n77. '1'\n78. '1'\n79. '1'\n80. '0'\n81. '0'\n82. '1'\n83. 'Visa'\n84. '1'\n85. 'Visa'\n86. '1'\n87. '0'\n88. '1'\n89. '1'\n90. '1'\n91. '1'\n92. '1'\n93. '1'\n94. '1'\n95. 'American Express'\n96. '0'\n97. '1'\n98. '1'\n99. '1'\n100. '1'\n\n\n",
            "text/html": [
              "<style>\n",
              ".list-inline {list-style: none; margin:0; padding: 0}\n",
              ".list-inline>li {display: inline-block}\n",
              ".list-inline>li:not(:last-child)::after {content: \"\\00b7\"; padding: 0 .5ex}\n",
              "</style>\n",
              "<ol class=list-inline><li>'0'</li><li>'1'</li><li>'1'</li><li>'1'</li><li>'0'</li><li>'0'</li><li>'1'</li><li>'Visa'</li><li>'1'</li><li>'1'</li><li>'1'</li><li>'1'</li><li>'Visa'</li><li>'Visa'</li><li>'Visa'</li><li>'1'</li><li>'1'</li><li>'0'</li><li>'0'</li><li>'1'</li><li>'1'</li><li>'1'</li><li>'American Express'</li><li>'1'</li><li>'Visa'</li><li>'1'</li><li>'1'</li><li>'1'</li><li>'1'</li><li>'1'</li><li>'0'</li><li>'1'</li><li>'1'</li><li>'1'</li><li>'0'</li><li>'0'</li><li>'Visa'</li><li>'1'</li><li>'1'</li><li>'1'</li><li>'1'</li><li>'Visa'</li><li>'1'</li><li>'1'</li><li>'1'</li><li>'1'</li><li>'0'</li><li>'1'</li><li>'1'</li><li>'0'</li><li>'1'</li><li>'1'</li><li>'0'</li><li>'Visa'</li><li>'0'</li><li>'1'</li><li>'1'</li><li>'1'</li><li>'0'</li><li>'1'</li><li>'1'</li><li>'1'</li><li>'1'</li><li>'1'</li><li>'1'</li><li>'1'</li><li>'1'</li><li>'1'</li><li>'1'</li><li>'1'</li><li>'1'</li><li>'0'</li><li>'1'</li><li>'1'</li><li>'1'</li><li>'1'</li><li>'1'</li><li>'1'</li><li>'1'</li><li>'0'</li><li>'0'</li><li>'1'</li><li>'Visa'</li><li>'1'</li><li>'Visa'</li><li>'1'</li><li>'0'</li><li>'1'</li><li>'1'</li><li>'1'</li><li>'1'</li><li>'1'</li><li>'1'</li><li>'1'</li><li>'American Express'</li><li>'0'</li><li>'1'</li><li>'1'</li><li>'1'</li><li>'1'</li></ol>\n"
            ]
          },
          "metadata": {}
        }
      ]
    },
    {
      "cell_type": "code",
      "source": [
        "cont_freq_pgto1 = str_replace(cont_freq_pgto1,\n",
        "            pattern = \"Visa\", \n",
        "            replacement = \"0\")\n",
        "cont_freq_pgto1            "
      ],
      "metadata": {
        "colab": {
          "base_uri": "https://localhost:8080/",
          "height": 52
        },
        "id": "iLhFKTjmPDRG",
        "outputId": "6b3a9f3f-edca-48a8-ba2c-daa0f0013281"
      },
      "execution_count": 246,
      "outputs": [
        {
          "output_type": "display_data",
          "data": {
            "text/plain": [
              "  [1] \"0\"                \"1\"                \"1\"               \n",
              "  [4] \"1\"                \"0\"                \"0\"               \n",
              "  [7] \"1\"                \"0\"                \"1\"               \n",
              " [10] \"1\"                \"1\"                \"1\"               \n",
              " [13] \"0\"                \"0\"                \"0\"               \n",
              " [16] \"1\"                \"1\"                \"0\"               \n",
              " [19] \"0\"                \"1\"                \"1\"               \n",
              " [22] \"1\"                \"American Express\" \"1\"               \n",
              " [25] \"0\"                \"1\"                \"1\"               \n",
              " [28] \"1\"                \"1\"                \"1\"               \n",
              " [31] \"0\"                \"1\"                \"1\"               \n",
              " [34] \"1\"                \"0\"                \"0\"               \n",
              " [37] \"0\"                \"1\"                \"1\"               \n",
              " [40] \"1\"                \"1\"                \"0\"               \n",
              " [43] \"1\"                \"1\"                \"1\"               \n",
              " [46] \"1\"                \"0\"                \"1\"               \n",
              " [49] \"1\"                \"0\"                \"1\"               \n",
              " [52] \"1\"                \"0\"                \"0\"               \n",
              " [55] \"0\"                \"1\"                \"1\"               \n",
              " [58] \"1\"                \"0\"                \"1\"               \n",
              " [61] \"1\"                \"1\"                \"1\"               \n",
              " [64] \"1\"                \"1\"                \"1\"               \n",
              " [67] \"1\"                \"1\"                \"1\"               \n",
              " [70] \"1\"                \"1\"                \"0\"               \n",
              " [73] \"1\"                \"1\"                \"1\"               \n",
              " [76] \"1\"                \"1\"                \"1\"               \n",
              " [79] \"1\"                \"0\"                \"0\"               \n",
              " [82] \"1\"                \"0\"                \"1\"               \n",
              " [85] \"0\"                \"1\"                \"0\"               \n",
              " [88] \"1\"                \"1\"                \"1\"               \n",
              " [91] \"1\"                \"1\"                \"1\"               \n",
              " [94] \"1\"                \"American Express\" \"0\"               \n",
              " [97] \"1\"                \"1\"                \"1\"               \n",
              "[100] \"1\"               "
            ],
            "text/latex": "\\begin{enumerate*}\n\\item '0'\n\\item '1'\n\\item '1'\n\\item '1'\n\\item '0'\n\\item '0'\n\\item '1'\n\\item '0'\n\\item '1'\n\\item '1'\n\\item '1'\n\\item '1'\n\\item '0'\n\\item '0'\n\\item '0'\n\\item '1'\n\\item '1'\n\\item '0'\n\\item '0'\n\\item '1'\n\\item '1'\n\\item '1'\n\\item 'American Express'\n\\item '1'\n\\item '0'\n\\item '1'\n\\item '1'\n\\item '1'\n\\item '1'\n\\item '1'\n\\item '0'\n\\item '1'\n\\item '1'\n\\item '1'\n\\item '0'\n\\item '0'\n\\item '0'\n\\item '1'\n\\item '1'\n\\item '1'\n\\item '1'\n\\item '0'\n\\item '1'\n\\item '1'\n\\item '1'\n\\item '1'\n\\item '0'\n\\item '1'\n\\item '1'\n\\item '0'\n\\item '1'\n\\item '1'\n\\item '0'\n\\item '0'\n\\item '0'\n\\item '1'\n\\item '1'\n\\item '1'\n\\item '0'\n\\item '1'\n\\item '1'\n\\item '1'\n\\item '1'\n\\item '1'\n\\item '1'\n\\item '1'\n\\item '1'\n\\item '1'\n\\item '1'\n\\item '1'\n\\item '1'\n\\item '0'\n\\item '1'\n\\item '1'\n\\item '1'\n\\item '1'\n\\item '1'\n\\item '1'\n\\item '1'\n\\item '0'\n\\item '0'\n\\item '1'\n\\item '0'\n\\item '1'\n\\item '0'\n\\item '1'\n\\item '0'\n\\item '1'\n\\item '1'\n\\item '1'\n\\item '1'\n\\item '1'\n\\item '1'\n\\item '1'\n\\item 'American Express'\n\\item '0'\n\\item '1'\n\\item '1'\n\\item '1'\n\\item '1'\n\\end{enumerate*}\n",
            "text/markdown": "1. '0'\n2. '1'\n3. '1'\n4. '1'\n5. '0'\n6. '0'\n7. '1'\n8. '0'\n9. '1'\n10. '1'\n11. '1'\n12. '1'\n13. '0'\n14. '0'\n15. '0'\n16. '1'\n17. '1'\n18. '0'\n19. '0'\n20. '1'\n21. '1'\n22. '1'\n23. 'American Express'\n24. '1'\n25. '0'\n26. '1'\n27. '1'\n28. '1'\n29. '1'\n30. '1'\n31. '0'\n32. '1'\n33. '1'\n34. '1'\n35. '0'\n36. '0'\n37. '0'\n38. '1'\n39. '1'\n40. '1'\n41. '1'\n42. '0'\n43. '1'\n44. '1'\n45. '1'\n46. '1'\n47. '0'\n48. '1'\n49. '1'\n50. '0'\n51. '1'\n52. '1'\n53. '0'\n54. '0'\n55. '0'\n56. '1'\n57. '1'\n58. '1'\n59. '0'\n60. '1'\n61. '1'\n62. '1'\n63. '1'\n64. '1'\n65. '1'\n66. '1'\n67. '1'\n68. '1'\n69. '1'\n70. '1'\n71. '1'\n72. '0'\n73. '1'\n74. '1'\n75. '1'\n76. '1'\n77. '1'\n78. '1'\n79. '1'\n80. '0'\n81. '0'\n82. '1'\n83. '0'\n84. '1'\n85. '0'\n86. '1'\n87. '0'\n88. '1'\n89. '1'\n90. '1'\n91. '1'\n92. '1'\n93. '1'\n94. '1'\n95. 'American Express'\n96. '0'\n97. '1'\n98. '1'\n99. '1'\n100. '1'\n\n\n",
            "text/html": [
              "<style>\n",
              ".list-inline {list-style: none; margin:0; padding: 0}\n",
              ".list-inline>li {display: inline-block}\n",
              ".list-inline>li:not(:last-child)::after {content: \"\\00b7\"; padding: 0 .5ex}\n",
              "</style>\n",
              "<ol class=list-inline><li>'0'</li><li>'1'</li><li>'1'</li><li>'1'</li><li>'0'</li><li>'0'</li><li>'1'</li><li>'0'</li><li>'1'</li><li>'1'</li><li>'1'</li><li>'1'</li><li>'0'</li><li>'0'</li><li>'0'</li><li>'1'</li><li>'1'</li><li>'0'</li><li>'0'</li><li>'1'</li><li>'1'</li><li>'1'</li><li>'American Express'</li><li>'1'</li><li>'0'</li><li>'1'</li><li>'1'</li><li>'1'</li><li>'1'</li><li>'1'</li><li>'0'</li><li>'1'</li><li>'1'</li><li>'1'</li><li>'0'</li><li>'0'</li><li>'0'</li><li>'1'</li><li>'1'</li><li>'1'</li><li>'1'</li><li>'0'</li><li>'1'</li><li>'1'</li><li>'1'</li><li>'1'</li><li>'0'</li><li>'1'</li><li>'1'</li><li>'0'</li><li>'1'</li><li>'1'</li><li>'0'</li><li>'0'</li><li>'0'</li><li>'1'</li><li>'1'</li><li>'1'</li><li>'0'</li><li>'1'</li><li>'1'</li><li>'1'</li><li>'1'</li><li>'1'</li><li>'1'</li><li>'1'</li><li>'1'</li><li>'1'</li><li>'1'</li><li>'1'</li><li>'1'</li><li>'0'</li><li>'1'</li><li>'1'</li><li>'1'</li><li>'1'</li><li>'1'</li><li>'1'</li><li>'1'</li><li>'0'</li><li>'0'</li><li>'1'</li><li>'0'</li><li>'1'</li><li>'0'</li><li>'1'</li><li>'0'</li><li>'1'</li><li>'1'</li><li>'1'</li><li>'1'</li><li>'1'</li><li>'1'</li><li>'1'</li><li>'American Express'</li><li>'0'</li><li>'1'</li><li>'1'</li><li>'1'</li><li>'1'</li></ol>\n"
            ]
          },
          "metadata": {}
        }
      ]
    },
    {
      "cell_type": "code",
      "source": [
        "cont_freq_pgto1 = str_replace(cont_freq_pgto1,\n",
        "            pattern = \"American Express\", \n",
        "            replacement = \"0\")\n",
        "cont_freq_pgto1            "
      ],
      "metadata": {
        "colab": {
          "base_uri": "https://localhost:8080/",
          "height": 52
        },
        "id": "KrblD8rTPSu4",
        "outputId": "9c254223-67e7-4c5e-a3c4-89b83e763abf"
      },
      "execution_count": 247,
      "outputs": [
        {
          "output_type": "display_data",
          "data": {
            "text/plain": [
              "  [1] \"0\" \"1\" \"1\" \"1\" \"0\" \"0\" \"1\" \"0\" \"1\" \"1\" \"1\" \"1\" \"0\" \"0\" \"0\" \"1\" \"1\" \"0\"\n",
              " [19] \"0\" \"1\" \"1\" \"1\" \"0\" \"1\" \"0\" \"1\" \"1\" \"1\" \"1\" \"1\" \"0\" \"1\" \"1\" \"1\" \"0\" \"0\"\n",
              " [37] \"0\" \"1\" \"1\" \"1\" \"1\" \"0\" \"1\" \"1\" \"1\" \"1\" \"0\" \"1\" \"1\" \"0\" \"1\" \"1\" \"0\" \"0\"\n",
              " [55] \"0\" \"1\" \"1\" \"1\" \"0\" \"1\" \"1\" \"1\" \"1\" \"1\" \"1\" \"1\" \"1\" \"1\" \"1\" \"1\" \"1\" \"0\"\n",
              " [73] \"1\" \"1\" \"1\" \"1\" \"1\" \"1\" \"1\" \"0\" \"0\" \"1\" \"0\" \"1\" \"0\" \"1\" \"0\" \"1\" \"1\" \"1\"\n",
              " [91] \"1\" \"1\" \"1\" \"1\" \"0\" \"0\" \"1\" \"1\" \"1\" \"1\""
            ],
            "text/latex": "\\begin{enumerate*}\n\\item '0'\n\\item '1'\n\\item '1'\n\\item '1'\n\\item '0'\n\\item '0'\n\\item '1'\n\\item '0'\n\\item '1'\n\\item '1'\n\\item '1'\n\\item '1'\n\\item '0'\n\\item '0'\n\\item '0'\n\\item '1'\n\\item '1'\n\\item '0'\n\\item '0'\n\\item '1'\n\\item '1'\n\\item '1'\n\\item '0'\n\\item '1'\n\\item '0'\n\\item '1'\n\\item '1'\n\\item '1'\n\\item '1'\n\\item '1'\n\\item '0'\n\\item '1'\n\\item '1'\n\\item '1'\n\\item '0'\n\\item '0'\n\\item '0'\n\\item '1'\n\\item '1'\n\\item '1'\n\\item '1'\n\\item '0'\n\\item '1'\n\\item '1'\n\\item '1'\n\\item '1'\n\\item '0'\n\\item '1'\n\\item '1'\n\\item '0'\n\\item '1'\n\\item '1'\n\\item '0'\n\\item '0'\n\\item '0'\n\\item '1'\n\\item '1'\n\\item '1'\n\\item '0'\n\\item '1'\n\\item '1'\n\\item '1'\n\\item '1'\n\\item '1'\n\\item '1'\n\\item '1'\n\\item '1'\n\\item '1'\n\\item '1'\n\\item '1'\n\\item '1'\n\\item '0'\n\\item '1'\n\\item '1'\n\\item '1'\n\\item '1'\n\\item '1'\n\\item '1'\n\\item '1'\n\\item '0'\n\\item '0'\n\\item '1'\n\\item '0'\n\\item '1'\n\\item '0'\n\\item '1'\n\\item '0'\n\\item '1'\n\\item '1'\n\\item '1'\n\\item '1'\n\\item '1'\n\\item '1'\n\\item '1'\n\\item '0'\n\\item '0'\n\\item '1'\n\\item '1'\n\\item '1'\n\\item '1'\n\\end{enumerate*}\n",
            "text/markdown": "1. '0'\n2. '1'\n3. '1'\n4. '1'\n5. '0'\n6. '0'\n7. '1'\n8. '0'\n9. '1'\n10. '1'\n11. '1'\n12. '1'\n13. '0'\n14. '0'\n15. '0'\n16. '1'\n17. '1'\n18. '0'\n19. '0'\n20. '1'\n21. '1'\n22. '1'\n23. '0'\n24. '1'\n25. '0'\n26. '1'\n27. '1'\n28. '1'\n29. '1'\n30. '1'\n31. '0'\n32. '1'\n33. '1'\n34. '1'\n35. '0'\n36. '0'\n37. '0'\n38. '1'\n39. '1'\n40. '1'\n41. '1'\n42. '0'\n43. '1'\n44. '1'\n45. '1'\n46. '1'\n47. '0'\n48. '1'\n49. '1'\n50. '0'\n51. '1'\n52. '1'\n53. '0'\n54. '0'\n55. '0'\n56. '1'\n57. '1'\n58. '1'\n59. '0'\n60. '1'\n61. '1'\n62. '1'\n63. '1'\n64. '1'\n65. '1'\n66. '1'\n67. '1'\n68. '1'\n69. '1'\n70. '1'\n71. '1'\n72. '0'\n73. '1'\n74. '1'\n75. '1'\n76. '1'\n77. '1'\n78. '1'\n79. '1'\n80. '0'\n81. '0'\n82. '1'\n83. '0'\n84. '1'\n85. '0'\n86. '1'\n87. '0'\n88. '1'\n89. '1'\n90. '1'\n91. '1'\n92. '1'\n93. '1'\n94. '1'\n95. '0'\n96. '0'\n97. '1'\n98. '1'\n99. '1'\n100. '1'\n\n\n",
            "text/html": [
              "<style>\n",
              ".list-inline {list-style: none; margin:0; padding: 0}\n",
              ".list-inline>li {display: inline-block}\n",
              ".list-inline>li:not(:last-child)::after {content: \"\\00b7\"; padding: 0 .5ex}\n",
              "</style>\n",
              "<ol class=list-inline><li>'0'</li><li>'1'</li><li>'1'</li><li>'1'</li><li>'0'</li><li>'0'</li><li>'1'</li><li>'0'</li><li>'1'</li><li>'1'</li><li>'1'</li><li>'1'</li><li>'0'</li><li>'0'</li><li>'0'</li><li>'1'</li><li>'1'</li><li>'0'</li><li>'0'</li><li>'1'</li><li>'1'</li><li>'1'</li><li>'0'</li><li>'1'</li><li>'0'</li><li>'1'</li><li>'1'</li><li>'1'</li><li>'1'</li><li>'1'</li><li>'0'</li><li>'1'</li><li>'1'</li><li>'1'</li><li>'0'</li><li>'0'</li><li>'0'</li><li>'1'</li><li>'1'</li><li>'1'</li><li>'1'</li><li>'0'</li><li>'1'</li><li>'1'</li><li>'1'</li><li>'1'</li><li>'0'</li><li>'1'</li><li>'1'</li><li>'0'</li><li>'1'</li><li>'1'</li><li>'0'</li><li>'0'</li><li>'0'</li><li>'1'</li><li>'1'</li><li>'1'</li><li>'0'</li><li>'1'</li><li>'1'</li><li>'1'</li><li>'1'</li><li>'1'</li><li>'1'</li><li>'1'</li><li>'1'</li><li>'1'</li><li>'1'</li><li>'1'</li><li>'1'</li><li>'0'</li><li>'1'</li><li>'1'</li><li>'1'</li><li>'1'</li><li>'1'</li><li>'1'</li><li>'1'</li><li>'0'</li><li>'0'</li><li>'1'</li><li>'0'</li><li>'1'</li><li>'0'</li><li>'1'</li><li>'0'</li><li>'1'</li><li>'1'</li><li>'1'</li><li>'1'</li><li>'1'</li><li>'1'</li><li>'1'</li><li>'0'</li><li>'0'</li><li>'1'</li><li>'1'</li><li>'1'</li><li>'1'</li></ol>\n"
            ]
          },
          "metadata": {}
        }
      ]
    },
    {
      "cell_type": "code",
      "source": [
        "cont_freq_pgto1 = str_replace(cont_freq_pgto1,\n",
        "            pattern = \"Cartão Proprietário\", \n",
        "            replacement = \"1\")\n",
        "cont_freq_pgto1            "
      ],
      "metadata": {
        "colab": {
          "base_uri": "https://localhost:8080/",
          "height": 52
        },
        "id": "_KrEITsZPOwO",
        "outputId": "ee2e72b6-2582-468c-d083-d62f8055b02c"
      },
      "execution_count": 248,
      "outputs": [
        {
          "output_type": "display_data",
          "data": {
            "text/plain": [
              "  [1] \"0\" \"1\" \"1\" \"1\" \"0\" \"0\" \"1\" \"0\" \"1\" \"1\" \"1\" \"1\" \"0\" \"0\" \"0\" \"1\" \"1\" \"0\"\n",
              " [19] \"0\" \"1\" \"1\" \"1\" \"0\" \"1\" \"0\" \"1\" \"1\" \"1\" \"1\" \"1\" \"0\" \"1\" \"1\" \"1\" \"0\" \"0\"\n",
              " [37] \"0\" \"1\" \"1\" \"1\" \"1\" \"0\" \"1\" \"1\" \"1\" \"1\" \"0\" \"1\" \"1\" \"0\" \"1\" \"1\" \"0\" \"0\"\n",
              " [55] \"0\" \"1\" \"1\" \"1\" \"0\" \"1\" \"1\" \"1\" \"1\" \"1\" \"1\" \"1\" \"1\" \"1\" \"1\" \"1\" \"1\" \"0\"\n",
              " [73] \"1\" \"1\" \"1\" \"1\" \"1\" \"1\" \"1\" \"0\" \"0\" \"1\" \"0\" \"1\" \"0\" \"1\" \"0\" \"1\" \"1\" \"1\"\n",
              " [91] \"1\" \"1\" \"1\" \"1\" \"0\" \"0\" \"1\" \"1\" \"1\" \"1\""
            ],
            "text/latex": "\\begin{enumerate*}\n\\item '0'\n\\item '1'\n\\item '1'\n\\item '1'\n\\item '0'\n\\item '0'\n\\item '1'\n\\item '0'\n\\item '1'\n\\item '1'\n\\item '1'\n\\item '1'\n\\item '0'\n\\item '0'\n\\item '0'\n\\item '1'\n\\item '1'\n\\item '0'\n\\item '0'\n\\item '1'\n\\item '1'\n\\item '1'\n\\item '0'\n\\item '1'\n\\item '0'\n\\item '1'\n\\item '1'\n\\item '1'\n\\item '1'\n\\item '1'\n\\item '0'\n\\item '1'\n\\item '1'\n\\item '1'\n\\item '0'\n\\item '0'\n\\item '0'\n\\item '1'\n\\item '1'\n\\item '1'\n\\item '1'\n\\item '0'\n\\item '1'\n\\item '1'\n\\item '1'\n\\item '1'\n\\item '0'\n\\item '1'\n\\item '1'\n\\item '0'\n\\item '1'\n\\item '1'\n\\item '0'\n\\item '0'\n\\item '0'\n\\item '1'\n\\item '1'\n\\item '1'\n\\item '0'\n\\item '1'\n\\item '1'\n\\item '1'\n\\item '1'\n\\item '1'\n\\item '1'\n\\item '1'\n\\item '1'\n\\item '1'\n\\item '1'\n\\item '1'\n\\item '1'\n\\item '0'\n\\item '1'\n\\item '1'\n\\item '1'\n\\item '1'\n\\item '1'\n\\item '1'\n\\item '1'\n\\item '0'\n\\item '0'\n\\item '1'\n\\item '0'\n\\item '1'\n\\item '0'\n\\item '1'\n\\item '0'\n\\item '1'\n\\item '1'\n\\item '1'\n\\item '1'\n\\item '1'\n\\item '1'\n\\item '1'\n\\item '0'\n\\item '0'\n\\item '1'\n\\item '1'\n\\item '1'\n\\item '1'\n\\end{enumerate*}\n",
            "text/markdown": "1. '0'\n2. '1'\n3. '1'\n4. '1'\n5. '0'\n6. '0'\n7. '1'\n8. '0'\n9. '1'\n10. '1'\n11. '1'\n12. '1'\n13. '0'\n14. '0'\n15. '0'\n16. '1'\n17. '1'\n18. '0'\n19. '0'\n20. '1'\n21. '1'\n22. '1'\n23. '0'\n24. '1'\n25. '0'\n26. '1'\n27. '1'\n28. '1'\n29. '1'\n30. '1'\n31. '0'\n32. '1'\n33. '1'\n34. '1'\n35. '0'\n36. '0'\n37. '0'\n38. '1'\n39. '1'\n40. '1'\n41. '1'\n42. '0'\n43. '1'\n44. '1'\n45. '1'\n46. '1'\n47. '0'\n48. '1'\n49. '1'\n50. '0'\n51. '1'\n52. '1'\n53. '0'\n54. '0'\n55. '0'\n56. '1'\n57. '1'\n58. '1'\n59. '0'\n60. '1'\n61. '1'\n62. '1'\n63. '1'\n64. '1'\n65. '1'\n66. '1'\n67. '1'\n68. '1'\n69. '1'\n70. '1'\n71. '1'\n72. '0'\n73. '1'\n74. '1'\n75. '1'\n76. '1'\n77. '1'\n78. '1'\n79. '1'\n80. '0'\n81. '0'\n82. '1'\n83. '0'\n84. '1'\n85. '0'\n86. '1'\n87. '0'\n88. '1'\n89. '1'\n90. '1'\n91. '1'\n92. '1'\n93. '1'\n94. '1'\n95. '0'\n96. '0'\n97. '1'\n98. '1'\n99. '1'\n100. '1'\n\n\n",
            "text/html": [
              "<style>\n",
              ".list-inline {list-style: none; margin:0; padding: 0}\n",
              ".list-inline>li {display: inline-block}\n",
              ".list-inline>li:not(:last-child)::after {content: \"\\00b7\"; padding: 0 .5ex}\n",
              "</style>\n",
              "<ol class=list-inline><li>'0'</li><li>'1'</li><li>'1'</li><li>'1'</li><li>'0'</li><li>'0'</li><li>'1'</li><li>'0'</li><li>'1'</li><li>'1'</li><li>'1'</li><li>'1'</li><li>'0'</li><li>'0'</li><li>'0'</li><li>'1'</li><li>'1'</li><li>'0'</li><li>'0'</li><li>'1'</li><li>'1'</li><li>'1'</li><li>'0'</li><li>'1'</li><li>'0'</li><li>'1'</li><li>'1'</li><li>'1'</li><li>'1'</li><li>'1'</li><li>'0'</li><li>'1'</li><li>'1'</li><li>'1'</li><li>'0'</li><li>'0'</li><li>'0'</li><li>'1'</li><li>'1'</li><li>'1'</li><li>'1'</li><li>'0'</li><li>'1'</li><li>'1'</li><li>'1'</li><li>'1'</li><li>'0'</li><li>'1'</li><li>'1'</li><li>'0'</li><li>'1'</li><li>'1'</li><li>'0'</li><li>'0'</li><li>'0'</li><li>'1'</li><li>'1'</li><li>'1'</li><li>'0'</li><li>'1'</li><li>'1'</li><li>'1'</li><li>'1'</li><li>'1'</li><li>'1'</li><li>'1'</li><li>'1'</li><li>'1'</li><li>'1'</li><li>'1'</li><li>'1'</li><li>'0'</li><li>'1'</li><li>'1'</li><li>'1'</li><li>'1'</li><li>'1'</li><li>'1'</li><li>'1'</li><li>'0'</li><li>'0'</li><li>'1'</li><li>'0'</li><li>'1'</li><li>'0'</li><li>'1'</li><li>'0'</li><li>'1'</li><li>'1'</li><li>'1'</li><li>'1'</li><li>'1'</li><li>'1'</li><li>'1'</li><li>'0'</li><li>'0'</li><li>'1'</li><li>'1'</li><li>'1'</li><li>'1'</li></ol>\n"
            ]
          },
          "metadata": {}
        }
      ]
    },
    {
      "cell_type": "code",
      "source": [
        "cont_freq_pgto1 <- as.numeric(sub(\"2\", \"0\", cont_freq_pgto1))\n",
        "cont_freq_pgto1 = sum(cont_freq_pgto1)\n",
        "cont_freq_pgto1"
      ],
      "metadata": {
        "colab": {
          "base_uri": "https://localhost:8080/",
          "height": 34
        },
        "id": "1Wjzw25WPXF1",
        "outputId": "b6dc06a3-a3f1-4857-cb99-d4f27efc6a25"
      },
      "execution_count": 249,
      "outputs": [
        {
          "output_type": "display_data",
          "data": {
            "text/plain": [
              "[1] 70"
            ],
            "text/latex": "70",
            "text/markdown": "70",
            "text/html": [
              "70"
            ]
          },
          "metadata": {}
        }
      ]
    },
    {
      "cell_type": "code",
      "source": [
        "cont_freq_pgto2 = str_replace(dados$`Método.de.Pagamento`,\n",
        "            pattern = \"Discover\", \n",
        "            replacement = \"1\")\n",
        "cont_freq_pgto2    "
      ],
      "metadata": {
        "colab": {
          "base_uri": "https://localhost:8080/",
          "height": 173
        },
        "id": "d2WZAi_ZP2pl",
        "outputId": "55fb37cf-0d8d-4652-bbb6-99b7ecfc94d6"
      },
      "execution_count": 250,
      "outputs": [
        {
          "output_type": "display_data",
          "data": {
            "text/plain": [
              "  [1] \"1\"                   \"Cartão Proprietário\" \"Cartão Proprietário\"\n",
              "  [4] \"Cartão Proprietário\" \"MasterCard\"          \"MasterCard\"         \n",
              "  [7] \"Cartão Proprietário\" \"Visa\"                \"Cartão Proprietário\"\n",
              " [10] \"Cartão Proprietário\" \"Cartão Proprietário\" \"Cartão Proprietário\"\n",
              " [13] \"Visa\"                \"Visa\"                \"Visa\"               \n",
              " [16] \"Cartão Proprietário\" \"Cartão Proprietário\" \"1\"                  \n",
              " [19] \"MasterCard\"          \"Cartão Proprietário\" \"Cartão Proprietário\"\n",
              " [22] \"Cartão Proprietário\" \"American Express\"    \"Cartão Proprietário\"\n",
              " [25] \"Visa\"                \"Cartão Proprietário\" \"Cartão Proprietário\"\n",
              " [28] \"Cartão Proprietário\" \"Cartão Proprietário\" \"Cartão Proprietário\"\n",
              " [31] \"MasterCard\"          \"Cartão Proprietário\" \"Cartão Proprietário\"\n",
              " [34] \"Cartão Proprietário\" \"MasterCard\"          \"MasterCard\"         \n",
              " [37] \"Visa\"                \"Cartão Proprietário\" \"Cartão Proprietário\"\n",
              " [40] \"Cartão Proprietário\" \"Cartão Proprietário\" \"Visa\"               \n",
              " [43] \"Cartão Proprietário\" \"Cartão Proprietário\" \"Cartão Proprietário\"\n",
              " [46] \"Cartão Proprietário\" \"MasterCard\"          \"Cartão Proprietário\"\n",
              " [49] \"Cartão Proprietário\" \"MasterCard\"          \"Cartão Proprietário\"\n",
              " [52] \"Cartão Proprietário\" \"1\"                   \"Visa\"               \n",
              " [55] \"MasterCard\"          \"Cartão Proprietário\" \"Cartão Proprietário\"\n",
              " [58] \"Cartão Proprietário\" \"MasterCard\"          \"Cartão Proprietário\"\n",
              " [61] \"Cartão Proprietário\" \"Cartão Proprietário\" \"Cartão Proprietário\"\n",
              " [64] \"Cartão Proprietário\" \"Cartão Proprietário\" \"Cartão Proprietário\"\n",
              " [67] \"Cartão Proprietário\" \"Cartão Proprietário\" \"Cartão Proprietário\"\n",
              " [70] \"Cartão Proprietário\" \"Cartão Proprietário\" \"MasterCard\"         \n",
              " [73] \"Cartão Proprietário\" \"Cartão Proprietário\" \"Cartão Proprietário\"\n",
              " [76] \"Cartão Proprietário\" \"Cartão Proprietário\" \"Cartão Proprietário\"\n",
              " [79] \"Cartão Proprietário\" \"1\"                   \"MasterCard\"         \n",
              " [82] \"Cartão Proprietário\" \"Visa\"                \"Cartão Proprietário\"\n",
              " [85] \"Visa\"                \"Cartão Proprietário\" \"MasterCard\"         \n",
              " [88] \"Cartão Proprietário\" \"Cartão Proprietário\" \"Cartão Proprietário\"\n",
              " [91] \"Cartão Proprietário\" \"Cartão Proprietário\" \"Cartão Proprietário\"\n",
              " [94] \"Cartão Proprietário\" \"American Express\"    \"MasterCard\"         \n",
              " [97] \"Cartão Proprietário\" \"Cartão Proprietário\" \"Cartão Proprietário\"\n",
              "[100] \"Cartão Proprietário\""
            ],
            "text/latex": "\\begin{enumerate*}\n\\item '1'\n\\item 'Cartão Proprietário'\n\\item 'Cartão Proprietário'\n\\item 'Cartão Proprietário'\n\\item 'MasterCard'\n\\item 'MasterCard'\n\\item 'Cartão Proprietário'\n\\item 'Visa'\n\\item 'Cartão Proprietário'\n\\item 'Cartão Proprietário'\n\\item 'Cartão Proprietário'\n\\item 'Cartão Proprietário'\n\\item 'Visa'\n\\item 'Visa'\n\\item 'Visa'\n\\item 'Cartão Proprietário'\n\\item 'Cartão Proprietário'\n\\item '1'\n\\item 'MasterCard'\n\\item 'Cartão Proprietário'\n\\item 'Cartão Proprietário'\n\\item 'Cartão Proprietário'\n\\item 'American Express'\n\\item 'Cartão Proprietário'\n\\item 'Visa'\n\\item 'Cartão Proprietário'\n\\item 'Cartão Proprietário'\n\\item 'Cartão Proprietário'\n\\item 'Cartão Proprietário'\n\\item 'Cartão Proprietário'\n\\item 'MasterCard'\n\\item 'Cartão Proprietário'\n\\item 'Cartão Proprietário'\n\\item 'Cartão Proprietário'\n\\item 'MasterCard'\n\\item 'MasterCard'\n\\item 'Visa'\n\\item 'Cartão Proprietário'\n\\item 'Cartão Proprietário'\n\\item 'Cartão Proprietário'\n\\item 'Cartão Proprietário'\n\\item 'Visa'\n\\item 'Cartão Proprietário'\n\\item 'Cartão Proprietário'\n\\item 'Cartão Proprietário'\n\\item 'Cartão Proprietário'\n\\item 'MasterCard'\n\\item 'Cartão Proprietário'\n\\item 'Cartão Proprietário'\n\\item 'MasterCard'\n\\item 'Cartão Proprietário'\n\\item 'Cartão Proprietário'\n\\item '1'\n\\item 'Visa'\n\\item 'MasterCard'\n\\item 'Cartão Proprietário'\n\\item 'Cartão Proprietário'\n\\item 'Cartão Proprietário'\n\\item 'MasterCard'\n\\item 'Cartão Proprietário'\n\\item 'Cartão Proprietário'\n\\item 'Cartão Proprietário'\n\\item 'Cartão Proprietário'\n\\item 'Cartão Proprietário'\n\\item 'Cartão Proprietário'\n\\item 'Cartão Proprietário'\n\\item 'Cartão Proprietário'\n\\item 'Cartão Proprietário'\n\\item 'Cartão Proprietário'\n\\item 'Cartão Proprietário'\n\\item 'Cartão Proprietário'\n\\item 'MasterCard'\n\\item 'Cartão Proprietário'\n\\item 'Cartão Proprietário'\n\\item 'Cartão Proprietário'\n\\item 'Cartão Proprietário'\n\\item 'Cartão Proprietário'\n\\item 'Cartão Proprietário'\n\\item 'Cartão Proprietário'\n\\item '1'\n\\item 'MasterCard'\n\\item 'Cartão Proprietário'\n\\item 'Visa'\n\\item 'Cartão Proprietário'\n\\item 'Visa'\n\\item 'Cartão Proprietário'\n\\item 'MasterCard'\n\\item 'Cartão Proprietário'\n\\item 'Cartão Proprietário'\n\\item 'Cartão Proprietário'\n\\item 'Cartão Proprietário'\n\\item 'Cartão Proprietário'\n\\item 'Cartão Proprietário'\n\\item 'Cartão Proprietário'\n\\item 'American Express'\n\\item 'MasterCard'\n\\item 'Cartão Proprietário'\n\\item 'Cartão Proprietário'\n\\item 'Cartão Proprietário'\n\\item 'Cartão Proprietário'\n\\end{enumerate*}\n",
            "text/markdown": "1. '1'\n2. 'Cartão Proprietário'\n3. 'Cartão Proprietário'\n4. 'Cartão Proprietário'\n5. 'MasterCard'\n6. 'MasterCard'\n7. 'Cartão Proprietário'\n8. 'Visa'\n9. 'Cartão Proprietário'\n10. 'Cartão Proprietário'\n11. 'Cartão Proprietário'\n12. 'Cartão Proprietário'\n13. 'Visa'\n14. 'Visa'\n15. 'Visa'\n16. 'Cartão Proprietário'\n17. 'Cartão Proprietário'\n18. '1'\n19. 'MasterCard'\n20. 'Cartão Proprietário'\n21. 'Cartão Proprietário'\n22. 'Cartão Proprietário'\n23. 'American Express'\n24. 'Cartão Proprietário'\n25. 'Visa'\n26. 'Cartão Proprietário'\n27. 'Cartão Proprietário'\n28. 'Cartão Proprietário'\n29. 'Cartão Proprietário'\n30. 'Cartão Proprietário'\n31. 'MasterCard'\n32. 'Cartão Proprietário'\n33. 'Cartão Proprietário'\n34. 'Cartão Proprietário'\n35. 'MasterCard'\n36. 'MasterCard'\n37. 'Visa'\n38. 'Cartão Proprietário'\n39. 'Cartão Proprietário'\n40. 'Cartão Proprietário'\n41. 'Cartão Proprietário'\n42. 'Visa'\n43. 'Cartão Proprietário'\n44. 'Cartão Proprietário'\n45. 'Cartão Proprietário'\n46. 'Cartão Proprietário'\n47. 'MasterCard'\n48. 'Cartão Proprietário'\n49. 'Cartão Proprietário'\n50. 'MasterCard'\n51. 'Cartão Proprietário'\n52. 'Cartão Proprietário'\n53. '1'\n54. 'Visa'\n55. 'MasterCard'\n56. 'Cartão Proprietário'\n57. 'Cartão Proprietário'\n58. 'Cartão Proprietário'\n59. 'MasterCard'\n60. 'Cartão Proprietário'\n61. 'Cartão Proprietário'\n62. 'Cartão Proprietário'\n63. 'Cartão Proprietário'\n64. 'Cartão Proprietário'\n65. 'Cartão Proprietário'\n66. 'Cartão Proprietário'\n67. 'Cartão Proprietário'\n68. 'Cartão Proprietário'\n69. 'Cartão Proprietário'\n70. 'Cartão Proprietário'\n71. 'Cartão Proprietário'\n72. 'MasterCard'\n73. 'Cartão Proprietário'\n74. 'Cartão Proprietário'\n75. 'Cartão Proprietário'\n76. 'Cartão Proprietário'\n77. 'Cartão Proprietário'\n78. 'Cartão Proprietário'\n79. 'Cartão Proprietário'\n80. '1'\n81. 'MasterCard'\n82. 'Cartão Proprietário'\n83. 'Visa'\n84. 'Cartão Proprietário'\n85. 'Visa'\n86. 'Cartão Proprietário'\n87. 'MasterCard'\n88. 'Cartão Proprietário'\n89. 'Cartão Proprietário'\n90. 'Cartão Proprietário'\n91. 'Cartão Proprietário'\n92. 'Cartão Proprietário'\n93. 'Cartão Proprietário'\n94. 'Cartão Proprietário'\n95. 'American Express'\n96. 'MasterCard'\n97. 'Cartão Proprietário'\n98. 'Cartão Proprietário'\n99. 'Cartão Proprietário'\n100. 'Cartão Proprietário'\n\n\n",
            "text/html": [
              "<style>\n",
              ".list-inline {list-style: none; margin:0; padding: 0}\n",
              ".list-inline>li {display: inline-block}\n",
              ".list-inline>li:not(:last-child)::after {content: \"\\00b7\"; padding: 0 .5ex}\n",
              "</style>\n",
              "<ol class=list-inline><li>'1'</li><li>'Cartão Proprietário'</li><li>'Cartão Proprietário'</li><li>'Cartão Proprietário'</li><li>'MasterCard'</li><li>'MasterCard'</li><li>'Cartão Proprietário'</li><li>'Visa'</li><li>'Cartão Proprietário'</li><li>'Cartão Proprietário'</li><li>'Cartão Proprietário'</li><li>'Cartão Proprietário'</li><li>'Visa'</li><li>'Visa'</li><li>'Visa'</li><li>'Cartão Proprietário'</li><li>'Cartão Proprietário'</li><li>'1'</li><li>'MasterCard'</li><li>'Cartão Proprietário'</li><li>'Cartão Proprietário'</li><li>'Cartão Proprietário'</li><li>'American Express'</li><li>'Cartão Proprietário'</li><li>'Visa'</li><li>'Cartão Proprietário'</li><li>'Cartão Proprietário'</li><li>'Cartão Proprietário'</li><li>'Cartão Proprietário'</li><li>'Cartão Proprietário'</li><li>'MasterCard'</li><li>'Cartão Proprietário'</li><li>'Cartão Proprietário'</li><li>'Cartão Proprietário'</li><li>'MasterCard'</li><li>'MasterCard'</li><li>'Visa'</li><li>'Cartão Proprietário'</li><li>'Cartão Proprietário'</li><li>'Cartão Proprietário'</li><li>'Cartão Proprietário'</li><li>'Visa'</li><li>'Cartão Proprietário'</li><li>'Cartão Proprietário'</li><li>'Cartão Proprietário'</li><li>'Cartão Proprietário'</li><li>'MasterCard'</li><li>'Cartão Proprietário'</li><li>'Cartão Proprietário'</li><li>'MasterCard'</li><li>'Cartão Proprietário'</li><li>'Cartão Proprietário'</li><li>'1'</li><li>'Visa'</li><li>'MasterCard'</li><li>'Cartão Proprietário'</li><li>'Cartão Proprietário'</li><li>'Cartão Proprietário'</li><li>'MasterCard'</li><li>'Cartão Proprietário'</li><li>'Cartão Proprietário'</li><li>'Cartão Proprietário'</li><li>'Cartão Proprietário'</li><li>'Cartão Proprietário'</li><li>'Cartão Proprietário'</li><li>'Cartão Proprietário'</li><li>'Cartão Proprietário'</li><li>'Cartão Proprietário'</li><li>'Cartão Proprietário'</li><li>'Cartão Proprietário'</li><li>'Cartão Proprietário'</li><li>'MasterCard'</li><li>'Cartão Proprietário'</li><li>'Cartão Proprietário'</li><li>'Cartão Proprietário'</li><li>'Cartão Proprietário'</li><li>'Cartão Proprietário'</li><li>'Cartão Proprietário'</li><li>'Cartão Proprietário'</li><li>'1'</li><li>'MasterCard'</li><li>'Cartão Proprietário'</li><li>'Visa'</li><li>'Cartão Proprietário'</li><li>'Visa'</li><li>'Cartão Proprietário'</li><li>'MasterCard'</li><li>'Cartão Proprietário'</li><li>'Cartão Proprietário'</li><li>'Cartão Proprietário'</li><li>'Cartão Proprietário'</li><li>'Cartão Proprietário'</li><li>'Cartão Proprietário'</li><li>'Cartão Proprietário'</li><li>'American Express'</li><li>'MasterCard'</li><li>'Cartão Proprietário'</li><li>'Cartão Proprietário'</li><li>'Cartão Proprietário'</li><li>'Cartão Proprietário'</li></ol>\n"
            ]
          },
          "metadata": {}
        }
      ]
    },
    {
      "cell_type": "code",
      "source": [
        "cont_freq_pgto2 = str_replace(cont_freq_pgto2,\n",
        "            pattern = \"Cartão Proprietário\", \n",
        "            replacement = \"0\")\n",
        "cont_freq_pgto2    "
      ],
      "metadata": {
        "colab": {
          "base_uri": "https://localhost:8080/",
          "height": 69
        },
        "id": "1Cp6gsEUQaQH",
        "outputId": "d9aa7358-4a90-459d-c7a6-10dcc048ebeb"
      },
      "execution_count": 251,
      "outputs": [
        {
          "output_type": "display_data",
          "data": {
            "text/plain": [
              "  [1] \"1\"                \"0\"                \"0\"               \n",
              "  [4] \"0\"                \"MasterCard\"       \"MasterCard\"      \n",
              "  [7] \"0\"                \"Visa\"             \"0\"               \n",
              " [10] \"0\"                \"0\"                \"0\"               \n",
              " [13] \"Visa\"             \"Visa\"             \"Visa\"            \n",
              " [16] \"0\"                \"0\"                \"1\"               \n",
              " [19] \"MasterCard\"       \"0\"                \"0\"               \n",
              " [22] \"0\"                \"American Express\" \"0\"               \n",
              " [25] \"Visa\"             \"0\"                \"0\"               \n",
              " [28] \"0\"                \"0\"                \"0\"               \n",
              " [31] \"MasterCard\"       \"0\"                \"0\"               \n",
              " [34] \"0\"                \"MasterCard\"       \"MasterCard\"      \n",
              " [37] \"Visa\"             \"0\"                \"0\"               \n",
              " [40] \"0\"                \"0\"                \"Visa\"            \n",
              " [43] \"0\"                \"0\"                \"0\"               \n",
              " [46] \"0\"                \"MasterCard\"       \"0\"               \n",
              " [49] \"0\"                \"MasterCard\"       \"0\"               \n",
              " [52] \"0\"                \"1\"                \"Visa\"            \n",
              " [55] \"MasterCard\"       \"0\"                \"0\"               \n",
              " [58] \"0\"                \"MasterCard\"       \"0\"               \n",
              " [61] \"0\"                \"0\"                \"0\"               \n",
              " [64] \"0\"                \"0\"                \"0\"               \n",
              " [67] \"0\"                \"0\"                \"0\"               \n",
              " [70] \"0\"                \"0\"                \"MasterCard\"      \n",
              " [73] \"0\"                \"0\"                \"0\"               \n",
              " [76] \"0\"                \"0\"                \"0\"               \n",
              " [79] \"0\"                \"1\"                \"MasterCard\"      \n",
              " [82] \"0\"                \"Visa\"             \"0\"               \n",
              " [85] \"Visa\"             \"0\"                \"MasterCard\"      \n",
              " [88] \"0\"                \"0\"                \"0\"               \n",
              " [91] \"0\"                \"0\"                \"0\"               \n",
              " [94] \"0\"                \"American Express\" \"MasterCard\"      \n",
              " [97] \"0\"                \"0\"                \"0\"               \n",
              "[100] \"0\"               "
            ],
            "text/latex": "\\begin{enumerate*}\n\\item '1'\n\\item '0'\n\\item '0'\n\\item '0'\n\\item 'MasterCard'\n\\item 'MasterCard'\n\\item '0'\n\\item 'Visa'\n\\item '0'\n\\item '0'\n\\item '0'\n\\item '0'\n\\item 'Visa'\n\\item 'Visa'\n\\item 'Visa'\n\\item '0'\n\\item '0'\n\\item '1'\n\\item 'MasterCard'\n\\item '0'\n\\item '0'\n\\item '0'\n\\item 'American Express'\n\\item '0'\n\\item 'Visa'\n\\item '0'\n\\item '0'\n\\item '0'\n\\item '0'\n\\item '0'\n\\item 'MasterCard'\n\\item '0'\n\\item '0'\n\\item '0'\n\\item 'MasterCard'\n\\item 'MasterCard'\n\\item 'Visa'\n\\item '0'\n\\item '0'\n\\item '0'\n\\item '0'\n\\item 'Visa'\n\\item '0'\n\\item '0'\n\\item '0'\n\\item '0'\n\\item 'MasterCard'\n\\item '0'\n\\item '0'\n\\item 'MasterCard'\n\\item '0'\n\\item '0'\n\\item '1'\n\\item 'Visa'\n\\item 'MasterCard'\n\\item '0'\n\\item '0'\n\\item '0'\n\\item 'MasterCard'\n\\item '0'\n\\item '0'\n\\item '0'\n\\item '0'\n\\item '0'\n\\item '0'\n\\item '0'\n\\item '0'\n\\item '0'\n\\item '0'\n\\item '0'\n\\item '0'\n\\item 'MasterCard'\n\\item '0'\n\\item '0'\n\\item '0'\n\\item '0'\n\\item '0'\n\\item '0'\n\\item '0'\n\\item '1'\n\\item 'MasterCard'\n\\item '0'\n\\item 'Visa'\n\\item '0'\n\\item 'Visa'\n\\item '0'\n\\item 'MasterCard'\n\\item '0'\n\\item '0'\n\\item '0'\n\\item '0'\n\\item '0'\n\\item '0'\n\\item '0'\n\\item 'American Express'\n\\item 'MasterCard'\n\\item '0'\n\\item '0'\n\\item '0'\n\\item '0'\n\\end{enumerate*}\n",
            "text/markdown": "1. '1'\n2. '0'\n3. '0'\n4. '0'\n5. 'MasterCard'\n6. 'MasterCard'\n7. '0'\n8. 'Visa'\n9. '0'\n10. '0'\n11. '0'\n12. '0'\n13. 'Visa'\n14. 'Visa'\n15. 'Visa'\n16. '0'\n17. '0'\n18. '1'\n19. 'MasterCard'\n20. '0'\n21. '0'\n22. '0'\n23. 'American Express'\n24. '0'\n25. 'Visa'\n26. '0'\n27. '0'\n28. '0'\n29. '0'\n30. '0'\n31. 'MasterCard'\n32. '0'\n33. '0'\n34. '0'\n35. 'MasterCard'\n36. 'MasterCard'\n37. 'Visa'\n38. '0'\n39. '0'\n40. '0'\n41. '0'\n42. 'Visa'\n43. '0'\n44. '0'\n45. '0'\n46. '0'\n47. 'MasterCard'\n48. '0'\n49. '0'\n50. 'MasterCard'\n51. '0'\n52. '0'\n53. '1'\n54. 'Visa'\n55. 'MasterCard'\n56. '0'\n57. '0'\n58. '0'\n59. 'MasterCard'\n60. '0'\n61. '0'\n62. '0'\n63. '0'\n64. '0'\n65. '0'\n66. '0'\n67. '0'\n68. '0'\n69. '0'\n70. '0'\n71. '0'\n72. 'MasterCard'\n73. '0'\n74. '0'\n75. '0'\n76. '0'\n77. '0'\n78. '0'\n79. '0'\n80. '1'\n81. 'MasterCard'\n82. '0'\n83. 'Visa'\n84. '0'\n85. 'Visa'\n86. '0'\n87. 'MasterCard'\n88. '0'\n89. '0'\n90. '0'\n91. '0'\n92. '0'\n93. '0'\n94. '0'\n95. 'American Express'\n96. 'MasterCard'\n97. '0'\n98. '0'\n99. '0'\n100. '0'\n\n\n",
            "text/html": [
              "<style>\n",
              ".list-inline {list-style: none; margin:0; padding: 0}\n",
              ".list-inline>li {display: inline-block}\n",
              ".list-inline>li:not(:last-child)::after {content: \"\\00b7\"; padding: 0 .5ex}\n",
              "</style>\n",
              "<ol class=list-inline><li>'1'</li><li>'0'</li><li>'0'</li><li>'0'</li><li>'MasterCard'</li><li>'MasterCard'</li><li>'0'</li><li>'Visa'</li><li>'0'</li><li>'0'</li><li>'0'</li><li>'0'</li><li>'Visa'</li><li>'Visa'</li><li>'Visa'</li><li>'0'</li><li>'0'</li><li>'1'</li><li>'MasterCard'</li><li>'0'</li><li>'0'</li><li>'0'</li><li>'American Express'</li><li>'0'</li><li>'Visa'</li><li>'0'</li><li>'0'</li><li>'0'</li><li>'0'</li><li>'0'</li><li>'MasterCard'</li><li>'0'</li><li>'0'</li><li>'0'</li><li>'MasterCard'</li><li>'MasterCard'</li><li>'Visa'</li><li>'0'</li><li>'0'</li><li>'0'</li><li>'0'</li><li>'Visa'</li><li>'0'</li><li>'0'</li><li>'0'</li><li>'0'</li><li>'MasterCard'</li><li>'0'</li><li>'0'</li><li>'MasterCard'</li><li>'0'</li><li>'0'</li><li>'1'</li><li>'Visa'</li><li>'MasterCard'</li><li>'0'</li><li>'0'</li><li>'0'</li><li>'MasterCard'</li><li>'0'</li><li>'0'</li><li>'0'</li><li>'0'</li><li>'0'</li><li>'0'</li><li>'0'</li><li>'0'</li><li>'0'</li><li>'0'</li><li>'0'</li><li>'0'</li><li>'MasterCard'</li><li>'0'</li><li>'0'</li><li>'0'</li><li>'0'</li><li>'0'</li><li>'0'</li><li>'0'</li><li>'1'</li><li>'MasterCard'</li><li>'0'</li><li>'Visa'</li><li>'0'</li><li>'Visa'</li><li>'0'</li><li>'MasterCard'</li><li>'0'</li><li>'0'</li><li>'0'</li><li>'0'</li><li>'0'</li><li>'0'</li><li>'0'</li><li>'American Express'</li><li>'MasterCard'</li><li>'0'</li><li>'0'</li><li>'0'</li><li>'0'</li></ol>\n"
            ]
          },
          "metadata": {}
        }
      ]
    },
    {
      "cell_type": "code",
      "source": [
        "cont_freq_pgto2 = str_replace(cont_freq_pgto2,\n",
        "            pattern = \"American Express\", \n",
        "            replacement = \"0\")\n",
        "cont_freq_pgto2    "
      ],
      "metadata": {
        "colab": {
          "base_uri": "https://localhost:8080/",
          "height": 69
        },
        "id": "nMOj8diQQnfc",
        "outputId": "fea37d9e-d7ac-465c-88bb-cb7e739b66cd"
      },
      "execution_count": 252,
      "outputs": [
        {
          "output_type": "display_data",
          "data": {
            "text/plain": [
              "  [1] \"1\"          \"0\"          \"0\"          \"0\"          \"MasterCard\"\n",
              "  [6] \"MasterCard\" \"0\"          \"Visa\"       \"0\"          \"0\"         \n",
              " [11] \"0\"          \"0\"          \"Visa\"       \"Visa\"       \"Visa\"      \n",
              " [16] \"0\"          \"0\"          \"1\"          \"MasterCard\" \"0\"         \n",
              " [21] \"0\"          \"0\"          \"0\"          \"0\"          \"Visa\"      \n",
              " [26] \"0\"          \"0\"          \"0\"          \"0\"          \"0\"         \n",
              " [31] \"MasterCard\" \"0\"          \"0\"          \"0\"          \"MasterCard\"\n",
              " [36] \"MasterCard\" \"Visa\"       \"0\"          \"0\"          \"0\"         \n",
              " [41] \"0\"          \"Visa\"       \"0\"          \"0\"          \"0\"         \n",
              " [46] \"0\"          \"MasterCard\" \"0\"          \"0\"          \"MasterCard\"\n",
              " [51] \"0\"          \"0\"          \"1\"          \"Visa\"       \"MasterCard\"\n",
              " [56] \"0\"          \"0\"          \"0\"          \"MasterCard\" \"0\"         \n",
              " [61] \"0\"          \"0\"          \"0\"          \"0\"          \"0\"         \n",
              " [66] \"0\"          \"0\"          \"0\"          \"0\"          \"0\"         \n",
              " [71] \"0\"          \"MasterCard\" \"0\"          \"0\"          \"0\"         \n",
              " [76] \"0\"          \"0\"          \"0\"          \"0\"          \"1\"         \n",
              " [81] \"MasterCard\" \"0\"          \"Visa\"       \"0\"          \"Visa\"      \n",
              " [86] \"0\"          \"MasterCard\" \"0\"          \"0\"          \"0\"         \n",
              " [91] \"0\"          \"0\"          \"0\"          \"0\"          \"0\"         \n",
              " [96] \"MasterCard\" \"0\"          \"0\"          \"0\"          \"0\"         "
            ],
            "text/latex": "\\begin{enumerate*}\n\\item '1'\n\\item '0'\n\\item '0'\n\\item '0'\n\\item 'MasterCard'\n\\item 'MasterCard'\n\\item '0'\n\\item 'Visa'\n\\item '0'\n\\item '0'\n\\item '0'\n\\item '0'\n\\item 'Visa'\n\\item 'Visa'\n\\item 'Visa'\n\\item '0'\n\\item '0'\n\\item '1'\n\\item 'MasterCard'\n\\item '0'\n\\item '0'\n\\item '0'\n\\item '0'\n\\item '0'\n\\item 'Visa'\n\\item '0'\n\\item '0'\n\\item '0'\n\\item '0'\n\\item '0'\n\\item 'MasterCard'\n\\item '0'\n\\item '0'\n\\item '0'\n\\item 'MasterCard'\n\\item 'MasterCard'\n\\item 'Visa'\n\\item '0'\n\\item '0'\n\\item '0'\n\\item '0'\n\\item 'Visa'\n\\item '0'\n\\item '0'\n\\item '0'\n\\item '0'\n\\item 'MasterCard'\n\\item '0'\n\\item '0'\n\\item 'MasterCard'\n\\item '0'\n\\item '0'\n\\item '1'\n\\item 'Visa'\n\\item 'MasterCard'\n\\item '0'\n\\item '0'\n\\item '0'\n\\item 'MasterCard'\n\\item '0'\n\\item '0'\n\\item '0'\n\\item '0'\n\\item '0'\n\\item '0'\n\\item '0'\n\\item '0'\n\\item '0'\n\\item '0'\n\\item '0'\n\\item '0'\n\\item 'MasterCard'\n\\item '0'\n\\item '0'\n\\item '0'\n\\item '0'\n\\item '0'\n\\item '0'\n\\item '0'\n\\item '1'\n\\item 'MasterCard'\n\\item '0'\n\\item 'Visa'\n\\item '0'\n\\item 'Visa'\n\\item '0'\n\\item 'MasterCard'\n\\item '0'\n\\item '0'\n\\item '0'\n\\item '0'\n\\item '0'\n\\item '0'\n\\item '0'\n\\item '0'\n\\item 'MasterCard'\n\\item '0'\n\\item '0'\n\\item '0'\n\\item '0'\n\\end{enumerate*}\n",
            "text/markdown": "1. '1'\n2. '0'\n3. '0'\n4. '0'\n5. 'MasterCard'\n6. 'MasterCard'\n7. '0'\n8. 'Visa'\n9. '0'\n10. '0'\n11. '0'\n12. '0'\n13. 'Visa'\n14. 'Visa'\n15. 'Visa'\n16. '0'\n17. '0'\n18. '1'\n19. 'MasterCard'\n20. '0'\n21. '0'\n22. '0'\n23. '0'\n24. '0'\n25. 'Visa'\n26. '0'\n27. '0'\n28. '0'\n29. '0'\n30. '0'\n31. 'MasterCard'\n32. '0'\n33. '0'\n34. '0'\n35. 'MasterCard'\n36. 'MasterCard'\n37. 'Visa'\n38. '0'\n39. '0'\n40. '0'\n41. '0'\n42. 'Visa'\n43. '0'\n44. '0'\n45. '0'\n46. '0'\n47. 'MasterCard'\n48. '0'\n49. '0'\n50. 'MasterCard'\n51. '0'\n52. '0'\n53. '1'\n54. 'Visa'\n55. 'MasterCard'\n56. '0'\n57. '0'\n58. '0'\n59. 'MasterCard'\n60. '0'\n61. '0'\n62. '0'\n63. '0'\n64. '0'\n65. '0'\n66. '0'\n67. '0'\n68. '0'\n69. '0'\n70. '0'\n71. '0'\n72. 'MasterCard'\n73. '0'\n74. '0'\n75. '0'\n76. '0'\n77. '0'\n78. '0'\n79. '0'\n80. '1'\n81. 'MasterCard'\n82. '0'\n83. 'Visa'\n84. '0'\n85. 'Visa'\n86. '0'\n87. 'MasterCard'\n88. '0'\n89. '0'\n90. '0'\n91. '0'\n92. '0'\n93. '0'\n94. '0'\n95. '0'\n96. 'MasterCard'\n97. '0'\n98. '0'\n99. '0'\n100. '0'\n\n\n",
            "text/html": [
              "<style>\n",
              ".list-inline {list-style: none; margin:0; padding: 0}\n",
              ".list-inline>li {display: inline-block}\n",
              ".list-inline>li:not(:last-child)::after {content: \"\\00b7\"; padding: 0 .5ex}\n",
              "</style>\n",
              "<ol class=list-inline><li>'1'</li><li>'0'</li><li>'0'</li><li>'0'</li><li>'MasterCard'</li><li>'MasterCard'</li><li>'0'</li><li>'Visa'</li><li>'0'</li><li>'0'</li><li>'0'</li><li>'0'</li><li>'Visa'</li><li>'Visa'</li><li>'Visa'</li><li>'0'</li><li>'0'</li><li>'1'</li><li>'MasterCard'</li><li>'0'</li><li>'0'</li><li>'0'</li><li>'0'</li><li>'0'</li><li>'Visa'</li><li>'0'</li><li>'0'</li><li>'0'</li><li>'0'</li><li>'0'</li><li>'MasterCard'</li><li>'0'</li><li>'0'</li><li>'0'</li><li>'MasterCard'</li><li>'MasterCard'</li><li>'Visa'</li><li>'0'</li><li>'0'</li><li>'0'</li><li>'0'</li><li>'Visa'</li><li>'0'</li><li>'0'</li><li>'0'</li><li>'0'</li><li>'MasterCard'</li><li>'0'</li><li>'0'</li><li>'MasterCard'</li><li>'0'</li><li>'0'</li><li>'1'</li><li>'Visa'</li><li>'MasterCard'</li><li>'0'</li><li>'0'</li><li>'0'</li><li>'MasterCard'</li><li>'0'</li><li>'0'</li><li>'0'</li><li>'0'</li><li>'0'</li><li>'0'</li><li>'0'</li><li>'0'</li><li>'0'</li><li>'0'</li><li>'0'</li><li>'0'</li><li>'MasterCard'</li><li>'0'</li><li>'0'</li><li>'0'</li><li>'0'</li><li>'0'</li><li>'0'</li><li>'0'</li><li>'1'</li><li>'MasterCard'</li><li>'0'</li><li>'Visa'</li><li>'0'</li><li>'Visa'</li><li>'0'</li><li>'MasterCard'</li><li>'0'</li><li>'0'</li><li>'0'</li><li>'0'</li><li>'0'</li><li>'0'</li><li>'0'</li><li>'0'</li><li>'MasterCard'</li><li>'0'</li><li>'0'</li><li>'0'</li><li>'0'</li></ol>\n"
            ]
          },
          "metadata": {}
        }
      ]
    },
    {
      "cell_type": "code",
      "source": [
        "cont_freq_pgto2 = str_replace(cont_freq_pgto2,\n",
        "            pattern = \"MasterCard\", \n",
        "            replacement = \"0\")\n",
        "cont_freq_pgto2    "
      ],
      "metadata": {
        "colab": {
          "base_uri": "https://localhost:8080/",
          "height": 52
        },
        "id": "x5QOfx7_QrDW",
        "outputId": "fa8ac23d-c103-4f21-f629-0027e13606ee"
      },
      "execution_count": 253,
      "outputs": [
        {
          "output_type": "display_data",
          "data": {
            "text/plain": [
              "  [1] \"1\"    \"0\"    \"0\"    \"0\"    \"0\"    \"0\"    \"0\"    \"Visa\" \"0\"    \"0\"   \n",
              " [11] \"0\"    \"0\"    \"Visa\" \"Visa\" \"Visa\" \"0\"    \"0\"    \"1\"    \"0\"    \"0\"   \n",
              " [21] \"0\"    \"0\"    \"0\"    \"0\"    \"Visa\" \"0\"    \"0\"    \"0\"    \"0\"    \"0\"   \n",
              " [31] \"0\"    \"0\"    \"0\"    \"0\"    \"0\"    \"0\"    \"Visa\" \"0\"    \"0\"    \"0\"   \n",
              " [41] \"0\"    \"Visa\" \"0\"    \"0\"    \"0\"    \"0\"    \"0\"    \"0\"    \"0\"    \"0\"   \n",
              " [51] \"0\"    \"0\"    \"1\"    \"Visa\" \"0\"    \"0\"    \"0\"    \"0\"    \"0\"    \"0\"   \n",
              " [61] \"0\"    \"0\"    \"0\"    \"0\"    \"0\"    \"0\"    \"0\"    \"0\"    \"0\"    \"0\"   \n",
              " [71] \"0\"    \"0\"    \"0\"    \"0\"    \"0\"    \"0\"    \"0\"    \"0\"    \"0\"    \"1\"   \n",
              " [81] \"0\"    \"0\"    \"Visa\" \"0\"    \"Visa\" \"0\"    \"0\"    \"0\"    \"0\"    \"0\"   \n",
              " [91] \"0\"    \"0\"    \"0\"    \"0\"    \"0\"    \"0\"    \"0\"    \"0\"    \"0\"    \"0\"   "
            ],
            "text/latex": "\\begin{enumerate*}\n\\item '1'\n\\item '0'\n\\item '0'\n\\item '0'\n\\item '0'\n\\item '0'\n\\item '0'\n\\item 'Visa'\n\\item '0'\n\\item '0'\n\\item '0'\n\\item '0'\n\\item 'Visa'\n\\item 'Visa'\n\\item 'Visa'\n\\item '0'\n\\item '0'\n\\item '1'\n\\item '0'\n\\item '0'\n\\item '0'\n\\item '0'\n\\item '0'\n\\item '0'\n\\item 'Visa'\n\\item '0'\n\\item '0'\n\\item '0'\n\\item '0'\n\\item '0'\n\\item '0'\n\\item '0'\n\\item '0'\n\\item '0'\n\\item '0'\n\\item '0'\n\\item 'Visa'\n\\item '0'\n\\item '0'\n\\item '0'\n\\item '0'\n\\item 'Visa'\n\\item '0'\n\\item '0'\n\\item '0'\n\\item '0'\n\\item '0'\n\\item '0'\n\\item '0'\n\\item '0'\n\\item '0'\n\\item '0'\n\\item '1'\n\\item 'Visa'\n\\item '0'\n\\item '0'\n\\item '0'\n\\item '0'\n\\item '0'\n\\item '0'\n\\item '0'\n\\item '0'\n\\item '0'\n\\item '0'\n\\item '0'\n\\item '0'\n\\item '0'\n\\item '0'\n\\item '0'\n\\item '0'\n\\item '0'\n\\item '0'\n\\item '0'\n\\item '0'\n\\item '0'\n\\item '0'\n\\item '0'\n\\item '0'\n\\item '0'\n\\item '1'\n\\item '0'\n\\item '0'\n\\item 'Visa'\n\\item '0'\n\\item 'Visa'\n\\item '0'\n\\item '0'\n\\item '0'\n\\item '0'\n\\item '0'\n\\item '0'\n\\item '0'\n\\item '0'\n\\item '0'\n\\item '0'\n\\item '0'\n\\item '0'\n\\item '0'\n\\item '0'\n\\item '0'\n\\end{enumerate*}\n",
            "text/markdown": "1. '1'\n2. '0'\n3. '0'\n4. '0'\n5. '0'\n6. '0'\n7. '0'\n8. 'Visa'\n9. '0'\n10. '0'\n11. '0'\n12. '0'\n13. 'Visa'\n14. 'Visa'\n15. 'Visa'\n16. '0'\n17. '0'\n18. '1'\n19. '0'\n20. '0'\n21. '0'\n22. '0'\n23. '0'\n24. '0'\n25. 'Visa'\n26. '0'\n27. '0'\n28. '0'\n29. '0'\n30. '0'\n31. '0'\n32. '0'\n33. '0'\n34. '0'\n35. '0'\n36. '0'\n37. 'Visa'\n38. '0'\n39. '0'\n40. '0'\n41. '0'\n42. 'Visa'\n43. '0'\n44. '0'\n45. '0'\n46. '0'\n47. '0'\n48. '0'\n49. '0'\n50. '0'\n51. '0'\n52. '0'\n53. '1'\n54. 'Visa'\n55. '0'\n56. '0'\n57. '0'\n58. '0'\n59. '0'\n60. '0'\n61. '0'\n62. '0'\n63. '0'\n64. '0'\n65. '0'\n66. '0'\n67. '0'\n68. '0'\n69. '0'\n70. '0'\n71. '0'\n72. '0'\n73. '0'\n74. '0'\n75. '0'\n76. '0'\n77. '0'\n78. '0'\n79. '0'\n80. '1'\n81. '0'\n82. '0'\n83. 'Visa'\n84. '0'\n85. 'Visa'\n86. '0'\n87. '0'\n88. '0'\n89. '0'\n90. '0'\n91. '0'\n92. '0'\n93. '0'\n94. '0'\n95. '0'\n96. '0'\n97. '0'\n98. '0'\n99. '0'\n100. '0'\n\n\n",
            "text/html": [
              "<style>\n",
              ".list-inline {list-style: none; margin:0; padding: 0}\n",
              ".list-inline>li {display: inline-block}\n",
              ".list-inline>li:not(:last-child)::after {content: \"\\00b7\"; padding: 0 .5ex}\n",
              "</style>\n",
              "<ol class=list-inline><li>'1'</li><li>'0'</li><li>'0'</li><li>'0'</li><li>'0'</li><li>'0'</li><li>'0'</li><li>'Visa'</li><li>'0'</li><li>'0'</li><li>'0'</li><li>'0'</li><li>'Visa'</li><li>'Visa'</li><li>'Visa'</li><li>'0'</li><li>'0'</li><li>'1'</li><li>'0'</li><li>'0'</li><li>'0'</li><li>'0'</li><li>'0'</li><li>'0'</li><li>'Visa'</li><li>'0'</li><li>'0'</li><li>'0'</li><li>'0'</li><li>'0'</li><li>'0'</li><li>'0'</li><li>'0'</li><li>'0'</li><li>'0'</li><li>'0'</li><li>'Visa'</li><li>'0'</li><li>'0'</li><li>'0'</li><li>'0'</li><li>'Visa'</li><li>'0'</li><li>'0'</li><li>'0'</li><li>'0'</li><li>'0'</li><li>'0'</li><li>'0'</li><li>'0'</li><li>'0'</li><li>'0'</li><li>'1'</li><li>'Visa'</li><li>'0'</li><li>'0'</li><li>'0'</li><li>'0'</li><li>'0'</li><li>'0'</li><li>'0'</li><li>'0'</li><li>'0'</li><li>'0'</li><li>'0'</li><li>'0'</li><li>'0'</li><li>'0'</li><li>'0'</li><li>'0'</li><li>'0'</li><li>'0'</li><li>'0'</li><li>'0'</li><li>'0'</li><li>'0'</li><li>'0'</li><li>'0'</li><li>'0'</li><li>'1'</li><li>'0'</li><li>'0'</li><li>'Visa'</li><li>'0'</li><li>'Visa'</li><li>'0'</li><li>'0'</li><li>'0'</li><li>'0'</li><li>'0'</li><li>'0'</li><li>'0'</li><li>'0'</li><li>'0'</li><li>'0'</li><li>'0'</li><li>'0'</li><li>'0'</li><li>'0'</li><li>'0'</li></ol>\n"
            ]
          },
          "metadata": {}
        }
      ]
    },
    {
      "cell_type": "code",
      "source": [
        "cont_freq_pgto2 = str_replace(cont_freq_pgto2,\n",
        "            pattern = \"Visa\", \n",
        "            replacement = \"0\")\n",
        "cont_freq_pgto2    "
      ],
      "metadata": {
        "colab": {
          "base_uri": "https://localhost:8080/",
          "height": 52
        },
        "id": "b0TfW1HdQuAJ",
        "outputId": "23557667-b575-4ebf-f106-35026f812466"
      },
      "execution_count": 254,
      "outputs": [
        {
          "output_type": "display_data",
          "data": {
            "text/plain": [
              "  [1] \"1\" \"0\" \"0\" \"0\" \"0\" \"0\" \"0\" \"0\" \"0\" \"0\" \"0\" \"0\" \"0\" \"0\" \"0\" \"0\" \"0\" \"1\"\n",
              " [19] \"0\" \"0\" \"0\" \"0\" \"0\" \"0\" \"0\" \"0\" \"0\" \"0\" \"0\" \"0\" \"0\" \"0\" \"0\" \"0\" \"0\" \"0\"\n",
              " [37] \"0\" \"0\" \"0\" \"0\" \"0\" \"0\" \"0\" \"0\" \"0\" \"0\" \"0\" \"0\" \"0\" \"0\" \"0\" \"0\" \"1\" \"0\"\n",
              " [55] \"0\" \"0\" \"0\" \"0\" \"0\" \"0\" \"0\" \"0\" \"0\" \"0\" \"0\" \"0\" \"0\" \"0\" \"0\" \"0\" \"0\" \"0\"\n",
              " [73] \"0\" \"0\" \"0\" \"0\" \"0\" \"0\" \"0\" \"1\" \"0\" \"0\" \"0\" \"0\" \"0\" \"0\" \"0\" \"0\" \"0\" \"0\"\n",
              " [91] \"0\" \"0\" \"0\" \"0\" \"0\" \"0\" \"0\" \"0\" \"0\" \"0\""
            ],
            "text/latex": "\\begin{enumerate*}\n\\item '1'\n\\item '0'\n\\item '0'\n\\item '0'\n\\item '0'\n\\item '0'\n\\item '0'\n\\item '0'\n\\item '0'\n\\item '0'\n\\item '0'\n\\item '0'\n\\item '0'\n\\item '0'\n\\item '0'\n\\item '0'\n\\item '0'\n\\item '1'\n\\item '0'\n\\item '0'\n\\item '0'\n\\item '0'\n\\item '0'\n\\item '0'\n\\item '0'\n\\item '0'\n\\item '0'\n\\item '0'\n\\item '0'\n\\item '0'\n\\item '0'\n\\item '0'\n\\item '0'\n\\item '0'\n\\item '0'\n\\item '0'\n\\item '0'\n\\item '0'\n\\item '0'\n\\item '0'\n\\item '0'\n\\item '0'\n\\item '0'\n\\item '0'\n\\item '0'\n\\item '0'\n\\item '0'\n\\item '0'\n\\item '0'\n\\item '0'\n\\item '0'\n\\item '0'\n\\item '1'\n\\item '0'\n\\item '0'\n\\item '0'\n\\item '0'\n\\item '0'\n\\item '0'\n\\item '0'\n\\item '0'\n\\item '0'\n\\item '0'\n\\item '0'\n\\item '0'\n\\item '0'\n\\item '0'\n\\item '0'\n\\item '0'\n\\item '0'\n\\item '0'\n\\item '0'\n\\item '0'\n\\item '0'\n\\item '0'\n\\item '0'\n\\item '0'\n\\item '0'\n\\item '0'\n\\item '1'\n\\item '0'\n\\item '0'\n\\item '0'\n\\item '0'\n\\item '0'\n\\item '0'\n\\item '0'\n\\item '0'\n\\item '0'\n\\item '0'\n\\item '0'\n\\item '0'\n\\item '0'\n\\item '0'\n\\item '0'\n\\item '0'\n\\item '0'\n\\item '0'\n\\item '0'\n\\item '0'\n\\end{enumerate*}\n",
            "text/markdown": "1. '1'\n2. '0'\n3. '0'\n4. '0'\n5. '0'\n6. '0'\n7. '0'\n8. '0'\n9. '0'\n10. '0'\n11. '0'\n12. '0'\n13. '0'\n14. '0'\n15. '0'\n16. '0'\n17. '0'\n18. '1'\n19. '0'\n20. '0'\n21. '0'\n22. '0'\n23. '0'\n24. '0'\n25. '0'\n26. '0'\n27. '0'\n28. '0'\n29. '0'\n30. '0'\n31. '0'\n32. '0'\n33. '0'\n34. '0'\n35. '0'\n36. '0'\n37. '0'\n38. '0'\n39. '0'\n40. '0'\n41. '0'\n42. '0'\n43. '0'\n44. '0'\n45. '0'\n46. '0'\n47. '0'\n48. '0'\n49. '0'\n50. '0'\n51. '0'\n52. '0'\n53. '1'\n54. '0'\n55. '0'\n56. '0'\n57. '0'\n58. '0'\n59. '0'\n60. '0'\n61. '0'\n62. '0'\n63. '0'\n64. '0'\n65. '0'\n66. '0'\n67. '0'\n68. '0'\n69. '0'\n70. '0'\n71. '0'\n72. '0'\n73. '0'\n74. '0'\n75. '0'\n76. '0'\n77. '0'\n78. '0'\n79. '0'\n80. '1'\n81. '0'\n82. '0'\n83. '0'\n84. '0'\n85. '0'\n86. '0'\n87. '0'\n88. '0'\n89. '0'\n90. '0'\n91. '0'\n92. '0'\n93. '0'\n94. '0'\n95. '0'\n96. '0'\n97. '0'\n98. '0'\n99. '0'\n100. '0'\n\n\n",
            "text/html": [
              "<style>\n",
              ".list-inline {list-style: none; margin:0; padding: 0}\n",
              ".list-inline>li {display: inline-block}\n",
              ".list-inline>li:not(:last-child)::after {content: \"\\00b7\"; padding: 0 .5ex}\n",
              "</style>\n",
              "<ol class=list-inline><li>'1'</li><li>'0'</li><li>'0'</li><li>'0'</li><li>'0'</li><li>'0'</li><li>'0'</li><li>'0'</li><li>'0'</li><li>'0'</li><li>'0'</li><li>'0'</li><li>'0'</li><li>'0'</li><li>'0'</li><li>'0'</li><li>'0'</li><li>'1'</li><li>'0'</li><li>'0'</li><li>'0'</li><li>'0'</li><li>'0'</li><li>'0'</li><li>'0'</li><li>'0'</li><li>'0'</li><li>'0'</li><li>'0'</li><li>'0'</li><li>'0'</li><li>'0'</li><li>'0'</li><li>'0'</li><li>'0'</li><li>'0'</li><li>'0'</li><li>'0'</li><li>'0'</li><li>'0'</li><li>'0'</li><li>'0'</li><li>'0'</li><li>'0'</li><li>'0'</li><li>'0'</li><li>'0'</li><li>'0'</li><li>'0'</li><li>'0'</li><li>'0'</li><li>'0'</li><li>'1'</li><li>'0'</li><li>'0'</li><li>'0'</li><li>'0'</li><li>'0'</li><li>'0'</li><li>'0'</li><li>'0'</li><li>'0'</li><li>'0'</li><li>'0'</li><li>'0'</li><li>'0'</li><li>'0'</li><li>'0'</li><li>'0'</li><li>'0'</li><li>'0'</li><li>'0'</li><li>'0'</li><li>'0'</li><li>'0'</li><li>'0'</li><li>'0'</li><li>'0'</li><li>'0'</li><li>'1'</li><li>'0'</li><li>'0'</li><li>'0'</li><li>'0'</li><li>'0'</li><li>'0'</li><li>'0'</li><li>'0'</li><li>'0'</li><li>'0'</li><li>'0'</li><li>'0'</li><li>'0'</li><li>'0'</li><li>'0'</li><li>'0'</li><li>'0'</li><li>'0'</li><li>'0'</li><li>'0'</li></ol>\n"
            ]
          },
          "metadata": {}
        }
      ]
    },
    {
      "cell_type": "code",
      "source": [
        "cont_freq_pgto2 <- as.numeric(sub(\"2\", \"0\", cont_freq_pgto2))\n",
        "cont_freq_pgto2 = sum(cont_freq_pgto2)\n",
        "cont_freq_pgto2"
      ],
      "metadata": {
        "colab": {
          "base_uri": "https://localhost:8080/",
          "height": 34
        },
        "id": "_t5CrtZGQxVx",
        "outputId": "d7ba3fad-7aeb-46a8-9a9b-14deeb8b3dfd"
      },
      "execution_count": 255,
      "outputs": [
        {
          "output_type": "display_data",
          "data": {
            "text/plain": [
              "[1] 4"
            ],
            "text/latex": "4",
            "text/markdown": "4",
            "text/html": [
              "4"
            ]
          },
          "metadata": {}
        }
      ]
    },
    {
      "cell_type": "code",
      "source": [
        "cont_freq_pgto3 = str_replace(dados$`Método.de.Pagamento`,\n",
        "            pattern = \"MasterCard\", \n",
        "            replacement = \"1\")\n",
        "cont_freq_pgto3    "
      ],
      "metadata": {
        "colab": {
          "base_uri": "https://localhost:8080/",
          "height": 156
        },
        "id": "tS1Zk8GiRUd8",
        "outputId": "3755781b-1a92-49f3-a520-02f5fc753ded"
      },
      "execution_count": 256,
      "outputs": [
        {
          "output_type": "display_data",
          "data": {
            "text/plain": [
              "  [1] \"Discover\"            \"Cartão Proprietário\" \"Cartão Proprietário\"\n",
              "  [4] \"Cartão Proprietário\" \"1\"                   \"1\"                  \n",
              "  [7] \"Cartão Proprietário\" \"Visa\"                \"Cartão Proprietário\"\n",
              " [10] \"Cartão Proprietário\" \"Cartão Proprietário\" \"Cartão Proprietário\"\n",
              " [13] \"Visa\"                \"Visa\"                \"Visa\"               \n",
              " [16] \"Cartão Proprietário\" \"Cartão Proprietário\" \"Discover\"           \n",
              " [19] \"1\"                   \"Cartão Proprietário\" \"Cartão Proprietário\"\n",
              " [22] \"Cartão Proprietário\" \"American Express\"    \"Cartão Proprietário\"\n",
              " [25] \"Visa\"                \"Cartão Proprietário\" \"Cartão Proprietário\"\n",
              " [28] \"Cartão Proprietário\" \"Cartão Proprietário\" \"Cartão Proprietário\"\n",
              " [31] \"1\"                   \"Cartão Proprietário\" \"Cartão Proprietário\"\n",
              " [34] \"Cartão Proprietário\" \"1\"                   \"1\"                  \n",
              " [37] \"Visa\"                \"Cartão Proprietário\" \"Cartão Proprietário\"\n",
              " [40] \"Cartão Proprietário\" \"Cartão Proprietário\" \"Visa\"               \n",
              " [43] \"Cartão Proprietário\" \"Cartão Proprietário\" \"Cartão Proprietário\"\n",
              " [46] \"Cartão Proprietário\" \"1\"                   \"Cartão Proprietário\"\n",
              " [49] \"Cartão Proprietário\" \"1\"                   \"Cartão Proprietário\"\n",
              " [52] \"Cartão Proprietário\" \"Discover\"            \"Visa\"               \n",
              " [55] \"1\"                   \"Cartão Proprietário\" \"Cartão Proprietário\"\n",
              " [58] \"Cartão Proprietário\" \"1\"                   \"Cartão Proprietário\"\n",
              " [61] \"Cartão Proprietário\" \"Cartão Proprietário\" \"Cartão Proprietário\"\n",
              " [64] \"Cartão Proprietário\" \"Cartão Proprietário\" \"Cartão Proprietário\"\n",
              " [67] \"Cartão Proprietário\" \"Cartão Proprietário\" \"Cartão Proprietário\"\n",
              " [70] \"Cartão Proprietário\" \"Cartão Proprietário\" \"1\"                  \n",
              " [73] \"Cartão Proprietário\" \"Cartão Proprietário\" \"Cartão Proprietário\"\n",
              " [76] \"Cartão Proprietário\" \"Cartão Proprietário\" \"Cartão Proprietário\"\n",
              " [79] \"Cartão Proprietário\" \"Discover\"            \"1\"                  \n",
              " [82] \"Cartão Proprietário\" \"Visa\"                \"Cartão Proprietário\"\n",
              " [85] \"Visa\"                \"Cartão Proprietário\" \"1\"                  \n",
              " [88] \"Cartão Proprietário\" \"Cartão Proprietário\" \"Cartão Proprietário\"\n",
              " [91] \"Cartão Proprietário\" \"Cartão Proprietário\" \"Cartão Proprietário\"\n",
              " [94] \"Cartão Proprietário\" \"American Express\"    \"1\"                  \n",
              " [97] \"Cartão Proprietário\" \"Cartão Proprietário\" \"Cartão Proprietário\"\n",
              "[100] \"Cartão Proprietário\""
            ],
            "text/latex": "\\begin{enumerate*}\n\\item 'Discover'\n\\item 'Cartão Proprietário'\n\\item 'Cartão Proprietário'\n\\item 'Cartão Proprietário'\n\\item '1'\n\\item '1'\n\\item 'Cartão Proprietário'\n\\item 'Visa'\n\\item 'Cartão Proprietário'\n\\item 'Cartão Proprietário'\n\\item 'Cartão Proprietário'\n\\item 'Cartão Proprietário'\n\\item 'Visa'\n\\item 'Visa'\n\\item 'Visa'\n\\item 'Cartão Proprietário'\n\\item 'Cartão Proprietário'\n\\item 'Discover'\n\\item '1'\n\\item 'Cartão Proprietário'\n\\item 'Cartão Proprietário'\n\\item 'Cartão Proprietário'\n\\item 'American Express'\n\\item 'Cartão Proprietário'\n\\item 'Visa'\n\\item 'Cartão Proprietário'\n\\item 'Cartão Proprietário'\n\\item 'Cartão Proprietário'\n\\item 'Cartão Proprietário'\n\\item 'Cartão Proprietário'\n\\item '1'\n\\item 'Cartão Proprietário'\n\\item 'Cartão Proprietário'\n\\item 'Cartão Proprietário'\n\\item '1'\n\\item '1'\n\\item 'Visa'\n\\item 'Cartão Proprietário'\n\\item 'Cartão Proprietário'\n\\item 'Cartão Proprietário'\n\\item 'Cartão Proprietário'\n\\item 'Visa'\n\\item 'Cartão Proprietário'\n\\item 'Cartão Proprietário'\n\\item 'Cartão Proprietário'\n\\item 'Cartão Proprietário'\n\\item '1'\n\\item 'Cartão Proprietário'\n\\item 'Cartão Proprietário'\n\\item '1'\n\\item 'Cartão Proprietário'\n\\item 'Cartão Proprietário'\n\\item 'Discover'\n\\item 'Visa'\n\\item '1'\n\\item 'Cartão Proprietário'\n\\item 'Cartão Proprietário'\n\\item 'Cartão Proprietário'\n\\item '1'\n\\item 'Cartão Proprietário'\n\\item 'Cartão Proprietário'\n\\item 'Cartão Proprietário'\n\\item 'Cartão Proprietário'\n\\item 'Cartão Proprietário'\n\\item 'Cartão Proprietário'\n\\item 'Cartão Proprietário'\n\\item 'Cartão Proprietário'\n\\item 'Cartão Proprietário'\n\\item 'Cartão Proprietário'\n\\item 'Cartão Proprietário'\n\\item 'Cartão Proprietário'\n\\item '1'\n\\item 'Cartão Proprietário'\n\\item 'Cartão Proprietário'\n\\item 'Cartão Proprietário'\n\\item 'Cartão Proprietário'\n\\item 'Cartão Proprietário'\n\\item 'Cartão Proprietário'\n\\item 'Cartão Proprietário'\n\\item 'Discover'\n\\item '1'\n\\item 'Cartão Proprietário'\n\\item 'Visa'\n\\item 'Cartão Proprietário'\n\\item 'Visa'\n\\item 'Cartão Proprietário'\n\\item '1'\n\\item 'Cartão Proprietário'\n\\item 'Cartão Proprietário'\n\\item 'Cartão Proprietário'\n\\item 'Cartão Proprietário'\n\\item 'Cartão Proprietário'\n\\item 'Cartão Proprietário'\n\\item 'Cartão Proprietário'\n\\item 'American Express'\n\\item '1'\n\\item 'Cartão Proprietário'\n\\item 'Cartão Proprietário'\n\\item 'Cartão Proprietário'\n\\item 'Cartão Proprietário'\n\\end{enumerate*}\n",
            "text/markdown": "1. 'Discover'\n2. 'Cartão Proprietário'\n3. 'Cartão Proprietário'\n4. 'Cartão Proprietário'\n5. '1'\n6. '1'\n7. 'Cartão Proprietário'\n8. 'Visa'\n9. 'Cartão Proprietário'\n10. 'Cartão Proprietário'\n11. 'Cartão Proprietário'\n12. 'Cartão Proprietário'\n13. 'Visa'\n14. 'Visa'\n15. 'Visa'\n16. 'Cartão Proprietário'\n17. 'Cartão Proprietário'\n18. 'Discover'\n19. '1'\n20. 'Cartão Proprietário'\n21. 'Cartão Proprietário'\n22. 'Cartão Proprietário'\n23. 'American Express'\n24. 'Cartão Proprietário'\n25. 'Visa'\n26. 'Cartão Proprietário'\n27. 'Cartão Proprietário'\n28. 'Cartão Proprietário'\n29. 'Cartão Proprietário'\n30. 'Cartão Proprietário'\n31. '1'\n32. 'Cartão Proprietário'\n33. 'Cartão Proprietário'\n34. 'Cartão Proprietário'\n35. '1'\n36. '1'\n37. 'Visa'\n38. 'Cartão Proprietário'\n39. 'Cartão Proprietário'\n40. 'Cartão Proprietário'\n41. 'Cartão Proprietário'\n42. 'Visa'\n43. 'Cartão Proprietário'\n44. 'Cartão Proprietário'\n45. 'Cartão Proprietário'\n46. 'Cartão Proprietário'\n47. '1'\n48. 'Cartão Proprietário'\n49. 'Cartão Proprietário'\n50. '1'\n51. 'Cartão Proprietário'\n52. 'Cartão Proprietário'\n53. 'Discover'\n54. 'Visa'\n55. '1'\n56. 'Cartão Proprietário'\n57. 'Cartão Proprietário'\n58. 'Cartão Proprietário'\n59. '1'\n60. 'Cartão Proprietário'\n61. 'Cartão Proprietário'\n62. 'Cartão Proprietário'\n63. 'Cartão Proprietário'\n64. 'Cartão Proprietário'\n65. 'Cartão Proprietário'\n66. 'Cartão Proprietário'\n67. 'Cartão Proprietário'\n68. 'Cartão Proprietário'\n69. 'Cartão Proprietário'\n70. 'Cartão Proprietário'\n71. 'Cartão Proprietário'\n72. '1'\n73. 'Cartão Proprietário'\n74. 'Cartão Proprietário'\n75. 'Cartão Proprietário'\n76. 'Cartão Proprietário'\n77. 'Cartão Proprietário'\n78. 'Cartão Proprietário'\n79. 'Cartão Proprietário'\n80. 'Discover'\n81. '1'\n82. 'Cartão Proprietário'\n83. 'Visa'\n84. 'Cartão Proprietário'\n85. 'Visa'\n86. 'Cartão Proprietário'\n87. '1'\n88. 'Cartão Proprietário'\n89. 'Cartão Proprietário'\n90. 'Cartão Proprietário'\n91. 'Cartão Proprietário'\n92. 'Cartão Proprietário'\n93. 'Cartão Proprietário'\n94. 'Cartão Proprietário'\n95. 'American Express'\n96. '1'\n97. 'Cartão Proprietário'\n98. 'Cartão Proprietário'\n99. 'Cartão Proprietário'\n100. 'Cartão Proprietário'\n\n\n",
            "text/html": [
              "<style>\n",
              ".list-inline {list-style: none; margin:0; padding: 0}\n",
              ".list-inline>li {display: inline-block}\n",
              ".list-inline>li:not(:last-child)::after {content: \"\\00b7\"; padding: 0 .5ex}\n",
              "</style>\n",
              "<ol class=list-inline><li>'Discover'</li><li>'Cartão Proprietário'</li><li>'Cartão Proprietário'</li><li>'Cartão Proprietário'</li><li>'1'</li><li>'1'</li><li>'Cartão Proprietário'</li><li>'Visa'</li><li>'Cartão Proprietário'</li><li>'Cartão Proprietário'</li><li>'Cartão Proprietário'</li><li>'Cartão Proprietário'</li><li>'Visa'</li><li>'Visa'</li><li>'Visa'</li><li>'Cartão Proprietário'</li><li>'Cartão Proprietário'</li><li>'Discover'</li><li>'1'</li><li>'Cartão Proprietário'</li><li>'Cartão Proprietário'</li><li>'Cartão Proprietário'</li><li>'American Express'</li><li>'Cartão Proprietário'</li><li>'Visa'</li><li>'Cartão Proprietário'</li><li>'Cartão Proprietário'</li><li>'Cartão Proprietário'</li><li>'Cartão Proprietário'</li><li>'Cartão Proprietário'</li><li>'1'</li><li>'Cartão Proprietário'</li><li>'Cartão Proprietário'</li><li>'Cartão Proprietário'</li><li>'1'</li><li>'1'</li><li>'Visa'</li><li>'Cartão Proprietário'</li><li>'Cartão Proprietário'</li><li>'Cartão Proprietário'</li><li>'Cartão Proprietário'</li><li>'Visa'</li><li>'Cartão Proprietário'</li><li>'Cartão Proprietário'</li><li>'Cartão Proprietário'</li><li>'Cartão Proprietário'</li><li>'1'</li><li>'Cartão Proprietário'</li><li>'Cartão Proprietário'</li><li>'1'</li><li>'Cartão Proprietário'</li><li>'Cartão Proprietário'</li><li>'Discover'</li><li>'Visa'</li><li>'1'</li><li>'Cartão Proprietário'</li><li>'Cartão Proprietário'</li><li>'Cartão Proprietário'</li><li>'1'</li><li>'Cartão Proprietário'</li><li>'Cartão Proprietário'</li><li>'Cartão Proprietário'</li><li>'Cartão Proprietário'</li><li>'Cartão Proprietário'</li><li>'Cartão Proprietário'</li><li>'Cartão Proprietário'</li><li>'Cartão Proprietário'</li><li>'Cartão Proprietário'</li><li>'Cartão Proprietário'</li><li>'Cartão Proprietário'</li><li>'Cartão Proprietário'</li><li>'1'</li><li>'Cartão Proprietário'</li><li>'Cartão Proprietário'</li><li>'Cartão Proprietário'</li><li>'Cartão Proprietário'</li><li>'Cartão Proprietário'</li><li>'Cartão Proprietário'</li><li>'Cartão Proprietário'</li><li>'Discover'</li><li>'1'</li><li>'Cartão Proprietário'</li><li>'Visa'</li><li>'Cartão Proprietário'</li><li>'Visa'</li><li>'Cartão Proprietário'</li><li>'1'</li><li>'Cartão Proprietário'</li><li>'Cartão Proprietário'</li><li>'Cartão Proprietário'</li><li>'Cartão Proprietário'</li><li>'Cartão Proprietário'</li><li>'Cartão Proprietário'</li><li>'Cartão Proprietário'</li><li>'American Express'</li><li>'1'</li><li>'Cartão Proprietário'</li><li>'Cartão Proprietário'</li><li>'Cartão Proprietário'</li><li>'Cartão Proprietário'</li></ol>\n"
            ]
          },
          "metadata": {}
        }
      ]
    },
    {
      "cell_type": "code",
      "source": [
        "cont_freq_pgto3 = str_replace(cont_freq_pgto3,\n",
        "            pattern = \"Cartão Proprietário\", \n",
        "            replacement = \"0\")\n",
        "cont_freq_pgto3    "
      ],
      "metadata": {
        "colab": {
          "base_uri": "https://localhost:8080/",
          "height": 69
        },
        "id": "z9HGk3lxR-z7",
        "outputId": "eda2166f-02c2-4ea6-eadc-aab05c216462"
      },
      "execution_count": 257,
      "outputs": [
        {
          "output_type": "display_data",
          "data": {
            "text/plain": [
              "  [1] \"Discover\"         \"0\"                \"0\"               \n",
              "  [4] \"0\"                \"1\"                \"1\"               \n",
              "  [7] \"0\"                \"Visa\"             \"0\"               \n",
              " [10] \"0\"                \"0\"                \"0\"               \n",
              " [13] \"Visa\"             \"Visa\"             \"Visa\"            \n",
              " [16] \"0\"                \"0\"                \"Discover\"        \n",
              " [19] \"1\"                \"0\"                \"0\"               \n",
              " [22] \"0\"                \"American Express\" \"0\"               \n",
              " [25] \"Visa\"             \"0\"                \"0\"               \n",
              " [28] \"0\"                \"0\"                \"0\"               \n",
              " [31] \"1\"                \"0\"                \"0\"               \n",
              " [34] \"0\"                \"1\"                \"1\"               \n",
              " [37] \"Visa\"             \"0\"                \"0\"               \n",
              " [40] \"0\"                \"0\"                \"Visa\"            \n",
              " [43] \"0\"                \"0\"                \"0\"               \n",
              " [46] \"0\"                \"1\"                \"0\"               \n",
              " [49] \"0\"                \"1\"                \"0\"               \n",
              " [52] \"0\"                \"Discover\"         \"Visa\"            \n",
              " [55] \"1\"                \"0\"                \"0\"               \n",
              " [58] \"0\"                \"1\"                \"0\"               \n",
              " [61] \"0\"                \"0\"                \"0\"               \n",
              " [64] \"0\"                \"0\"                \"0\"               \n",
              " [67] \"0\"                \"0\"                \"0\"               \n",
              " [70] \"0\"                \"0\"                \"1\"               \n",
              " [73] \"0\"                \"0\"                \"0\"               \n",
              " [76] \"0\"                \"0\"                \"0\"               \n",
              " [79] \"0\"                \"Discover\"         \"1\"               \n",
              " [82] \"0\"                \"Visa\"             \"0\"               \n",
              " [85] \"Visa\"             \"0\"                \"1\"               \n",
              " [88] \"0\"                \"0\"                \"0\"               \n",
              " [91] \"0\"                \"0\"                \"0\"               \n",
              " [94] \"0\"                \"American Express\" \"1\"               \n",
              " [97] \"0\"                \"0\"                \"0\"               \n",
              "[100] \"0\"               "
            ],
            "text/latex": "\\begin{enumerate*}\n\\item 'Discover'\n\\item '0'\n\\item '0'\n\\item '0'\n\\item '1'\n\\item '1'\n\\item '0'\n\\item 'Visa'\n\\item '0'\n\\item '0'\n\\item '0'\n\\item '0'\n\\item 'Visa'\n\\item 'Visa'\n\\item 'Visa'\n\\item '0'\n\\item '0'\n\\item 'Discover'\n\\item '1'\n\\item '0'\n\\item '0'\n\\item '0'\n\\item 'American Express'\n\\item '0'\n\\item 'Visa'\n\\item '0'\n\\item '0'\n\\item '0'\n\\item '0'\n\\item '0'\n\\item '1'\n\\item '0'\n\\item '0'\n\\item '0'\n\\item '1'\n\\item '1'\n\\item 'Visa'\n\\item '0'\n\\item '0'\n\\item '0'\n\\item '0'\n\\item 'Visa'\n\\item '0'\n\\item '0'\n\\item '0'\n\\item '0'\n\\item '1'\n\\item '0'\n\\item '0'\n\\item '1'\n\\item '0'\n\\item '0'\n\\item 'Discover'\n\\item 'Visa'\n\\item '1'\n\\item '0'\n\\item '0'\n\\item '0'\n\\item '1'\n\\item '0'\n\\item '0'\n\\item '0'\n\\item '0'\n\\item '0'\n\\item '0'\n\\item '0'\n\\item '0'\n\\item '0'\n\\item '0'\n\\item '0'\n\\item '0'\n\\item '1'\n\\item '0'\n\\item '0'\n\\item '0'\n\\item '0'\n\\item '0'\n\\item '0'\n\\item '0'\n\\item 'Discover'\n\\item '1'\n\\item '0'\n\\item 'Visa'\n\\item '0'\n\\item 'Visa'\n\\item '0'\n\\item '1'\n\\item '0'\n\\item '0'\n\\item '0'\n\\item '0'\n\\item '0'\n\\item '0'\n\\item '0'\n\\item 'American Express'\n\\item '1'\n\\item '0'\n\\item '0'\n\\item '0'\n\\item '0'\n\\end{enumerate*}\n",
            "text/markdown": "1. 'Discover'\n2. '0'\n3. '0'\n4. '0'\n5. '1'\n6. '1'\n7. '0'\n8. 'Visa'\n9. '0'\n10. '0'\n11. '0'\n12. '0'\n13. 'Visa'\n14. 'Visa'\n15. 'Visa'\n16. '0'\n17. '0'\n18. 'Discover'\n19. '1'\n20. '0'\n21. '0'\n22. '0'\n23. 'American Express'\n24. '0'\n25. 'Visa'\n26. '0'\n27. '0'\n28. '0'\n29. '0'\n30. '0'\n31. '1'\n32. '0'\n33. '0'\n34. '0'\n35. '1'\n36. '1'\n37. 'Visa'\n38. '0'\n39. '0'\n40. '0'\n41. '0'\n42. 'Visa'\n43. '0'\n44. '0'\n45. '0'\n46. '0'\n47. '1'\n48. '0'\n49. '0'\n50. '1'\n51. '0'\n52. '0'\n53. 'Discover'\n54. 'Visa'\n55. '1'\n56. '0'\n57. '0'\n58. '0'\n59. '1'\n60. '0'\n61. '0'\n62. '0'\n63. '0'\n64. '0'\n65. '0'\n66. '0'\n67. '0'\n68. '0'\n69. '0'\n70. '0'\n71. '0'\n72. '1'\n73. '0'\n74. '0'\n75. '0'\n76. '0'\n77. '0'\n78. '0'\n79. '0'\n80. 'Discover'\n81. '1'\n82. '0'\n83. 'Visa'\n84. '0'\n85. 'Visa'\n86. '0'\n87. '1'\n88. '0'\n89. '0'\n90. '0'\n91. '0'\n92. '0'\n93. '0'\n94. '0'\n95. 'American Express'\n96. '1'\n97. '0'\n98. '0'\n99. '0'\n100. '0'\n\n\n",
            "text/html": [
              "<style>\n",
              ".list-inline {list-style: none; margin:0; padding: 0}\n",
              ".list-inline>li {display: inline-block}\n",
              ".list-inline>li:not(:last-child)::after {content: \"\\00b7\"; padding: 0 .5ex}\n",
              "</style>\n",
              "<ol class=list-inline><li>'Discover'</li><li>'0'</li><li>'0'</li><li>'0'</li><li>'1'</li><li>'1'</li><li>'0'</li><li>'Visa'</li><li>'0'</li><li>'0'</li><li>'0'</li><li>'0'</li><li>'Visa'</li><li>'Visa'</li><li>'Visa'</li><li>'0'</li><li>'0'</li><li>'Discover'</li><li>'1'</li><li>'0'</li><li>'0'</li><li>'0'</li><li>'American Express'</li><li>'0'</li><li>'Visa'</li><li>'0'</li><li>'0'</li><li>'0'</li><li>'0'</li><li>'0'</li><li>'1'</li><li>'0'</li><li>'0'</li><li>'0'</li><li>'1'</li><li>'1'</li><li>'Visa'</li><li>'0'</li><li>'0'</li><li>'0'</li><li>'0'</li><li>'Visa'</li><li>'0'</li><li>'0'</li><li>'0'</li><li>'0'</li><li>'1'</li><li>'0'</li><li>'0'</li><li>'1'</li><li>'0'</li><li>'0'</li><li>'Discover'</li><li>'Visa'</li><li>'1'</li><li>'0'</li><li>'0'</li><li>'0'</li><li>'1'</li><li>'0'</li><li>'0'</li><li>'0'</li><li>'0'</li><li>'0'</li><li>'0'</li><li>'0'</li><li>'0'</li><li>'0'</li><li>'0'</li><li>'0'</li><li>'0'</li><li>'1'</li><li>'0'</li><li>'0'</li><li>'0'</li><li>'0'</li><li>'0'</li><li>'0'</li><li>'0'</li><li>'Discover'</li><li>'1'</li><li>'0'</li><li>'Visa'</li><li>'0'</li><li>'Visa'</li><li>'0'</li><li>'1'</li><li>'0'</li><li>'0'</li><li>'0'</li><li>'0'</li><li>'0'</li><li>'0'</li><li>'0'</li><li>'American Express'</li><li>'1'</li><li>'0'</li><li>'0'</li><li>'0'</li><li>'0'</li></ol>\n"
            ]
          },
          "metadata": {}
        }
      ]
    },
    {
      "cell_type": "code",
      "source": [
        "cont_freq_pgto3 = str_replace(cont_freq_pgto3,\n",
        "            pattern = \"Visa\", \n",
        "            replacement = \"0\")\n",
        "cont_freq_pgto3    "
      ],
      "metadata": {
        "colab": {
          "base_uri": "https://localhost:8080/",
          "height": 69
        },
        "id": "ZptVlJiLSE3H",
        "outputId": "429c2992-7794-4e36-e70c-946f3399e933"
      },
      "execution_count": 258,
      "outputs": [
        {
          "output_type": "display_data",
          "data": {
            "text/plain": [
              "  [1] \"Discover\"         \"0\"                \"0\"               \n",
              "  [4] \"0\"                \"1\"                \"1\"               \n",
              "  [7] \"0\"                \"0\"                \"0\"               \n",
              " [10] \"0\"                \"0\"                \"0\"               \n",
              " [13] \"0\"                \"0\"                \"0\"               \n",
              " [16] \"0\"                \"0\"                \"Discover\"        \n",
              " [19] \"1\"                \"0\"                \"0\"               \n",
              " [22] \"0\"                \"American Express\" \"0\"               \n",
              " [25] \"0\"                \"0\"                \"0\"               \n",
              " [28] \"0\"                \"0\"                \"0\"               \n",
              " [31] \"1\"                \"0\"                \"0\"               \n",
              " [34] \"0\"                \"1\"                \"1\"               \n",
              " [37] \"0\"                \"0\"                \"0\"               \n",
              " [40] \"0\"                \"0\"                \"0\"               \n",
              " [43] \"0\"                \"0\"                \"0\"               \n",
              " [46] \"0\"                \"1\"                \"0\"               \n",
              " [49] \"0\"                \"1\"                \"0\"               \n",
              " [52] \"0\"                \"Discover\"         \"0\"               \n",
              " [55] \"1\"                \"0\"                \"0\"               \n",
              " [58] \"0\"                \"1\"                \"0\"               \n",
              " [61] \"0\"                \"0\"                \"0\"               \n",
              " [64] \"0\"                \"0\"                \"0\"               \n",
              " [67] \"0\"                \"0\"                \"0\"               \n",
              " [70] \"0\"                \"0\"                \"1\"               \n",
              " [73] \"0\"                \"0\"                \"0\"               \n",
              " [76] \"0\"                \"0\"                \"0\"               \n",
              " [79] \"0\"                \"Discover\"         \"1\"               \n",
              " [82] \"0\"                \"0\"                \"0\"               \n",
              " [85] \"0\"                \"0\"                \"1\"               \n",
              " [88] \"0\"                \"0\"                \"0\"               \n",
              " [91] \"0\"                \"0\"                \"0\"               \n",
              " [94] \"0\"                \"American Express\" \"1\"               \n",
              " [97] \"0\"                \"0\"                \"0\"               \n",
              "[100] \"0\"               "
            ],
            "text/latex": "\\begin{enumerate*}\n\\item 'Discover'\n\\item '0'\n\\item '0'\n\\item '0'\n\\item '1'\n\\item '1'\n\\item '0'\n\\item '0'\n\\item '0'\n\\item '0'\n\\item '0'\n\\item '0'\n\\item '0'\n\\item '0'\n\\item '0'\n\\item '0'\n\\item '0'\n\\item 'Discover'\n\\item '1'\n\\item '0'\n\\item '0'\n\\item '0'\n\\item 'American Express'\n\\item '0'\n\\item '0'\n\\item '0'\n\\item '0'\n\\item '0'\n\\item '0'\n\\item '0'\n\\item '1'\n\\item '0'\n\\item '0'\n\\item '0'\n\\item '1'\n\\item '1'\n\\item '0'\n\\item '0'\n\\item '0'\n\\item '0'\n\\item '0'\n\\item '0'\n\\item '0'\n\\item '0'\n\\item '0'\n\\item '0'\n\\item '1'\n\\item '0'\n\\item '0'\n\\item '1'\n\\item '0'\n\\item '0'\n\\item 'Discover'\n\\item '0'\n\\item '1'\n\\item '0'\n\\item '0'\n\\item '0'\n\\item '1'\n\\item '0'\n\\item '0'\n\\item '0'\n\\item '0'\n\\item '0'\n\\item '0'\n\\item '0'\n\\item '0'\n\\item '0'\n\\item '0'\n\\item '0'\n\\item '0'\n\\item '1'\n\\item '0'\n\\item '0'\n\\item '0'\n\\item '0'\n\\item '0'\n\\item '0'\n\\item '0'\n\\item 'Discover'\n\\item '1'\n\\item '0'\n\\item '0'\n\\item '0'\n\\item '0'\n\\item '0'\n\\item '1'\n\\item '0'\n\\item '0'\n\\item '0'\n\\item '0'\n\\item '0'\n\\item '0'\n\\item '0'\n\\item 'American Express'\n\\item '1'\n\\item '0'\n\\item '0'\n\\item '0'\n\\item '0'\n\\end{enumerate*}\n",
            "text/markdown": "1. 'Discover'\n2. '0'\n3. '0'\n4. '0'\n5. '1'\n6. '1'\n7. '0'\n8. '0'\n9. '0'\n10. '0'\n11. '0'\n12. '0'\n13. '0'\n14. '0'\n15. '0'\n16. '0'\n17. '0'\n18. 'Discover'\n19. '1'\n20. '0'\n21. '0'\n22. '0'\n23. 'American Express'\n24. '0'\n25. '0'\n26. '0'\n27. '0'\n28. '0'\n29. '0'\n30. '0'\n31. '1'\n32. '0'\n33. '0'\n34. '0'\n35. '1'\n36. '1'\n37. '0'\n38. '0'\n39. '0'\n40. '0'\n41. '0'\n42. '0'\n43. '0'\n44. '0'\n45. '0'\n46. '0'\n47. '1'\n48. '0'\n49. '0'\n50. '1'\n51. '0'\n52. '0'\n53. 'Discover'\n54. '0'\n55. '1'\n56. '0'\n57. '0'\n58. '0'\n59. '1'\n60. '0'\n61. '0'\n62. '0'\n63. '0'\n64. '0'\n65. '0'\n66. '0'\n67. '0'\n68. '0'\n69. '0'\n70. '0'\n71. '0'\n72. '1'\n73. '0'\n74. '0'\n75. '0'\n76. '0'\n77. '0'\n78. '0'\n79. '0'\n80. 'Discover'\n81. '1'\n82. '0'\n83. '0'\n84. '0'\n85. '0'\n86. '0'\n87. '1'\n88. '0'\n89. '0'\n90. '0'\n91. '0'\n92. '0'\n93. '0'\n94. '0'\n95. 'American Express'\n96. '1'\n97. '0'\n98. '0'\n99. '0'\n100. '0'\n\n\n",
            "text/html": [
              "<style>\n",
              ".list-inline {list-style: none; margin:0; padding: 0}\n",
              ".list-inline>li {display: inline-block}\n",
              ".list-inline>li:not(:last-child)::after {content: \"\\00b7\"; padding: 0 .5ex}\n",
              "</style>\n",
              "<ol class=list-inline><li>'Discover'</li><li>'0'</li><li>'0'</li><li>'0'</li><li>'1'</li><li>'1'</li><li>'0'</li><li>'0'</li><li>'0'</li><li>'0'</li><li>'0'</li><li>'0'</li><li>'0'</li><li>'0'</li><li>'0'</li><li>'0'</li><li>'0'</li><li>'Discover'</li><li>'1'</li><li>'0'</li><li>'0'</li><li>'0'</li><li>'American Express'</li><li>'0'</li><li>'0'</li><li>'0'</li><li>'0'</li><li>'0'</li><li>'0'</li><li>'0'</li><li>'1'</li><li>'0'</li><li>'0'</li><li>'0'</li><li>'1'</li><li>'1'</li><li>'0'</li><li>'0'</li><li>'0'</li><li>'0'</li><li>'0'</li><li>'0'</li><li>'0'</li><li>'0'</li><li>'0'</li><li>'0'</li><li>'1'</li><li>'0'</li><li>'0'</li><li>'1'</li><li>'0'</li><li>'0'</li><li>'Discover'</li><li>'0'</li><li>'1'</li><li>'0'</li><li>'0'</li><li>'0'</li><li>'1'</li><li>'0'</li><li>'0'</li><li>'0'</li><li>'0'</li><li>'0'</li><li>'0'</li><li>'0'</li><li>'0'</li><li>'0'</li><li>'0'</li><li>'0'</li><li>'0'</li><li>'1'</li><li>'0'</li><li>'0'</li><li>'0'</li><li>'0'</li><li>'0'</li><li>'0'</li><li>'0'</li><li>'Discover'</li><li>'1'</li><li>'0'</li><li>'0'</li><li>'0'</li><li>'0'</li><li>'0'</li><li>'1'</li><li>'0'</li><li>'0'</li><li>'0'</li><li>'0'</li><li>'0'</li><li>'0'</li><li>'0'</li><li>'American Express'</li><li>'1'</li><li>'0'</li><li>'0'</li><li>'0'</li><li>'0'</li></ol>\n"
            ]
          },
          "metadata": {}
        }
      ]
    },
    {
      "cell_type": "code",
      "source": [
        "cont_freq_pgto3 = str_replace(cont_freq_pgto3,\n",
        "            pattern = \"Discover\", \n",
        "            replacement = \"0\")\n",
        "cont_freq_pgto3    "
      ],
      "metadata": {
        "colab": {
          "base_uri": "https://localhost:8080/",
          "height": 52
        },
        "id": "NSZx04hZSHTd",
        "outputId": "51a04a08-58b5-49b3-95e0-03ccd5988856"
      },
      "execution_count": 259,
      "outputs": [
        {
          "output_type": "display_data",
          "data": {
            "text/plain": [
              "  [1] \"0\"                \"0\"                \"0\"               \n",
              "  [4] \"0\"                \"1\"                \"1\"               \n",
              "  [7] \"0\"                \"0\"                \"0\"               \n",
              " [10] \"0\"                \"0\"                \"0\"               \n",
              " [13] \"0\"                \"0\"                \"0\"               \n",
              " [16] \"0\"                \"0\"                \"0\"               \n",
              " [19] \"1\"                \"0\"                \"0\"               \n",
              " [22] \"0\"                \"American Express\" \"0\"               \n",
              " [25] \"0\"                \"0\"                \"0\"               \n",
              " [28] \"0\"                \"0\"                \"0\"               \n",
              " [31] \"1\"                \"0\"                \"0\"               \n",
              " [34] \"0\"                \"1\"                \"1\"               \n",
              " [37] \"0\"                \"0\"                \"0\"               \n",
              " [40] \"0\"                \"0\"                \"0\"               \n",
              " [43] \"0\"                \"0\"                \"0\"               \n",
              " [46] \"0\"                \"1\"                \"0\"               \n",
              " [49] \"0\"                \"1\"                \"0\"               \n",
              " [52] \"0\"                \"0\"                \"0\"               \n",
              " [55] \"1\"                \"0\"                \"0\"               \n",
              " [58] \"0\"                \"1\"                \"0\"               \n",
              " [61] \"0\"                \"0\"                \"0\"               \n",
              " [64] \"0\"                \"0\"                \"0\"               \n",
              " [67] \"0\"                \"0\"                \"0\"               \n",
              " [70] \"0\"                \"0\"                \"1\"               \n",
              " [73] \"0\"                \"0\"                \"0\"               \n",
              " [76] \"0\"                \"0\"                \"0\"               \n",
              " [79] \"0\"                \"0\"                \"1\"               \n",
              " [82] \"0\"                \"0\"                \"0\"               \n",
              " [85] \"0\"                \"0\"                \"1\"               \n",
              " [88] \"0\"                \"0\"                \"0\"               \n",
              " [91] \"0\"                \"0\"                \"0\"               \n",
              " [94] \"0\"                \"American Express\" \"1\"               \n",
              " [97] \"0\"                \"0\"                \"0\"               \n",
              "[100] \"0\"               "
            ],
            "text/latex": "\\begin{enumerate*}\n\\item '0'\n\\item '0'\n\\item '0'\n\\item '0'\n\\item '1'\n\\item '1'\n\\item '0'\n\\item '0'\n\\item '0'\n\\item '0'\n\\item '0'\n\\item '0'\n\\item '0'\n\\item '0'\n\\item '0'\n\\item '0'\n\\item '0'\n\\item '0'\n\\item '1'\n\\item '0'\n\\item '0'\n\\item '0'\n\\item 'American Express'\n\\item '0'\n\\item '0'\n\\item '0'\n\\item '0'\n\\item '0'\n\\item '0'\n\\item '0'\n\\item '1'\n\\item '0'\n\\item '0'\n\\item '0'\n\\item '1'\n\\item '1'\n\\item '0'\n\\item '0'\n\\item '0'\n\\item '0'\n\\item '0'\n\\item '0'\n\\item '0'\n\\item '0'\n\\item '0'\n\\item '0'\n\\item '1'\n\\item '0'\n\\item '0'\n\\item '1'\n\\item '0'\n\\item '0'\n\\item '0'\n\\item '0'\n\\item '1'\n\\item '0'\n\\item '0'\n\\item '0'\n\\item '1'\n\\item '0'\n\\item '0'\n\\item '0'\n\\item '0'\n\\item '0'\n\\item '0'\n\\item '0'\n\\item '0'\n\\item '0'\n\\item '0'\n\\item '0'\n\\item '0'\n\\item '1'\n\\item '0'\n\\item '0'\n\\item '0'\n\\item '0'\n\\item '0'\n\\item '0'\n\\item '0'\n\\item '0'\n\\item '1'\n\\item '0'\n\\item '0'\n\\item '0'\n\\item '0'\n\\item '0'\n\\item '1'\n\\item '0'\n\\item '0'\n\\item '0'\n\\item '0'\n\\item '0'\n\\item '0'\n\\item '0'\n\\item 'American Express'\n\\item '1'\n\\item '0'\n\\item '0'\n\\item '0'\n\\item '0'\n\\end{enumerate*}\n",
            "text/markdown": "1. '0'\n2. '0'\n3. '0'\n4. '0'\n5. '1'\n6. '1'\n7. '0'\n8. '0'\n9. '0'\n10. '0'\n11. '0'\n12. '0'\n13. '0'\n14. '0'\n15. '0'\n16. '0'\n17. '0'\n18. '0'\n19. '1'\n20. '0'\n21. '0'\n22. '0'\n23. 'American Express'\n24. '0'\n25. '0'\n26. '0'\n27. '0'\n28. '0'\n29. '0'\n30. '0'\n31. '1'\n32. '0'\n33. '0'\n34. '0'\n35. '1'\n36. '1'\n37. '0'\n38. '0'\n39. '0'\n40. '0'\n41. '0'\n42. '0'\n43. '0'\n44. '0'\n45. '0'\n46. '0'\n47. '1'\n48. '0'\n49. '0'\n50. '1'\n51. '0'\n52. '0'\n53. '0'\n54. '0'\n55. '1'\n56. '0'\n57. '0'\n58. '0'\n59. '1'\n60. '0'\n61. '0'\n62. '0'\n63. '0'\n64. '0'\n65. '0'\n66. '0'\n67. '0'\n68. '0'\n69. '0'\n70. '0'\n71. '0'\n72. '1'\n73. '0'\n74. '0'\n75. '0'\n76. '0'\n77. '0'\n78. '0'\n79. '0'\n80. '0'\n81. '1'\n82. '0'\n83. '0'\n84. '0'\n85. '0'\n86. '0'\n87. '1'\n88. '0'\n89. '0'\n90. '0'\n91. '0'\n92. '0'\n93. '0'\n94. '0'\n95. 'American Express'\n96. '1'\n97. '0'\n98. '0'\n99. '0'\n100. '0'\n\n\n",
            "text/html": [
              "<style>\n",
              ".list-inline {list-style: none; margin:0; padding: 0}\n",
              ".list-inline>li {display: inline-block}\n",
              ".list-inline>li:not(:last-child)::after {content: \"\\00b7\"; padding: 0 .5ex}\n",
              "</style>\n",
              "<ol class=list-inline><li>'0'</li><li>'0'</li><li>'0'</li><li>'0'</li><li>'1'</li><li>'1'</li><li>'0'</li><li>'0'</li><li>'0'</li><li>'0'</li><li>'0'</li><li>'0'</li><li>'0'</li><li>'0'</li><li>'0'</li><li>'0'</li><li>'0'</li><li>'0'</li><li>'1'</li><li>'0'</li><li>'0'</li><li>'0'</li><li>'American Express'</li><li>'0'</li><li>'0'</li><li>'0'</li><li>'0'</li><li>'0'</li><li>'0'</li><li>'0'</li><li>'1'</li><li>'0'</li><li>'0'</li><li>'0'</li><li>'1'</li><li>'1'</li><li>'0'</li><li>'0'</li><li>'0'</li><li>'0'</li><li>'0'</li><li>'0'</li><li>'0'</li><li>'0'</li><li>'0'</li><li>'0'</li><li>'1'</li><li>'0'</li><li>'0'</li><li>'1'</li><li>'0'</li><li>'0'</li><li>'0'</li><li>'0'</li><li>'1'</li><li>'0'</li><li>'0'</li><li>'0'</li><li>'1'</li><li>'0'</li><li>'0'</li><li>'0'</li><li>'0'</li><li>'0'</li><li>'0'</li><li>'0'</li><li>'0'</li><li>'0'</li><li>'0'</li><li>'0'</li><li>'0'</li><li>'1'</li><li>'0'</li><li>'0'</li><li>'0'</li><li>'0'</li><li>'0'</li><li>'0'</li><li>'0'</li><li>'0'</li><li>'1'</li><li>'0'</li><li>'0'</li><li>'0'</li><li>'0'</li><li>'0'</li><li>'1'</li><li>'0'</li><li>'0'</li><li>'0'</li><li>'0'</li><li>'0'</li><li>'0'</li><li>'0'</li><li>'American Express'</li><li>'1'</li><li>'0'</li><li>'0'</li><li>'0'</li><li>'0'</li></ol>\n"
            ]
          },
          "metadata": {}
        }
      ]
    },
    {
      "cell_type": "code",
      "source": [
        "cont_freq_pgto3 = str_replace(cont_freq_pgto3,\n",
        "            pattern = \"American Express\", \n",
        "            replacement = \"0\")\n",
        "cont_freq_pgto3    "
      ],
      "metadata": {
        "colab": {
          "base_uri": "https://localhost:8080/",
          "height": 52
        },
        "id": "jWDnWSSBSJ8P",
        "outputId": "5508837e-9eb0-4c19-c1f6-a363d2466f6a"
      },
      "execution_count": 260,
      "outputs": [
        {
          "output_type": "display_data",
          "data": {
            "text/plain": [
              "  [1] \"0\" \"0\" \"0\" \"0\" \"1\" \"1\" \"0\" \"0\" \"0\" \"0\" \"0\" \"0\" \"0\" \"0\" \"0\" \"0\" \"0\" \"0\"\n",
              " [19] \"1\" \"0\" \"0\" \"0\" \"0\" \"0\" \"0\" \"0\" \"0\" \"0\" \"0\" \"0\" \"1\" \"0\" \"0\" \"0\" \"1\" \"1\"\n",
              " [37] \"0\" \"0\" \"0\" \"0\" \"0\" \"0\" \"0\" \"0\" \"0\" \"0\" \"1\" \"0\" \"0\" \"1\" \"0\" \"0\" \"0\" \"0\"\n",
              " [55] \"1\" \"0\" \"0\" \"0\" \"1\" \"0\" \"0\" \"0\" \"0\" \"0\" \"0\" \"0\" \"0\" \"0\" \"0\" \"0\" \"0\" \"1\"\n",
              " [73] \"0\" \"0\" \"0\" \"0\" \"0\" \"0\" \"0\" \"0\" \"1\" \"0\" \"0\" \"0\" \"0\" \"0\" \"1\" \"0\" \"0\" \"0\"\n",
              " [91] \"0\" \"0\" \"0\" \"0\" \"0\" \"1\" \"0\" \"0\" \"0\" \"0\""
            ],
            "text/latex": "\\begin{enumerate*}\n\\item '0'\n\\item '0'\n\\item '0'\n\\item '0'\n\\item '1'\n\\item '1'\n\\item '0'\n\\item '0'\n\\item '0'\n\\item '0'\n\\item '0'\n\\item '0'\n\\item '0'\n\\item '0'\n\\item '0'\n\\item '0'\n\\item '0'\n\\item '0'\n\\item '1'\n\\item '0'\n\\item '0'\n\\item '0'\n\\item '0'\n\\item '0'\n\\item '0'\n\\item '0'\n\\item '0'\n\\item '0'\n\\item '0'\n\\item '0'\n\\item '1'\n\\item '0'\n\\item '0'\n\\item '0'\n\\item '1'\n\\item '1'\n\\item '0'\n\\item '0'\n\\item '0'\n\\item '0'\n\\item '0'\n\\item '0'\n\\item '0'\n\\item '0'\n\\item '0'\n\\item '0'\n\\item '1'\n\\item '0'\n\\item '0'\n\\item '1'\n\\item '0'\n\\item '0'\n\\item '0'\n\\item '0'\n\\item '1'\n\\item '0'\n\\item '0'\n\\item '0'\n\\item '1'\n\\item '0'\n\\item '0'\n\\item '0'\n\\item '0'\n\\item '0'\n\\item '0'\n\\item '0'\n\\item '0'\n\\item '0'\n\\item '0'\n\\item '0'\n\\item '0'\n\\item '1'\n\\item '0'\n\\item '0'\n\\item '0'\n\\item '0'\n\\item '0'\n\\item '0'\n\\item '0'\n\\item '0'\n\\item '1'\n\\item '0'\n\\item '0'\n\\item '0'\n\\item '0'\n\\item '0'\n\\item '1'\n\\item '0'\n\\item '0'\n\\item '0'\n\\item '0'\n\\item '0'\n\\item '0'\n\\item '0'\n\\item '0'\n\\item '1'\n\\item '0'\n\\item '0'\n\\item '0'\n\\item '0'\n\\end{enumerate*}\n",
            "text/markdown": "1. '0'\n2. '0'\n3. '0'\n4. '0'\n5. '1'\n6. '1'\n7. '0'\n8. '0'\n9. '0'\n10. '0'\n11. '0'\n12. '0'\n13. '0'\n14. '0'\n15. '0'\n16. '0'\n17. '0'\n18. '0'\n19. '1'\n20. '0'\n21. '0'\n22. '0'\n23. '0'\n24. '0'\n25. '0'\n26. '0'\n27. '0'\n28. '0'\n29. '0'\n30. '0'\n31. '1'\n32. '0'\n33. '0'\n34. '0'\n35. '1'\n36. '1'\n37. '0'\n38. '0'\n39. '0'\n40. '0'\n41. '0'\n42. '0'\n43. '0'\n44. '0'\n45. '0'\n46. '0'\n47. '1'\n48. '0'\n49. '0'\n50. '1'\n51. '0'\n52. '0'\n53. '0'\n54. '0'\n55. '1'\n56. '0'\n57. '0'\n58. '0'\n59. '1'\n60. '0'\n61. '0'\n62. '0'\n63. '0'\n64. '0'\n65. '0'\n66. '0'\n67. '0'\n68. '0'\n69. '0'\n70. '0'\n71. '0'\n72. '1'\n73. '0'\n74. '0'\n75. '0'\n76. '0'\n77. '0'\n78. '0'\n79. '0'\n80. '0'\n81. '1'\n82. '0'\n83. '0'\n84. '0'\n85. '0'\n86. '0'\n87. '1'\n88. '0'\n89. '0'\n90. '0'\n91. '0'\n92. '0'\n93. '0'\n94. '0'\n95. '0'\n96. '1'\n97. '0'\n98. '0'\n99. '0'\n100. '0'\n\n\n",
            "text/html": [
              "<style>\n",
              ".list-inline {list-style: none; margin:0; padding: 0}\n",
              ".list-inline>li {display: inline-block}\n",
              ".list-inline>li:not(:last-child)::after {content: \"\\00b7\"; padding: 0 .5ex}\n",
              "</style>\n",
              "<ol class=list-inline><li>'0'</li><li>'0'</li><li>'0'</li><li>'0'</li><li>'1'</li><li>'1'</li><li>'0'</li><li>'0'</li><li>'0'</li><li>'0'</li><li>'0'</li><li>'0'</li><li>'0'</li><li>'0'</li><li>'0'</li><li>'0'</li><li>'0'</li><li>'0'</li><li>'1'</li><li>'0'</li><li>'0'</li><li>'0'</li><li>'0'</li><li>'0'</li><li>'0'</li><li>'0'</li><li>'0'</li><li>'0'</li><li>'0'</li><li>'0'</li><li>'1'</li><li>'0'</li><li>'0'</li><li>'0'</li><li>'1'</li><li>'1'</li><li>'0'</li><li>'0'</li><li>'0'</li><li>'0'</li><li>'0'</li><li>'0'</li><li>'0'</li><li>'0'</li><li>'0'</li><li>'0'</li><li>'1'</li><li>'0'</li><li>'0'</li><li>'1'</li><li>'0'</li><li>'0'</li><li>'0'</li><li>'0'</li><li>'1'</li><li>'0'</li><li>'0'</li><li>'0'</li><li>'1'</li><li>'0'</li><li>'0'</li><li>'0'</li><li>'0'</li><li>'0'</li><li>'0'</li><li>'0'</li><li>'0'</li><li>'0'</li><li>'0'</li><li>'0'</li><li>'0'</li><li>'1'</li><li>'0'</li><li>'0'</li><li>'0'</li><li>'0'</li><li>'0'</li><li>'0'</li><li>'0'</li><li>'0'</li><li>'1'</li><li>'0'</li><li>'0'</li><li>'0'</li><li>'0'</li><li>'0'</li><li>'1'</li><li>'0'</li><li>'0'</li><li>'0'</li><li>'0'</li><li>'0'</li><li>'0'</li><li>'0'</li><li>'0'</li><li>'1'</li><li>'0'</li><li>'0'</li><li>'0'</li><li>'0'</li></ol>\n"
            ]
          },
          "metadata": {}
        }
      ]
    },
    {
      "cell_type": "code",
      "source": [
        "cont_freq_pgto3 <- as.numeric(sub(\"\", \"\", cont_freq_pgto3))\n",
        "cont_freq_pgto3 = sum(cont_freq_pgto3)\n",
        "cont_freq_pgto3"
      ],
      "metadata": {
        "colab": {
          "base_uri": "https://localhost:8080/",
          "height": 34
        },
        "id": "nvdOYIxUSNVv",
        "outputId": "c4a8f46b-af6c-46be-bf63-edc167fa5688"
      },
      "execution_count": 261,
      "outputs": [
        {
          "output_type": "display_data",
          "data": {
            "text/plain": [
              "[1] 14"
            ],
            "text/latex": "14",
            "text/markdown": "14",
            "text/html": [
              "14"
            ]
          },
          "metadata": {}
        }
      ]
    },
    {
      "cell_type": "code",
      "source": [
        "cont_freq_pgto4 = str_replace(dados$`Método.de.Pagamento`,\n",
        "            pattern = \"Visa\", \n",
        "            replacement = \"1\")\n",
        "cont_freq_pgto4    "
      ],
      "metadata": {
        "colab": {
          "base_uri": "https://localhost:8080/",
          "height": 173
        },
        "id": "nyM8Uz4nS4G5",
        "outputId": "18d741ac-e120-4893-f863-fae91e2696a2"
      },
      "execution_count": 262,
      "outputs": [
        {
          "output_type": "display_data",
          "data": {
            "text/plain": [
              "  [1] \"Discover\"            \"Cartão Proprietário\" \"Cartão Proprietário\"\n",
              "  [4] \"Cartão Proprietário\" \"MasterCard\"          \"MasterCard\"         \n",
              "  [7] \"Cartão Proprietário\" \"1\"                   \"Cartão Proprietário\"\n",
              " [10] \"Cartão Proprietário\" \"Cartão Proprietário\" \"Cartão Proprietário\"\n",
              " [13] \"1\"                   \"1\"                   \"1\"                  \n",
              " [16] \"Cartão Proprietário\" \"Cartão Proprietário\" \"Discover\"           \n",
              " [19] \"MasterCard\"          \"Cartão Proprietário\" \"Cartão Proprietário\"\n",
              " [22] \"Cartão Proprietário\" \"American Express\"    \"Cartão Proprietário\"\n",
              " [25] \"1\"                   \"Cartão Proprietário\" \"Cartão Proprietário\"\n",
              " [28] \"Cartão Proprietário\" \"Cartão Proprietário\" \"Cartão Proprietário\"\n",
              " [31] \"MasterCard\"          \"Cartão Proprietário\" \"Cartão Proprietário\"\n",
              " [34] \"Cartão Proprietário\" \"MasterCard\"          \"MasterCard\"         \n",
              " [37] \"1\"                   \"Cartão Proprietário\" \"Cartão Proprietário\"\n",
              " [40] \"Cartão Proprietário\" \"Cartão Proprietário\" \"1\"                  \n",
              " [43] \"Cartão Proprietário\" \"Cartão Proprietário\" \"Cartão Proprietário\"\n",
              " [46] \"Cartão Proprietário\" \"MasterCard\"          \"Cartão Proprietário\"\n",
              " [49] \"Cartão Proprietário\" \"MasterCard\"          \"Cartão Proprietário\"\n",
              " [52] \"Cartão Proprietário\" \"Discover\"            \"1\"                  \n",
              " [55] \"MasterCard\"          \"Cartão Proprietário\" \"Cartão Proprietário\"\n",
              " [58] \"Cartão Proprietário\" \"MasterCard\"          \"Cartão Proprietário\"\n",
              " [61] \"Cartão Proprietário\" \"Cartão Proprietário\" \"Cartão Proprietário\"\n",
              " [64] \"Cartão Proprietário\" \"Cartão Proprietário\" \"Cartão Proprietário\"\n",
              " [67] \"Cartão Proprietário\" \"Cartão Proprietário\" \"Cartão Proprietário\"\n",
              " [70] \"Cartão Proprietário\" \"Cartão Proprietário\" \"MasterCard\"         \n",
              " [73] \"Cartão Proprietário\" \"Cartão Proprietário\" \"Cartão Proprietário\"\n",
              " [76] \"Cartão Proprietário\" \"Cartão Proprietário\" \"Cartão Proprietário\"\n",
              " [79] \"Cartão Proprietário\" \"Discover\"            \"MasterCard\"         \n",
              " [82] \"Cartão Proprietário\" \"1\"                   \"Cartão Proprietário\"\n",
              " [85] \"1\"                   \"Cartão Proprietário\" \"MasterCard\"         \n",
              " [88] \"Cartão Proprietário\" \"Cartão Proprietário\" \"Cartão Proprietário\"\n",
              " [91] \"Cartão Proprietário\" \"Cartão Proprietário\" \"Cartão Proprietário\"\n",
              " [94] \"Cartão Proprietário\" \"American Express\"    \"MasterCard\"         \n",
              " [97] \"Cartão Proprietário\" \"Cartão Proprietário\" \"Cartão Proprietário\"\n",
              "[100] \"Cartão Proprietário\""
            ],
            "text/latex": "\\begin{enumerate*}\n\\item 'Discover'\n\\item 'Cartão Proprietário'\n\\item 'Cartão Proprietário'\n\\item 'Cartão Proprietário'\n\\item 'MasterCard'\n\\item 'MasterCard'\n\\item 'Cartão Proprietário'\n\\item '1'\n\\item 'Cartão Proprietário'\n\\item 'Cartão Proprietário'\n\\item 'Cartão Proprietário'\n\\item 'Cartão Proprietário'\n\\item '1'\n\\item '1'\n\\item '1'\n\\item 'Cartão Proprietário'\n\\item 'Cartão Proprietário'\n\\item 'Discover'\n\\item 'MasterCard'\n\\item 'Cartão Proprietário'\n\\item 'Cartão Proprietário'\n\\item 'Cartão Proprietário'\n\\item 'American Express'\n\\item 'Cartão Proprietário'\n\\item '1'\n\\item 'Cartão Proprietário'\n\\item 'Cartão Proprietário'\n\\item 'Cartão Proprietário'\n\\item 'Cartão Proprietário'\n\\item 'Cartão Proprietário'\n\\item 'MasterCard'\n\\item 'Cartão Proprietário'\n\\item 'Cartão Proprietário'\n\\item 'Cartão Proprietário'\n\\item 'MasterCard'\n\\item 'MasterCard'\n\\item '1'\n\\item 'Cartão Proprietário'\n\\item 'Cartão Proprietário'\n\\item 'Cartão Proprietário'\n\\item 'Cartão Proprietário'\n\\item '1'\n\\item 'Cartão Proprietário'\n\\item 'Cartão Proprietário'\n\\item 'Cartão Proprietário'\n\\item 'Cartão Proprietário'\n\\item 'MasterCard'\n\\item 'Cartão Proprietário'\n\\item 'Cartão Proprietário'\n\\item 'MasterCard'\n\\item 'Cartão Proprietário'\n\\item 'Cartão Proprietário'\n\\item 'Discover'\n\\item '1'\n\\item 'MasterCard'\n\\item 'Cartão Proprietário'\n\\item 'Cartão Proprietário'\n\\item 'Cartão Proprietário'\n\\item 'MasterCard'\n\\item 'Cartão Proprietário'\n\\item 'Cartão Proprietário'\n\\item 'Cartão Proprietário'\n\\item 'Cartão Proprietário'\n\\item 'Cartão Proprietário'\n\\item 'Cartão Proprietário'\n\\item 'Cartão Proprietário'\n\\item 'Cartão Proprietário'\n\\item 'Cartão Proprietário'\n\\item 'Cartão Proprietário'\n\\item 'Cartão Proprietário'\n\\item 'Cartão Proprietário'\n\\item 'MasterCard'\n\\item 'Cartão Proprietário'\n\\item 'Cartão Proprietário'\n\\item 'Cartão Proprietário'\n\\item 'Cartão Proprietário'\n\\item 'Cartão Proprietário'\n\\item 'Cartão Proprietário'\n\\item 'Cartão Proprietário'\n\\item 'Discover'\n\\item 'MasterCard'\n\\item 'Cartão Proprietário'\n\\item '1'\n\\item 'Cartão Proprietário'\n\\item '1'\n\\item 'Cartão Proprietário'\n\\item 'MasterCard'\n\\item 'Cartão Proprietário'\n\\item 'Cartão Proprietário'\n\\item 'Cartão Proprietário'\n\\item 'Cartão Proprietário'\n\\item 'Cartão Proprietário'\n\\item 'Cartão Proprietário'\n\\item 'Cartão Proprietário'\n\\item 'American Express'\n\\item 'MasterCard'\n\\item 'Cartão Proprietário'\n\\item 'Cartão Proprietário'\n\\item 'Cartão Proprietário'\n\\item 'Cartão Proprietário'\n\\end{enumerate*}\n",
            "text/markdown": "1. 'Discover'\n2. 'Cartão Proprietário'\n3. 'Cartão Proprietário'\n4. 'Cartão Proprietário'\n5. 'MasterCard'\n6. 'MasterCard'\n7. 'Cartão Proprietário'\n8. '1'\n9. 'Cartão Proprietário'\n10. 'Cartão Proprietário'\n11. 'Cartão Proprietário'\n12. 'Cartão Proprietário'\n13. '1'\n14. '1'\n15. '1'\n16. 'Cartão Proprietário'\n17. 'Cartão Proprietário'\n18. 'Discover'\n19. 'MasterCard'\n20. 'Cartão Proprietário'\n21. 'Cartão Proprietário'\n22. 'Cartão Proprietário'\n23. 'American Express'\n24. 'Cartão Proprietário'\n25. '1'\n26. 'Cartão Proprietário'\n27. 'Cartão Proprietário'\n28. 'Cartão Proprietário'\n29. 'Cartão Proprietário'\n30. 'Cartão Proprietário'\n31. 'MasterCard'\n32. 'Cartão Proprietário'\n33. 'Cartão Proprietário'\n34. 'Cartão Proprietário'\n35. 'MasterCard'\n36. 'MasterCard'\n37. '1'\n38. 'Cartão Proprietário'\n39. 'Cartão Proprietário'\n40. 'Cartão Proprietário'\n41. 'Cartão Proprietário'\n42. '1'\n43. 'Cartão Proprietário'\n44. 'Cartão Proprietário'\n45. 'Cartão Proprietário'\n46. 'Cartão Proprietário'\n47. 'MasterCard'\n48. 'Cartão Proprietário'\n49. 'Cartão Proprietário'\n50. 'MasterCard'\n51. 'Cartão Proprietário'\n52. 'Cartão Proprietário'\n53. 'Discover'\n54. '1'\n55. 'MasterCard'\n56. 'Cartão Proprietário'\n57. 'Cartão Proprietário'\n58. 'Cartão Proprietário'\n59. 'MasterCard'\n60. 'Cartão Proprietário'\n61. 'Cartão Proprietário'\n62. 'Cartão Proprietário'\n63. 'Cartão Proprietário'\n64. 'Cartão Proprietário'\n65. 'Cartão Proprietário'\n66. 'Cartão Proprietário'\n67. 'Cartão Proprietário'\n68. 'Cartão Proprietário'\n69. 'Cartão Proprietário'\n70. 'Cartão Proprietário'\n71. 'Cartão Proprietário'\n72. 'MasterCard'\n73. 'Cartão Proprietário'\n74. 'Cartão Proprietário'\n75. 'Cartão Proprietário'\n76. 'Cartão Proprietário'\n77. 'Cartão Proprietário'\n78. 'Cartão Proprietário'\n79. 'Cartão Proprietário'\n80. 'Discover'\n81. 'MasterCard'\n82. 'Cartão Proprietário'\n83. '1'\n84. 'Cartão Proprietário'\n85. '1'\n86. 'Cartão Proprietário'\n87. 'MasterCard'\n88. 'Cartão Proprietário'\n89. 'Cartão Proprietário'\n90. 'Cartão Proprietário'\n91. 'Cartão Proprietário'\n92. 'Cartão Proprietário'\n93. 'Cartão Proprietário'\n94. 'Cartão Proprietário'\n95. 'American Express'\n96. 'MasterCard'\n97. 'Cartão Proprietário'\n98. 'Cartão Proprietário'\n99. 'Cartão Proprietário'\n100. 'Cartão Proprietário'\n\n\n",
            "text/html": [
              "<style>\n",
              ".list-inline {list-style: none; margin:0; padding: 0}\n",
              ".list-inline>li {display: inline-block}\n",
              ".list-inline>li:not(:last-child)::after {content: \"\\00b7\"; padding: 0 .5ex}\n",
              "</style>\n",
              "<ol class=list-inline><li>'Discover'</li><li>'Cartão Proprietário'</li><li>'Cartão Proprietário'</li><li>'Cartão Proprietário'</li><li>'MasterCard'</li><li>'MasterCard'</li><li>'Cartão Proprietário'</li><li>'1'</li><li>'Cartão Proprietário'</li><li>'Cartão Proprietário'</li><li>'Cartão Proprietário'</li><li>'Cartão Proprietário'</li><li>'1'</li><li>'1'</li><li>'1'</li><li>'Cartão Proprietário'</li><li>'Cartão Proprietário'</li><li>'Discover'</li><li>'MasterCard'</li><li>'Cartão Proprietário'</li><li>'Cartão Proprietário'</li><li>'Cartão Proprietário'</li><li>'American Express'</li><li>'Cartão Proprietário'</li><li>'1'</li><li>'Cartão Proprietário'</li><li>'Cartão Proprietário'</li><li>'Cartão Proprietário'</li><li>'Cartão Proprietário'</li><li>'Cartão Proprietário'</li><li>'MasterCard'</li><li>'Cartão Proprietário'</li><li>'Cartão Proprietário'</li><li>'Cartão Proprietário'</li><li>'MasterCard'</li><li>'MasterCard'</li><li>'1'</li><li>'Cartão Proprietário'</li><li>'Cartão Proprietário'</li><li>'Cartão Proprietário'</li><li>'Cartão Proprietário'</li><li>'1'</li><li>'Cartão Proprietário'</li><li>'Cartão Proprietário'</li><li>'Cartão Proprietário'</li><li>'Cartão Proprietário'</li><li>'MasterCard'</li><li>'Cartão Proprietário'</li><li>'Cartão Proprietário'</li><li>'MasterCard'</li><li>'Cartão Proprietário'</li><li>'Cartão Proprietário'</li><li>'Discover'</li><li>'1'</li><li>'MasterCard'</li><li>'Cartão Proprietário'</li><li>'Cartão Proprietário'</li><li>'Cartão Proprietário'</li><li>'MasterCard'</li><li>'Cartão Proprietário'</li><li>'Cartão Proprietário'</li><li>'Cartão Proprietário'</li><li>'Cartão Proprietário'</li><li>'Cartão Proprietário'</li><li>'Cartão Proprietário'</li><li>'Cartão Proprietário'</li><li>'Cartão Proprietário'</li><li>'Cartão Proprietário'</li><li>'Cartão Proprietário'</li><li>'Cartão Proprietário'</li><li>'Cartão Proprietário'</li><li>'MasterCard'</li><li>'Cartão Proprietário'</li><li>'Cartão Proprietário'</li><li>'Cartão Proprietário'</li><li>'Cartão Proprietário'</li><li>'Cartão Proprietário'</li><li>'Cartão Proprietário'</li><li>'Cartão Proprietário'</li><li>'Discover'</li><li>'MasterCard'</li><li>'Cartão Proprietário'</li><li>'1'</li><li>'Cartão Proprietário'</li><li>'1'</li><li>'Cartão Proprietário'</li><li>'MasterCard'</li><li>'Cartão Proprietário'</li><li>'Cartão Proprietário'</li><li>'Cartão Proprietário'</li><li>'Cartão Proprietário'</li><li>'Cartão Proprietário'</li><li>'Cartão Proprietário'</li><li>'Cartão Proprietário'</li><li>'American Express'</li><li>'MasterCard'</li><li>'Cartão Proprietário'</li><li>'Cartão Proprietário'</li><li>'Cartão Proprietário'</li><li>'Cartão Proprietário'</li></ol>\n"
            ]
          },
          "metadata": {}
        }
      ]
    },
    {
      "cell_type": "code",
      "source": [
        "cont_freq_pgto4 = str_replace(cont_freq_pgto4,\n",
        "            pattern = \"Cartão Proprietário\", \n",
        "            replacement = \"0\")\n",
        "cont_freq_pgto4    "
      ],
      "metadata": {
        "colab": {
          "base_uri": "https://localhost:8080/",
          "height": 69
        },
        "id": "Na7TUr9XS9AE",
        "outputId": "e276d123-fe78-47d0-a324-8a9ece221683"
      },
      "execution_count": 263,
      "outputs": [
        {
          "output_type": "display_data",
          "data": {
            "text/plain": [
              "  [1] \"Discover\"         \"0\"                \"0\"               \n",
              "  [4] \"0\"                \"MasterCard\"       \"MasterCard\"      \n",
              "  [7] \"0\"                \"1\"                \"0\"               \n",
              " [10] \"0\"                \"0\"                \"0\"               \n",
              " [13] \"1\"                \"1\"                \"1\"               \n",
              " [16] \"0\"                \"0\"                \"Discover\"        \n",
              " [19] \"MasterCard\"       \"0\"                \"0\"               \n",
              " [22] \"0\"                \"American Express\" \"0\"               \n",
              " [25] \"1\"                \"0\"                \"0\"               \n",
              " [28] \"0\"                \"0\"                \"0\"               \n",
              " [31] \"MasterCard\"       \"0\"                \"0\"               \n",
              " [34] \"0\"                \"MasterCard\"       \"MasterCard\"      \n",
              " [37] \"1\"                \"0\"                \"0\"               \n",
              " [40] \"0\"                \"0\"                \"1\"               \n",
              " [43] \"0\"                \"0\"                \"0\"               \n",
              " [46] \"0\"                \"MasterCard\"       \"0\"               \n",
              " [49] \"0\"                \"MasterCard\"       \"0\"               \n",
              " [52] \"0\"                \"Discover\"         \"1\"               \n",
              " [55] \"MasterCard\"       \"0\"                \"0\"               \n",
              " [58] \"0\"                \"MasterCard\"       \"0\"               \n",
              " [61] \"0\"                \"0\"                \"0\"               \n",
              " [64] \"0\"                \"0\"                \"0\"               \n",
              " [67] \"0\"                \"0\"                \"0\"               \n",
              " [70] \"0\"                \"0\"                \"MasterCard\"      \n",
              " [73] \"0\"                \"0\"                \"0\"               \n",
              " [76] \"0\"                \"0\"                \"0\"               \n",
              " [79] \"0\"                \"Discover\"         \"MasterCard\"      \n",
              " [82] \"0\"                \"1\"                \"0\"               \n",
              " [85] \"1\"                \"0\"                \"MasterCard\"      \n",
              " [88] \"0\"                \"0\"                \"0\"               \n",
              " [91] \"0\"                \"0\"                \"0\"               \n",
              " [94] \"0\"                \"American Express\" \"MasterCard\"      \n",
              " [97] \"0\"                \"0\"                \"0\"               \n",
              "[100] \"0\"               "
            ],
            "text/latex": "\\begin{enumerate*}\n\\item 'Discover'\n\\item '0'\n\\item '0'\n\\item '0'\n\\item 'MasterCard'\n\\item 'MasterCard'\n\\item '0'\n\\item '1'\n\\item '0'\n\\item '0'\n\\item '0'\n\\item '0'\n\\item '1'\n\\item '1'\n\\item '1'\n\\item '0'\n\\item '0'\n\\item 'Discover'\n\\item 'MasterCard'\n\\item '0'\n\\item '0'\n\\item '0'\n\\item 'American Express'\n\\item '0'\n\\item '1'\n\\item '0'\n\\item '0'\n\\item '0'\n\\item '0'\n\\item '0'\n\\item 'MasterCard'\n\\item '0'\n\\item '0'\n\\item '0'\n\\item 'MasterCard'\n\\item 'MasterCard'\n\\item '1'\n\\item '0'\n\\item '0'\n\\item '0'\n\\item '0'\n\\item '1'\n\\item '0'\n\\item '0'\n\\item '0'\n\\item '0'\n\\item 'MasterCard'\n\\item '0'\n\\item '0'\n\\item 'MasterCard'\n\\item '0'\n\\item '0'\n\\item 'Discover'\n\\item '1'\n\\item 'MasterCard'\n\\item '0'\n\\item '0'\n\\item '0'\n\\item 'MasterCard'\n\\item '0'\n\\item '0'\n\\item '0'\n\\item '0'\n\\item '0'\n\\item '0'\n\\item '0'\n\\item '0'\n\\item '0'\n\\item '0'\n\\item '0'\n\\item '0'\n\\item 'MasterCard'\n\\item '0'\n\\item '0'\n\\item '0'\n\\item '0'\n\\item '0'\n\\item '0'\n\\item '0'\n\\item 'Discover'\n\\item 'MasterCard'\n\\item '0'\n\\item '1'\n\\item '0'\n\\item '1'\n\\item '0'\n\\item 'MasterCard'\n\\item '0'\n\\item '0'\n\\item '0'\n\\item '0'\n\\item '0'\n\\item '0'\n\\item '0'\n\\item 'American Express'\n\\item 'MasterCard'\n\\item '0'\n\\item '0'\n\\item '0'\n\\item '0'\n\\end{enumerate*}\n",
            "text/markdown": "1. 'Discover'\n2. '0'\n3. '0'\n4. '0'\n5. 'MasterCard'\n6. 'MasterCard'\n7. '0'\n8. '1'\n9. '0'\n10. '0'\n11. '0'\n12. '0'\n13. '1'\n14. '1'\n15. '1'\n16. '0'\n17. '0'\n18. 'Discover'\n19. 'MasterCard'\n20. '0'\n21. '0'\n22. '0'\n23. 'American Express'\n24. '0'\n25. '1'\n26. '0'\n27. '0'\n28. '0'\n29. '0'\n30. '0'\n31. 'MasterCard'\n32. '0'\n33. '0'\n34. '0'\n35. 'MasterCard'\n36. 'MasterCard'\n37. '1'\n38. '0'\n39. '0'\n40. '0'\n41. '0'\n42. '1'\n43. '0'\n44. '0'\n45. '0'\n46. '0'\n47. 'MasterCard'\n48. '0'\n49. '0'\n50. 'MasterCard'\n51. '0'\n52. '0'\n53. 'Discover'\n54. '1'\n55. 'MasterCard'\n56. '0'\n57. '0'\n58. '0'\n59. 'MasterCard'\n60. '0'\n61. '0'\n62. '0'\n63. '0'\n64. '0'\n65. '0'\n66. '0'\n67. '0'\n68. '0'\n69. '0'\n70. '0'\n71. '0'\n72. 'MasterCard'\n73. '0'\n74. '0'\n75. '0'\n76. '0'\n77. '0'\n78. '0'\n79. '0'\n80. 'Discover'\n81. 'MasterCard'\n82. '0'\n83. '1'\n84. '0'\n85. '1'\n86. '0'\n87. 'MasterCard'\n88. '0'\n89. '0'\n90. '0'\n91. '0'\n92. '0'\n93. '0'\n94. '0'\n95. 'American Express'\n96. 'MasterCard'\n97. '0'\n98. '0'\n99. '0'\n100. '0'\n\n\n",
            "text/html": [
              "<style>\n",
              ".list-inline {list-style: none; margin:0; padding: 0}\n",
              ".list-inline>li {display: inline-block}\n",
              ".list-inline>li:not(:last-child)::after {content: \"\\00b7\"; padding: 0 .5ex}\n",
              "</style>\n",
              "<ol class=list-inline><li>'Discover'</li><li>'0'</li><li>'0'</li><li>'0'</li><li>'MasterCard'</li><li>'MasterCard'</li><li>'0'</li><li>'1'</li><li>'0'</li><li>'0'</li><li>'0'</li><li>'0'</li><li>'1'</li><li>'1'</li><li>'1'</li><li>'0'</li><li>'0'</li><li>'Discover'</li><li>'MasterCard'</li><li>'0'</li><li>'0'</li><li>'0'</li><li>'American Express'</li><li>'0'</li><li>'1'</li><li>'0'</li><li>'0'</li><li>'0'</li><li>'0'</li><li>'0'</li><li>'MasterCard'</li><li>'0'</li><li>'0'</li><li>'0'</li><li>'MasterCard'</li><li>'MasterCard'</li><li>'1'</li><li>'0'</li><li>'0'</li><li>'0'</li><li>'0'</li><li>'1'</li><li>'0'</li><li>'0'</li><li>'0'</li><li>'0'</li><li>'MasterCard'</li><li>'0'</li><li>'0'</li><li>'MasterCard'</li><li>'0'</li><li>'0'</li><li>'Discover'</li><li>'1'</li><li>'MasterCard'</li><li>'0'</li><li>'0'</li><li>'0'</li><li>'MasterCard'</li><li>'0'</li><li>'0'</li><li>'0'</li><li>'0'</li><li>'0'</li><li>'0'</li><li>'0'</li><li>'0'</li><li>'0'</li><li>'0'</li><li>'0'</li><li>'0'</li><li>'MasterCard'</li><li>'0'</li><li>'0'</li><li>'0'</li><li>'0'</li><li>'0'</li><li>'0'</li><li>'0'</li><li>'Discover'</li><li>'MasterCard'</li><li>'0'</li><li>'1'</li><li>'0'</li><li>'1'</li><li>'0'</li><li>'MasterCard'</li><li>'0'</li><li>'0'</li><li>'0'</li><li>'0'</li><li>'0'</li><li>'0'</li><li>'0'</li><li>'American Express'</li><li>'MasterCard'</li><li>'0'</li><li>'0'</li><li>'0'</li><li>'0'</li></ol>\n"
            ]
          },
          "metadata": {}
        }
      ]
    },
    {
      "cell_type": "code",
      "source": [
        "cont_freq_pgto4 = str_replace(cont_freq_pgto4,\n",
        "            pattern = \"MasterCard\", \n",
        "            replacement = \"0\")\n",
        "cont_freq_pgto4    "
      ],
      "metadata": {
        "colab": {
          "base_uri": "https://localhost:8080/",
          "height": 69
        },
        "id": "IwUqiKKrTSY_",
        "outputId": "de4da2ad-de3a-4b75-eaa5-c49d02dd7d46"
      },
      "execution_count": 264,
      "outputs": [
        {
          "output_type": "display_data",
          "data": {
            "text/plain": [
              "  [1] \"Discover\"         \"0\"                \"0\"               \n",
              "  [4] \"0\"                \"0\"                \"0\"               \n",
              "  [7] \"0\"                \"1\"                \"0\"               \n",
              " [10] \"0\"                \"0\"                \"0\"               \n",
              " [13] \"1\"                \"1\"                \"1\"               \n",
              " [16] \"0\"                \"0\"                \"Discover\"        \n",
              " [19] \"0\"                \"0\"                \"0\"               \n",
              " [22] \"0\"                \"American Express\" \"0\"               \n",
              " [25] \"1\"                \"0\"                \"0\"               \n",
              " [28] \"0\"                \"0\"                \"0\"               \n",
              " [31] \"0\"                \"0\"                \"0\"               \n",
              " [34] \"0\"                \"0\"                \"0\"               \n",
              " [37] \"1\"                \"0\"                \"0\"               \n",
              " [40] \"0\"                \"0\"                \"1\"               \n",
              " [43] \"0\"                \"0\"                \"0\"               \n",
              " [46] \"0\"                \"0\"                \"0\"               \n",
              " [49] \"0\"                \"0\"                \"0\"               \n",
              " [52] \"0\"                \"Discover\"         \"1\"               \n",
              " [55] \"0\"                \"0\"                \"0\"               \n",
              " [58] \"0\"                \"0\"                \"0\"               \n",
              " [61] \"0\"                \"0\"                \"0\"               \n",
              " [64] \"0\"                \"0\"                \"0\"               \n",
              " [67] \"0\"                \"0\"                \"0\"               \n",
              " [70] \"0\"                \"0\"                \"0\"               \n",
              " [73] \"0\"                \"0\"                \"0\"               \n",
              " [76] \"0\"                \"0\"                \"0\"               \n",
              " [79] \"0\"                \"Discover\"         \"0\"               \n",
              " [82] \"0\"                \"1\"                \"0\"               \n",
              " [85] \"1\"                \"0\"                \"0\"               \n",
              " [88] \"0\"                \"0\"                \"0\"               \n",
              " [91] \"0\"                \"0\"                \"0\"               \n",
              " [94] \"0\"                \"American Express\" \"0\"               \n",
              " [97] \"0\"                \"0\"                \"0\"               \n",
              "[100] \"0\"               "
            ],
            "text/latex": "\\begin{enumerate*}\n\\item 'Discover'\n\\item '0'\n\\item '0'\n\\item '0'\n\\item '0'\n\\item '0'\n\\item '0'\n\\item '1'\n\\item '0'\n\\item '0'\n\\item '0'\n\\item '0'\n\\item '1'\n\\item '1'\n\\item '1'\n\\item '0'\n\\item '0'\n\\item 'Discover'\n\\item '0'\n\\item '0'\n\\item '0'\n\\item '0'\n\\item 'American Express'\n\\item '0'\n\\item '1'\n\\item '0'\n\\item '0'\n\\item '0'\n\\item '0'\n\\item '0'\n\\item '0'\n\\item '0'\n\\item '0'\n\\item '0'\n\\item '0'\n\\item '0'\n\\item '1'\n\\item '0'\n\\item '0'\n\\item '0'\n\\item '0'\n\\item '1'\n\\item '0'\n\\item '0'\n\\item '0'\n\\item '0'\n\\item '0'\n\\item '0'\n\\item '0'\n\\item '0'\n\\item '0'\n\\item '0'\n\\item 'Discover'\n\\item '1'\n\\item '0'\n\\item '0'\n\\item '0'\n\\item '0'\n\\item '0'\n\\item '0'\n\\item '0'\n\\item '0'\n\\item '0'\n\\item '0'\n\\item '0'\n\\item '0'\n\\item '0'\n\\item '0'\n\\item '0'\n\\item '0'\n\\item '0'\n\\item '0'\n\\item '0'\n\\item '0'\n\\item '0'\n\\item '0'\n\\item '0'\n\\item '0'\n\\item '0'\n\\item 'Discover'\n\\item '0'\n\\item '0'\n\\item '1'\n\\item '0'\n\\item '1'\n\\item '0'\n\\item '0'\n\\item '0'\n\\item '0'\n\\item '0'\n\\item '0'\n\\item '0'\n\\item '0'\n\\item '0'\n\\item 'American Express'\n\\item '0'\n\\item '0'\n\\item '0'\n\\item '0'\n\\item '0'\n\\end{enumerate*}\n",
            "text/markdown": "1. 'Discover'\n2. '0'\n3. '0'\n4. '0'\n5. '0'\n6. '0'\n7. '0'\n8. '1'\n9. '0'\n10. '0'\n11. '0'\n12. '0'\n13. '1'\n14. '1'\n15. '1'\n16. '0'\n17. '0'\n18. 'Discover'\n19. '0'\n20. '0'\n21. '0'\n22. '0'\n23. 'American Express'\n24. '0'\n25. '1'\n26. '0'\n27. '0'\n28. '0'\n29. '0'\n30. '0'\n31. '0'\n32. '0'\n33. '0'\n34. '0'\n35. '0'\n36. '0'\n37. '1'\n38. '0'\n39. '0'\n40. '0'\n41. '0'\n42. '1'\n43. '0'\n44. '0'\n45. '0'\n46. '0'\n47. '0'\n48. '0'\n49. '0'\n50. '0'\n51. '0'\n52. '0'\n53. 'Discover'\n54. '1'\n55. '0'\n56. '0'\n57. '0'\n58. '0'\n59. '0'\n60. '0'\n61. '0'\n62. '0'\n63. '0'\n64. '0'\n65. '0'\n66. '0'\n67. '0'\n68. '0'\n69. '0'\n70. '0'\n71. '0'\n72. '0'\n73. '0'\n74. '0'\n75. '0'\n76. '0'\n77. '0'\n78. '0'\n79. '0'\n80. 'Discover'\n81. '0'\n82. '0'\n83. '1'\n84. '0'\n85. '1'\n86. '0'\n87. '0'\n88. '0'\n89. '0'\n90. '0'\n91. '0'\n92. '0'\n93. '0'\n94. '0'\n95. 'American Express'\n96. '0'\n97. '0'\n98. '0'\n99. '0'\n100. '0'\n\n\n",
            "text/html": [
              "<style>\n",
              ".list-inline {list-style: none; margin:0; padding: 0}\n",
              ".list-inline>li {display: inline-block}\n",
              ".list-inline>li:not(:last-child)::after {content: \"\\00b7\"; padding: 0 .5ex}\n",
              "</style>\n",
              "<ol class=list-inline><li>'Discover'</li><li>'0'</li><li>'0'</li><li>'0'</li><li>'0'</li><li>'0'</li><li>'0'</li><li>'1'</li><li>'0'</li><li>'0'</li><li>'0'</li><li>'0'</li><li>'1'</li><li>'1'</li><li>'1'</li><li>'0'</li><li>'0'</li><li>'Discover'</li><li>'0'</li><li>'0'</li><li>'0'</li><li>'0'</li><li>'American Express'</li><li>'0'</li><li>'1'</li><li>'0'</li><li>'0'</li><li>'0'</li><li>'0'</li><li>'0'</li><li>'0'</li><li>'0'</li><li>'0'</li><li>'0'</li><li>'0'</li><li>'0'</li><li>'1'</li><li>'0'</li><li>'0'</li><li>'0'</li><li>'0'</li><li>'1'</li><li>'0'</li><li>'0'</li><li>'0'</li><li>'0'</li><li>'0'</li><li>'0'</li><li>'0'</li><li>'0'</li><li>'0'</li><li>'0'</li><li>'Discover'</li><li>'1'</li><li>'0'</li><li>'0'</li><li>'0'</li><li>'0'</li><li>'0'</li><li>'0'</li><li>'0'</li><li>'0'</li><li>'0'</li><li>'0'</li><li>'0'</li><li>'0'</li><li>'0'</li><li>'0'</li><li>'0'</li><li>'0'</li><li>'0'</li><li>'0'</li><li>'0'</li><li>'0'</li><li>'0'</li><li>'0'</li><li>'0'</li><li>'0'</li><li>'0'</li><li>'Discover'</li><li>'0'</li><li>'0'</li><li>'1'</li><li>'0'</li><li>'1'</li><li>'0'</li><li>'0'</li><li>'0'</li><li>'0'</li><li>'0'</li><li>'0'</li><li>'0'</li><li>'0'</li><li>'0'</li><li>'American Express'</li><li>'0'</li><li>'0'</li><li>'0'</li><li>'0'</li><li>'0'</li></ol>\n"
            ]
          },
          "metadata": {}
        }
      ]
    },
    {
      "cell_type": "code",
      "source": [
        "cont_freq_pgto4 = str_replace(cont_freq_pgto4,\n",
        "            pattern = \"American Express\", \n",
        "            replacement = \"0\")\n",
        "cont_freq_pgto4    "
      ],
      "metadata": {
        "colab": {
          "base_uri": "https://localhost:8080/",
          "height": 52
        },
        "id": "1J03kJbVTU3o",
        "outputId": "7503b604-9ca8-411e-dcd9-128c0c2ee583"
      },
      "execution_count": 265,
      "outputs": [
        {
          "output_type": "display_data",
          "data": {
            "text/plain": [
              "  [1] \"Discover\" \"0\"        \"0\"        \"0\"        \"0\"        \"0\"       \n",
              "  [7] \"0\"        \"1\"        \"0\"        \"0\"        \"0\"        \"0\"       \n",
              " [13] \"1\"        \"1\"        \"1\"        \"0\"        \"0\"        \"Discover\"\n",
              " [19] \"0\"        \"0\"        \"0\"        \"0\"        \"0\"        \"0\"       \n",
              " [25] \"1\"        \"0\"        \"0\"        \"0\"        \"0\"        \"0\"       \n",
              " [31] \"0\"        \"0\"        \"0\"        \"0\"        \"0\"        \"0\"       \n",
              " [37] \"1\"        \"0\"        \"0\"        \"0\"        \"0\"        \"1\"       \n",
              " [43] \"0\"        \"0\"        \"0\"        \"0\"        \"0\"        \"0\"       \n",
              " [49] \"0\"        \"0\"        \"0\"        \"0\"        \"Discover\" \"1\"       \n",
              " [55] \"0\"        \"0\"        \"0\"        \"0\"        \"0\"        \"0\"       \n",
              " [61] \"0\"        \"0\"        \"0\"        \"0\"        \"0\"        \"0\"       \n",
              " [67] \"0\"        \"0\"        \"0\"        \"0\"        \"0\"        \"0\"       \n",
              " [73] \"0\"        \"0\"        \"0\"        \"0\"        \"0\"        \"0\"       \n",
              " [79] \"0\"        \"Discover\" \"0\"        \"0\"        \"1\"        \"0\"       \n",
              " [85] \"1\"        \"0\"        \"0\"        \"0\"        \"0\"        \"0\"       \n",
              " [91] \"0\"        \"0\"        \"0\"        \"0\"        \"0\"        \"0\"       \n",
              " [97] \"0\"        \"0\"        \"0\"        \"0\"       "
            ],
            "text/latex": "\\begin{enumerate*}\n\\item 'Discover'\n\\item '0'\n\\item '0'\n\\item '0'\n\\item '0'\n\\item '0'\n\\item '0'\n\\item '1'\n\\item '0'\n\\item '0'\n\\item '0'\n\\item '0'\n\\item '1'\n\\item '1'\n\\item '1'\n\\item '0'\n\\item '0'\n\\item 'Discover'\n\\item '0'\n\\item '0'\n\\item '0'\n\\item '0'\n\\item '0'\n\\item '0'\n\\item '1'\n\\item '0'\n\\item '0'\n\\item '0'\n\\item '0'\n\\item '0'\n\\item '0'\n\\item '0'\n\\item '0'\n\\item '0'\n\\item '0'\n\\item '0'\n\\item '1'\n\\item '0'\n\\item '0'\n\\item '0'\n\\item '0'\n\\item '1'\n\\item '0'\n\\item '0'\n\\item '0'\n\\item '0'\n\\item '0'\n\\item '0'\n\\item '0'\n\\item '0'\n\\item '0'\n\\item '0'\n\\item 'Discover'\n\\item '1'\n\\item '0'\n\\item '0'\n\\item '0'\n\\item '0'\n\\item '0'\n\\item '0'\n\\item '0'\n\\item '0'\n\\item '0'\n\\item '0'\n\\item '0'\n\\item '0'\n\\item '0'\n\\item '0'\n\\item '0'\n\\item '0'\n\\item '0'\n\\item '0'\n\\item '0'\n\\item '0'\n\\item '0'\n\\item '0'\n\\item '0'\n\\item '0'\n\\item '0'\n\\item 'Discover'\n\\item '0'\n\\item '0'\n\\item '1'\n\\item '0'\n\\item '1'\n\\item '0'\n\\item '0'\n\\item '0'\n\\item '0'\n\\item '0'\n\\item '0'\n\\item '0'\n\\item '0'\n\\item '0'\n\\item '0'\n\\item '0'\n\\item '0'\n\\item '0'\n\\item '0'\n\\item '0'\n\\end{enumerate*}\n",
            "text/markdown": "1. 'Discover'\n2. '0'\n3. '0'\n4. '0'\n5. '0'\n6. '0'\n7. '0'\n8. '1'\n9. '0'\n10. '0'\n11. '0'\n12. '0'\n13. '1'\n14. '1'\n15. '1'\n16. '0'\n17. '0'\n18. 'Discover'\n19. '0'\n20. '0'\n21. '0'\n22. '0'\n23. '0'\n24. '0'\n25. '1'\n26. '0'\n27. '0'\n28. '0'\n29. '0'\n30. '0'\n31. '0'\n32. '0'\n33. '0'\n34. '0'\n35. '0'\n36. '0'\n37. '1'\n38. '0'\n39. '0'\n40. '0'\n41. '0'\n42. '1'\n43. '0'\n44. '0'\n45. '0'\n46. '0'\n47. '0'\n48. '0'\n49. '0'\n50. '0'\n51. '0'\n52. '0'\n53. 'Discover'\n54. '1'\n55. '0'\n56. '0'\n57. '0'\n58. '0'\n59. '0'\n60. '0'\n61. '0'\n62. '0'\n63. '0'\n64. '0'\n65. '0'\n66. '0'\n67. '0'\n68. '0'\n69. '0'\n70. '0'\n71. '0'\n72. '0'\n73. '0'\n74. '0'\n75. '0'\n76. '0'\n77. '0'\n78. '0'\n79. '0'\n80. 'Discover'\n81. '0'\n82. '0'\n83. '1'\n84. '0'\n85. '1'\n86. '0'\n87. '0'\n88. '0'\n89. '0'\n90. '0'\n91. '0'\n92. '0'\n93. '0'\n94. '0'\n95. '0'\n96. '0'\n97. '0'\n98. '0'\n99. '0'\n100. '0'\n\n\n",
            "text/html": [
              "<style>\n",
              ".list-inline {list-style: none; margin:0; padding: 0}\n",
              ".list-inline>li {display: inline-block}\n",
              ".list-inline>li:not(:last-child)::after {content: \"\\00b7\"; padding: 0 .5ex}\n",
              "</style>\n",
              "<ol class=list-inline><li>'Discover'</li><li>'0'</li><li>'0'</li><li>'0'</li><li>'0'</li><li>'0'</li><li>'0'</li><li>'1'</li><li>'0'</li><li>'0'</li><li>'0'</li><li>'0'</li><li>'1'</li><li>'1'</li><li>'1'</li><li>'0'</li><li>'0'</li><li>'Discover'</li><li>'0'</li><li>'0'</li><li>'0'</li><li>'0'</li><li>'0'</li><li>'0'</li><li>'1'</li><li>'0'</li><li>'0'</li><li>'0'</li><li>'0'</li><li>'0'</li><li>'0'</li><li>'0'</li><li>'0'</li><li>'0'</li><li>'0'</li><li>'0'</li><li>'1'</li><li>'0'</li><li>'0'</li><li>'0'</li><li>'0'</li><li>'1'</li><li>'0'</li><li>'0'</li><li>'0'</li><li>'0'</li><li>'0'</li><li>'0'</li><li>'0'</li><li>'0'</li><li>'0'</li><li>'0'</li><li>'Discover'</li><li>'1'</li><li>'0'</li><li>'0'</li><li>'0'</li><li>'0'</li><li>'0'</li><li>'0'</li><li>'0'</li><li>'0'</li><li>'0'</li><li>'0'</li><li>'0'</li><li>'0'</li><li>'0'</li><li>'0'</li><li>'0'</li><li>'0'</li><li>'0'</li><li>'0'</li><li>'0'</li><li>'0'</li><li>'0'</li><li>'0'</li><li>'0'</li><li>'0'</li><li>'0'</li><li>'Discover'</li><li>'0'</li><li>'0'</li><li>'1'</li><li>'0'</li><li>'1'</li><li>'0'</li><li>'0'</li><li>'0'</li><li>'0'</li><li>'0'</li><li>'0'</li><li>'0'</li><li>'0'</li><li>'0'</li><li>'0'</li><li>'0'</li><li>'0'</li><li>'0'</li><li>'0'</li><li>'0'</li></ol>\n"
            ]
          },
          "metadata": {}
        }
      ]
    },
    {
      "cell_type": "code",
      "source": [
        "cont_freq_pgto4 = str_replace(cont_freq_pgto4,\n",
        "            pattern = \"Discover\", \n",
        "            replacement = \"0\")\n",
        "cont_freq_pgto4    "
      ],
      "metadata": {
        "colab": {
          "base_uri": "https://localhost:8080/",
          "height": 52
        },
        "id": "F11AVLndTYLP",
        "outputId": "ff583ad6-31d3-42b0-dab6-1ee4f0cdcccf"
      },
      "execution_count": 266,
      "outputs": [
        {
          "output_type": "display_data",
          "data": {
            "text/plain": [
              "  [1] \"0\" \"0\" \"0\" \"0\" \"0\" \"0\" \"0\" \"1\" \"0\" \"0\" \"0\" \"0\" \"1\" \"1\" \"1\" \"0\" \"0\" \"0\"\n",
              " [19] \"0\" \"0\" \"0\" \"0\" \"0\" \"0\" \"1\" \"0\" \"0\" \"0\" \"0\" \"0\" \"0\" \"0\" \"0\" \"0\" \"0\" \"0\"\n",
              " [37] \"1\" \"0\" \"0\" \"0\" \"0\" \"1\" \"0\" \"0\" \"0\" \"0\" \"0\" \"0\" \"0\" \"0\" \"0\" \"0\" \"0\" \"1\"\n",
              " [55] \"0\" \"0\" \"0\" \"0\" \"0\" \"0\" \"0\" \"0\" \"0\" \"0\" \"0\" \"0\" \"0\" \"0\" \"0\" \"0\" \"0\" \"0\"\n",
              " [73] \"0\" \"0\" \"0\" \"0\" \"0\" \"0\" \"0\" \"0\" \"0\" \"0\" \"1\" \"0\" \"1\" \"0\" \"0\" \"0\" \"0\" \"0\"\n",
              " [91] \"0\" \"0\" \"0\" \"0\" \"0\" \"0\" \"0\" \"0\" \"0\" \"0\""
            ],
            "text/latex": "\\begin{enumerate*}\n\\item '0'\n\\item '0'\n\\item '0'\n\\item '0'\n\\item '0'\n\\item '0'\n\\item '0'\n\\item '1'\n\\item '0'\n\\item '0'\n\\item '0'\n\\item '0'\n\\item '1'\n\\item '1'\n\\item '1'\n\\item '0'\n\\item '0'\n\\item '0'\n\\item '0'\n\\item '0'\n\\item '0'\n\\item '0'\n\\item '0'\n\\item '0'\n\\item '1'\n\\item '0'\n\\item '0'\n\\item '0'\n\\item '0'\n\\item '0'\n\\item '0'\n\\item '0'\n\\item '0'\n\\item '0'\n\\item '0'\n\\item '0'\n\\item '1'\n\\item '0'\n\\item '0'\n\\item '0'\n\\item '0'\n\\item '1'\n\\item '0'\n\\item '0'\n\\item '0'\n\\item '0'\n\\item '0'\n\\item '0'\n\\item '0'\n\\item '0'\n\\item '0'\n\\item '0'\n\\item '0'\n\\item '1'\n\\item '0'\n\\item '0'\n\\item '0'\n\\item '0'\n\\item '0'\n\\item '0'\n\\item '0'\n\\item '0'\n\\item '0'\n\\item '0'\n\\item '0'\n\\item '0'\n\\item '0'\n\\item '0'\n\\item '0'\n\\item '0'\n\\item '0'\n\\item '0'\n\\item '0'\n\\item '0'\n\\item '0'\n\\item '0'\n\\item '0'\n\\item '0'\n\\item '0'\n\\item '0'\n\\item '0'\n\\item '0'\n\\item '1'\n\\item '0'\n\\item '1'\n\\item '0'\n\\item '0'\n\\item '0'\n\\item '0'\n\\item '0'\n\\item '0'\n\\item '0'\n\\item '0'\n\\item '0'\n\\item '0'\n\\item '0'\n\\item '0'\n\\item '0'\n\\item '0'\n\\item '0'\n\\end{enumerate*}\n",
            "text/markdown": "1. '0'\n2. '0'\n3. '0'\n4. '0'\n5. '0'\n6. '0'\n7. '0'\n8. '1'\n9. '0'\n10. '0'\n11. '0'\n12. '0'\n13. '1'\n14. '1'\n15. '1'\n16. '0'\n17. '0'\n18. '0'\n19. '0'\n20. '0'\n21. '0'\n22. '0'\n23. '0'\n24. '0'\n25. '1'\n26. '0'\n27. '0'\n28. '0'\n29. '0'\n30. '0'\n31. '0'\n32. '0'\n33. '0'\n34. '0'\n35. '0'\n36. '0'\n37. '1'\n38. '0'\n39. '0'\n40. '0'\n41. '0'\n42. '1'\n43. '0'\n44. '0'\n45. '0'\n46. '0'\n47. '0'\n48. '0'\n49. '0'\n50. '0'\n51. '0'\n52. '0'\n53. '0'\n54. '1'\n55. '0'\n56. '0'\n57. '0'\n58. '0'\n59. '0'\n60. '0'\n61. '0'\n62. '0'\n63. '0'\n64. '0'\n65. '0'\n66. '0'\n67. '0'\n68. '0'\n69. '0'\n70. '0'\n71. '0'\n72. '0'\n73. '0'\n74. '0'\n75. '0'\n76. '0'\n77. '0'\n78. '0'\n79. '0'\n80. '0'\n81. '0'\n82. '0'\n83. '1'\n84. '0'\n85. '1'\n86. '0'\n87. '0'\n88. '0'\n89. '0'\n90. '0'\n91. '0'\n92. '0'\n93. '0'\n94. '0'\n95. '0'\n96. '0'\n97. '0'\n98. '0'\n99. '0'\n100. '0'\n\n\n",
            "text/html": [
              "<style>\n",
              ".list-inline {list-style: none; margin:0; padding: 0}\n",
              ".list-inline>li {display: inline-block}\n",
              ".list-inline>li:not(:last-child)::after {content: \"\\00b7\"; padding: 0 .5ex}\n",
              "</style>\n",
              "<ol class=list-inline><li>'0'</li><li>'0'</li><li>'0'</li><li>'0'</li><li>'0'</li><li>'0'</li><li>'0'</li><li>'1'</li><li>'0'</li><li>'0'</li><li>'0'</li><li>'0'</li><li>'1'</li><li>'1'</li><li>'1'</li><li>'0'</li><li>'0'</li><li>'0'</li><li>'0'</li><li>'0'</li><li>'0'</li><li>'0'</li><li>'0'</li><li>'0'</li><li>'1'</li><li>'0'</li><li>'0'</li><li>'0'</li><li>'0'</li><li>'0'</li><li>'0'</li><li>'0'</li><li>'0'</li><li>'0'</li><li>'0'</li><li>'0'</li><li>'1'</li><li>'0'</li><li>'0'</li><li>'0'</li><li>'0'</li><li>'1'</li><li>'0'</li><li>'0'</li><li>'0'</li><li>'0'</li><li>'0'</li><li>'0'</li><li>'0'</li><li>'0'</li><li>'0'</li><li>'0'</li><li>'0'</li><li>'1'</li><li>'0'</li><li>'0'</li><li>'0'</li><li>'0'</li><li>'0'</li><li>'0'</li><li>'0'</li><li>'0'</li><li>'0'</li><li>'0'</li><li>'0'</li><li>'0'</li><li>'0'</li><li>'0'</li><li>'0'</li><li>'0'</li><li>'0'</li><li>'0'</li><li>'0'</li><li>'0'</li><li>'0'</li><li>'0'</li><li>'0'</li><li>'0'</li><li>'0'</li><li>'0'</li><li>'0'</li><li>'0'</li><li>'1'</li><li>'0'</li><li>'1'</li><li>'0'</li><li>'0'</li><li>'0'</li><li>'0'</li><li>'0'</li><li>'0'</li><li>'0'</li><li>'0'</li><li>'0'</li><li>'0'</li><li>'0'</li><li>'0'</li><li>'0'</li><li>'0'</li><li>'0'</li></ol>\n"
            ]
          },
          "metadata": {}
        }
      ]
    },
    {
      "cell_type": "code",
      "source": [
        "cont_freq_pgto4 <- as.numeric(sub(\"\", \"\", cont_freq_pgto4))\n",
        "cont_freq_pgto4 = sum(cont_freq_pgto4)\n",
        "cont_freq_pgto4"
      ],
      "metadata": {
        "colab": {
          "base_uri": "https://localhost:8080/",
          "height": 34
        },
        "id": "JiNjX95jTdDo",
        "outputId": "3e01df60-373c-4e4b-d9e0-8ae76f55e873"
      },
      "execution_count": 267,
      "outputs": [
        {
          "output_type": "display_data",
          "data": {
            "text/plain": [
              "[1] 10"
            ],
            "text/latex": "10",
            "text/markdown": "10",
            "text/html": [
              "10"
            ]
          },
          "metadata": {}
        }
      ]
    },
    {
      "cell_type": "code",
      "source": [
        "cont_freq_pgto5 = str_replace(dados$`Método.de.Pagamento`,\n",
        "            pattern = \"American Express\", \n",
        "            replacement = \"1\")\n",
        "cont_freq_pgto5"
      ],
      "metadata": {
        "colab": {
          "base_uri": "https://localhost:8080/",
          "height": 173
        },
        "id": "H4FRtFbPTdOj",
        "outputId": "ebe11113-e7d2-4080-9713-66a9f30b1251"
      },
      "execution_count": 268,
      "outputs": [
        {
          "output_type": "display_data",
          "data": {
            "text/plain": [
              "  [1] \"Discover\"            \"Cartão Proprietário\" \"Cartão Proprietário\"\n",
              "  [4] \"Cartão Proprietário\" \"MasterCard\"          \"MasterCard\"         \n",
              "  [7] \"Cartão Proprietário\" \"Visa\"                \"Cartão Proprietário\"\n",
              " [10] \"Cartão Proprietário\" \"Cartão Proprietário\" \"Cartão Proprietário\"\n",
              " [13] \"Visa\"                \"Visa\"                \"Visa\"               \n",
              " [16] \"Cartão Proprietário\" \"Cartão Proprietário\" \"Discover\"           \n",
              " [19] \"MasterCard\"          \"Cartão Proprietário\" \"Cartão Proprietário\"\n",
              " [22] \"Cartão Proprietário\" \"1\"                   \"Cartão Proprietário\"\n",
              " [25] \"Visa\"                \"Cartão Proprietário\" \"Cartão Proprietário\"\n",
              " [28] \"Cartão Proprietário\" \"Cartão Proprietário\" \"Cartão Proprietário\"\n",
              " [31] \"MasterCard\"          \"Cartão Proprietário\" \"Cartão Proprietário\"\n",
              " [34] \"Cartão Proprietário\" \"MasterCard\"          \"MasterCard\"         \n",
              " [37] \"Visa\"                \"Cartão Proprietário\" \"Cartão Proprietário\"\n",
              " [40] \"Cartão Proprietário\" \"Cartão Proprietário\" \"Visa\"               \n",
              " [43] \"Cartão Proprietário\" \"Cartão Proprietário\" \"Cartão Proprietário\"\n",
              " [46] \"Cartão Proprietário\" \"MasterCard\"          \"Cartão Proprietário\"\n",
              " [49] \"Cartão Proprietário\" \"MasterCard\"          \"Cartão Proprietário\"\n",
              " [52] \"Cartão Proprietário\" \"Discover\"            \"Visa\"               \n",
              " [55] \"MasterCard\"          \"Cartão Proprietário\" \"Cartão Proprietário\"\n",
              " [58] \"Cartão Proprietário\" \"MasterCard\"          \"Cartão Proprietário\"\n",
              " [61] \"Cartão Proprietário\" \"Cartão Proprietário\" \"Cartão Proprietário\"\n",
              " [64] \"Cartão Proprietário\" \"Cartão Proprietário\" \"Cartão Proprietário\"\n",
              " [67] \"Cartão Proprietário\" \"Cartão Proprietário\" \"Cartão Proprietário\"\n",
              " [70] \"Cartão Proprietário\" \"Cartão Proprietário\" \"MasterCard\"         \n",
              " [73] \"Cartão Proprietário\" \"Cartão Proprietário\" \"Cartão Proprietário\"\n",
              " [76] \"Cartão Proprietário\" \"Cartão Proprietário\" \"Cartão Proprietário\"\n",
              " [79] \"Cartão Proprietário\" \"Discover\"            \"MasterCard\"         \n",
              " [82] \"Cartão Proprietário\" \"Visa\"                \"Cartão Proprietário\"\n",
              " [85] \"Visa\"                \"Cartão Proprietário\" \"MasterCard\"         \n",
              " [88] \"Cartão Proprietário\" \"Cartão Proprietário\" \"Cartão Proprietário\"\n",
              " [91] \"Cartão Proprietário\" \"Cartão Proprietário\" \"Cartão Proprietário\"\n",
              " [94] \"Cartão Proprietário\" \"1\"                   \"MasterCard\"         \n",
              " [97] \"Cartão Proprietário\" \"Cartão Proprietário\" \"Cartão Proprietário\"\n",
              "[100] \"Cartão Proprietário\""
            ],
            "text/latex": "\\begin{enumerate*}\n\\item 'Discover'\n\\item 'Cartão Proprietário'\n\\item 'Cartão Proprietário'\n\\item 'Cartão Proprietário'\n\\item 'MasterCard'\n\\item 'MasterCard'\n\\item 'Cartão Proprietário'\n\\item 'Visa'\n\\item 'Cartão Proprietário'\n\\item 'Cartão Proprietário'\n\\item 'Cartão Proprietário'\n\\item 'Cartão Proprietário'\n\\item 'Visa'\n\\item 'Visa'\n\\item 'Visa'\n\\item 'Cartão Proprietário'\n\\item 'Cartão Proprietário'\n\\item 'Discover'\n\\item 'MasterCard'\n\\item 'Cartão Proprietário'\n\\item 'Cartão Proprietário'\n\\item 'Cartão Proprietário'\n\\item '1'\n\\item 'Cartão Proprietário'\n\\item 'Visa'\n\\item 'Cartão Proprietário'\n\\item 'Cartão Proprietário'\n\\item 'Cartão Proprietário'\n\\item 'Cartão Proprietário'\n\\item 'Cartão Proprietário'\n\\item 'MasterCard'\n\\item 'Cartão Proprietário'\n\\item 'Cartão Proprietário'\n\\item 'Cartão Proprietário'\n\\item 'MasterCard'\n\\item 'MasterCard'\n\\item 'Visa'\n\\item 'Cartão Proprietário'\n\\item 'Cartão Proprietário'\n\\item 'Cartão Proprietário'\n\\item 'Cartão Proprietário'\n\\item 'Visa'\n\\item 'Cartão Proprietário'\n\\item 'Cartão Proprietário'\n\\item 'Cartão Proprietário'\n\\item 'Cartão Proprietário'\n\\item 'MasterCard'\n\\item 'Cartão Proprietário'\n\\item 'Cartão Proprietário'\n\\item 'MasterCard'\n\\item 'Cartão Proprietário'\n\\item 'Cartão Proprietário'\n\\item 'Discover'\n\\item 'Visa'\n\\item 'MasterCard'\n\\item 'Cartão Proprietário'\n\\item 'Cartão Proprietário'\n\\item 'Cartão Proprietário'\n\\item 'MasterCard'\n\\item 'Cartão Proprietário'\n\\item 'Cartão Proprietário'\n\\item 'Cartão Proprietário'\n\\item 'Cartão Proprietário'\n\\item 'Cartão Proprietário'\n\\item 'Cartão Proprietário'\n\\item 'Cartão Proprietário'\n\\item 'Cartão Proprietário'\n\\item 'Cartão Proprietário'\n\\item 'Cartão Proprietário'\n\\item 'Cartão Proprietário'\n\\item 'Cartão Proprietário'\n\\item 'MasterCard'\n\\item 'Cartão Proprietário'\n\\item 'Cartão Proprietário'\n\\item 'Cartão Proprietário'\n\\item 'Cartão Proprietário'\n\\item 'Cartão Proprietário'\n\\item 'Cartão Proprietário'\n\\item 'Cartão Proprietário'\n\\item 'Discover'\n\\item 'MasterCard'\n\\item 'Cartão Proprietário'\n\\item 'Visa'\n\\item 'Cartão Proprietário'\n\\item 'Visa'\n\\item 'Cartão Proprietário'\n\\item 'MasterCard'\n\\item 'Cartão Proprietário'\n\\item 'Cartão Proprietário'\n\\item 'Cartão Proprietário'\n\\item 'Cartão Proprietário'\n\\item 'Cartão Proprietário'\n\\item 'Cartão Proprietário'\n\\item 'Cartão Proprietário'\n\\item '1'\n\\item 'MasterCard'\n\\item 'Cartão Proprietário'\n\\item 'Cartão Proprietário'\n\\item 'Cartão Proprietário'\n\\item 'Cartão Proprietário'\n\\end{enumerate*}\n",
            "text/markdown": "1. 'Discover'\n2. 'Cartão Proprietário'\n3. 'Cartão Proprietário'\n4. 'Cartão Proprietário'\n5. 'MasterCard'\n6. 'MasterCard'\n7. 'Cartão Proprietário'\n8. 'Visa'\n9. 'Cartão Proprietário'\n10. 'Cartão Proprietário'\n11. 'Cartão Proprietário'\n12. 'Cartão Proprietário'\n13. 'Visa'\n14. 'Visa'\n15. 'Visa'\n16. 'Cartão Proprietário'\n17. 'Cartão Proprietário'\n18. 'Discover'\n19. 'MasterCard'\n20. 'Cartão Proprietário'\n21. 'Cartão Proprietário'\n22. 'Cartão Proprietário'\n23. '1'\n24. 'Cartão Proprietário'\n25. 'Visa'\n26. 'Cartão Proprietário'\n27. 'Cartão Proprietário'\n28. 'Cartão Proprietário'\n29. 'Cartão Proprietário'\n30. 'Cartão Proprietário'\n31. 'MasterCard'\n32. 'Cartão Proprietário'\n33. 'Cartão Proprietário'\n34. 'Cartão Proprietário'\n35. 'MasterCard'\n36. 'MasterCard'\n37. 'Visa'\n38. 'Cartão Proprietário'\n39. 'Cartão Proprietário'\n40. 'Cartão Proprietário'\n41. 'Cartão Proprietário'\n42. 'Visa'\n43. 'Cartão Proprietário'\n44. 'Cartão Proprietário'\n45. 'Cartão Proprietário'\n46. 'Cartão Proprietário'\n47. 'MasterCard'\n48. 'Cartão Proprietário'\n49. 'Cartão Proprietário'\n50. 'MasterCard'\n51. 'Cartão Proprietário'\n52. 'Cartão Proprietário'\n53. 'Discover'\n54. 'Visa'\n55. 'MasterCard'\n56. 'Cartão Proprietário'\n57. 'Cartão Proprietário'\n58. 'Cartão Proprietário'\n59. 'MasterCard'\n60. 'Cartão Proprietário'\n61. 'Cartão Proprietário'\n62. 'Cartão Proprietário'\n63. 'Cartão Proprietário'\n64. 'Cartão Proprietário'\n65. 'Cartão Proprietário'\n66. 'Cartão Proprietário'\n67. 'Cartão Proprietário'\n68. 'Cartão Proprietário'\n69. 'Cartão Proprietário'\n70. 'Cartão Proprietário'\n71. 'Cartão Proprietário'\n72. 'MasterCard'\n73. 'Cartão Proprietário'\n74. 'Cartão Proprietário'\n75. 'Cartão Proprietário'\n76. 'Cartão Proprietário'\n77. 'Cartão Proprietário'\n78. 'Cartão Proprietário'\n79. 'Cartão Proprietário'\n80. 'Discover'\n81. 'MasterCard'\n82. 'Cartão Proprietário'\n83. 'Visa'\n84. 'Cartão Proprietário'\n85. 'Visa'\n86. 'Cartão Proprietário'\n87. 'MasterCard'\n88. 'Cartão Proprietário'\n89. 'Cartão Proprietário'\n90. 'Cartão Proprietário'\n91. 'Cartão Proprietário'\n92. 'Cartão Proprietário'\n93. 'Cartão Proprietário'\n94. 'Cartão Proprietário'\n95. '1'\n96. 'MasterCard'\n97. 'Cartão Proprietário'\n98. 'Cartão Proprietário'\n99. 'Cartão Proprietário'\n100. 'Cartão Proprietário'\n\n\n",
            "text/html": [
              "<style>\n",
              ".list-inline {list-style: none; margin:0; padding: 0}\n",
              ".list-inline>li {display: inline-block}\n",
              ".list-inline>li:not(:last-child)::after {content: \"\\00b7\"; padding: 0 .5ex}\n",
              "</style>\n",
              "<ol class=list-inline><li>'Discover'</li><li>'Cartão Proprietário'</li><li>'Cartão Proprietário'</li><li>'Cartão Proprietário'</li><li>'MasterCard'</li><li>'MasterCard'</li><li>'Cartão Proprietário'</li><li>'Visa'</li><li>'Cartão Proprietário'</li><li>'Cartão Proprietário'</li><li>'Cartão Proprietário'</li><li>'Cartão Proprietário'</li><li>'Visa'</li><li>'Visa'</li><li>'Visa'</li><li>'Cartão Proprietário'</li><li>'Cartão Proprietário'</li><li>'Discover'</li><li>'MasterCard'</li><li>'Cartão Proprietário'</li><li>'Cartão Proprietário'</li><li>'Cartão Proprietário'</li><li>'1'</li><li>'Cartão Proprietário'</li><li>'Visa'</li><li>'Cartão Proprietário'</li><li>'Cartão Proprietário'</li><li>'Cartão Proprietário'</li><li>'Cartão Proprietário'</li><li>'Cartão Proprietário'</li><li>'MasterCard'</li><li>'Cartão Proprietário'</li><li>'Cartão Proprietário'</li><li>'Cartão Proprietário'</li><li>'MasterCard'</li><li>'MasterCard'</li><li>'Visa'</li><li>'Cartão Proprietário'</li><li>'Cartão Proprietário'</li><li>'Cartão Proprietário'</li><li>'Cartão Proprietário'</li><li>'Visa'</li><li>'Cartão Proprietário'</li><li>'Cartão Proprietário'</li><li>'Cartão Proprietário'</li><li>'Cartão Proprietário'</li><li>'MasterCard'</li><li>'Cartão Proprietário'</li><li>'Cartão Proprietário'</li><li>'MasterCard'</li><li>'Cartão Proprietário'</li><li>'Cartão Proprietário'</li><li>'Discover'</li><li>'Visa'</li><li>'MasterCard'</li><li>'Cartão Proprietário'</li><li>'Cartão Proprietário'</li><li>'Cartão Proprietário'</li><li>'MasterCard'</li><li>'Cartão Proprietário'</li><li>'Cartão Proprietário'</li><li>'Cartão Proprietário'</li><li>'Cartão Proprietário'</li><li>'Cartão Proprietário'</li><li>'Cartão Proprietário'</li><li>'Cartão Proprietário'</li><li>'Cartão Proprietário'</li><li>'Cartão Proprietário'</li><li>'Cartão Proprietário'</li><li>'Cartão Proprietário'</li><li>'Cartão Proprietário'</li><li>'MasterCard'</li><li>'Cartão Proprietário'</li><li>'Cartão Proprietário'</li><li>'Cartão Proprietário'</li><li>'Cartão Proprietário'</li><li>'Cartão Proprietário'</li><li>'Cartão Proprietário'</li><li>'Cartão Proprietário'</li><li>'Discover'</li><li>'MasterCard'</li><li>'Cartão Proprietário'</li><li>'Visa'</li><li>'Cartão Proprietário'</li><li>'Visa'</li><li>'Cartão Proprietário'</li><li>'MasterCard'</li><li>'Cartão Proprietário'</li><li>'Cartão Proprietário'</li><li>'Cartão Proprietário'</li><li>'Cartão Proprietário'</li><li>'Cartão Proprietário'</li><li>'Cartão Proprietário'</li><li>'Cartão Proprietário'</li><li>'1'</li><li>'MasterCard'</li><li>'Cartão Proprietário'</li><li>'Cartão Proprietário'</li><li>'Cartão Proprietário'</li><li>'Cartão Proprietário'</li></ol>\n"
            ]
          },
          "metadata": {}
        }
      ]
    },
    {
      "cell_type": "code",
      "source": [
        "cont_freq_pgto5 = str_replace(cont_freq_pgto5,\n",
        "            pattern = \"Cartão Proprietário\", \n",
        "            replacement = \"0\")\n",
        "cont_freq_pgto5"
      ],
      "metadata": {
        "colab": {
          "base_uri": "https://localhost:8080/",
          "height": 69
        },
        "id": "oYaWfFYETzCx",
        "outputId": "e45b310a-912e-46f7-cd31-7bbf113f9ba5"
      },
      "execution_count": 269,
      "outputs": [
        {
          "output_type": "display_data",
          "data": {
            "text/plain": [
              "  [1] \"Discover\"   \"0\"          \"0\"          \"0\"          \"MasterCard\"\n",
              "  [6] \"MasterCard\" \"0\"          \"Visa\"       \"0\"          \"0\"         \n",
              " [11] \"0\"          \"0\"          \"Visa\"       \"Visa\"       \"Visa\"      \n",
              " [16] \"0\"          \"0\"          \"Discover\"   \"MasterCard\" \"0\"         \n",
              " [21] \"0\"          \"0\"          \"1\"          \"0\"          \"Visa\"      \n",
              " [26] \"0\"          \"0\"          \"0\"          \"0\"          \"0\"         \n",
              " [31] \"MasterCard\" \"0\"          \"0\"          \"0\"          \"MasterCard\"\n",
              " [36] \"MasterCard\" \"Visa\"       \"0\"          \"0\"          \"0\"         \n",
              " [41] \"0\"          \"Visa\"       \"0\"          \"0\"          \"0\"         \n",
              " [46] \"0\"          \"MasterCard\" \"0\"          \"0\"          \"MasterCard\"\n",
              " [51] \"0\"          \"0\"          \"Discover\"   \"Visa\"       \"MasterCard\"\n",
              " [56] \"0\"          \"0\"          \"0\"          \"MasterCard\" \"0\"         \n",
              " [61] \"0\"          \"0\"          \"0\"          \"0\"          \"0\"         \n",
              " [66] \"0\"          \"0\"          \"0\"          \"0\"          \"0\"         \n",
              " [71] \"0\"          \"MasterCard\" \"0\"          \"0\"          \"0\"         \n",
              " [76] \"0\"          \"0\"          \"0\"          \"0\"          \"Discover\"  \n",
              " [81] \"MasterCard\" \"0\"          \"Visa\"       \"0\"          \"Visa\"      \n",
              " [86] \"0\"          \"MasterCard\" \"0\"          \"0\"          \"0\"         \n",
              " [91] \"0\"          \"0\"          \"0\"          \"0\"          \"1\"         \n",
              " [96] \"MasterCard\" \"0\"          \"0\"          \"0\"          \"0\"         "
            ],
            "text/latex": "\\begin{enumerate*}\n\\item 'Discover'\n\\item '0'\n\\item '0'\n\\item '0'\n\\item 'MasterCard'\n\\item 'MasterCard'\n\\item '0'\n\\item 'Visa'\n\\item '0'\n\\item '0'\n\\item '0'\n\\item '0'\n\\item 'Visa'\n\\item 'Visa'\n\\item 'Visa'\n\\item '0'\n\\item '0'\n\\item 'Discover'\n\\item 'MasterCard'\n\\item '0'\n\\item '0'\n\\item '0'\n\\item '1'\n\\item '0'\n\\item 'Visa'\n\\item '0'\n\\item '0'\n\\item '0'\n\\item '0'\n\\item '0'\n\\item 'MasterCard'\n\\item '0'\n\\item '0'\n\\item '0'\n\\item 'MasterCard'\n\\item 'MasterCard'\n\\item 'Visa'\n\\item '0'\n\\item '0'\n\\item '0'\n\\item '0'\n\\item 'Visa'\n\\item '0'\n\\item '0'\n\\item '0'\n\\item '0'\n\\item 'MasterCard'\n\\item '0'\n\\item '0'\n\\item 'MasterCard'\n\\item '0'\n\\item '0'\n\\item 'Discover'\n\\item 'Visa'\n\\item 'MasterCard'\n\\item '0'\n\\item '0'\n\\item '0'\n\\item 'MasterCard'\n\\item '0'\n\\item '0'\n\\item '0'\n\\item '0'\n\\item '0'\n\\item '0'\n\\item '0'\n\\item '0'\n\\item '0'\n\\item '0'\n\\item '0'\n\\item '0'\n\\item 'MasterCard'\n\\item '0'\n\\item '0'\n\\item '0'\n\\item '0'\n\\item '0'\n\\item '0'\n\\item '0'\n\\item 'Discover'\n\\item 'MasterCard'\n\\item '0'\n\\item 'Visa'\n\\item '0'\n\\item 'Visa'\n\\item '0'\n\\item 'MasterCard'\n\\item '0'\n\\item '0'\n\\item '0'\n\\item '0'\n\\item '0'\n\\item '0'\n\\item '0'\n\\item '1'\n\\item 'MasterCard'\n\\item '0'\n\\item '0'\n\\item '0'\n\\item '0'\n\\end{enumerate*}\n",
            "text/markdown": "1. 'Discover'\n2. '0'\n3. '0'\n4. '0'\n5. 'MasterCard'\n6. 'MasterCard'\n7. '0'\n8. 'Visa'\n9. '0'\n10. '0'\n11. '0'\n12. '0'\n13. 'Visa'\n14. 'Visa'\n15. 'Visa'\n16. '0'\n17. '0'\n18. 'Discover'\n19. 'MasterCard'\n20. '0'\n21. '0'\n22. '0'\n23. '1'\n24. '0'\n25. 'Visa'\n26. '0'\n27. '0'\n28. '0'\n29. '0'\n30. '0'\n31. 'MasterCard'\n32. '0'\n33. '0'\n34. '0'\n35. 'MasterCard'\n36. 'MasterCard'\n37. 'Visa'\n38. '0'\n39. '0'\n40. '0'\n41. '0'\n42. 'Visa'\n43. '0'\n44. '0'\n45. '0'\n46. '0'\n47. 'MasterCard'\n48. '0'\n49. '0'\n50. 'MasterCard'\n51. '0'\n52. '0'\n53. 'Discover'\n54. 'Visa'\n55. 'MasterCard'\n56. '0'\n57. '0'\n58. '0'\n59. 'MasterCard'\n60. '0'\n61. '0'\n62. '0'\n63. '0'\n64. '0'\n65. '0'\n66. '0'\n67. '0'\n68. '0'\n69. '0'\n70. '0'\n71. '0'\n72. 'MasterCard'\n73. '0'\n74. '0'\n75. '0'\n76. '0'\n77. '0'\n78. '0'\n79. '0'\n80. 'Discover'\n81. 'MasterCard'\n82. '0'\n83. 'Visa'\n84. '0'\n85. 'Visa'\n86. '0'\n87. 'MasterCard'\n88. '0'\n89. '0'\n90. '0'\n91. '0'\n92. '0'\n93. '0'\n94. '0'\n95. '1'\n96. 'MasterCard'\n97. '0'\n98. '0'\n99. '0'\n100. '0'\n\n\n",
            "text/html": [
              "<style>\n",
              ".list-inline {list-style: none; margin:0; padding: 0}\n",
              ".list-inline>li {display: inline-block}\n",
              ".list-inline>li:not(:last-child)::after {content: \"\\00b7\"; padding: 0 .5ex}\n",
              "</style>\n",
              "<ol class=list-inline><li>'Discover'</li><li>'0'</li><li>'0'</li><li>'0'</li><li>'MasterCard'</li><li>'MasterCard'</li><li>'0'</li><li>'Visa'</li><li>'0'</li><li>'0'</li><li>'0'</li><li>'0'</li><li>'Visa'</li><li>'Visa'</li><li>'Visa'</li><li>'0'</li><li>'0'</li><li>'Discover'</li><li>'MasterCard'</li><li>'0'</li><li>'0'</li><li>'0'</li><li>'1'</li><li>'0'</li><li>'Visa'</li><li>'0'</li><li>'0'</li><li>'0'</li><li>'0'</li><li>'0'</li><li>'MasterCard'</li><li>'0'</li><li>'0'</li><li>'0'</li><li>'MasterCard'</li><li>'MasterCard'</li><li>'Visa'</li><li>'0'</li><li>'0'</li><li>'0'</li><li>'0'</li><li>'Visa'</li><li>'0'</li><li>'0'</li><li>'0'</li><li>'0'</li><li>'MasterCard'</li><li>'0'</li><li>'0'</li><li>'MasterCard'</li><li>'0'</li><li>'0'</li><li>'Discover'</li><li>'Visa'</li><li>'MasterCard'</li><li>'0'</li><li>'0'</li><li>'0'</li><li>'MasterCard'</li><li>'0'</li><li>'0'</li><li>'0'</li><li>'0'</li><li>'0'</li><li>'0'</li><li>'0'</li><li>'0'</li><li>'0'</li><li>'0'</li><li>'0'</li><li>'0'</li><li>'MasterCard'</li><li>'0'</li><li>'0'</li><li>'0'</li><li>'0'</li><li>'0'</li><li>'0'</li><li>'0'</li><li>'Discover'</li><li>'MasterCard'</li><li>'0'</li><li>'Visa'</li><li>'0'</li><li>'Visa'</li><li>'0'</li><li>'MasterCard'</li><li>'0'</li><li>'0'</li><li>'0'</li><li>'0'</li><li>'0'</li><li>'0'</li><li>'0'</li><li>'1'</li><li>'MasterCard'</li><li>'0'</li><li>'0'</li><li>'0'</li><li>'0'</li></ol>\n"
            ]
          },
          "metadata": {}
        }
      ]
    },
    {
      "cell_type": "code",
      "source": [
        "cont_freq_pgto5 = str_replace(cont_freq_pgto5,\n",
        "            pattern = \"Visa\", \n",
        "            replacement = \"0\")\n",
        "cont_freq_pgto5"
      ],
      "metadata": {
        "colab": {
          "base_uri": "https://localhost:8080/",
          "height": 69
        },
        "id": "XlMihgj5T6oe",
        "outputId": "b6a3795f-b93f-4920-ade7-1347e264fd24"
      },
      "execution_count": 270,
      "outputs": [
        {
          "output_type": "display_data",
          "data": {
            "text/plain": [
              "  [1] \"Discover\"   \"0\"          \"0\"          \"0\"          \"MasterCard\"\n",
              "  [6] \"MasterCard\" \"0\"          \"0\"          \"0\"          \"0\"         \n",
              " [11] \"0\"          \"0\"          \"0\"          \"0\"          \"0\"         \n",
              " [16] \"0\"          \"0\"          \"Discover\"   \"MasterCard\" \"0\"         \n",
              " [21] \"0\"          \"0\"          \"1\"          \"0\"          \"0\"         \n",
              " [26] \"0\"          \"0\"          \"0\"          \"0\"          \"0\"         \n",
              " [31] \"MasterCard\" \"0\"          \"0\"          \"0\"          \"MasterCard\"\n",
              " [36] \"MasterCard\" \"0\"          \"0\"          \"0\"          \"0\"         \n",
              " [41] \"0\"          \"0\"          \"0\"          \"0\"          \"0\"         \n",
              " [46] \"0\"          \"MasterCard\" \"0\"          \"0\"          \"MasterCard\"\n",
              " [51] \"0\"          \"0\"          \"Discover\"   \"0\"          \"MasterCard\"\n",
              " [56] \"0\"          \"0\"          \"0\"          \"MasterCard\" \"0\"         \n",
              " [61] \"0\"          \"0\"          \"0\"          \"0\"          \"0\"         \n",
              " [66] \"0\"          \"0\"          \"0\"          \"0\"          \"0\"         \n",
              " [71] \"0\"          \"MasterCard\" \"0\"          \"0\"          \"0\"         \n",
              " [76] \"0\"          \"0\"          \"0\"          \"0\"          \"Discover\"  \n",
              " [81] \"MasterCard\" \"0\"          \"0\"          \"0\"          \"0\"         \n",
              " [86] \"0\"          \"MasterCard\" \"0\"          \"0\"          \"0\"         \n",
              " [91] \"0\"          \"0\"          \"0\"          \"0\"          \"1\"         \n",
              " [96] \"MasterCard\" \"0\"          \"0\"          \"0\"          \"0\"         "
            ],
            "text/latex": "\\begin{enumerate*}\n\\item 'Discover'\n\\item '0'\n\\item '0'\n\\item '0'\n\\item 'MasterCard'\n\\item 'MasterCard'\n\\item '0'\n\\item '0'\n\\item '0'\n\\item '0'\n\\item '0'\n\\item '0'\n\\item '0'\n\\item '0'\n\\item '0'\n\\item '0'\n\\item '0'\n\\item 'Discover'\n\\item 'MasterCard'\n\\item '0'\n\\item '0'\n\\item '0'\n\\item '1'\n\\item '0'\n\\item '0'\n\\item '0'\n\\item '0'\n\\item '0'\n\\item '0'\n\\item '0'\n\\item 'MasterCard'\n\\item '0'\n\\item '0'\n\\item '0'\n\\item 'MasterCard'\n\\item 'MasterCard'\n\\item '0'\n\\item '0'\n\\item '0'\n\\item '0'\n\\item '0'\n\\item '0'\n\\item '0'\n\\item '0'\n\\item '0'\n\\item '0'\n\\item 'MasterCard'\n\\item '0'\n\\item '0'\n\\item 'MasterCard'\n\\item '0'\n\\item '0'\n\\item 'Discover'\n\\item '0'\n\\item 'MasterCard'\n\\item '0'\n\\item '0'\n\\item '0'\n\\item 'MasterCard'\n\\item '0'\n\\item '0'\n\\item '0'\n\\item '0'\n\\item '0'\n\\item '0'\n\\item '0'\n\\item '0'\n\\item '0'\n\\item '0'\n\\item '0'\n\\item '0'\n\\item 'MasterCard'\n\\item '0'\n\\item '0'\n\\item '0'\n\\item '0'\n\\item '0'\n\\item '0'\n\\item '0'\n\\item 'Discover'\n\\item 'MasterCard'\n\\item '0'\n\\item '0'\n\\item '0'\n\\item '0'\n\\item '0'\n\\item 'MasterCard'\n\\item '0'\n\\item '0'\n\\item '0'\n\\item '0'\n\\item '0'\n\\item '0'\n\\item '0'\n\\item '1'\n\\item 'MasterCard'\n\\item '0'\n\\item '0'\n\\item '0'\n\\item '0'\n\\end{enumerate*}\n",
            "text/markdown": "1. 'Discover'\n2. '0'\n3. '0'\n4. '0'\n5. 'MasterCard'\n6. 'MasterCard'\n7. '0'\n8. '0'\n9. '0'\n10. '0'\n11. '0'\n12. '0'\n13. '0'\n14. '0'\n15. '0'\n16. '0'\n17. '0'\n18. 'Discover'\n19. 'MasterCard'\n20. '0'\n21. '0'\n22. '0'\n23. '1'\n24. '0'\n25. '0'\n26. '0'\n27. '0'\n28. '0'\n29. '0'\n30. '0'\n31. 'MasterCard'\n32. '0'\n33. '0'\n34. '0'\n35. 'MasterCard'\n36. 'MasterCard'\n37. '0'\n38. '0'\n39. '0'\n40. '0'\n41. '0'\n42. '0'\n43. '0'\n44. '0'\n45. '0'\n46. '0'\n47. 'MasterCard'\n48. '0'\n49. '0'\n50. 'MasterCard'\n51. '0'\n52. '0'\n53. 'Discover'\n54. '0'\n55. 'MasterCard'\n56. '0'\n57. '0'\n58. '0'\n59. 'MasterCard'\n60. '0'\n61. '0'\n62. '0'\n63. '0'\n64. '0'\n65. '0'\n66. '0'\n67. '0'\n68. '0'\n69. '0'\n70. '0'\n71. '0'\n72. 'MasterCard'\n73. '0'\n74. '0'\n75. '0'\n76. '0'\n77. '0'\n78. '0'\n79. '0'\n80. 'Discover'\n81. 'MasterCard'\n82. '0'\n83. '0'\n84. '0'\n85. '0'\n86. '0'\n87. 'MasterCard'\n88. '0'\n89. '0'\n90. '0'\n91. '0'\n92. '0'\n93. '0'\n94. '0'\n95. '1'\n96. 'MasterCard'\n97. '0'\n98. '0'\n99. '0'\n100. '0'\n\n\n",
            "text/html": [
              "<style>\n",
              ".list-inline {list-style: none; margin:0; padding: 0}\n",
              ".list-inline>li {display: inline-block}\n",
              ".list-inline>li:not(:last-child)::after {content: \"\\00b7\"; padding: 0 .5ex}\n",
              "</style>\n",
              "<ol class=list-inline><li>'Discover'</li><li>'0'</li><li>'0'</li><li>'0'</li><li>'MasterCard'</li><li>'MasterCard'</li><li>'0'</li><li>'0'</li><li>'0'</li><li>'0'</li><li>'0'</li><li>'0'</li><li>'0'</li><li>'0'</li><li>'0'</li><li>'0'</li><li>'0'</li><li>'Discover'</li><li>'MasterCard'</li><li>'0'</li><li>'0'</li><li>'0'</li><li>'1'</li><li>'0'</li><li>'0'</li><li>'0'</li><li>'0'</li><li>'0'</li><li>'0'</li><li>'0'</li><li>'MasterCard'</li><li>'0'</li><li>'0'</li><li>'0'</li><li>'MasterCard'</li><li>'MasterCard'</li><li>'0'</li><li>'0'</li><li>'0'</li><li>'0'</li><li>'0'</li><li>'0'</li><li>'0'</li><li>'0'</li><li>'0'</li><li>'0'</li><li>'MasterCard'</li><li>'0'</li><li>'0'</li><li>'MasterCard'</li><li>'0'</li><li>'0'</li><li>'Discover'</li><li>'0'</li><li>'MasterCard'</li><li>'0'</li><li>'0'</li><li>'0'</li><li>'MasterCard'</li><li>'0'</li><li>'0'</li><li>'0'</li><li>'0'</li><li>'0'</li><li>'0'</li><li>'0'</li><li>'0'</li><li>'0'</li><li>'0'</li><li>'0'</li><li>'0'</li><li>'MasterCard'</li><li>'0'</li><li>'0'</li><li>'0'</li><li>'0'</li><li>'0'</li><li>'0'</li><li>'0'</li><li>'Discover'</li><li>'MasterCard'</li><li>'0'</li><li>'0'</li><li>'0'</li><li>'0'</li><li>'0'</li><li>'MasterCard'</li><li>'0'</li><li>'0'</li><li>'0'</li><li>'0'</li><li>'0'</li><li>'0'</li><li>'0'</li><li>'1'</li><li>'MasterCard'</li><li>'0'</li><li>'0'</li><li>'0'</li><li>'0'</li></ol>\n"
            ]
          },
          "metadata": {}
        }
      ]
    },
    {
      "cell_type": "code",
      "source": [
        "cont_freq_pgto5 = str_replace(cont_freq_pgto5,\n",
        "            pattern = \"MasterCard\", \n",
        "            replacement = \"0\")\n",
        "cont_freq_pgto5"
      ],
      "metadata": {
        "colab": {
          "base_uri": "https://localhost:8080/",
          "height": 52
        },
        "id": "ryYXru9ZT8zY",
        "outputId": "f35b1d61-1c2e-4962-adff-5c6c1c7c973e"
      },
      "execution_count": 271,
      "outputs": [
        {
          "output_type": "display_data",
          "data": {
            "text/plain": [
              "  [1] \"Discover\" \"0\"        \"0\"        \"0\"        \"0\"        \"0\"       \n",
              "  [7] \"0\"        \"0\"        \"0\"        \"0\"        \"0\"        \"0\"       \n",
              " [13] \"0\"        \"0\"        \"0\"        \"0\"        \"0\"        \"Discover\"\n",
              " [19] \"0\"        \"0\"        \"0\"        \"0\"        \"1\"        \"0\"       \n",
              " [25] \"0\"        \"0\"        \"0\"        \"0\"        \"0\"        \"0\"       \n",
              " [31] \"0\"        \"0\"        \"0\"        \"0\"        \"0\"        \"0\"       \n",
              " [37] \"0\"        \"0\"        \"0\"        \"0\"        \"0\"        \"0\"       \n",
              " [43] \"0\"        \"0\"        \"0\"        \"0\"        \"0\"        \"0\"       \n",
              " [49] \"0\"        \"0\"        \"0\"        \"0\"        \"Discover\" \"0\"       \n",
              " [55] \"0\"        \"0\"        \"0\"        \"0\"        \"0\"        \"0\"       \n",
              " [61] \"0\"        \"0\"        \"0\"        \"0\"        \"0\"        \"0\"       \n",
              " [67] \"0\"        \"0\"        \"0\"        \"0\"        \"0\"        \"0\"       \n",
              " [73] \"0\"        \"0\"        \"0\"        \"0\"        \"0\"        \"0\"       \n",
              " [79] \"0\"        \"Discover\" \"0\"        \"0\"        \"0\"        \"0\"       \n",
              " [85] \"0\"        \"0\"        \"0\"        \"0\"        \"0\"        \"0\"       \n",
              " [91] \"0\"        \"0\"        \"0\"        \"0\"        \"1\"        \"0\"       \n",
              " [97] \"0\"        \"0\"        \"0\"        \"0\"       "
            ],
            "text/latex": "\\begin{enumerate*}\n\\item 'Discover'\n\\item '0'\n\\item '0'\n\\item '0'\n\\item '0'\n\\item '0'\n\\item '0'\n\\item '0'\n\\item '0'\n\\item '0'\n\\item '0'\n\\item '0'\n\\item '0'\n\\item '0'\n\\item '0'\n\\item '0'\n\\item '0'\n\\item 'Discover'\n\\item '0'\n\\item '0'\n\\item '0'\n\\item '0'\n\\item '1'\n\\item '0'\n\\item '0'\n\\item '0'\n\\item '0'\n\\item '0'\n\\item '0'\n\\item '0'\n\\item '0'\n\\item '0'\n\\item '0'\n\\item '0'\n\\item '0'\n\\item '0'\n\\item '0'\n\\item '0'\n\\item '0'\n\\item '0'\n\\item '0'\n\\item '0'\n\\item '0'\n\\item '0'\n\\item '0'\n\\item '0'\n\\item '0'\n\\item '0'\n\\item '0'\n\\item '0'\n\\item '0'\n\\item '0'\n\\item 'Discover'\n\\item '0'\n\\item '0'\n\\item '0'\n\\item '0'\n\\item '0'\n\\item '0'\n\\item '0'\n\\item '0'\n\\item '0'\n\\item '0'\n\\item '0'\n\\item '0'\n\\item '0'\n\\item '0'\n\\item '0'\n\\item '0'\n\\item '0'\n\\item '0'\n\\item '0'\n\\item '0'\n\\item '0'\n\\item '0'\n\\item '0'\n\\item '0'\n\\item '0'\n\\item '0'\n\\item 'Discover'\n\\item '0'\n\\item '0'\n\\item '0'\n\\item '0'\n\\item '0'\n\\item '0'\n\\item '0'\n\\item '0'\n\\item '0'\n\\item '0'\n\\item '0'\n\\item '0'\n\\item '0'\n\\item '0'\n\\item '1'\n\\item '0'\n\\item '0'\n\\item '0'\n\\item '0'\n\\item '0'\n\\end{enumerate*}\n",
            "text/markdown": "1. 'Discover'\n2. '0'\n3. '0'\n4. '0'\n5. '0'\n6. '0'\n7. '0'\n8. '0'\n9. '0'\n10. '0'\n11. '0'\n12. '0'\n13. '0'\n14. '0'\n15. '0'\n16. '0'\n17. '0'\n18. 'Discover'\n19. '0'\n20. '0'\n21. '0'\n22. '0'\n23. '1'\n24. '0'\n25. '0'\n26. '0'\n27. '0'\n28. '0'\n29. '0'\n30. '0'\n31. '0'\n32. '0'\n33. '0'\n34. '0'\n35. '0'\n36. '0'\n37. '0'\n38. '0'\n39. '0'\n40. '0'\n41. '0'\n42. '0'\n43. '0'\n44. '0'\n45. '0'\n46. '0'\n47. '0'\n48. '0'\n49. '0'\n50. '0'\n51. '0'\n52. '0'\n53. 'Discover'\n54. '0'\n55. '0'\n56. '0'\n57. '0'\n58. '0'\n59. '0'\n60. '0'\n61. '0'\n62. '0'\n63. '0'\n64. '0'\n65. '0'\n66. '0'\n67. '0'\n68. '0'\n69. '0'\n70. '0'\n71. '0'\n72. '0'\n73. '0'\n74. '0'\n75. '0'\n76. '0'\n77. '0'\n78. '0'\n79. '0'\n80. 'Discover'\n81. '0'\n82. '0'\n83. '0'\n84. '0'\n85. '0'\n86. '0'\n87. '0'\n88. '0'\n89. '0'\n90. '0'\n91. '0'\n92. '0'\n93. '0'\n94. '0'\n95. '1'\n96. '0'\n97. '0'\n98. '0'\n99. '0'\n100. '0'\n\n\n",
            "text/html": [
              "<style>\n",
              ".list-inline {list-style: none; margin:0; padding: 0}\n",
              ".list-inline>li {display: inline-block}\n",
              ".list-inline>li:not(:last-child)::after {content: \"\\00b7\"; padding: 0 .5ex}\n",
              "</style>\n",
              "<ol class=list-inline><li>'Discover'</li><li>'0'</li><li>'0'</li><li>'0'</li><li>'0'</li><li>'0'</li><li>'0'</li><li>'0'</li><li>'0'</li><li>'0'</li><li>'0'</li><li>'0'</li><li>'0'</li><li>'0'</li><li>'0'</li><li>'0'</li><li>'0'</li><li>'Discover'</li><li>'0'</li><li>'0'</li><li>'0'</li><li>'0'</li><li>'1'</li><li>'0'</li><li>'0'</li><li>'0'</li><li>'0'</li><li>'0'</li><li>'0'</li><li>'0'</li><li>'0'</li><li>'0'</li><li>'0'</li><li>'0'</li><li>'0'</li><li>'0'</li><li>'0'</li><li>'0'</li><li>'0'</li><li>'0'</li><li>'0'</li><li>'0'</li><li>'0'</li><li>'0'</li><li>'0'</li><li>'0'</li><li>'0'</li><li>'0'</li><li>'0'</li><li>'0'</li><li>'0'</li><li>'0'</li><li>'Discover'</li><li>'0'</li><li>'0'</li><li>'0'</li><li>'0'</li><li>'0'</li><li>'0'</li><li>'0'</li><li>'0'</li><li>'0'</li><li>'0'</li><li>'0'</li><li>'0'</li><li>'0'</li><li>'0'</li><li>'0'</li><li>'0'</li><li>'0'</li><li>'0'</li><li>'0'</li><li>'0'</li><li>'0'</li><li>'0'</li><li>'0'</li><li>'0'</li><li>'0'</li><li>'0'</li><li>'Discover'</li><li>'0'</li><li>'0'</li><li>'0'</li><li>'0'</li><li>'0'</li><li>'0'</li><li>'0'</li><li>'0'</li><li>'0'</li><li>'0'</li><li>'0'</li><li>'0'</li><li>'0'</li><li>'0'</li><li>'1'</li><li>'0'</li><li>'0'</li><li>'0'</li><li>'0'</li><li>'0'</li></ol>\n"
            ]
          },
          "metadata": {}
        }
      ]
    },
    {
      "cell_type": "code",
      "source": [
        "cont_freq_pgto5 = str_replace(cont_freq_pgto5,\n",
        "            pattern = \"Discover\", \n",
        "            replacement = \"0\")\n",
        "cont_freq_pgto5"
      ],
      "metadata": {
        "colab": {
          "base_uri": "https://localhost:8080/",
          "height": 52
        },
        "id": "OQqN30CAT_-d",
        "outputId": "bcd6d1a5-be70-4192-d493-d66bf978fefa"
      },
      "execution_count": 272,
      "outputs": [
        {
          "output_type": "display_data",
          "data": {
            "text/plain": [
              "  [1] \"0\" \"0\" \"0\" \"0\" \"0\" \"0\" \"0\" \"0\" \"0\" \"0\" \"0\" \"0\" \"0\" \"0\" \"0\" \"0\" \"0\" \"0\"\n",
              " [19] \"0\" \"0\" \"0\" \"0\" \"1\" \"0\" \"0\" \"0\" \"0\" \"0\" \"0\" \"0\" \"0\" \"0\" \"0\" \"0\" \"0\" \"0\"\n",
              " [37] \"0\" \"0\" \"0\" \"0\" \"0\" \"0\" \"0\" \"0\" \"0\" \"0\" \"0\" \"0\" \"0\" \"0\" \"0\" \"0\" \"0\" \"0\"\n",
              " [55] \"0\" \"0\" \"0\" \"0\" \"0\" \"0\" \"0\" \"0\" \"0\" \"0\" \"0\" \"0\" \"0\" \"0\" \"0\" \"0\" \"0\" \"0\"\n",
              " [73] \"0\" \"0\" \"0\" \"0\" \"0\" \"0\" \"0\" \"0\" \"0\" \"0\" \"0\" \"0\" \"0\" \"0\" \"0\" \"0\" \"0\" \"0\"\n",
              " [91] \"0\" \"0\" \"0\" \"0\" \"1\" \"0\" \"0\" \"0\" \"0\" \"0\""
            ],
            "text/latex": "\\begin{enumerate*}\n\\item '0'\n\\item '0'\n\\item '0'\n\\item '0'\n\\item '0'\n\\item '0'\n\\item '0'\n\\item '0'\n\\item '0'\n\\item '0'\n\\item '0'\n\\item '0'\n\\item '0'\n\\item '0'\n\\item '0'\n\\item '0'\n\\item '0'\n\\item '0'\n\\item '0'\n\\item '0'\n\\item '0'\n\\item '0'\n\\item '1'\n\\item '0'\n\\item '0'\n\\item '0'\n\\item '0'\n\\item '0'\n\\item '0'\n\\item '0'\n\\item '0'\n\\item '0'\n\\item '0'\n\\item '0'\n\\item '0'\n\\item '0'\n\\item '0'\n\\item '0'\n\\item '0'\n\\item '0'\n\\item '0'\n\\item '0'\n\\item '0'\n\\item '0'\n\\item '0'\n\\item '0'\n\\item '0'\n\\item '0'\n\\item '0'\n\\item '0'\n\\item '0'\n\\item '0'\n\\item '0'\n\\item '0'\n\\item '0'\n\\item '0'\n\\item '0'\n\\item '0'\n\\item '0'\n\\item '0'\n\\item '0'\n\\item '0'\n\\item '0'\n\\item '0'\n\\item '0'\n\\item '0'\n\\item '0'\n\\item '0'\n\\item '0'\n\\item '0'\n\\item '0'\n\\item '0'\n\\item '0'\n\\item '0'\n\\item '0'\n\\item '0'\n\\item '0'\n\\item '0'\n\\item '0'\n\\item '0'\n\\item '0'\n\\item '0'\n\\item '0'\n\\item '0'\n\\item '0'\n\\item '0'\n\\item '0'\n\\item '0'\n\\item '0'\n\\item '0'\n\\item '0'\n\\item '0'\n\\item '0'\n\\item '0'\n\\item '1'\n\\item '0'\n\\item '0'\n\\item '0'\n\\item '0'\n\\item '0'\n\\end{enumerate*}\n",
            "text/markdown": "1. '0'\n2. '0'\n3. '0'\n4. '0'\n5. '0'\n6. '0'\n7. '0'\n8. '0'\n9. '0'\n10. '0'\n11. '0'\n12. '0'\n13. '0'\n14. '0'\n15. '0'\n16. '0'\n17. '0'\n18. '0'\n19. '0'\n20. '0'\n21. '0'\n22. '0'\n23. '1'\n24. '0'\n25. '0'\n26. '0'\n27. '0'\n28. '0'\n29. '0'\n30. '0'\n31. '0'\n32. '0'\n33. '0'\n34. '0'\n35. '0'\n36. '0'\n37. '0'\n38. '0'\n39. '0'\n40. '0'\n41. '0'\n42. '0'\n43. '0'\n44. '0'\n45. '0'\n46. '0'\n47. '0'\n48. '0'\n49. '0'\n50. '0'\n51. '0'\n52. '0'\n53. '0'\n54. '0'\n55. '0'\n56. '0'\n57. '0'\n58. '0'\n59. '0'\n60. '0'\n61. '0'\n62. '0'\n63. '0'\n64. '0'\n65. '0'\n66. '0'\n67. '0'\n68. '0'\n69. '0'\n70. '0'\n71. '0'\n72. '0'\n73. '0'\n74. '0'\n75. '0'\n76. '0'\n77. '0'\n78. '0'\n79. '0'\n80. '0'\n81. '0'\n82. '0'\n83. '0'\n84. '0'\n85. '0'\n86. '0'\n87. '0'\n88. '0'\n89. '0'\n90. '0'\n91. '0'\n92. '0'\n93. '0'\n94. '0'\n95. '1'\n96. '0'\n97. '0'\n98. '0'\n99. '0'\n100. '0'\n\n\n",
            "text/html": [
              "<style>\n",
              ".list-inline {list-style: none; margin:0; padding: 0}\n",
              ".list-inline>li {display: inline-block}\n",
              ".list-inline>li:not(:last-child)::after {content: \"\\00b7\"; padding: 0 .5ex}\n",
              "</style>\n",
              "<ol class=list-inline><li>'0'</li><li>'0'</li><li>'0'</li><li>'0'</li><li>'0'</li><li>'0'</li><li>'0'</li><li>'0'</li><li>'0'</li><li>'0'</li><li>'0'</li><li>'0'</li><li>'0'</li><li>'0'</li><li>'0'</li><li>'0'</li><li>'0'</li><li>'0'</li><li>'0'</li><li>'0'</li><li>'0'</li><li>'0'</li><li>'1'</li><li>'0'</li><li>'0'</li><li>'0'</li><li>'0'</li><li>'0'</li><li>'0'</li><li>'0'</li><li>'0'</li><li>'0'</li><li>'0'</li><li>'0'</li><li>'0'</li><li>'0'</li><li>'0'</li><li>'0'</li><li>'0'</li><li>'0'</li><li>'0'</li><li>'0'</li><li>'0'</li><li>'0'</li><li>'0'</li><li>'0'</li><li>'0'</li><li>'0'</li><li>'0'</li><li>'0'</li><li>'0'</li><li>'0'</li><li>'0'</li><li>'0'</li><li>'0'</li><li>'0'</li><li>'0'</li><li>'0'</li><li>'0'</li><li>'0'</li><li>'0'</li><li>'0'</li><li>'0'</li><li>'0'</li><li>'0'</li><li>'0'</li><li>'0'</li><li>'0'</li><li>'0'</li><li>'0'</li><li>'0'</li><li>'0'</li><li>'0'</li><li>'0'</li><li>'0'</li><li>'0'</li><li>'0'</li><li>'0'</li><li>'0'</li><li>'0'</li><li>'0'</li><li>'0'</li><li>'0'</li><li>'0'</li><li>'0'</li><li>'0'</li><li>'0'</li><li>'0'</li><li>'0'</li><li>'0'</li><li>'0'</li><li>'0'</li><li>'0'</li><li>'0'</li><li>'1'</li><li>'0'</li><li>'0'</li><li>'0'</li><li>'0'</li><li>'0'</li></ol>\n"
            ]
          },
          "metadata": {}
        }
      ]
    },
    {
      "cell_type": "code",
      "source": [
        "cont_freq_pgto5 <- as.numeric(sub(\"\", \"\", cont_freq_pgto5))\n",
        "cont_freq_pgto5 = sum(cont_freq_pgto5)\n",
        "cont_freq_pgto5"
      ],
      "metadata": {
        "colab": {
          "base_uri": "https://localhost:8080/",
          "height": 34
        },
        "id": "J7gdAAvzUEOJ",
        "outputId": "3bb664a6-1b6b-4f57-cde6-362c385b1201"
      },
      "execution_count": 273,
      "outputs": [
        {
          "output_type": "display_data",
          "data": {
            "text/plain": [
              "[1] 2"
            ],
            "text/latex": "2",
            "text/markdown": "2",
            "text/html": [
              "2"
            ]
          },
          "metadata": {}
        }
      ]
    },
    {
      "cell_type": "code",
      "source": [
        "print(\"Optantes por pagar com: Cartão Proprietário\")\n",
        "cont_freq_pgto1\n",
        "print(\"Optantes por pagar com: Discover\")\n",
        "cont_freq_pgto2\n",
        "print(\"Optantes por pagar com: MasterCard\")\n",
        "cont_freq_pgto3\n",
        "print(\"Optantes por pagar com: Visa\")\n",
        "cont_freq_pgto4\n",
        "print(\"Optantes por pagar com: American Express\")\n",
        "cont_freq_pgto5"
      ],
      "metadata": {
        "colab": {
          "base_uri": "https://localhost:8080/",
          "height": 190
        },
        "id": "QLKN_qzbtlZn",
        "outputId": "dd048c98-c7e0-42f0-c207-8721045d403f"
      },
      "execution_count": 300,
      "outputs": [
        {
          "output_type": "stream",
          "name": "stdout",
          "text": [
            "[1] \"Optantes por pagar com: Cartão Proprietário\"\n"
          ]
        },
        {
          "output_type": "display_data",
          "data": {
            "text/plain": [
              "[1] 70"
            ],
            "text/latex": "70",
            "text/markdown": "70",
            "text/html": [
              "70"
            ]
          },
          "metadata": {}
        },
        {
          "output_type": "stream",
          "name": "stdout",
          "text": [
            "[1] \"Optantes por pagar com: Discover\"\n"
          ]
        },
        {
          "output_type": "display_data",
          "data": {
            "text/plain": [
              "[1] 4"
            ],
            "text/latex": "4",
            "text/markdown": "4",
            "text/html": [
              "4"
            ]
          },
          "metadata": {}
        },
        {
          "output_type": "stream",
          "name": "stdout",
          "text": [
            "[1] \"Optantes por pagar com: MasterCard\"\n"
          ]
        },
        {
          "output_type": "display_data",
          "data": {
            "text/plain": [
              "[1] 14"
            ],
            "text/latex": "14",
            "text/markdown": "14",
            "text/html": [
              "14"
            ]
          },
          "metadata": {}
        },
        {
          "output_type": "stream",
          "name": "stdout",
          "text": [
            "[1] \"Optantes por pagar com: Visa\"\n"
          ]
        },
        {
          "output_type": "display_data",
          "data": {
            "text/plain": [
              "[1] 10"
            ],
            "text/latex": "10",
            "text/markdown": "10",
            "text/html": [
              "10"
            ]
          },
          "metadata": {}
        },
        {
          "output_type": "stream",
          "name": "stdout",
          "text": [
            "[1] \"Optantes por pagar com: American Express\"\n"
          ]
        },
        {
          "output_type": "display_data",
          "data": {
            "text/plain": [
              "[1] 2"
            ],
            "text/latex": "2",
            "text/markdown": "2",
            "text/html": [
              "2"
            ]
          },
          "metadata": {}
        }
      ]
    },
    {
      "cell_type": "markdown",
      "source": [
        "####Filtro para: Sexo"
      ],
      "metadata": {
        "id": "9Bg-KE-82PSu"
      }
    },
    {
      "cell_type": "code",
      "source": [
        "cont_sexo = dados$`Gênero`\n",
        "cont_sexo"
      ],
      "metadata": {
        "colab": {
          "base_uri": "https://localhost:8080/",
          "height": 121
        },
        "id": "Kx_dUBcRUb0h",
        "outputId": "1f892c29-00a9-43aa-9407-79eae360919c"
      },
      "execution_count": 274,
      "outputs": [
        {
          "output_type": "display_data",
          "data": {
            "text/plain": [
              "  [1] \"Masculino\" \"Feminino\"  \"Feminino\"  \"Feminino\"  \"Feminino\"  \"Feminino\" \n",
              "  [7] \"Feminino\"  \"Feminino\"  \"Feminino\"  \"Feminino\"  \"Feminino\"  \"Feminino\" \n",
              " [13] \"Feminino\"  \"Feminino\"  \"Masculino\" \"Masculino\" \"Feminino\"  \"Feminino\" \n",
              " [19] \"Feminino\"  \"Feminino\"  \"Feminino\"  \"Feminino\"  \"Feminino\"  \"Feminino\" \n",
              " [25] \"Masculino\" \"Feminino\"  \"Feminino\"  \"Feminino\"  \"Feminino\"  \"Feminino\" \n",
              " [31] \"Feminino\"  \"Feminino\"  \"Feminino\"  \"Feminino\"  \"Feminino\"  \"Masculino\"\n",
              " [37] \"Feminino\"  \"Feminino\"  \"Feminino\"  \"Feminino\"  \"Feminino\"  \"Feminino\" \n",
              " [43] \"Feminino\"  \"Feminino\"  \"Feminino\"  \"Feminino\"  \"Feminino\"  \"Feminino\" \n",
              " [49] \"Feminino\"  \"Feminino\"  \"Feminino\"  \"Masculino\" \"Feminino\"  \"Feminino\" \n",
              " [55] \"Feminino\"  \"Feminino\"  \"Feminino\"  \"Feminino\"  \"Feminino\"  \"Feminino\" \n",
              " [61] \"Feminino\"  \"Feminino\"  \"Feminino\"  \"Feminino\"  \"Feminino\"  \"Feminino\" \n",
              " [67] \"Feminino\"  \"Feminino\"  \"Masculino\" \"Feminino\"  \"Feminino\"  \"Feminino\" \n",
              " [73] \"Feminino\"  \"Feminino\"  \"Feminino\"  \"Feminino\"  \"Feminino\"  \"Feminino\" \n",
              " [79] \"Feminino\"  \"Feminino\"  \"Feminino\"  \"Feminino\"  \"Feminino\"  \"Feminino\" \n",
              " [85] \"Feminino\"  \"Feminino\"  \"Feminino\"  \"Feminino\"  \"Feminino\"  \"Feminino\" \n",
              " [91] \"Feminino\"  \"Feminino\"  \"Feminino\"  \"Feminino\"  \"Feminino\"  \"Feminino\" \n",
              " [97] \"Feminino\"  \"Feminino\"  \"Feminino\"  \"Feminino\" "
            ],
            "text/latex": "\\begin{enumerate*}\n\\item 'Masculino'\n\\item 'Feminino'\n\\item 'Feminino'\n\\item 'Feminino'\n\\item 'Feminino'\n\\item 'Feminino'\n\\item 'Feminino'\n\\item 'Feminino'\n\\item 'Feminino'\n\\item 'Feminino'\n\\item 'Feminino'\n\\item 'Feminino'\n\\item 'Feminino'\n\\item 'Feminino'\n\\item 'Masculino'\n\\item 'Masculino'\n\\item 'Feminino'\n\\item 'Feminino'\n\\item 'Feminino'\n\\item 'Feminino'\n\\item 'Feminino'\n\\item 'Feminino'\n\\item 'Feminino'\n\\item 'Feminino'\n\\item 'Masculino'\n\\item 'Feminino'\n\\item 'Feminino'\n\\item 'Feminino'\n\\item 'Feminino'\n\\item 'Feminino'\n\\item 'Feminino'\n\\item 'Feminino'\n\\item 'Feminino'\n\\item 'Feminino'\n\\item 'Feminino'\n\\item 'Masculino'\n\\item 'Feminino'\n\\item 'Feminino'\n\\item 'Feminino'\n\\item 'Feminino'\n\\item 'Feminino'\n\\item 'Feminino'\n\\item 'Feminino'\n\\item 'Feminino'\n\\item 'Feminino'\n\\item 'Feminino'\n\\item 'Feminino'\n\\item 'Feminino'\n\\item 'Feminino'\n\\item 'Feminino'\n\\item 'Feminino'\n\\item 'Masculino'\n\\item 'Feminino'\n\\item 'Feminino'\n\\item 'Feminino'\n\\item 'Feminino'\n\\item 'Feminino'\n\\item 'Feminino'\n\\item 'Feminino'\n\\item 'Feminino'\n\\item 'Feminino'\n\\item 'Feminino'\n\\item 'Feminino'\n\\item 'Feminino'\n\\item 'Feminino'\n\\item 'Feminino'\n\\item 'Feminino'\n\\item 'Feminino'\n\\item 'Masculino'\n\\item 'Feminino'\n\\item 'Feminino'\n\\item 'Feminino'\n\\item 'Feminino'\n\\item 'Feminino'\n\\item 'Feminino'\n\\item 'Feminino'\n\\item 'Feminino'\n\\item 'Feminino'\n\\item 'Feminino'\n\\item 'Feminino'\n\\item 'Feminino'\n\\item 'Feminino'\n\\item 'Feminino'\n\\item 'Feminino'\n\\item 'Feminino'\n\\item 'Feminino'\n\\item 'Feminino'\n\\item 'Feminino'\n\\item 'Feminino'\n\\item 'Feminino'\n\\item 'Feminino'\n\\item 'Feminino'\n\\item 'Feminino'\n\\item 'Feminino'\n\\item 'Feminino'\n\\item 'Feminino'\n\\item 'Feminino'\n\\item 'Feminino'\n\\item 'Feminino'\n\\item 'Feminino'\n\\end{enumerate*}\n",
            "text/markdown": "1. 'Masculino'\n2. 'Feminino'\n3. 'Feminino'\n4. 'Feminino'\n5. 'Feminino'\n6. 'Feminino'\n7. 'Feminino'\n8. 'Feminino'\n9. 'Feminino'\n10. 'Feminino'\n11. 'Feminino'\n12. 'Feminino'\n13. 'Feminino'\n14. 'Feminino'\n15. 'Masculino'\n16. 'Masculino'\n17. 'Feminino'\n18. 'Feminino'\n19. 'Feminino'\n20. 'Feminino'\n21. 'Feminino'\n22. 'Feminino'\n23. 'Feminino'\n24. 'Feminino'\n25. 'Masculino'\n26. 'Feminino'\n27. 'Feminino'\n28. 'Feminino'\n29. 'Feminino'\n30. 'Feminino'\n31. 'Feminino'\n32. 'Feminino'\n33. 'Feminino'\n34. 'Feminino'\n35. 'Feminino'\n36. 'Masculino'\n37. 'Feminino'\n38. 'Feminino'\n39. 'Feminino'\n40. 'Feminino'\n41. 'Feminino'\n42. 'Feminino'\n43. 'Feminino'\n44. 'Feminino'\n45. 'Feminino'\n46. 'Feminino'\n47. 'Feminino'\n48. 'Feminino'\n49. 'Feminino'\n50. 'Feminino'\n51. 'Feminino'\n52. 'Masculino'\n53. 'Feminino'\n54. 'Feminino'\n55. 'Feminino'\n56. 'Feminino'\n57. 'Feminino'\n58. 'Feminino'\n59. 'Feminino'\n60. 'Feminino'\n61. 'Feminino'\n62. 'Feminino'\n63. 'Feminino'\n64. 'Feminino'\n65. 'Feminino'\n66. 'Feminino'\n67. 'Feminino'\n68. 'Feminino'\n69. 'Masculino'\n70. 'Feminino'\n71. 'Feminino'\n72. 'Feminino'\n73. 'Feminino'\n74. 'Feminino'\n75. 'Feminino'\n76. 'Feminino'\n77. 'Feminino'\n78. 'Feminino'\n79. 'Feminino'\n80. 'Feminino'\n81. 'Feminino'\n82. 'Feminino'\n83. 'Feminino'\n84. 'Feminino'\n85. 'Feminino'\n86. 'Feminino'\n87. 'Feminino'\n88. 'Feminino'\n89. 'Feminino'\n90. 'Feminino'\n91. 'Feminino'\n92. 'Feminino'\n93. 'Feminino'\n94. 'Feminino'\n95. 'Feminino'\n96. 'Feminino'\n97. 'Feminino'\n98. 'Feminino'\n99. 'Feminino'\n100. 'Feminino'\n\n\n",
            "text/html": [
              "<style>\n",
              ".list-inline {list-style: none; margin:0; padding: 0}\n",
              ".list-inline>li {display: inline-block}\n",
              ".list-inline>li:not(:last-child)::after {content: \"\\00b7\"; padding: 0 .5ex}\n",
              "</style>\n",
              "<ol class=list-inline><li>'Masculino'</li><li>'Feminino'</li><li>'Feminino'</li><li>'Feminino'</li><li>'Feminino'</li><li>'Feminino'</li><li>'Feminino'</li><li>'Feminino'</li><li>'Feminino'</li><li>'Feminino'</li><li>'Feminino'</li><li>'Feminino'</li><li>'Feminino'</li><li>'Feminino'</li><li>'Masculino'</li><li>'Masculino'</li><li>'Feminino'</li><li>'Feminino'</li><li>'Feminino'</li><li>'Feminino'</li><li>'Feminino'</li><li>'Feminino'</li><li>'Feminino'</li><li>'Feminino'</li><li>'Masculino'</li><li>'Feminino'</li><li>'Feminino'</li><li>'Feminino'</li><li>'Feminino'</li><li>'Feminino'</li><li>'Feminino'</li><li>'Feminino'</li><li>'Feminino'</li><li>'Feminino'</li><li>'Feminino'</li><li>'Masculino'</li><li>'Feminino'</li><li>'Feminino'</li><li>'Feminino'</li><li>'Feminino'</li><li>'Feminino'</li><li>'Feminino'</li><li>'Feminino'</li><li>'Feminino'</li><li>'Feminino'</li><li>'Feminino'</li><li>'Feminino'</li><li>'Feminino'</li><li>'Feminino'</li><li>'Feminino'</li><li>'Feminino'</li><li>'Masculino'</li><li>'Feminino'</li><li>'Feminino'</li><li>'Feminino'</li><li>'Feminino'</li><li>'Feminino'</li><li>'Feminino'</li><li>'Feminino'</li><li>'Feminino'</li><li>'Feminino'</li><li>'Feminino'</li><li>'Feminino'</li><li>'Feminino'</li><li>'Feminino'</li><li>'Feminino'</li><li>'Feminino'</li><li>'Feminino'</li><li>'Masculino'</li><li>'Feminino'</li><li>'Feminino'</li><li>'Feminino'</li><li>'Feminino'</li><li>'Feminino'</li><li>'Feminino'</li><li>'Feminino'</li><li>'Feminino'</li><li>'Feminino'</li><li>'Feminino'</li><li>'Feminino'</li><li>'Feminino'</li><li>'Feminino'</li><li>'Feminino'</li><li>'Feminino'</li><li>'Feminino'</li><li>'Feminino'</li><li>'Feminino'</li><li>'Feminino'</li><li>'Feminino'</li><li>'Feminino'</li><li>'Feminino'</li><li>'Feminino'</li><li>'Feminino'</li><li>'Feminino'</li><li>'Feminino'</li><li>'Feminino'</li><li>'Feminino'</li><li>'Feminino'</li><li>'Feminino'</li><li>'Feminino'</li></ol>\n"
            ]
          },
          "metadata": {}
        }
      ]
    },
    {
      "cell_type": "code",
      "source": [
        "cont_sexo1= str_replace(cont_sexo,\n",
        "            pattern = \"Feminino\", \n",
        "            replacement = \"1\")\n",
        "cont_sexo1"
      ],
      "metadata": {
        "colab": {
          "base_uri": "https://localhost:8080/",
          "height": 69
        },
        "id": "XZp6jrMVUXia",
        "outputId": "00e7d975-02d2-4f77-90a6-eb922e1391d5"
      },
      "execution_count": 275,
      "outputs": [
        {
          "output_type": "display_data",
          "data": {
            "text/plain": [
              "  [1] \"Masculino\" \"1\"         \"1\"         \"1\"         \"1\"         \"1\"        \n",
              "  [7] \"1\"         \"1\"         \"1\"         \"1\"         \"1\"         \"1\"        \n",
              " [13] \"1\"         \"1\"         \"Masculino\" \"Masculino\" \"1\"         \"1\"        \n",
              " [19] \"1\"         \"1\"         \"1\"         \"1\"         \"1\"         \"1\"        \n",
              " [25] \"Masculino\" \"1\"         \"1\"         \"1\"         \"1\"         \"1\"        \n",
              " [31] \"1\"         \"1\"         \"1\"         \"1\"         \"1\"         \"Masculino\"\n",
              " [37] \"1\"         \"1\"         \"1\"         \"1\"         \"1\"         \"1\"        \n",
              " [43] \"1\"         \"1\"         \"1\"         \"1\"         \"1\"         \"1\"        \n",
              " [49] \"1\"         \"1\"         \"1\"         \"Masculino\" \"1\"         \"1\"        \n",
              " [55] \"1\"         \"1\"         \"1\"         \"1\"         \"1\"         \"1\"        \n",
              " [61] \"1\"         \"1\"         \"1\"         \"1\"         \"1\"         \"1\"        \n",
              " [67] \"1\"         \"1\"         \"Masculino\" \"1\"         \"1\"         \"1\"        \n",
              " [73] \"1\"         \"1\"         \"1\"         \"1\"         \"1\"         \"1\"        \n",
              " [79] \"1\"         \"1\"         \"1\"         \"1\"         \"1\"         \"1\"        \n",
              " [85] \"1\"         \"1\"         \"1\"         \"1\"         \"1\"         \"1\"        \n",
              " [91] \"1\"         \"1\"         \"1\"         \"1\"         \"1\"         \"1\"        \n",
              " [97] \"1\"         \"1\"         \"1\"         \"1\"        "
            ],
            "text/latex": "\\begin{enumerate*}\n\\item 'Masculino'\n\\item '1'\n\\item '1'\n\\item '1'\n\\item '1'\n\\item '1'\n\\item '1'\n\\item '1'\n\\item '1'\n\\item '1'\n\\item '1'\n\\item '1'\n\\item '1'\n\\item '1'\n\\item 'Masculino'\n\\item 'Masculino'\n\\item '1'\n\\item '1'\n\\item '1'\n\\item '1'\n\\item '1'\n\\item '1'\n\\item '1'\n\\item '1'\n\\item 'Masculino'\n\\item '1'\n\\item '1'\n\\item '1'\n\\item '1'\n\\item '1'\n\\item '1'\n\\item '1'\n\\item '1'\n\\item '1'\n\\item '1'\n\\item 'Masculino'\n\\item '1'\n\\item '1'\n\\item '1'\n\\item '1'\n\\item '1'\n\\item '1'\n\\item '1'\n\\item '1'\n\\item '1'\n\\item '1'\n\\item '1'\n\\item '1'\n\\item '1'\n\\item '1'\n\\item '1'\n\\item 'Masculino'\n\\item '1'\n\\item '1'\n\\item '1'\n\\item '1'\n\\item '1'\n\\item '1'\n\\item '1'\n\\item '1'\n\\item '1'\n\\item '1'\n\\item '1'\n\\item '1'\n\\item '1'\n\\item '1'\n\\item '1'\n\\item '1'\n\\item 'Masculino'\n\\item '1'\n\\item '1'\n\\item '1'\n\\item '1'\n\\item '1'\n\\item '1'\n\\item '1'\n\\item '1'\n\\item '1'\n\\item '1'\n\\item '1'\n\\item '1'\n\\item '1'\n\\item '1'\n\\item '1'\n\\item '1'\n\\item '1'\n\\item '1'\n\\item '1'\n\\item '1'\n\\item '1'\n\\item '1'\n\\item '1'\n\\item '1'\n\\item '1'\n\\item '1'\n\\item '1'\n\\item '1'\n\\item '1'\n\\item '1'\n\\item '1'\n\\end{enumerate*}\n",
            "text/markdown": "1. 'Masculino'\n2. '1'\n3. '1'\n4. '1'\n5. '1'\n6. '1'\n7. '1'\n8. '1'\n9. '1'\n10. '1'\n11. '1'\n12. '1'\n13. '1'\n14. '1'\n15. 'Masculino'\n16. 'Masculino'\n17. '1'\n18. '1'\n19. '1'\n20. '1'\n21. '1'\n22. '1'\n23. '1'\n24. '1'\n25. 'Masculino'\n26. '1'\n27. '1'\n28. '1'\n29. '1'\n30. '1'\n31. '1'\n32. '1'\n33. '1'\n34. '1'\n35. '1'\n36. 'Masculino'\n37. '1'\n38. '1'\n39. '1'\n40. '1'\n41. '1'\n42. '1'\n43. '1'\n44. '1'\n45. '1'\n46. '1'\n47. '1'\n48. '1'\n49. '1'\n50. '1'\n51. '1'\n52. 'Masculino'\n53. '1'\n54. '1'\n55. '1'\n56. '1'\n57. '1'\n58. '1'\n59. '1'\n60. '1'\n61. '1'\n62. '1'\n63. '1'\n64. '1'\n65. '1'\n66. '1'\n67. '1'\n68. '1'\n69. 'Masculino'\n70. '1'\n71. '1'\n72. '1'\n73. '1'\n74. '1'\n75. '1'\n76. '1'\n77. '1'\n78. '1'\n79. '1'\n80. '1'\n81. '1'\n82. '1'\n83. '1'\n84. '1'\n85. '1'\n86. '1'\n87. '1'\n88. '1'\n89. '1'\n90. '1'\n91. '1'\n92. '1'\n93. '1'\n94. '1'\n95. '1'\n96. '1'\n97. '1'\n98. '1'\n99. '1'\n100. '1'\n\n\n",
            "text/html": [
              "<style>\n",
              ".list-inline {list-style: none; margin:0; padding: 0}\n",
              ".list-inline>li {display: inline-block}\n",
              ".list-inline>li:not(:last-child)::after {content: \"\\00b7\"; padding: 0 .5ex}\n",
              "</style>\n",
              "<ol class=list-inline><li>'Masculino'</li><li>'1'</li><li>'1'</li><li>'1'</li><li>'1'</li><li>'1'</li><li>'1'</li><li>'1'</li><li>'1'</li><li>'1'</li><li>'1'</li><li>'1'</li><li>'1'</li><li>'1'</li><li>'Masculino'</li><li>'Masculino'</li><li>'1'</li><li>'1'</li><li>'1'</li><li>'1'</li><li>'1'</li><li>'1'</li><li>'1'</li><li>'1'</li><li>'Masculino'</li><li>'1'</li><li>'1'</li><li>'1'</li><li>'1'</li><li>'1'</li><li>'1'</li><li>'1'</li><li>'1'</li><li>'1'</li><li>'1'</li><li>'Masculino'</li><li>'1'</li><li>'1'</li><li>'1'</li><li>'1'</li><li>'1'</li><li>'1'</li><li>'1'</li><li>'1'</li><li>'1'</li><li>'1'</li><li>'1'</li><li>'1'</li><li>'1'</li><li>'1'</li><li>'1'</li><li>'Masculino'</li><li>'1'</li><li>'1'</li><li>'1'</li><li>'1'</li><li>'1'</li><li>'1'</li><li>'1'</li><li>'1'</li><li>'1'</li><li>'1'</li><li>'1'</li><li>'1'</li><li>'1'</li><li>'1'</li><li>'1'</li><li>'1'</li><li>'Masculino'</li><li>'1'</li><li>'1'</li><li>'1'</li><li>'1'</li><li>'1'</li><li>'1'</li><li>'1'</li><li>'1'</li><li>'1'</li><li>'1'</li><li>'1'</li><li>'1'</li><li>'1'</li><li>'1'</li><li>'1'</li><li>'1'</li><li>'1'</li><li>'1'</li><li>'1'</li><li>'1'</li><li>'1'</li><li>'1'</li><li>'1'</li><li>'1'</li><li>'1'</li><li>'1'</li><li>'1'</li><li>'1'</li><li>'1'</li><li>'1'</li><li>'1'</li></ol>\n"
            ]
          },
          "metadata": {}
        }
      ]
    },
    {
      "cell_type": "code",
      "source": [
        "cont_sexo1= str_replace(cont_sexo1,\n",
        "            pattern = \"Masculino\", \n",
        "            replacement = \"0\")\n",
        "cont_sexo1"
      ],
      "metadata": {
        "colab": {
          "base_uri": "https://localhost:8080/",
          "height": 52
        },
        "id": "X8GPhOyfUqC9",
        "outputId": "15940a3b-bb94-4d73-cc4f-31bf070617f1"
      },
      "execution_count": 276,
      "outputs": [
        {
          "output_type": "display_data",
          "data": {
            "text/plain": [
              "  [1] \"0\" \"1\" \"1\" \"1\" \"1\" \"1\" \"1\" \"1\" \"1\" \"1\" \"1\" \"1\" \"1\" \"1\" \"0\" \"0\" \"1\" \"1\"\n",
              " [19] \"1\" \"1\" \"1\" \"1\" \"1\" \"1\" \"0\" \"1\" \"1\" \"1\" \"1\" \"1\" \"1\" \"1\" \"1\" \"1\" \"1\" \"0\"\n",
              " [37] \"1\" \"1\" \"1\" \"1\" \"1\" \"1\" \"1\" \"1\" \"1\" \"1\" \"1\" \"1\" \"1\" \"1\" \"1\" \"0\" \"1\" \"1\"\n",
              " [55] \"1\" \"1\" \"1\" \"1\" \"1\" \"1\" \"1\" \"1\" \"1\" \"1\" \"1\" \"1\" \"1\" \"1\" \"0\" \"1\" \"1\" \"1\"\n",
              " [73] \"1\" \"1\" \"1\" \"1\" \"1\" \"1\" \"1\" \"1\" \"1\" \"1\" \"1\" \"1\" \"1\" \"1\" \"1\" \"1\" \"1\" \"1\"\n",
              " [91] \"1\" \"1\" \"1\" \"1\" \"1\" \"1\" \"1\" \"1\" \"1\" \"1\""
            ],
            "text/latex": "\\begin{enumerate*}\n\\item '0'\n\\item '1'\n\\item '1'\n\\item '1'\n\\item '1'\n\\item '1'\n\\item '1'\n\\item '1'\n\\item '1'\n\\item '1'\n\\item '1'\n\\item '1'\n\\item '1'\n\\item '1'\n\\item '0'\n\\item '0'\n\\item '1'\n\\item '1'\n\\item '1'\n\\item '1'\n\\item '1'\n\\item '1'\n\\item '1'\n\\item '1'\n\\item '0'\n\\item '1'\n\\item '1'\n\\item '1'\n\\item '1'\n\\item '1'\n\\item '1'\n\\item '1'\n\\item '1'\n\\item '1'\n\\item '1'\n\\item '0'\n\\item '1'\n\\item '1'\n\\item '1'\n\\item '1'\n\\item '1'\n\\item '1'\n\\item '1'\n\\item '1'\n\\item '1'\n\\item '1'\n\\item '1'\n\\item '1'\n\\item '1'\n\\item '1'\n\\item '1'\n\\item '0'\n\\item '1'\n\\item '1'\n\\item '1'\n\\item '1'\n\\item '1'\n\\item '1'\n\\item '1'\n\\item '1'\n\\item '1'\n\\item '1'\n\\item '1'\n\\item '1'\n\\item '1'\n\\item '1'\n\\item '1'\n\\item '1'\n\\item '0'\n\\item '1'\n\\item '1'\n\\item '1'\n\\item '1'\n\\item '1'\n\\item '1'\n\\item '1'\n\\item '1'\n\\item '1'\n\\item '1'\n\\item '1'\n\\item '1'\n\\item '1'\n\\item '1'\n\\item '1'\n\\item '1'\n\\item '1'\n\\item '1'\n\\item '1'\n\\item '1'\n\\item '1'\n\\item '1'\n\\item '1'\n\\item '1'\n\\item '1'\n\\item '1'\n\\item '1'\n\\item '1'\n\\item '1'\n\\item '1'\n\\item '1'\n\\end{enumerate*}\n",
            "text/markdown": "1. '0'\n2. '1'\n3. '1'\n4. '1'\n5. '1'\n6. '1'\n7. '1'\n8. '1'\n9. '1'\n10. '1'\n11. '1'\n12. '1'\n13. '1'\n14. '1'\n15. '0'\n16. '0'\n17. '1'\n18. '1'\n19. '1'\n20. '1'\n21. '1'\n22. '1'\n23. '1'\n24. '1'\n25. '0'\n26. '1'\n27. '1'\n28. '1'\n29. '1'\n30. '1'\n31. '1'\n32. '1'\n33. '1'\n34. '1'\n35. '1'\n36. '0'\n37. '1'\n38. '1'\n39. '1'\n40. '1'\n41. '1'\n42. '1'\n43. '1'\n44. '1'\n45. '1'\n46. '1'\n47. '1'\n48. '1'\n49. '1'\n50. '1'\n51. '1'\n52. '0'\n53. '1'\n54. '1'\n55. '1'\n56. '1'\n57. '1'\n58. '1'\n59. '1'\n60. '1'\n61. '1'\n62. '1'\n63. '1'\n64. '1'\n65. '1'\n66. '1'\n67. '1'\n68. '1'\n69. '0'\n70. '1'\n71. '1'\n72. '1'\n73. '1'\n74. '1'\n75. '1'\n76. '1'\n77. '1'\n78. '1'\n79. '1'\n80. '1'\n81. '1'\n82. '1'\n83. '1'\n84. '1'\n85. '1'\n86. '1'\n87. '1'\n88. '1'\n89. '1'\n90. '1'\n91. '1'\n92. '1'\n93. '1'\n94. '1'\n95. '1'\n96. '1'\n97. '1'\n98. '1'\n99. '1'\n100. '1'\n\n\n",
            "text/html": [
              "<style>\n",
              ".list-inline {list-style: none; margin:0; padding: 0}\n",
              ".list-inline>li {display: inline-block}\n",
              ".list-inline>li:not(:last-child)::after {content: \"\\00b7\"; padding: 0 .5ex}\n",
              "</style>\n",
              "<ol class=list-inline><li>'0'</li><li>'1'</li><li>'1'</li><li>'1'</li><li>'1'</li><li>'1'</li><li>'1'</li><li>'1'</li><li>'1'</li><li>'1'</li><li>'1'</li><li>'1'</li><li>'1'</li><li>'1'</li><li>'0'</li><li>'0'</li><li>'1'</li><li>'1'</li><li>'1'</li><li>'1'</li><li>'1'</li><li>'1'</li><li>'1'</li><li>'1'</li><li>'0'</li><li>'1'</li><li>'1'</li><li>'1'</li><li>'1'</li><li>'1'</li><li>'1'</li><li>'1'</li><li>'1'</li><li>'1'</li><li>'1'</li><li>'0'</li><li>'1'</li><li>'1'</li><li>'1'</li><li>'1'</li><li>'1'</li><li>'1'</li><li>'1'</li><li>'1'</li><li>'1'</li><li>'1'</li><li>'1'</li><li>'1'</li><li>'1'</li><li>'1'</li><li>'1'</li><li>'0'</li><li>'1'</li><li>'1'</li><li>'1'</li><li>'1'</li><li>'1'</li><li>'1'</li><li>'1'</li><li>'1'</li><li>'1'</li><li>'1'</li><li>'1'</li><li>'1'</li><li>'1'</li><li>'1'</li><li>'1'</li><li>'1'</li><li>'0'</li><li>'1'</li><li>'1'</li><li>'1'</li><li>'1'</li><li>'1'</li><li>'1'</li><li>'1'</li><li>'1'</li><li>'1'</li><li>'1'</li><li>'1'</li><li>'1'</li><li>'1'</li><li>'1'</li><li>'1'</li><li>'1'</li><li>'1'</li><li>'1'</li><li>'1'</li><li>'1'</li><li>'1'</li><li>'1'</li><li>'1'</li><li>'1'</li><li>'1'</li><li>'1'</li><li>'1'</li><li>'1'</li><li>'1'</li><li>'1'</li><li>'1'</li></ol>\n"
            ]
          },
          "metadata": {}
        }
      ]
    },
    {
      "cell_type": "code",
      "source": [
        "cont_sexo1 <- as.numeric(sub(\"\", \"\", cont_sexo1))\n",
        "cont_sexo1 = sum(cont_sexo1)\n",
        "cont_sexo1"
      ],
      "metadata": {
        "colab": {
          "base_uri": "https://localhost:8080/",
          "height": 34
        },
        "id": "AJ3SkF4VUuhZ",
        "outputId": "19dd3f9a-4a2a-4d71-943a-6532fe720ed5"
      },
      "execution_count": 277,
      "outputs": [
        {
          "output_type": "display_data",
          "data": {
            "text/plain": [
              "[1] 93"
            ],
            "text/latex": "93",
            "text/markdown": "93",
            "text/html": [
              "93"
            ]
          },
          "metadata": {}
        }
      ]
    },
    {
      "cell_type": "code",
      "source": [
        "cont_sexo2= str_replace(cont_sexo,\n",
        "            pattern = \"Feminino\", \n",
        "            replacement = \"0\")\n",
        "cont_sexo2"
      ],
      "metadata": {
        "colab": {
          "base_uri": "https://localhost:8080/",
          "height": 69
        },
        "id": "NU1qhdcnU0CJ",
        "outputId": "1e369bd9-0e59-4d8c-ef85-904249062f2b"
      },
      "execution_count": 278,
      "outputs": [
        {
          "output_type": "display_data",
          "data": {
            "text/plain": [
              "  [1] \"Masculino\" \"0\"         \"0\"         \"0\"         \"0\"         \"0\"        \n",
              "  [7] \"0\"         \"0\"         \"0\"         \"0\"         \"0\"         \"0\"        \n",
              " [13] \"0\"         \"0\"         \"Masculino\" \"Masculino\" \"0\"         \"0\"        \n",
              " [19] \"0\"         \"0\"         \"0\"         \"0\"         \"0\"         \"0\"        \n",
              " [25] \"Masculino\" \"0\"         \"0\"         \"0\"         \"0\"         \"0\"        \n",
              " [31] \"0\"         \"0\"         \"0\"         \"0\"         \"0\"         \"Masculino\"\n",
              " [37] \"0\"         \"0\"         \"0\"         \"0\"         \"0\"         \"0\"        \n",
              " [43] \"0\"         \"0\"         \"0\"         \"0\"         \"0\"         \"0\"        \n",
              " [49] \"0\"         \"0\"         \"0\"         \"Masculino\" \"0\"         \"0\"        \n",
              " [55] \"0\"         \"0\"         \"0\"         \"0\"         \"0\"         \"0\"        \n",
              " [61] \"0\"         \"0\"         \"0\"         \"0\"         \"0\"         \"0\"        \n",
              " [67] \"0\"         \"0\"         \"Masculino\" \"0\"         \"0\"         \"0\"        \n",
              " [73] \"0\"         \"0\"         \"0\"         \"0\"         \"0\"         \"0\"        \n",
              " [79] \"0\"         \"0\"         \"0\"         \"0\"         \"0\"         \"0\"        \n",
              " [85] \"0\"         \"0\"         \"0\"         \"0\"         \"0\"         \"0\"        \n",
              " [91] \"0\"         \"0\"         \"0\"         \"0\"         \"0\"         \"0\"        \n",
              " [97] \"0\"         \"0\"         \"0\"         \"0\"        "
            ],
            "text/latex": "\\begin{enumerate*}\n\\item 'Masculino'\n\\item '0'\n\\item '0'\n\\item '0'\n\\item '0'\n\\item '0'\n\\item '0'\n\\item '0'\n\\item '0'\n\\item '0'\n\\item '0'\n\\item '0'\n\\item '0'\n\\item '0'\n\\item 'Masculino'\n\\item 'Masculino'\n\\item '0'\n\\item '0'\n\\item '0'\n\\item '0'\n\\item '0'\n\\item '0'\n\\item '0'\n\\item '0'\n\\item 'Masculino'\n\\item '0'\n\\item '0'\n\\item '0'\n\\item '0'\n\\item '0'\n\\item '0'\n\\item '0'\n\\item '0'\n\\item '0'\n\\item '0'\n\\item 'Masculino'\n\\item '0'\n\\item '0'\n\\item '0'\n\\item '0'\n\\item '0'\n\\item '0'\n\\item '0'\n\\item '0'\n\\item '0'\n\\item '0'\n\\item '0'\n\\item '0'\n\\item '0'\n\\item '0'\n\\item '0'\n\\item 'Masculino'\n\\item '0'\n\\item '0'\n\\item '0'\n\\item '0'\n\\item '0'\n\\item '0'\n\\item '0'\n\\item '0'\n\\item '0'\n\\item '0'\n\\item '0'\n\\item '0'\n\\item '0'\n\\item '0'\n\\item '0'\n\\item '0'\n\\item 'Masculino'\n\\item '0'\n\\item '0'\n\\item '0'\n\\item '0'\n\\item '0'\n\\item '0'\n\\item '0'\n\\item '0'\n\\item '0'\n\\item '0'\n\\item '0'\n\\item '0'\n\\item '0'\n\\item '0'\n\\item '0'\n\\item '0'\n\\item '0'\n\\item '0'\n\\item '0'\n\\item '0'\n\\item '0'\n\\item '0'\n\\item '0'\n\\item '0'\n\\item '0'\n\\item '0'\n\\item '0'\n\\item '0'\n\\item '0'\n\\item '0'\n\\item '0'\n\\end{enumerate*}\n",
            "text/markdown": "1. 'Masculino'\n2. '0'\n3. '0'\n4. '0'\n5. '0'\n6. '0'\n7. '0'\n8. '0'\n9. '0'\n10. '0'\n11. '0'\n12. '0'\n13. '0'\n14. '0'\n15. 'Masculino'\n16. 'Masculino'\n17. '0'\n18. '0'\n19. '0'\n20. '0'\n21. '0'\n22. '0'\n23. '0'\n24. '0'\n25. 'Masculino'\n26. '0'\n27. '0'\n28. '0'\n29. '0'\n30. '0'\n31. '0'\n32. '0'\n33. '0'\n34. '0'\n35. '0'\n36. 'Masculino'\n37. '0'\n38. '0'\n39. '0'\n40. '0'\n41. '0'\n42. '0'\n43. '0'\n44. '0'\n45. '0'\n46. '0'\n47. '0'\n48. '0'\n49. '0'\n50. '0'\n51. '0'\n52. 'Masculino'\n53. '0'\n54. '0'\n55. '0'\n56. '0'\n57. '0'\n58. '0'\n59. '0'\n60. '0'\n61. '0'\n62. '0'\n63. '0'\n64. '0'\n65. '0'\n66. '0'\n67. '0'\n68. '0'\n69. 'Masculino'\n70. '0'\n71. '0'\n72. '0'\n73. '0'\n74. '0'\n75. '0'\n76. '0'\n77. '0'\n78. '0'\n79. '0'\n80. '0'\n81. '0'\n82. '0'\n83. '0'\n84. '0'\n85. '0'\n86. '0'\n87. '0'\n88. '0'\n89. '0'\n90. '0'\n91. '0'\n92. '0'\n93. '0'\n94. '0'\n95. '0'\n96. '0'\n97. '0'\n98. '0'\n99. '0'\n100. '0'\n\n\n",
            "text/html": [
              "<style>\n",
              ".list-inline {list-style: none; margin:0; padding: 0}\n",
              ".list-inline>li {display: inline-block}\n",
              ".list-inline>li:not(:last-child)::after {content: \"\\00b7\"; padding: 0 .5ex}\n",
              "</style>\n",
              "<ol class=list-inline><li>'Masculino'</li><li>'0'</li><li>'0'</li><li>'0'</li><li>'0'</li><li>'0'</li><li>'0'</li><li>'0'</li><li>'0'</li><li>'0'</li><li>'0'</li><li>'0'</li><li>'0'</li><li>'0'</li><li>'Masculino'</li><li>'Masculino'</li><li>'0'</li><li>'0'</li><li>'0'</li><li>'0'</li><li>'0'</li><li>'0'</li><li>'0'</li><li>'0'</li><li>'Masculino'</li><li>'0'</li><li>'0'</li><li>'0'</li><li>'0'</li><li>'0'</li><li>'0'</li><li>'0'</li><li>'0'</li><li>'0'</li><li>'0'</li><li>'Masculino'</li><li>'0'</li><li>'0'</li><li>'0'</li><li>'0'</li><li>'0'</li><li>'0'</li><li>'0'</li><li>'0'</li><li>'0'</li><li>'0'</li><li>'0'</li><li>'0'</li><li>'0'</li><li>'0'</li><li>'0'</li><li>'Masculino'</li><li>'0'</li><li>'0'</li><li>'0'</li><li>'0'</li><li>'0'</li><li>'0'</li><li>'0'</li><li>'0'</li><li>'0'</li><li>'0'</li><li>'0'</li><li>'0'</li><li>'0'</li><li>'0'</li><li>'0'</li><li>'0'</li><li>'Masculino'</li><li>'0'</li><li>'0'</li><li>'0'</li><li>'0'</li><li>'0'</li><li>'0'</li><li>'0'</li><li>'0'</li><li>'0'</li><li>'0'</li><li>'0'</li><li>'0'</li><li>'0'</li><li>'0'</li><li>'0'</li><li>'0'</li><li>'0'</li><li>'0'</li><li>'0'</li><li>'0'</li><li>'0'</li><li>'0'</li><li>'0'</li><li>'0'</li><li>'0'</li><li>'0'</li><li>'0'</li><li>'0'</li><li>'0'</li><li>'0'</li><li>'0'</li></ol>\n"
            ]
          },
          "metadata": {}
        }
      ]
    },
    {
      "cell_type": "code",
      "source": [
        "cont_sexo2= str_replace(cont_sexo2,\n",
        "            pattern = \"Masculino\", \n",
        "            replacement = \"1\")\n",
        "cont_sexo2"
      ],
      "metadata": {
        "colab": {
          "base_uri": "https://localhost:8080/",
          "height": 52
        },
        "id": "wDHlHf0JU3kY",
        "outputId": "0d5ec524-1bf1-4c6e-f586-6f781244cb25"
      },
      "execution_count": 279,
      "outputs": [
        {
          "output_type": "display_data",
          "data": {
            "text/plain": [
              "  [1] \"1\" \"0\" \"0\" \"0\" \"0\" \"0\" \"0\" \"0\" \"0\" \"0\" \"0\" \"0\" \"0\" \"0\" \"1\" \"1\" \"0\" \"0\"\n",
              " [19] \"0\" \"0\" \"0\" \"0\" \"0\" \"0\" \"1\" \"0\" \"0\" \"0\" \"0\" \"0\" \"0\" \"0\" \"0\" \"0\" \"0\" \"1\"\n",
              " [37] \"0\" \"0\" \"0\" \"0\" \"0\" \"0\" \"0\" \"0\" \"0\" \"0\" \"0\" \"0\" \"0\" \"0\" \"0\" \"1\" \"0\" \"0\"\n",
              " [55] \"0\" \"0\" \"0\" \"0\" \"0\" \"0\" \"0\" \"0\" \"0\" \"0\" \"0\" \"0\" \"0\" \"0\" \"1\" \"0\" \"0\" \"0\"\n",
              " [73] \"0\" \"0\" \"0\" \"0\" \"0\" \"0\" \"0\" \"0\" \"0\" \"0\" \"0\" \"0\" \"0\" \"0\" \"0\" \"0\" \"0\" \"0\"\n",
              " [91] \"0\" \"0\" \"0\" \"0\" \"0\" \"0\" \"0\" \"0\" \"0\" \"0\""
            ],
            "text/latex": "\\begin{enumerate*}\n\\item '1'\n\\item '0'\n\\item '0'\n\\item '0'\n\\item '0'\n\\item '0'\n\\item '0'\n\\item '0'\n\\item '0'\n\\item '0'\n\\item '0'\n\\item '0'\n\\item '0'\n\\item '0'\n\\item '1'\n\\item '1'\n\\item '0'\n\\item '0'\n\\item '0'\n\\item '0'\n\\item '0'\n\\item '0'\n\\item '0'\n\\item '0'\n\\item '1'\n\\item '0'\n\\item '0'\n\\item '0'\n\\item '0'\n\\item '0'\n\\item '0'\n\\item '0'\n\\item '0'\n\\item '0'\n\\item '0'\n\\item '1'\n\\item '0'\n\\item '0'\n\\item '0'\n\\item '0'\n\\item '0'\n\\item '0'\n\\item '0'\n\\item '0'\n\\item '0'\n\\item '0'\n\\item '0'\n\\item '0'\n\\item '0'\n\\item '0'\n\\item '0'\n\\item '1'\n\\item '0'\n\\item '0'\n\\item '0'\n\\item '0'\n\\item '0'\n\\item '0'\n\\item '0'\n\\item '0'\n\\item '0'\n\\item '0'\n\\item '0'\n\\item '0'\n\\item '0'\n\\item '0'\n\\item '0'\n\\item '0'\n\\item '1'\n\\item '0'\n\\item '0'\n\\item '0'\n\\item '0'\n\\item '0'\n\\item '0'\n\\item '0'\n\\item '0'\n\\item '0'\n\\item '0'\n\\item '0'\n\\item '0'\n\\item '0'\n\\item '0'\n\\item '0'\n\\item '0'\n\\item '0'\n\\item '0'\n\\item '0'\n\\item '0'\n\\item '0'\n\\item '0'\n\\item '0'\n\\item '0'\n\\item '0'\n\\item '0'\n\\item '0'\n\\item '0'\n\\item '0'\n\\item '0'\n\\item '0'\n\\end{enumerate*}\n",
            "text/markdown": "1. '1'\n2. '0'\n3. '0'\n4. '0'\n5. '0'\n6. '0'\n7. '0'\n8. '0'\n9. '0'\n10. '0'\n11. '0'\n12. '0'\n13. '0'\n14. '0'\n15. '1'\n16. '1'\n17. '0'\n18. '0'\n19. '0'\n20. '0'\n21. '0'\n22. '0'\n23. '0'\n24. '0'\n25. '1'\n26. '0'\n27. '0'\n28. '0'\n29. '0'\n30. '0'\n31. '0'\n32. '0'\n33. '0'\n34. '0'\n35. '0'\n36. '1'\n37. '0'\n38. '0'\n39. '0'\n40. '0'\n41. '0'\n42. '0'\n43. '0'\n44. '0'\n45. '0'\n46. '0'\n47. '0'\n48. '0'\n49. '0'\n50. '0'\n51. '0'\n52. '1'\n53. '0'\n54. '0'\n55. '0'\n56. '0'\n57. '0'\n58. '0'\n59. '0'\n60. '0'\n61. '0'\n62. '0'\n63. '0'\n64. '0'\n65. '0'\n66. '0'\n67. '0'\n68. '0'\n69. '1'\n70. '0'\n71. '0'\n72. '0'\n73. '0'\n74. '0'\n75. '0'\n76. '0'\n77. '0'\n78. '0'\n79. '0'\n80. '0'\n81. '0'\n82. '0'\n83. '0'\n84. '0'\n85. '0'\n86. '0'\n87. '0'\n88. '0'\n89. '0'\n90. '0'\n91. '0'\n92. '0'\n93. '0'\n94. '0'\n95. '0'\n96. '0'\n97. '0'\n98. '0'\n99. '0'\n100. '0'\n\n\n",
            "text/html": [
              "<style>\n",
              ".list-inline {list-style: none; margin:0; padding: 0}\n",
              ".list-inline>li {display: inline-block}\n",
              ".list-inline>li:not(:last-child)::after {content: \"\\00b7\"; padding: 0 .5ex}\n",
              "</style>\n",
              "<ol class=list-inline><li>'1'</li><li>'0'</li><li>'0'</li><li>'0'</li><li>'0'</li><li>'0'</li><li>'0'</li><li>'0'</li><li>'0'</li><li>'0'</li><li>'0'</li><li>'0'</li><li>'0'</li><li>'0'</li><li>'1'</li><li>'1'</li><li>'0'</li><li>'0'</li><li>'0'</li><li>'0'</li><li>'0'</li><li>'0'</li><li>'0'</li><li>'0'</li><li>'1'</li><li>'0'</li><li>'0'</li><li>'0'</li><li>'0'</li><li>'0'</li><li>'0'</li><li>'0'</li><li>'0'</li><li>'0'</li><li>'0'</li><li>'1'</li><li>'0'</li><li>'0'</li><li>'0'</li><li>'0'</li><li>'0'</li><li>'0'</li><li>'0'</li><li>'0'</li><li>'0'</li><li>'0'</li><li>'0'</li><li>'0'</li><li>'0'</li><li>'0'</li><li>'0'</li><li>'1'</li><li>'0'</li><li>'0'</li><li>'0'</li><li>'0'</li><li>'0'</li><li>'0'</li><li>'0'</li><li>'0'</li><li>'0'</li><li>'0'</li><li>'0'</li><li>'0'</li><li>'0'</li><li>'0'</li><li>'0'</li><li>'0'</li><li>'1'</li><li>'0'</li><li>'0'</li><li>'0'</li><li>'0'</li><li>'0'</li><li>'0'</li><li>'0'</li><li>'0'</li><li>'0'</li><li>'0'</li><li>'0'</li><li>'0'</li><li>'0'</li><li>'0'</li><li>'0'</li><li>'0'</li><li>'0'</li><li>'0'</li><li>'0'</li><li>'0'</li><li>'0'</li><li>'0'</li><li>'0'</li><li>'0'</li><li>'0'</li><li>'0'</li><li>'0'</li><li>'0'</li><li>'0'</li><li>'0'</li><li>'0'</li></ol>\n"
            ]
          },
          "metadata": {}
        }
      ]
    },
    {
      "cell_type": "code",
      "source": [
        "cont_sexo2 <- as.numeric(sub(\"\", \"\", cont_sexo2))\n",
        "cont_sexo2 = sum(cont_sexo2)\n",
        "cont_sexo2"
      ],
      "metadata": {
        "colab": {
          "base_uri": "https://localhost:8080/",
          "height": 34
        },
        "id": "hSy9jUM-U-ln",
        "outputId": "1c7121e6-8a24-4fa0-bbc1-0b9892f67a8f"
      },
      "execution_count": 280,
      "outputs": [
        {
          "output_type": "display_data",
          "data": {
            "text/plain": [
              "[1] 7"
            ],
            "text/latex": "7",
            "text/markdown": "7",
            "text/html": [
              "7"
            ]
          },
          "metadata": {}
        }
      ]
    },
    {
      "cell_type": "code",
      "source": [
        "print(\"Total de clientes do sexo Feminino\")\n",
        "cont_sexo1\n",
        "print(\"Total de clientes do sexo Masculino\")\n",
        "cont_sexo2"
      ],
      "metadata": {
        "colab": {
          "base_uri": "https://localhost:8080/",
          "height": 86
        },
        "id": "fQZvoN3WulDh",
        "outputId": "3fd9b37c-ca3d-4e05-d56d-6be2487f3b34"
      },
      "execution_count": 301,
      "outputs": [
        {
          "output_type": "stream",
          "name": "stdout",
          "text": [
            "[1] \"Total de clientes do sexo Feminino\"\n"
          ]
        },
        {
          "output_type": "display_data",
          "data": {
            "text/plain": [
              "[1] 93"
            ],
            "text/latex": "93",
            "text/markdown": "93",
            "text/html": [
              "93"
            ]
          },
          "metadata": {}
        },
        {
          "output_type": "stream",
          "name": "stdout",
          "text": [
            "[1] \"Total de clientes do sexo Masculino\"\n"
          ]
        },
        {
          "output_type": "display_data",
          "data": {
            "text/plain": [
              "[1] 7"
            ],
            "text/latex": "7",
            "text/markdown": "7",
            "text/html": [
              "7"
            ]
          },
          "metadata": {}
        }
      ]
    },
    {
      "cell_type": "markdown",
      "source": [
        "####Filtro para: Estado Civil"
      ],
      "metadata": {
        "id": "7KBoXQkh2Rzi"
      }
    },
    {
      "cell_type": "code",
      "source": [
        "civil = dados$Estado.Civil\n",
        "civil"
      ],
      "metadata": {
        "colab": {
          "base_uri": "https://localhost:8080/",
          "height": 104
        },
        "id": "6n4cEFKqVYYD",
        "outputId": "6bb2f8e1-b306-4e76-d676-f25f1b361d77"
      },
      "execution_count": 281,
      "outputs": [
        {
          "output_type": "display_data",
          "data": {
            "text/plain": [
              "  [1] \"Casado\"   \"Casado\"   \"Casado\"   \"Casado\"   \"Casado\"   \"Casado\"  \n",
              "  [7] \"Casado\"   \"Casado\"   \"Casado\"   \"Casado\"   \"Casado\"   \"Casado\"  \n",
              " [13] \"Casado\"   \"Casado\"   \"Solteiro\" \"Solteiro\" \"Solteiro\" \"Casado\"  \n",
              " [19] \"Casado\"   \"Casado\"   \"Solteiro\" \"Casado\"   \"Casado\"   \"Casado\"  \n",
              " [25] \"Casado\"   \"Casado\"   \"Casado\"   \"Solteiro\" \"Casado\"   \"Casado\"  \n",
              " [31] \"Casado\"   \"Casado\"   \"Casado\"   \"Casado\"   \"Casado\"   \"Solteiro\"\n",
              " [37] \"Solteiro\" \"Casado\"   \"Casado\"   \"Casado\"   \"Casado\"   \"Casado\"  \n",
              " [43] \"Casado\"   \"Casado\"   \"Casado\"   \"Casado\"   \"Casado\"   \"Casado\"  \n",
              " [49] \"Casado\"   \"Casado\"   \"Casado\"   \"Casado\"   \"Solteiro\" \"Solteiro\"\n",
              " [55] \"Casado\"   \"Casado\"   \"Casado\"   \"Casado\"   \"Casado\"   \"Solteiro\"\n",
              " [61] \"Casado\"   \"Solteiro\" \"Casado\"   \"Solteiro\" \"Casado\"   \"Casado\"  \n",
              " [67] \"Casado\"   \"Casado\"   \"Casado\"   \"Casado\"   \"Casado\"   \"Casado\"  \n",
              " [73] \"Solteiro\" \"Casado\"   \"Casado\"   \"Casado\"   \"Casado\"   \"Casado\"  \n",
              " [79] \"Casado\"   \"Casado\"   \"Casado\"   \"Solteiro\" \"Casado\"   \"Casado\"  \n",
              " [85] \"Casado\"   \"Casado\"   \"Solteiro\" \"Casado\"   \"Solteiro\" \"Casado\"  \n",
              " [91] \"Casado\"   \"Casado\"   \"Casado\"   \"Casado\"   \"Casado\"   \"Casado\"  \n",
              " [97] \"Casado\"   \"Casado\"   \"Casado\"   \"Casado\"  "
            ],
            "text/latex": "\\begin{enumerate*}\n\\item 'Casado'\n\\item 'Casado'\n\\item 'Casado'\n\\item 'Casado'\n\\item 'Casado'\n\\item 'Casado'\n\\item 'Casado'\n\\item 'Casado'\n\\item 'Casado'\n\\item 'Casado'\n\\item 'Casado'\n\\item 'Casado'\n\\item 'Casado'\n\\item 'Casado'\n\\item 'Solteiro'\n\\item 'Solteiro'\n\\item 'Solteiro'\n\\item 'Casado'\n\\item 'Casado'\n\\item 'Casado'\n\\item 'Solteiro'\n\\item 'Casado'\n\\item 'Casado'\n\\item 'Casado'\n\\item 'Casado'\n\\item 'Casado'\n\\item 'Casado'\n\\item 'Solteiro'\n\\item 'Casado'\n\\item 'Casado'\n\\item 'Casado'\n\\item 'Casado'\n\\item 'Casado'\n\\item 'Casado'\n\\item 'Casado'\n\\item 'Solteiro'\n\\item 'Solteiro'\n\\item 'Casado'\n\\item 'Casado'\n\\item 'Casado'\n\\item 'Casado'\n\\item 'Casado'\n\\item 'Casado'\n\\item 'Casado'\n\\item 'Casado'\n\\item 'Casado'\n\\item 'Casado'\n\\item 'Casado'\n\\item 'Casado'\n\\item 'Casado'\n\\item 'Casado'\n\\item 'Casado'\n\\item 'Solteiro'\n\\item 'Solteiro'\n\\item 'Casado'\n\\item 'Casado'\n\\item 'Casado'\n\\item 'Casado'\n\\item 'Casado'\n\\item 'Solteiro'\n\\item 'Casado'\n\\item 'Solteiro'\n\\item 'Casado'\n\\item 'Solteiro'\n\\item 'Casado'\n\\item 'Casado'\n\\item 'Casado'\n\\item 'Casado'\n\\item 'Casado'\n\\item 'Casado'\n\\item 'Casado'\n\\item 'Casado'\n\\item 'Solteiro'\n\\item 'Casado'\n\\item 'Casado'\n\\item 'Casado'\n\\item 'Casado'\n\\item 'Casado'\n\\item 'Casado'\n\\item 'Casado'\n\\item 'Casado'\n\\item 'Solteiro'\n\\item 'Casado'\n\\item 'Casado'\n\\item 'Casado'\n\\item 'Casado'\n\\item 'Solteiro'\n\\item 'Casado'\n\\item 'Solteiro'\n\\item 'Casado'\n\\item 'Casado'\n\\item 'Casado'\n\\item 'Casado'\n\\item 'Casado'\n\\item 'Casado'\n\\item 'Casado'\n\\item 'Casado'\n\\item 'Casado'\n\\item 'Casado'\n\\item 'Casado'\n\\end{enumerate*}\n",
            "text/markdown": "1. 'Casado'\n2. 'Casado'\n3. 'Casado'\n4. 'Casado'\n5. 'Casado'\n6. 'Casado'\n7. 'Casado'\n8. 'Casado'\n9. 'Casado'\n10. 'Casado'\n11. 'Casado'\n12. 'Casado'\n13. 'Casado'\n14. 'Casado'\n15. 'Solteiro'\n16. 'Solteiro'\n17. 'Solteiro'\n18. 'Casado'\n19. 'Casado'\n20. 'Casado'\n21. 'Solteiro'\n22. 'Casado'\n23. 'Casado'\n24. 'Casado'\n25. 'Casado'\n26. 'Casado'\n27. 'Casado'\n28. 'Solteiro'\n29. 'Casado'\n30. 'Casado'\n31. 'Casado'\n32. 'Casado'\n33. 'Casado'\n34. 'Casado'\n35. 'Casado'\n36. 'Solteiro'\n37. 'Solteiro'\n38. 'Casado'\n39. 'Casado'\n40. 'Casado'\n41. 'Casado'\n42. 'Casado'\n43. 'Casado'\n44. 'Casado'\n45. 'Casado'\n46. 'Casado'\n47. 'Casado'\n48. 'Casado'\n49. 'Casado'\n50. 'Casado'\n51. 'Casado'\n52. 'Casado'\n53. 'Solteiro'\n54. 'Solteiro'\n55. 'Casado'\n56. 'Casado'\n57. 'Casado'\n58. 'Casado'\n59. 'Casado'\n60. 'Solteiro'\n61. 'Casado'\n62. 'Solteiro'\n63. 'Casado'\n64. 'Solteiro'\n65. 'Casado'\n66. 'Casado'\n67. 'Casado'\n68. 'Casado'\n69. 'Casado'\n70. 'Casado'\n71. 'Casado'\n72. 'Casado'\n73. 'Solteiro'\n74. 'Casado'\n75. 'Casado'\n76. 'Casado'\n77. 'Casado'\n78. 'Casado'\n79. 'Casado'\n80. 'Casado'\n81. 'Casado'\n82. 'Solteiro'\n83. 'Casado'\n84. 'Casado'\n85. 'Casado'\n86. 'Casado'\n87. 'Solteiro'\n88. 'Casado'\n89. 'Solteiro'\n90. 'Casado'\n91. 'Casado'\n92. 'Casado'\n93. 'Casado'\n94. 'Casado'\n95. 'Casado'\n96. 'Casado'\n97. 'Casado'\n98. 'Casado'\n99. 'Casado'\n100. 'Casado'\n\n\n",
            "text/html": [
              "<style>\n",
              ".list-inline {list-style: none; margin:0; padding: 0}\n",
              ".list-inline>li {display: inline-block}\n",
              ".list-inline>li:not(:last-child)::after {content: \"\\00b7\"; padding: 0 .5ex}\n",
              "</style>\n",
              "<ol class=list-inline><li>'Casado'</li><li>'Casado'</li><li>'Casado'</li><li>'Casado'</li><li>'Casado'</li><li>'Casado'</li><li>'Casado'</li><li>'Casado'</li><li>'Casado'</li><li>'Casado'</li><li>'Casado'</li><li>'Casado'</li><li>'Casado'</li><li>'Casado'</li><li>'Solteiro'</li><li>'Solteiro'</li><li>'Solteiro'</li><li>'Casado'</li><li>'Casado'</li><li>'Casado'</li><li>'Solteiro'</li><li>'Casado'</li><li>'Casado'</li><li>'Casado'</li><li>'Casado'</li><li>'Casado'</li><li>'Casado'</li><li>'Solteiro'</li><li>'Casado'</li><li>'Casado'</li><li>'Casado'</li><li>'Casado'</li><li>'Casado'</li><li>'Casado'</li><li>'Casado'</li><li>'Solteiro'</li><li>'Solteiro'</li><li>'Casado'</li><li>'Casado'</li><li>'Casado'</li><li>'Casado'</li><li>'Casado'</li><li>'Casado'</li><li>'Casado'</li><li>'Casado'</li><li>'Casado'</li><li>'Casado'</li><li>'Casado'</li><li>'Casado'</li><li>'Casado'</li><li>'Casado'</li><li>'Casado'</li><li>'Solteiro'</li><li>'Solteiro'</li><li>'Casado'</li><li>'Casado'</li><li>'Casado'</li><li>'Casado'</li><li>'Casado'</li><li>'Solteiro'</li><li>'Casado'</li><li>'Solteiro'</li><li>'Casado'</li><li>'Solteiro'</li><li>'Casado'</li><li>'Casado'</li><li>'Casado'</li><li>'Casado'</li><li>'Casado'</li><li>'Casado'</li><li>'Casado'</li><li>'Casado'</li><li>'Solteiro'</li><li>'Casado'</li><li>'Casado'</li><li>'Casado'</li><li>'Casado'</li><li>'Casado'</li><li>'Casado'</li><li>'Casado'</li><li>'Casado'</li><li>'Solteiro'</li><li>'Casado'</li><li>'Casado'</li><li>'Casado'</li><li>'Casado'</li><li>'Solteiro'</li><li>'Casado'</li><li>'Solteiro'</li><li>'Casado'</li><li>'Casado'</li><li>'Casado'</li><li>'Casado'</li><li>'Casado'</li><li>'Casado'</li><li>'Casado'</li><li>'Casado'</li><li>'Casado'</li><li>'Casado'</li><li>'Casado'</li></ol>\n"
            ]
          },
          "metadata": {}
        }
      ]
    },
    {
      "cell_type": "code",
      "source": [
        "civil1= str_replace(civil,\n",
        "            pattern = \"Casado\", \n",
        "            replacement = \"1\")\n",
        "civil1"
      ],
      "metadata": {
        "colab": {
          "base_uri": "https://localhost:8080/",
          "height": 69
        },
        "id": "aAjUUciNVfk2",
        "outputId": "76089aed-aa00-4d83-a63c-59dd6f9f3441"
      },
      "execution_count": 282,
      "outputs": [
        {
          "output_type": "display_data",
          "data": {
            "text/plain": [
              "  [1] \"1\"        \"1\"        \"1\"        \"1\"        \"1\"        \"1\"       \n",
              "  [7] \"1\"        \"1\"        \"1\"        \"1\"        \"1\"        \"1\"       \n",
              " [13] \"1\"        \"1\"        \"Solteiro\" \"Solteiro\" \"Solteiro\" \"1\"       \n",
              " [19] \"1\"        \"1\"        \"Solteiro\" \"1\"        \"1\"        \"1\"       \n",
              " [25] \"1\"        \"1\"        \"1\"        \"Solteiro\" \"1\"        \"1\"       \n",
              " [31] \"1\"        \"1\"        \"1\"        \"1\"        \"1\"        \"Solteiro\"\n",
              " [37] \"Solteiro\" \"1\"        \"1\"        \"1\"        \"1\"        \"1\"       \n",
              " [43] \"1\"        \"1\"        \"1\"        \"1\"        \"1\"        \"1\"       \n",
              " [49] \"1\"        \"1\"        \"1\"        \"1\"        \"Solteiro\" \"Solteiro\"\n",
              " [55] \"1\"        \"1\"        \"1\"        \"1\"        \"1\"        \"Solteiro\"\n",
              " [61] \"1\"        \"Solteiro\" \"1\"        \"Solteiro\" \"1\"        \"1\"       \n",
              " [67] \"1\"        \"1\"        \"1\"        \"1\"        \"1\"        \"1\"       \n",
              " [73] \"Solteiro\" \"1\"        \"1\"        \"1\"        \"1\"        \"1\"       \n",
              " [79] \"1\"        \"1\"        \"1\"        \"Solteiro\" \"1\"        \"1\"       \n",
              " [85] \"1\"        \"1\"        \"Solteiro\" \"1\"        \"Solteiro\" \"1\"       \n",
              " [91] \"1\"        \"1\"        \"1\"        \"1\"        \"1\"        \"1\"       \n",
              " [97] \"1\"        \"1\"        \"1\"        \"1\"       "
            ],
            "text/latex": "\\begin{enumerate*}\n\\item '1'\n\\item '1'\n\\item '1'\n\\item '1'\n\\item '1'\n\\item '1'\n\\item '1'\n\\item '1'\n\\item '1'\n\\item '1'\n\\item '1'\n\\item '1'\n\\item '1'\n\\item '1'\n\\item 'Solteiro'\n\\item 'Solteiro'\n\\item 'Solteiro'\n\\item '1'\n\\item '1'\n\\item '1'\n\\item 'Solteiro'\n\\item '1'\n\\item '1'\n\\item '1'\n\\item '1'\n\\item '1'\n\\item '1'\n\\item 'Solteiro'\n\\item '1'\n\\item '1'\n\\item '1'\n\\item '1'\n\\item '1'\n\\item '1'\n\\item '1'\n\\item 'Solteiro'\n\\item 'Solteiro'\n\\item '1'\n\\item '1'\n\\item '1'\n\\item '1'\n\\item '1'\n\\item '1'\n\\item '1'\n\\item '1'\n\\item '1'\n\\item '1'\n\\item '1'\n\\item '1'\n\\item '1'\n\\item '1'\n\\item '1'\n\\item 'Solteiro'\n\\item 'Solteiro'\n\\item '1'\n\\item '1'\n\\item '1'\n\\item '1'\n\\item '1'\n\\item 'Solteiro'\n\\item '1'\n\\item 'Solteiro'\n\\item '1'\n\\item 'Solteiro'\n\\item '1'\n\\item '1'\n\\item '1'\n\\item '1'\n\\item '1'\n\\item '1'\n\\item '1'\n\\item '1'\n\\item 'Solteiro'\n\\item '1'\n\\item '1'\n\\item '1'\n\\item '1'\n\\item '1'\n\\item '1'\n\\item '1'\n\\item '1'\n\\item 'Solteiro'\n\\item '1'\n\\item '1'\n\\item '1'\n\\item '1'\n\\item 'Solteiro'\n\\item '1'\n\\item 'Solteiro'\n\\item '1'\n\\item '1'\n\\item '1'\n\\item '1'\n\\item '1'\n\\item '1'\n\\item '1'\n\\item '1'\n\\item '1'\n\\item '1'\n\\item '1'\n\\end{enumerate*}\n",
            "text/markdown": "1. '1'\n2. '1'\n3. '1'\n4. '1'\n5. '1'\n6. '1'\n7. '1'\n8. '1'\n9. '1'\n10. '1'\n11. '1'\n12. '1'\n13. '1'\n14. '1'\n15. 'Solteiro'\n16. 'Solteiro'\n17. 'Solteiro'\n18. '1'\n19. '1'\n20. '1'\n21. 'Solteiro'\n22. '1'\n23. '1'\n24. '1'\n25. '1'\n26. '1'\n27. '1'\n28. 'Solteiro'\n29. '1'\n30. '1'\n31. '1'\n32. '1'\n33. '1'\n34. '1'\n35. '1'\n36. 'Solteiro'\n37. 'Solteiro'\n38. '1'\n39. '1'\n40. '1'\n41. '1'\n42. '1'\n43. '1'\n44. '1'\n45. '1'\n46. '1'\n47. '1'\n48. '1'\n49. '1'\n50. '1'\n51. '1'\n52. '1'\n53. 'Solteiro'\n54. 'Solteiro'\n55. '1'\n56. '1'\n57. '1'\n58. '1'\n59. '1'\n60. 'Solteiro'\n61. '1'\n62. 'Solteiro'\n63. '1'\n64. 'Solteiro'\n65. '1'\n66. '1'\n67. '1'\n68. '1'\n69. '1'\n70. '1'\n71. '1'\n72. '1'\n73. 'Solteiro'\n74. '1'\n75. '1'\n76. '1'\n77. '1'\n78. '1'\n79. '1'\n80. '1'\n81. '1'\n82. 'Solteiro'\n83. '1'\n84. '1'\n85. '1'\n86. '1'\n87. 'Solteiro'\n88. '1'\n89. 'Solteiro'\n90. '1'\n91. '1'\n92. '1'\n93. '1'\n94. '1'\n95. '1'\n96. '1'\n97. '1'\n98. '1'\n99. '1'\n100. '1'\n\n\n",
            "text/html": [
              "<style>\n",
              ".list-inline {list-style: none; margin:0; padding: 0}\n",
              ".list-inline>li {display: inline-block}\n",
              ".list-inline>li:not(:last-child)::after {content: \"\\00b7\"; padding: 0 .5ex}\n",
              "</style>\n",
              "<ol class=list-inline><li>'1'</li><li>'1'</li><li>'1'</li><li>'1'</li><li>'1'</li><li>'1'</li><li>'1'</li><li>'1'</li><li>'1'</li><li>'1'</li><li>'1'</li><li>'1'</li><li>'1'</li><li>'1'</li><li>'Solteiro'</li><li>'Solteiro'</li><li>'Solteiro'</li><li>'1'</li><li>'1'</li><li>'1'</li><li>'Solteiro'</li><li>'1'</li><li>'1'</li><li>'1'</li><li>'1'</li><li>'1'</li><li>'1'</li><li>'Solteiro'</li><li>'1'</li><li>'1'</li><li>'1'</li><li>'1'</li><li>'1'</li><li>'1'</li><li>'1'</li><li>'Solteiro'</li><li>'Solteiro'</li><li>'1'</li><li>'1'</li><li>'1'</li><li>'1'</li><li>'1'</li><li>'1'</li><li>'1'</li><li>'1'</li><li>'1'</li><li>'1'</li><li>'1'</li><li>'1'</li><li>'1'</li><li>'1'</li><li>'1'</li><li>'Solteiro'</li><li>'Solteiro'</li><li>'1'</li><li>'1'</li><li>'1'</li><li>'1'</li><li>'1'</li><li>'Solteiro'</li><li>'1'</li><li>'Solteiro'</li><li>'1'</li><li>'Solteiro'</li><li>'1'</li><li>'1'</li><li>'1'</li><li>'1'</li><li>'1'</li><li>'1'</li><li>'1'</li><li>'1'</li><li>'Solteiro'</li><li>'1'</li><li>'1'</li><li>'1'</li><li>'1'</li><li>'1'</li><li>'1'</li><li>'1'</li><li>'1'</li><li>'Solteiro'</li><li>'1'</li><li>'1'</li><li>'1'</li><li>'1'</li><li>'Solteiro'</li><li>'1'</li><li>'Solteiro'</li><li>'1'</li><li>'1'</li><li>'1'</li><li>'1'</li><li>'1'</li><li>'1'</li><li>'1'</li><li>'1'</li><li>'1'</li><li>'1'</li><li>'1'</li></ol>\n"
            ]
          },
          "metadata": {}
        }
      ]
    },
    {
      "cell_type": "code",
      "source": [
        "civil1= str_replace(civil1,\n",
        "            pattern = \"Solteiro\", \n",
        "            replacement = \"0\")\n",
        "civil1"
      ],
      "metadata": {
        "colab": {
          "base_uri": "https://localhost:8080/",
          "height": 52
        },
        "id": "JiUbdAXUVnpG",
        "outputId": "466e47a1-dd79-44fb-8404-4d040d2d32ee"
      },
      "execution_count": 283,
      "outputs": [
        {
          "output_type": "display_data",
          "data": {
            "text/plain": [
              "  [1] \"1\" \"1\" \"1\" \"1\" \"1\" \"1\" \"1\" \"1\" \"1\" \"1\" \"1\" \"1\" \"1\" \"1\" \"0\" \"0\" \"0\" \"1\"\n",
              " [19] \"1\" \"1\" \"0\" \"1\" \"1\" \"1\" \"1\" \"1\" \"1\" \"0\" \"1\" \"1\" \"1\" \"1\" \"1\" \"1\" \"1\" \"0\"\n",
              " [37] \"0\" \"1\" \"1\" \"1\" \"1\" \"1\" \"1\" \"1\" \"1\" \"1\" \"1\" \"1\" \"1\" \"1\" \"1\" \"1\" \"0\" \"0\"\n",
              " [55] \"1\" \"1\" \"1\" \"1\" \"1\" \"0\" \"1\" \"0\" \"1\" \"0\" \"1\" \"1\" \"1\" \"1\" \"1\" \"1\" \"1\" \"1\"\n",
              " [73] \"0\" \"1\" \"1\" \"1\" \"1\" \"1\" \"1\" \"1\" \"1\" \"0\" \"1\" \"1\" \"1\" \"1\" \"0\" \"1\" \"0\" \"1\"\n",
              " [91] \"1\" \"1\" \"1\" \"1\" \"1\" \"1\" \"1\" \"1\" \"1\" \"1\""
            ],
            "text/latex": "\\begin{enumerate*}\n\\item '1'\n\\item '1'\n\\item '1'\n\\item '1'\n\\item '1'\n\\item '1'\n\\item '1'\n\\item '1'\n\\item '1'\n\\item '1'\n\\item '1'\n\\item '1'\n\\item '1'\n\\item '1'\n\\item '0'\n\\item '0'\n\\item '0'\n\\item '1'\n\\item '1'\n\\item '1'\n\\item '0'\n\\item '1'\n\\item '1'\n\\item '1'\n\\item '1'\n\\item '1'\n\\item '1'\n\\item '0'\n\\item '1'\n\\item '1'\n\\item '1'\n\\item '1'\n\\item '1'\n\\item '1'\n\\item '1'\n\\item '0'\n\\item '0'\n\\item '1'\n\\item '1'\n\\item '1'\n\\item '1'\n\\item '1'\n\\item '1'\n\\item '1'\n\\item '1'\n\\item '1'\n\\item '1'\n\\item '1'\n\\item '1'\n\\item '1'\n\\item '1'\n\\item '1'\n\\item '0'\n\\item '0'\n\\item '1'\n\\item '1'\n\\item '1'\n\\item '1'\n\\item '1'\n\\item '0'\n\\item '1'\n\\item '0'\n\\item '1'\n\\item '0'\n\\item '1'\n\\item '1'\n\\item '1'\n\\item '1'\n\\item '1'\n\\item '1'\n\\item '1'\n\\item '1'\n\\item '0'\n\\item '1'\n\\item '1'\n\\item '1'\n\\item '1'\n\\item '1'\n\\item '1'\n\\item '1'\n\\item '1'\n\\item '0'\n\\item '1'\n\\item '1'\n\\item '1'\n\\item '1'\n\\item '0'\n\\item '1'\n\\item '0'\n\\item '1'\n\\item '1'\n\\item '1'\n\\item '1'\n\\item '1'\n\\item '1'\n\\item '1'\n\\item '1'\n\\item '1'\n\\item '1'\n\\item '1'\n\\end{enumerate*}\n",
            "text/markdown": "1. '1'\n2. '1'\n3. '1'\n4. '1'\n5. '1'\n6. '1'\n7. '1'\n8. '1'\n9. '1'\n10. '1'\n11. '1'\n12. '1'\n13. '1'\n14. '1'\n15. '0'\n16. '0'\n17. '0'\n18. '1'\n19. '1'\n20. '1'\n21. '0'\n22. '1'\n23. '1'\n24. '1'\n25. '1'\n26. '1'\n27. '1'\n28. '0'\n29. '1'\n30. '1'\n31. '1'\n32. '1'\n33. '1'\n34. '1'\n35. '1'\n36. '0'\n37. '0'\n38. '1'\n39. '1'\n40. '1'\n41. '1'\n42. '1'\n43. '1'\n44. '1'\n45. '1'\n46. '1'\n47. '1'\n48. '1'\n49. '1'\n50. '1'\n51. '1'\n52. '1'\n53. '0'\n54. '0'\n55. '1'\n56. '1'\n57. '1'\n58. '1'\n59. '1'\n60. '0'\n61. '1'\n62. '0'\n63. '1'\n64. '0'\n65. '1'\n66. '1'\n67. '1'\n68. '1'\n69. '1'\n70. '1'\n71. '1'\n72. '1'\n73. '0'\n74. '1'\n75. '1'\n76. '1'\n77. '1'\n78. '1'\n79. '1'\n80. '1'\n81. '1'\n82. '0'\n83. '1'\n84. '1'\n85. '1'\n86. '1'\n87. '0'\n88. '1'\n89. '0'\n90. '1'\n91. '1'\n92. '1'\n93. '1'\n94. '1'\n95. '1'\n96. '1'\n97. '1'\n98. '1'\n99. '1'\n100. '1'\n\n\n",
            "text/html": [
              "<style>\n",
              ".list-inline {list-style: none; margin:0; padding: 0}\n",
              ".list-inline>li {display: inline-block}\n",
              ".list-inline>li:not(:last-child)::after {content: \"\\00b7\"; padding: 0 .5ex}\n",
              "</style>\n",
              "<ol class=list-inline><li>'1'</li><li>'1'</li><li>'1'</li><li>'1'</li><li>'1'</li><li>'1'</li><li>'1'</li><li>'1'</li><li>'1'</li><li>'1'</li><li>'1'</li><li>'1'</li><li>'1'</li><li>'1'</li><li>'0'</li><li>'0'</li><li>'0'</li><li>'1'</li><li>'1'</li><li>'1'</li><li>'0'</li><li>'1'</li><li>'1'</li><li>'1'</li><li>'1'</li><li>'1'</li><li>'1'</li><li>'0'</li><li>'1'</li><li>'1'</li><li>'1'</li><li>'1'</li><li>'1'</li><li>'1'</li><li>'1'</li><li>'0'</li><li>'0'</li><li>'1'</li><li>'1'</li><li>'1'</li><li>'1'</li><li>'1'</li><li>'1'</li><li>'1'</li><li>'1'</li><li>'1'</li><li>'1'</li><li>'1'</li><li>'1'</li><li>'1'</li><li>'1'</li><li>'1'</li><li>'0'</li><li>'0'</li><li>'1'</li><li>'1'</li><li>'1'</li><li>'1'</li><li>'1'</li><li>'0'</li><li>'1'</li><li>'0'</li><li>'1'</li><li>'0'</li><li>'1'</li><li>'1'</li><li>'1'</li><li>'1'</li><li>'1'</li><li>'1'</li><li>'1'</li><li>'1'</li><li>'0'</li><li>'1'</li><li>'1'</li><li>'1'</li><li>'1'</li><li>'1'</li><li>'1'</li><li>'1'</li><li>'1'</li><li>'0'</li><li>'1'</li><li>'1'</li><li>'1'</li><li>'1'</li><li>'0'</li><li>'1'</li><li>'0'</li><li>'1'</li><li>'1'</li><li>'1'</li><li>'1'</li><li>'1'</li><li>'1'</li><li>'1'</li><li>'1'</li><li>'1'</li><li>'1'</li><li>'1'</li></ol>\n"
            ]
          },
          "metadata": {}
        }
      ]
    },
    {
      "cell_type": "code",
      "source": [
        "civil1 <- as.numeric(sub(\"\", \"\", civil1))\n",
        "civil1 = sum(civil1)\n",
        "civil1"
      ],
      "metadata": {
        "colab": {
          "base_uri": "https://localhost:8080/",
          "height": 34
        },
        "id": "f5UEv7mKVsQJ",
        "outputId": "662560df-5042-447f-d1d0-5b1928706b4d"
      },
      "execution_count": 284,
      "outputs": [
        {
          "output_type": "display_data",
          "data": {
            "text/plain": [
              "[1] 84"
            ],
            "text/latex": "84",
            "text/markdown": "84",
            "text/html": [
              "84"
            ]
          },
          "metadata": {}
        }
      ]
    },
    {
      "cell_type": "code",
      "source": [
        "civil2= str_replace(civil,\n",
        "            pattern = \"Casado\", \n",
        "            replacement = \"0\")\n",
        "civil2"
      ],
      "metadata": {
        "colab": {
          "base_uri": "https://localhost:8080/",
          "height": 69
        },
        "id": "4sjM1B_TVyLF",
        "outputId": "9d752b46-7cce-4899-e466-273bddefe110"
      },
      "execution_count": 285,
      "outputs": [
        {
          "output_type": "display_data",
          "data": {
            "text/plain": [
              "  [1] \"0\"        \"0\"        \"0\"        \"0\"        \"0\"        \"0\"       \n",
              "  [7] \"0\"        \"0\"        \"0\"        \"0\"        \"0\"        \"0\"       \n",
              " [13] \"0\"        \"0\"        \"Solteiro\" \"Solteiro\" \"Solteiro\" \"0\"       \n",
              " [19] \"0\"        \"0\"        \"Solteiro\" \"0\"        \"0\"        \"0\"       \n",
              " [25] \"0\"        \"0\"        \"0\"        \"Solteiro\" \"0\"        \"0\"       \n",
              " [31] \"0\"        \"0\"        \"0\"        \"0\"        \"0\"        \"Solteiro\"\n",
              " [37] \"Solteiro\" \"0\"        \"0\"        \"0\"        \"0\"        \"0\"       \n",
              " [43] \"0\"        \"0\"        \"0\"        \"0\"        \"0\"        \"0\"       \n",
              " [49] \"0\"        \"0\"        \"0\"        \"0\"        \"Solteiro\" \"Solteiro\"\n",
              " [55] \"0\"        \"0\"        \"0\"        \"0\"        \"0\"        \"Solteiro\"\n",
              " [61] \"0\"        \"Solteiro\" \"0\"        \"Solteiro\" \"0\"        \"0\"       \n",
              " [67] \"0\"        \"0\"        \"0\"        \"0\"        \"0\"        \"0\"       \n",
              " [73] \"Solteiro\" \"0\"        \"0\"        \"0\"        \"0\"        \"0\"       \n",
              " [79] \"0\"        \"0\"        \"0\"        \"Solteiro\" \"0\"        \"0\"       \n",
              " [85] \"0\"        \"0\"        \"Solteiro\" \"0\"        \"Solteiro\" \"0\"       \n",
              " [91] \"0\"        \"0\"        \"0\"        \"0\"        \"0\"        \"0\"       \n",
              " [97] \"0\"        \"0\"        \"0\"        \"0\"       "
            ],
            "text/latex": "\\begin{enumerate*}\n\\item '0'\n\\item '0'\n\\item '0'\n\\item '0'\n\\item '0'\n\\item '0'\n\\item '0'\n\\item '0'\n\\item '0'\n\\item '0'\n\\item '0'\n\\item '0'\n\\item '0'\n\\item '0'\n\\item 'Solteiro'\n\\item 'Solteiro'\n\\item 'Solteiro'\n\\item '0'\n\\item '0'\n\\item '0'\n\\item 'Solteiro'\n\\item '0'\n\\item '0'\n\\item '0'\n\\item '0'\n\\item '0'\n\\item '0'\n\\item 'Solteiro'\n\\item '0'\n\\item '0'\n\\item '0'\n\\item '0'\n\\item '0'\n\\item '0'\n\\item '0'\n\\item 'Solteiro'\n\\item 'Solteiro'\n\\item '0'\n\\item '0'\n\\item '0'\n\\item '0'\n\\item '0'\n\\item '0'\n\\item '0'\n\\item '0'\n\\item '0'\n\\item '0'\n\\item '0'\n\\item '0'\n\\item '0'\n\\item '0'\n\\item '0'\n\\item 'Solteiro'\n\\item 'Solteiro'\n\\item '0'\n\\item '0'\n\\item '0'\n\\item '0'\n\\item '0'\n\\item 'Solteiro'\n\\item '0'\n\\item 'Solteiro'\n\\item '0'\n\\item 'Solteiro'\n\\item '0'\n\\item '0'\n\\item '0'\n\\item '0'\n\\item '0'\n\\item '0'\n\\item '0'\n\\item '0'\n\\item 'Solteiro'\n\\item '0'\n\\item '0'\n\\item '0'\n\\item '0'\n\\item '0'\n\\item '0'\n\\item '0'\n\\item '0'\n\\item 'Solteiro'\n\\item '0'\n\\item '0'\n\\item '0'\n\\item '0'\n\\item 'Solteiro'\n\\item '0'\n\\item 'Solteiro'\n\\item '0'\n\\item '0'\n\\item '0'\n\\item '0'\n\\item '0'\n\\item '0'\n\\item '0'\n\\item '0'\n\\item '0'\n\\item '0'\n\\item '0'\n\\end{enumerate*}\n",
            "text/markdown": "1. '0'\n2. '0'\n3. '0'\n4. '0'\n5. '0'\n6. '0'\n7. '0'\n8. '0'\n9. '0'\n10. '0'\n11. '0'\n12. '0'\n13. '0'\n14. '0'\n15. 'Solteiro'\n16. 'Solteiro'\n17. 'Solteiro'\n18. '0'\n19. '0'\n20. '0'\n21. 'Solteiro'\n22. '0'\n23. '0'\n24. '0'\n25. '0'\n26. '0'\n27. '0'\n28. 'Solteiro'\n29. '0'\n30. '0'\n31. '0'\n32. '0'\n33. '0'\n34. '0'\n35. '0'\n36. 'Solteiro'\n37. 'Solteiro'\n38. '0'\n39. '0'\n40. '0'\n41. '0'\n42. '0'\n43. '0'\n44. '0'\n45. '0'\n46. '0'\n47. '0'\n48. '0'\n49. '0'\n50. '0'\n51. '0'\n52. '0'\n53. 'Solteiro'\n54. 'Solteiro'\n55. '0'\n56. '0'\n57. '0'\n58. '0'\n59. '0'\n60. 'Solteiro'\n61. '0'\n62. 'Solteiro'\n63. '0'\n64. 'Solteiro'\n65. '0'\n66. '0'\n67. '0'\n68. '0'\n69. '0'\n70. '0'\n71. '0'\n72. '0'\n73. 'Solteiro'\n74. '0'\n75. '0'\n76. '0'\n77. '0'\n78. '0'\n79. '0'\n80. '0'\n81. '0'\n82. 'Solteiro'\n83. '0'\n84. '0'\n85. '0'\n86. '0'\n87. 'Solteiro'\n88. '0'\n89. 'Solteiro'\n90. '0'\n91. '0'\n92. '0'\n93. '0'\n94. '0'\n95. '0'\n96. '0'\n97. '0'\n98. '0'\n99. '0'\n100. '0'\n\n\n",
            "text/html": [
              "<style>\n",
              ".list-inline {list-style: none; margin:0; padding: 0}\n",
              ".list-inline>li {display: inline-block}\n",
              ".list-inline>li:not(:last-child)::after {content: \"\\00b7\"; padding: 0 .5ex}\n",
              "</style>\n",
              "<ol class=list-inline><li>'0'</li><li>'0'</li><li>'0'</li><li>'0'</li><li>'0'</li><li>'0'</li><li>'0'</li><li>'0'</li><li>'0'</li><li>'0'</li><li>'0'</li><li>'0'</li><li>'0'</li><li>'0'</li><li>'Solteiro'</li><li>'Solteiro'</li><li>'Solteiro'</li><li>'0'</li><li>'0'</li><li>'0'</li><li>'Solteiro'</li><li>'0'</li><li>'0'</li><li>'0'</li><li>'0'</li><li>'0'</li><li>'0'</li><li>'Solteiro'</li><li>'0'</li><li>'0'</li><li>'0'</li><li>'0'</li><li>'0'</li><li>'0'</li><li>'0'</li><li>'Solteiro'</li><li>'Solteiro'</li><li>'0'</li><li>'0'</li><li>'0'</li><li>'0'</li><li>'0'</li><li>'0'</li><li>'0'</li><li>'0'</li><li>'0'</li><li>'0'</li><li>'0'</li><li>'0'</li><li>'0'</li><li>'0'</li><li>'0'</li><li>'Solteiro'</li><li>'Solteiro'</li><li>'0'</li><li>'0'</li><li>'0'</li><li>'0'</li><li>'0'</li><li>'Solteiro'</li><li>'0'</li><li>'Solteiro'</li><li>'0'</li><li>'Solteiro'</li><li>'0'</li><li>'0'</li><li>'0'</li><li>'0'</li><li>'0'</li><li>'0'</li><li>'0'</li><li>'0'</li><li>'Solteiro'</li><li>'0'</li><li>'0'</li><li>'0'</li><li>'0'</li><li>'0'</li><li>'0'</li><li>'0'</li><li>'0'</li><li>'Solteiro'</li><li>'0'</li><li>'0'</li><li>'0'</li><li>'0'</li><li>'Solteiro'</li><li>'0'</li><li>'Solteiro'</li><li>'0'</li><li>'0'</li><li>'0'</li><li>'0'</li><li>'0'</li><li>'0'</li><li>'0'</li><li>'0'</li><li>'0'</li><li>'0'</li><li>'0'</li></ol>\n"
            ]
          },
          "metadata": {}
        }
      ]
    },
    {
      "cell_type": "code",
      "source": [
        "civil2= str_replace(civil2,\n",
        "            pattern = \"Solteiro\", \n",
        "            replacement = \"1\")\n",
        "civil2"
      ],
      "metadata": {
        "colab": {
          "base_uri": "https://localhost:8080/",
          "height": 52
        },
        "id": "VEwBxA5OV2yN",
        "outputId": "81e5b076-4afb-43f7-8a5f-5f3736b6a247"
      },
      "execution_count": 286,
      "outputs": [
        {
          "output_type": "display_data",
          "data": {
            "text/plain": [
              "  [1] \"0\" \"0\" \"0\" \"0\" \"0\" \"0\" \"0\" \"0\" \"0\" \"0\" \"0\" \"0\" \"0\" \"0\" \"1\" \"1\" \"1\" \"0\"\n",
              " [19] \"0\" \"0\" \"1\" \"0\" \"0\" \"0\" \"0\" \"0\" \"0\" \"1\" \"0\" \"0\" \"0\" \"0\" \"0\" \"0\" \"0\" \"1\"\n",
              " [37] \"1\" \"0\" \"0\" \"0\" \"0\" \"0\" \"0\" \"0\" \"0\" \"0\" \"0\" \"0\" \"0\" \"0\" \"0\" \"0\" \"1\" \"1\"\n",
              " [55] \"0\" \"0\" \"0\" \"0\" \"0\" \"1\" \"0\" \"1\" \"0\" \"1\" \"0\" \"0\" \"0\" \"0\" \"0\" \"0\" \"0\" \"0\"\n",
              " [73] \"1\" \"0\" \"0\" \"0\" \"0\" \"0\" \"0\" \"0\" \"0\" \"1\" \"0\" \"0\" \"0\" \"0\" \"1\" \"0\" \"1\" \"0\"\n",
              " [91] \"0\" \"0\" \"0\" \"0\" \"0\" \"0\" \"0\" \"0\" \"0\" \"0\""
            ],
            "text/latex": "\\begin{enumerate*}\n\\item '0'\n\\item '0'\n\\item '0'\n\\item '0'\n\\item '0'\n\\item '0'\n\\item '0'\n\\item '0'\n\\item '0'\n\\item '0'\n\\item '0'\n\\item '0'\n\\item '0'\n\\item '0'\n\\item '1'\n\\item '1'\n\\item '1'\n\\item '0'\n\\item '0'\n\\item '0'\n\\item '1'\n\\item '0'\n\\item '0'\n\\item '0'\n\\item '0'\n\\item '0'\n\\item '0'\n\\item '1'\n\\item '0'\n\\item '0'\n\\item '0'\n\\item '0'\n\\item '0'\n\\item '0'\n\\item '0'\n\\item '1'\n\\item '1'\n\\item '0'\n\\item '0'\n\\item '0'\n\\item '0'\n\\item '0'\n\\item '0'\n\\item '0'\n\\item '0'\n\\item '0'\n\\item '0'\n\\item '0'\n\\item '0'\n\\item '0'\n\\item '0'\n\\item '0'\n\\item '1'\n\\item '1'\n\\item '0'\n\\item '0'\n\\item '0'\n\\item '0'\n\\item '0'\n\\item '1'\n\\item '0'\n\\item '1'\n\\item '0'\n\\item '1'\n\\item '0'\n\\item '0'\n\\item '0'\n\\item '0'\n\\item '0'\n\\item '0'\n\\item '0'\n\\item '0'\n\\item '1'\n\\item '0'\n\\item '0'\n\\item '0'\n\\item '0'\n\\item '0'\n\\item '0'\n\\item '0'\n\\item '0'\n\\item '1'\n\\item '0'\n\\item '0'\n\\item '0'\n\\item '0'\n\\item '1'\n\\item '0'\n\\item '1'\n\\item '0'\n\\item '0'\n\\item '0'\n\\item '0'\n\\item '0'\n\\item '0'\n\\item '0'\n\\item '0'\n\\item '0'\n\\item '0'\n\\item '0'\n\\end{enumerate*}\n",
            "text/markdown": "1. '0'\n2. '0'\n3. '0'\n4. '0'\n5. '0'\n6. '0'\n7. '0'\n8. '0'\n9. '0'\n10. '0'\n11. '0'\n12. '0'\n13. '0'\n14. '0'\n15. '1'\n16. '1'\n17. '1'\n18. '0'\n19. '0'\n20. '0'\n21. '1'\n22. '0'\n23. '0'\n24. '0'\n25. '0'\n26. '0'\n27. '0'\n28. '1'\n29. '0'\n30. '0'\n31. '0'\n32. '0'\n33. '0'\n34. '0'\n35. '0'\n36. '1'\n37. '1'\n38. '0'\n39. '0'\n40. '0'\n41. '0'\n42. '0'\n43. '0'\n44. '0'\n45. '0'\n46. '0'\n47. '0'\n48. '0'\n49. '0'\n50. '0'\n51. '0'\n52. '0'\n53. '1'\n54. '1'\n55. '0'\n56. '0'\n57. '0'\n58. '0'\n59. '0'\n60. '1'\n61. '0'\n62. '1'\n63. '0'\n64. '1'\n65. '0'\n66. '0'\n67. '0'\n68. '0'\n69. '0'\n70. '0'\n71. '0'\n72. '0'\n73. '1'\n74. '0'\n75. '0'\n76. '0'\n77. '0'\n78. '0'\n79. '0'\n80. '0'\n81. '0'\n82. '1'\n83. '0'\n84. '0'\n85. '0'\n86. '0'\n87. '1'\n88. '0'\n89. '1'\n90. '0'\n91. '0'\n92. '0'\n93. '0'\n94. '0'\n95. '0'\n96. '0'\n97. '0'\n98. '0'\n99. '0'\n100. '0'\n\n\n",
            "text/html": [
              "<style>\n",
              ".list-inline {list-style: none; margin:0; padding: 0}\n",
              ".list-inline>li {display: inline-block}\n",
              ".list-inline>li:not(:last-child)::after {content: \"\\00b7\"; padding: 0 .5ex}\n",
              "</style>\n",
              "<ol class=list-inline><li>'0'</li><li>'0'</li><li>'0'</li><li>'0'</li><li>'0'</li><li>'0'</li><li>'0'</li><li>'0'</li><li>'0'</li><li>'0'</li><li>'0'</li><li>'0'</li><li>'0'</li><li>'0'</li><li>'1'</li><li>'1'</li><li>'1'</li><li>'0'</li><li>'0'</li><li>'0'</li><li>'1'</li><li>'0'</li><li>'0'</li><li>'0'</li><li>'0'</li><li>'0'</li><li>'0'</li><li>'1'</li><li>'0'</li><li>'0'</li><li>'0'</li><li>'0'</li><li>'0'</li><li>'0'</li><li>'0'</li><li>'1'</li><li>'1'</li><li>'0'</li><li>'0'</li><li>'0'</li><li>'0'</li><li>'0'</li><li>'0'</li><li>'0'</li><li>'0'</li><li>'0'</li><li>'0'</li><li>'0'</li><li>'0'</li><li>'0'</li><li>'0'</li><li>'0'</li><li>'1'</li><li>'1'</li><li>'0'</li><li>'0'</li><li>'0'</li><li>'0'</li><li>'0'</li><li>'1'</li><li>'0'</li><li>'1'</li><li>'0'</li><li>'1'</li><li>'0'</li><li>'0'</li><li>'0'</li><li>'0'</li><li>'0'</li><li>'0'</li><li>'0'</li><li>'0'</li><li>'1'</li><li>'0'</li><li>'0'</li><li>'0'</li><li>'0'</li><li>'0'</li><li>'0'</li><li>'0'</li><li>'0'</li><li>'1'</li><li>'0'</li><li>'0'</li><li>'0'</li><li>'0'</li><li>'1'</li><li>'0'</li><li>'1'</li><li>'0'</li><li>'0'</li><li>'0'</li><li>'0'</li><li>'0'</li><li>'0'</li><li>'0'</li><li>'0'</li><li>'0'</li><li>'0'</li><li>'0'</li></ol>\n"
            ]
          },
          "metadata": {}
        }
      ]
    },
    {
      "cell_type": "code",
      "source": [
        "civil2 <- as.numeric(sub(\"\", \"\", civil2))\n",
        "civil2 = sum(civil2)\n",
        "civil2"
      ],
      "metadata": {
        "colab": {
          "base_uri": "https://localhost:8080/",
          "height": 34
        },
        "id": "fYIcf0tVV8n4",
        "outputId": "9fe5d61c-1733-45e0-8326-0db04973da48"
      },
      "execution_count": 287,
      "outputs": [
        {
          "output_type": "display_data",
          "data": {
            "text/plain": [
              "[1] 16"
            ],
            "text/latex": "16",
            "text/markdown": "16",
            "text/html": [
              "16"
            ]
          },
          "metadata": {}
        }
      ]
    },
    {
      "cell_type": "code",
      "source": [
        "print(\"Total de Casados\")\n",
        "civil1\n",
        "print(\"Total de Solteiros\")\n",
        "civil2"
      ],
      "metadata": {
        "colab": {
          "base_uri": "https://localhost:8080/",
          "height": 86
        },
        "id": "_QnAQzzRu5EZ",
        "outputId": "f292dcab-0079-4ffb-a41b-840c7f34bffb"
      },
      "execution_count": 302,
      "outputs": [
        {
          "output_type": "stream",
          "name": "stdout",
          "text": [
            "[1] \"Total de Casados\"\n"
          ]
        },
        {
          "output_type": "display_data",
          "data": {
            "text/plain": [
              "[1] 84"
            ],
            "text/latex": "84",
            "text/markdown": "84",
            "text/html": [
              "84"
            ]
          },
          "metadata": {}
        },
        {
          "output_type": "stream",
          "name": "stdout",
          "text": [
            "[1] \"Total de Solteiros\"\n"
          ]
        },
        {
          "output_type": "display_data",
          "data": {
            "text/plain": [
              "[1] 16"
            ],
            "text/latex": "16",
            "text/markdown": "16",
            "text/html": [
              "16"
            ]
          },
          "metadata": {}
        }
      ]
    },
    {
      "cell_type": "markdown",
      "source": [
        "#Moda para Variáveis Categóricas "
      ],
      "metadata": {
        "id": "x5bhhZhgWk0f"
      }
    },
    {
      "cell_type": "markdown",
      "source": [
        "####Valor da Moda - Estado Civil"
      ],
      "metadata": {
        "id": "57j8OQzivI_B"
      }
    },
    {
      "cell_type": "code",
      "source": [
        "vetor_civil = c(civil1, civil2)\n",
        "vetor_civil\n",
        "\n",
        "# Create the function.\n",
        "getmode <- function(v) {\n",
        "   uniqv <- unique(v)\n",
        "   uniqv[which.max(tabulate(match(v, uniqv)))]\n",
        "}\n",
        "\n",
        "# Create the vector with numbers.\n",
        "v <- vetor_civil\n",
        "\n",
        "# Calculate the mode using the user function.\n",
        "result <- getmode(v)\n",
        "print(result)\n"
      ],
      "metadata": {
        "colab": {
          "base_uri": "https://localhost:8080/",
          "height": 52
        },
        "id": "jLk1mVSLWmTG",
        "outputId": "6ff657f3-c358-42e3-ca61-749638d8376c"
      },
      "execution_count": 288,
      "outputs": [
        {
          "output_type": "display_data",
          "data": {
            "text/plain": [
              "[1] 84 16"
            ],
            "text/latex": "\\begin{enumerate*}\n\\item 84\n\\item 16\n\\end{enumerate*}\n",
            "text/markdown": "1. 84\n2. 16\n\n\n",
            "text/html": [
              "<style>\n",
              ".list-inline {list-style: none; margin:0; padding: 0}\n",
              ".list-inline>li {display: inline-block}\n",
              ".list-inline>li:not(:last-child)::after {content: \"\\00b7\"; padding: 0 .5ex}\n",
              "</style>\n",
              "<ol class=list-inline><li>84</li><li>16</li></ol>\n"
            ]
          },
          "metadata": {}
        },
        {
          "output_type": "stream",
          "name": "stdout",
          "text": [
            "[1] 84\n"
          ]
        }
      ]
    },
    {
      "cell_type": "markdown",
      "source": [
        "####Valor da Moda - Sexo"
      ],
      "metadata": {
        "id": "FSYd5_mlvThH"
      }
    },
    {
      "cell_type": "code",
      "source": [
        "vetor_sexo = c(cont_sexo1, cont_sexo2)\n",
        "vetor_sexo\n",
        "\n",
        "# Create the function.\n",
        "getmode <- function(v) {\n",
        "   uniqv <- unique(v)\n",
        "   uniqv[which.max(tabulate(match(v, uniqv)))]\n",
        "}\n",
        "\n",
        "# Create the vector with numbers.\n",
        "v <- vetor_sexo\n",
        "\n",
        "# Calculate the mode using the user function.\n",
        "result <- getmode(v)\n",
        "print(result)\n"
      ],
      "metadata": {
        "colab": {
          "base_uri": "https://localhost:8080/",
          "height": 52
        },
        "id": "Kia9q1XZXJum",
        "outputId": "87c72a8d-5c4a-487b-ff99-f08f9873c8d0"
      },
      "execution_count": 289,
      "outputs": [
        {
          "output_type": "display_data",
          "data": {
            "text/plain": [
              "[1] 93  7"
            ],
            "text/latex": "\\begin{enumerate*}\n\\item 93\n\\item 7\n\\end{enumerate*}\n",
            "text/markdown": "1. 93\n2. 7\n\n\n",
            "text/html": [
              "<style>\n",
              ".list-inline {list-style: none; margin:0; padding: 0}\n",
              ".list-inline>li {display: inline-block}\n",
              ".list-inline>li:not(:last-child)::after {content: \"\\00b7\"; padding: 0 .5ex}\n",
              "</style>\n",
              "<ol class=list-inline><li>93</li><li>7</li></ol>\n"
            ]
          },
          "metadata": {}
        },
        {
          "output_type": "stream",
          "name": "stdout",
          "text": [
            "[1] 93\n"
          ]
        }
      ]
    },
    {
      "cell_type": "markdown",
      "source": [
        "####Valor da Moda - Método de Pagamento"
      ],
      "metadata": {
        "id": "2l6xTxo3vWt9"
      }
    },
    {
      "cell_type": "code",
      "source": [
        "vetor_pgto = c(cont_freq_pgto1, cont_freq_pgto2, cont_freq_pgto3, cont_freq_pgto4, cont_freq_pgto5)\n",
        "vetor_pgto\n",
        "\n",
        "# Create the function.\n",
        "getmode <- function(v) {\n",
        "   uniqv <- unique(v)\n",
        "   uniqv[which.max(tabulate(match(v, uniqv)))]\n",
        "}\n",
        "\n",
        "# Create the vector with numbers.\n",
        "v <- vetor_pgto\n",
        "\n",
        "# Calculate the mode using the user function.\n",
        "result <- getmode(v)\n",
        "print(result)\n"
      ],
      "metadata": {
        "colab": {
          "base_uri": "https://localhost:8080/",
          "height": 52
        },
        "id": "Ag48sMA0XnRg",
        "outputId": "4090f75d-cc89-4f6b-b1fd-179ea1f27da7"
      },
      "execution_count": 290,
      "outputs": [
        {
          "output_type": "display_data",
          "data": {
            "text/plain": [
              "[1] 70  4 14 10  2"
            ],
            "text/latex": "\\begin{enumerate*}\n\\item 70\n\\item 4\n\\item 14\n\\item 10\n\\item 2\n\\end{enumerate*}\n",
            "text/markdown": "1. 70\n2. 4\n3. 14\n4. 10\n5. 2\n\n\n",
            "text/html": [
              "<style>\n",
              ".list-inline {list-style: none; margin:0; padding: 0}\n",
              ".list-inline>li {display: inline-block}\n",
              ".list-inline>li:not(:last-child)::after {content: \"\\00b7\"; padding: 0 .5ex}\n",
              "</style>\n",
              "<ol class=list-inline><li>70</li><li>4</li><li>14</li><li>10</li><li>2</li></ol>\n"
            ]
          },
          "metadata": {}
        },
        {
          "output_type": "stream",
          "name": "stdout",
          "text": [
            "[1] 70\n"
          ]
        }
      ]
    },
    {
      "cell_type": "markdown",
      "source": [
        "####Valor da Moda - Tipo de Cliente"
      ],
      "metadata": {
        "id": "IKi6aQP5va57"
      }
    },
    {
      "cell_type": "code",
      "source": [
        "vetor_cliente = c(cont_freq_cliente4, cont_freq_cliente6)\n",
        "vetor_cliente\n",
        "\n",
        "# Create the function.\n",
        "getmode <- function(v) {\n",
        "   uniqv <- unique(v)\n",
        "   uniqv[which.max(tabulate(match(v, uniqv)))]\n",
        "}\n",
        "\n",
        "# Create the vector with numbers.\n",
        "v <- vetor_cliente\n",
        "\n",
        "# Calculate the mode using the user function.\n",
        "result <- getmode(v)\n",
        "print(result)\n"
      ],
      "metadata": {
        "colab": {
          "base_uri": "https://localhost:8080/",
          "height": 52
        },
        "id": "r5stMD9NYFLA",
        "outputId": "eb35d4e4-1efb-4f5e-e4f2-6c1998577d8a"
      },
      "execution_count": 291,
      "outputs": [
        {
          "output_type": "display_data",
          "data": {
            "text/plain": [
              "[1] 70 30"
            ],
            "text/latex": "\\begin{enumerate*}\n\\item 70\n\\item 30\n\\end{enumerate*}\n",
            "text/markdown": "1. 70\n2. 30\n\n\n",
            "text/html": [
              "<style>\n",
              ".list-inline {list-style: none; margin:0; padding: 0}\n",
              ".list-inline>li {display: inline-block}\n",
              ".list-inline>li:not(:last-child)::after {content: \"\\00b7\"; padding: 0 .5ex}\n",
              "</style>\n",
              "<ol class=list-inline><li>70</li><li>30</li></ol>\n"
            ]
          },
          "metadata": {}
        },
        {
          "output_type": "stream",
          "name": "stdout",
          "text": [
            "[1] 70\n"
          ]
        }
      ]
    },
    {
      "cell_type": "markdown",
      "source": [
        "#FIM\n"
      ],
      "metadata": {
        "id": "4eQJ4tgrvdjQ"
      }
    }
  ]
}