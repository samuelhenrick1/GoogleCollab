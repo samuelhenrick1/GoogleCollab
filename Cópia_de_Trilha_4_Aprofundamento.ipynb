{
  "nbformat": 4,
  "nbformat_minor": 0,
  "metadata": {
    "colab": {
      "name": "Cópia de Trilha 4 - Aprofundamento.ipynb",
      "provenance": [],
      "collapsed_sections": [],
      "authorship_tag": "ABX9TyN8l9QAQoQZAUfbHuwzZkST",
      "include_colab_link": true
    },
    "kernelspec": {
      "name": "python3",
      "display_name": "Python 3"
    },
    "language_info": {
      "name": "python"
    }
  },
  "cells": [
    {
      "cell_type": "markdown",
      "metadata": {
        "id": "view-in-github",
        "colab_type": "text"
      },
      "source": [
        "<a href=\"https://colab.research.google.com/github/samuelhenrick1/GoogleCollab/blob/main/C%C3%B3pia_de_Trilha_4_Aprofundamento.ipynb\" target=\"_parent\"><img src=\"https://colab.research.google.com/assets/colab-badge.svg\" alt=\"Open In Colab\"/></a>"
      ]
    },
    {
      "cell_type": "markdown",
      "metadata": {
        "id": "g3bTOZQ0IYdC"
      },
      "source": [
        "# Importação dos Dados\n",
        "\n",
        "Os dados levantados são: Indices Globais de Homens e Mulheres com Cancêr Estomacal entre entre homens e mulheres"
      ]
    },
    {
      "cell_type": "code",
      "metadata": {
        "colab": {
          "base_uri": "https://localhost:8080/",
          "height": 237
        },
        "id": "5GtRdt_bENJ7",
        "outputId": "dec6fa7e-a8c5-4ebf-f621-f60324be15d4"
      },
      "source": [
        "import pandas as pd\n",
        "\n",
        "male_cancer = pd.read_csv('https://raw.githubusercontent.com/samuelhenrick1/GoogleCollab/main/File%20name_NEW%20(1).csv')\n",
        "male_cancer.head()\n",
        "\n",
        "#IMPORTAÇAO DOS DADOS MALE"
      ],
      "execution_count": null,
      "outputs": [
        {
          "output_type": "execute_result",
          "data": {
            "text/html": [
              "<div>\n",
              "<style scoped>\n",
              "    .dataframe tbody tr th:only-of-type {\n",
              "        vertical-align: middle;\n",
              "    }\n",
              "\n",
              "    .dataframe tbody tr th {\n",
              "        vertical-align: top;\n",
              "    }\n",
              "\n",
              "    .dataframe thead th {\n",
              "        text-align: right;\n",
              "    }\n",
              "</style>\n",
              "<table border=\"1\" class=\"dataframe\">\n",
              "  <thead>\n",
              "    <tr style=\"text-align: right;\">\n",
              "      <th></th>\n",
              "      <th>Unnamed: 0</th>\n",
              "      <th>country</th>\n",
              "      <th>1989</th>\n",
              "      <th>1990</th>\n",
              "      <th>1991</th>\n",
              "      <th>1992</th>\n",
              "      <th>1993</th>\n",
              "      <th>1994</th>\n",
              "      <th>1995</th>\n",
              "      <th>1996</th>\n",
              "      <th>1997</th>\n",
              "      <th>1998</th>\n",
              "      <th>1999</th>\n",
              "      <th>2000</th>\n",
              "      <th>2001</th>\n",
              "      <th>2002</th>\n",
              "      <th>2003</th>\n",
              "      <th>2004</th>\n",
              "      <th>2005</th>\n",
              "      <th>2006</th>\n",
              "      <th>2007</th>\n",
              "      <th>2008</th>\n",
              "      <th>2009</th>\n",
              "      <th>2010</th>\n",
              "      <th>2011</th>\n",
              "      <th>2012</th>\n",
              "      <th>2013</th>\n",
              "      <th>2014</th>\n",
              "      <th>2015</th>\n",
              "    </tr>\n",
              "  </thead>\n",
              "  <tbody>\n",
              "    <tr>\n",
              "      <th>0</th>\n",
              "      <td>0</td>\n",
              "      <td>Afghanistan</td>\n",
              "      <td>409</td>\n",
              "      <td>439</td>\n",
              "      <td>480</td>\n",
              "      <td>530</td>\n",
              "      <td>586</td>\n",
              "      <td>634</td>\n",
              "      <td>665</td>\n",
              "      <td>687</td>\n",
              "      <td>705</td>\n",
              "      <td>727</td>\n",
              "      <td>755</td>\n",
              "      <td>789</td>\n",
              "      <td>816</td>\n",
              "      <td>846</td>\n",
              "      <td>876</td>\n",
              "      <td>902</td>\n",
              "      <td>923</td>\n",
              "      <td>937</td>\n",
              "      <td>951</td>\n",
              "      <td>961</td>\n",
              "      <td>976</td>\n",
              "      <td>992</td>\n",
              "      <td>1010</td>\n",
              "      <td>1040</td>\n",
              "      <td>1070</td>\n",
              "      <td>1100</td>\n",
              "      <td>1130</td>\n",
              "    </tr>\n",
              "    <tr>\n",
              "      <th>1</th>\n",
              "      <td>1</td>\n",
              "      <td>Angola</td>\n",
              "      <td>295</td>\n",
              "      <td>295</td>\n",
              "      <td>295</td>\n",
              "      <td>299</td>\n",
              "      <td>303</td>\n",
              "      <td>309</td>\n",
              "      <td>309</td>\n",
              "      <td>305</td>\n",
              "      <td>302</td>\n",
              "      <td>296</td>\n",
              "      <td>293</td>\n",
              "      <td>290</td>\n",
              "      <td>286</td>\n",
              "      <td>288</td>\n",
              "      <td>288</td>\n",
              "      <td>287</td>\n",
              "      <td>285</td>\n",
              "      <td>284</td>\n",
              "      <td>284</td>\n",
              "      <td>285</td>\n",
              "      <td>287</td>\n",
              "      <td>289</td>\n",
              "      <td>292</td>\n",
              "      <td>295</td>\n",
              "      <td>298</td>\n",
              "      <td>303</td>\n",
              "      <td>308</td>\n",
              "    </tr>\n",
              "    <tr>\n",
              "      <th>2</th>\n",
              "      <td>2</td>\n",
              "      <td>Albania</td>\n",
              "      <td>201</td>\n",
              "      <td>206</td>\n",
              "      <td>209</td>\n",
              "      <td>209</td>\n",
              "      <td>211</td>\n",
              "      <td>217</td>\n",
              "      <td>224</td>\n",
              "      <td>234</td>\n",
              "      <td>246</td>\n",
              "      <td>255</td>\n",
              "      <td>264</td>\n",
              "      <td>268</td>\n",
              "      <td>277</td>\n",
              "      <td>285</td>\n",
              "      <td>290</td>\n",
              "      <td>294</td>\n",
              "      <td>295</td>\n",
              "      <td>294</td>\n",
              "      <td>297</td>\n",
              "      <td>300</td>\n",
              "      <td>300</td>\n",
              "      <td>298</td>\n",
              "      <td>298</td>\n",
              "      <td>301</td>\n",
              "      <td>304</td>\n",
              "      <td>309</td>\n",
              "      <td>313</td>\n",
              "    </tr>\n",
              "    <tr>\n",
              "      <th>3</th>\n",
              "      <td>3</td>\n",
              "      <td>Andorra</td>\n",
              "      <td>5.34</td>\n",
              "      <td>5.78</td>\n",
              "      <td>6.2</td>\n",
              "      <td>6.36</td>\n",
              "      <td>6.38</td>\n",
              "      <td>6.29</td>\n",
              "      <td>6.25</td>\n",
              "      <td>6.28</td>\n",
              "      <td>6.33</td>\n",
              "      <td>6.36</td>\n",
              "      <td>6.34</td>\n",
              "      <td>6.34</td>\n",
              "      <td>6.39</td>\n",
              "      <td>6.8</td>\n",
              "      <td>7.43</td>\n",
              "      <td>7.83</td>\n",
              "      <td>8.13</td>\n",
              "      <td>8.49</td>\n",
              "      <td>8.79</td>\n",
              "      <td>9.08</td>\n",
              "      <td>9.33</td>\n",
              "      <td>9.62</td>\n",
              "      <td>9.91</td>\n",
              "      <td>10.2</td>\n",
              "      <td>10.4</td>\n",
              "      <td>10.7</td>\n",
              "      <td>10.9</td>\n",
              "    </tr>\n",
              "    <tr>\n",
              "      <th>4</th>\n",
              "      <td>4</td>\n",
              "      <td>United Arab Emirates</td>\n",
              "      <td>20.5</td>\n",
              "      <td>21.5</td>\n",
              "      <td>22.5</td>\n",
              "      <td>23.4</td>\n",
              "      <td>24.4</td>\n",
              "      <td>25.7</td>\n",
              "      <td>26.8</td>\n",
              "      <td>28.1</td>\n",
              "      <td>29.2</td>\n",
              "      <td>30.4</td>\n",
              "      <td>31.4</td>\n",
              "      <td>32.1</td>\n",
              "      <td>33</td>\n",
              "      <td>34.5</td>\n",
              "      <td>37.3</td>\n",
              "      <td>42.6</td>\n",
              "      <td>47.5</td>\n",
              "      <td>53.5</td>\n",
              "      <td>63</td>\n",
              "      <td>73.2</td>\n",
              "      <td>83.3</td>\n",
              "      <td>95.1</td>\n",
              "      <td>106</td>\n",
              "      <td>115</td>\n",
              "      <td>126</td>\n",
              "      <td>136</td>\n",
              "      <td>149</td>\n",
              "    </tr>\n",
              "  </tbody>\n",
              "</table>\n",
              "</div>"
            ],
            "text/plain": [
              "   Unnamed: 0               country  1989  1990  ...  2012  2013  2014  2015\n",
              "0           0           Afghanistan   409   439  ...  1040  1070  1100  1130\n",
              "1           1                Angola   295   295  ...   295   298   303   308\n",
              "2           2               Albania   201   206  ...   301   304   309   313\n",
              "3           3               Andorra  5.34  5.78  ...  10.2  10.4  10.7  10.9\n",
              "4           4  United Arab Emirates  20.5  21.5  ...   115   126   136   149\n",
              "\n",
              "[5 rows x 29 columns]"
            ]
          },
          "metadata": {},
          "execution_count": 1
        }
      ]
    },
    {
      "cell_type": "code",
      "metadata": {
        "colab": {
          "base_uri": "https://localhost:8080/",
          "height": 203
        },
        "id": "yu4d9JLfILWp",
        "outputId": "63ec3169-be73-4de9-9c10-4a2be89c2e24"
      },
      "source": [
        "import pandas as pd\n",
        "\n",
        "female_cancer = pd.read_csv('https://raw.githubusercontent.com/samuelhenrick1/GoogleCollab/main/stomach_cancer_number_of_new_female_cases.csv')\n",
        "female_cancer.head()\n",
        "\n",
        "#IMPORTAÇÃO DOS DADOS FEMALE"
      ],
      "execution_count": null,
      "outputs": [
        {
          "output_type": "execute_result",
          "data": {
            "text/html": [
              "<div>\n",
              "<style scoped>\n",
              "    .dataframe tbody tr th:only-of-type {\n",
              "        vertical-align: middle;\n",
              "    }\n",
              "\n",
              "    .dataframe tbody tr th {\n",
              "        vertical-align: top;\n",
              "    }\n",
              "\n",
              "    .dataframe thead th {\n",
              "        text-align: right;\n",
              "    }\n",
              "</style>\n",
              "<table border=\"1\" class=\"dataframe\">\n",
              "  <thead>\n",
              "    <tr style=\"text-align: right;\">\n",
              "      <th></th>\n",
              "      <th>country</th>\n",
              "      <th>1989</th>\n",
              "      <th>1990</th>\n",
              "      <th>1991</th>\n",
              "      <th>1992</th>\n",
              "      <th>1993</th>\n",
              "      <th>1994</th>\n",
              "      <th>1995</th>\n",
              "      <th>1996</th>\n",
              "      <th>1997</th>\n",
              "      <th>1998</th>\n",
              "      <th>1999</th>\n",
              "      <th>2000</th>\n",
              "      <th>2001</th>\n",
              "      <th>2002</th>\n",
              "      <th>2003</th>\n",
              "      <th>2004</th>\n",
              "      <th>2005</th>\n",
              "      <th>2006</th>\n",
              "      <th>2007</th>\n",
              "      <th>2008</th>\n",
              "      <th>2009</th>\n",
              "      <th>2010</th>\n",
              "      <th>2011</th>\n",
              "      <th>2012</th>\n",
              "      <th>2013</th>\n",
              "      <th>2014</th>\n",
              "      <th>2015</th>\n",
              "    </tr>\n",
              "  </thead>\n",
              "  <tbody>\n",
              "    <tr>\n",
              "      <th>0</th>\n",
              "      <td>Afghanistan</td>\n",
              "      <td>406</td>\n",
              "      <td>430</td>\n",
              "      <td>464</td>\n",
              "      <td>507</td>\n",
              "      <td>554</td>\n",
              "      <td>594</td>\n",
              "      <td>622</td>\n",
              "      <td>645</td>\n",
              "      <td>664</td>\n",
              "      <td>692</td>\n",
              "      <td>724</td>\n",
              "      <td>759</td>\n",
              "      <td>785</td>\n",
              "      <td>812</td>\n",
              "      <td>840</td>\n",
              "      <td>864</td>\n",
              "      <td>884</td>\n",
              "      <td>897</td>\n",
              "      <td>911</td>\n",
              "      <td>920</td>\n",
              "      <td>933</td>\n",
              "      <td>944</td>\n",
              "      <td>956</td>\n",
              "      <td>973</td>\n",
              "      <td>993</td>\n",
              "      <td>1010</td>\n",
              "      <td>1040</td>\n",
              "    </tr>\n",
              "    <tr>\n",
              "      <th>1</th>\n",
              "      <td>Angola</td>\n",
              "      <td>200</td>\n",
              "      <td>204</td>\n",
              "      <td>207</td>\n",
              "      <td>217</td>\n",
              "      <td>228</td>\n",
              "      <td>238</td>\n",
              "      <td>247</td>\n",
              "      <td>247</td>\n",
              "      <td>250</td>\n",
              "      <td>249</td>\n",
              "      <td>249</td>\n",
              "      <td>249</td>\n",
              "      <td>248</td>\n",
              "      <td>251</td>\n",
              "      <td>254</td>\n",
              "      <td>255</td>\n",
              "      <td>255</td>\n",
              "      <td>254</td>\n",
              "      <td>253</td>\n",
              "      <td>252</td>\n",
              "      <td>251</td>\n",
              "      <td>250</td>\n",
              "      <td>249</td>\n",
              "      <td>250</td>\n",
              "      <td>250</td>\n",
              "      <td>251</td>\n",
              "      <td>252</td>\n",
              "    </tr>\n",
              "    <tr>\n",
              "      <th>2</th>\n",
              "      <td>Albania</td>\n",
              "      <td>96.5</td>\n",
              "      <td>98.3</td>\n",
              "      <td>99.9</td>\n",
              "      <td>101</td>\n",
              "      <td>102</td>\n",
              "      <td>107</td>\n",
              "      <td>111</td>\n",
              "      <td>116</td>\n",
              "      <td>121</td>\n",
              "      <td>125</td>\n",
              "      <td>128</td>\n",
              "      <td>130</td>\n",
              "      <td>133</td>\n",
              "      <td>136</td>\n",
              "      <td>140</td>\n",
              "      <td>141</td>\n",
              "      <td>140</td>\n",
              "      <td>139</td>\n",
              "      <td>138</td>\n",
              "      <td>139</td>\n",
              "      <td>139</td>\n",
              "      <td>137</td>\n",
              "      <td>136</td>\n",
              "      <td>137</td>\n",
              "      <td>138</td>\n",
              "      <td>139</td>\n",
              "      <td>140</td>\n",
              "    </tr>\n",
              "    <tr>\n",
              "      <th>3</th>\n",
              "      <td>Andorra</td>\n",
              "      <td>3.64</td>\n",
              "      <td>3.9</td>\n",
              "      <td>4.1</td>\n",
              "      <td>4.35</td>\n",
              "      <td>4.5</td>\n",
              "      <td>4.28</td>\n",
              "      <td>4.15</td>\n",
              "      <td>4.07</td>\n",
              "      <td>3.98</td>\n",
              "      <td>3.89</td>\n",
              "      <td>3.78</td>\n",
              "      <td>3.69</td>\n",
              "      <td>3.65</td>\n",
              "      <td>3.71</td>\n",
              "      <td>3.99</td>\n",
              "      <td>4.08</td>\n",
              "      <td>4.16</td>\n",
              "      <td>4.25</td>\n",
              "      <td>4.38</td>\n",
              "      <td>4.55</td>\n",
              "      <td>4.64</td>\n",
              "      <td>4.72</td>\n",
              "      <td>4.81</td>\n",
              "      <td>4.88</td>\n",
              "      <td>4.97</td>\n",
              "      <td>5.06</td>\n",
              "      <td>5.08</td>\n",
              "    </tr>\n",
              "    <tr>\n",
              "      <th>4</th>\n",
              "      <td>United Arab Emirates</td>\n",
              "      <td>12.5</td>\n",
              "      <td>12.6</td>\n",
              "      <td>12.8</td>\n",
              "      <td>13</td>\n",
              "      <td>13.2</td>\n",
              "      <td>13.5</td>\n",
              "      <td>13.8</td>\n",
              "      <td>13.8</td>\n",
              "      <td>13.9</td>\n",
              "      <td>14</td>\n",
              "      <td>14.1</td>\n",
              "      <td>14.4</td>\n",
              "      <td>14.9</td>\n",
              "      <td>15.4</td>\n",
              "      <td>16.2</td>\n",
              "      <td>17.4</td>\n",
              "      <td>18.6</td>\n",
              "      <td>19.6</td>\n",
              "      <td>21.9</td>\n",
              "      <td>24.2</td>\n",
              "      <td>26.6</td>\n",
              "      <td>29.4</td>\n",
              "      <td>31.9</td>\n",
              "      <td>34.3</td>\n",
              "      <td>36.7</td>\n",
              "      <td>39.3</td>\n",
              "      <td>41.7</td>\n",
              "    </tr>\n",
              "  </tbody>\n",
              "</table>\n",
              "</div>"
            ],
            "text/plain": [
              "                country  1989  1990  1991  1992  ...  2011  2012  2013  2014  2015\n",
              "0           Afghanistan   406   430   464   507  ...   956   973   993  1010  1040\n",
              "1                Angola   200   204   207   217  ...   249   250   250   251   252\n",
              "2               Albania  96.5  98.3  99.9   101  ...   136   137   138   139   140\n",
              "3               Andorra  3.64   3.9   4.1  4.35  ...  4.81  4.88  4.97  5.06  5.08\n",
              "4  United Arab Emirates  12.5  12.6  12.8    13  ...  31.9  34.3  36.7  39.3  41.7\n",
              "\n",
              "[5 rows x 28 columns]"
            ]
          },
          "metadata": {},
          "execution_count": 2
        }
      ]
    },
    {
      "cell_type": "markdown",
      "metadata": {
        "id": "hhTcrniLIkg6"
      },
      "source": [
        "# Preparação dos Dados\n",
        "\n",
        "Abaixo, temos a ocorrência desses índices no Brasil"
      ]
    },
    {
      "cell_type": "code",
      "metadata": {
        "colab": {
          "base_uri": "https://localhost:8080/",
          "height": 117
        },
        "id": "PefeY1TSKZcJ",
        "outputId": "cc257d1d-a908-45d6-85e0-7d5b379da19e"
      },
      "source": [
        "male_cancerBR = male_cancer[ male_cancer.country == 'Brazil' ]\n",
        "male_cancerBR\n",
        "\n",
        "#FILTRO BRAZIL MALE"
      ],
      "execution_count": null,
      "outputs": [
        {
          "output_type": "execute_result",
          "data": {
            "text/html": [
              "<div>\n",
              "<style scoped>\n",
              "    .dataframe tbody tr th:only-of-type {\n",
              "        vertical-align: middle;\n",
              "    }\n",
              "\n",
              "    .dataframe tbody tr th {\n",
              "        vertical-align: top;\n",
              "    }\n",
              "\n",
              "    .dataframe thead th {\n",
              "        text-align: right;\n",
              "    }\n",
              "</style>\n",
              "<table border=\"1\" class=\"dataframe\">\n",
              "  <thead>\n",
              "    <tr style=\"text-align: right;\">\n",
              "      <th></th>\n",
              "      <th>Unnamed: 0</th>\n",
              "      <th>country</th>\n",
              "      <th>1989</th>\n",
              "      <th>1990</th>\n",
              "      <th>1991</th>\n",
              "      <th>1992</th>\n",
              "      <th>1993</th>\n",
              "      <th>1994</th>\n",
              "      <th>1995</th>\n",
              "      <th>1996</th>\n",
              "      <th>1997</th>\n",
              "      <th>1998</th>\n",
              "      <th>1999</th>\n",
              "      <th>2000</th>\n",
              "      <th>2001</th>\n",
              "      <th>2002</th>\n",
              "      <th>2003</th>\n",
              "      <th>2004</th>\n",
              "      <th>2005</th>\n",
              "      <th>2006</th>\n",
              "      <th>2007</th>\n",
              "      <th>2008</th>\n",
              "      <th>2009</th>\n",
              "      <th>2010</th>\n",
              "      <th>2011</th>\n",
              "      <th>2012</th>\n",
              "      <th>2013</th>\n",
              "      <th>2014</th>\n",
              "      <th>2015</th>\n",
              "    </tr>\n",
              "  </thead>\n",
              "  <tbody>\n",
              "    <tr>\n",
              "      <th>25</th>\n",
              "      <td>25</td>\n",
              "      <td>Brazil</td>\n",
              "      <td>9450</td>\n",
              "      <td>9590</td>\n",
              "      <td>9770</td>\n",
              "      <td>9910</td>\n",
              "      <td>10000</td>\n",
              "      <td>10200</td>\n",
              "      <td>10500</td>\n",
              "      <td>10700</td>\n",
              "      <td>11000</td>\n",
              "      <td>11200</td>\n",
              "      <td>11500</td>\n",
              "      <td>11600</td>\n",
              "      <td>11800</td>\n",
              "      <td>12100</td>\n",
              "      <td>12400</td>\n",
              "      <td>12500</td>\n",
              "      <td>12800</td>\n",
              "      <td>13000</td>\n",
              "      <td>13200</td>\n",
              "      <td>13400</td>\n",
              "      <td>13700</td>\n",
              "      <td>14000</td>\n",
              "      <td>14300</td>\n",
              "      <td>14700</td>\n",
              "      <td>15100</td>\n",
              "      <td>15800</td>\n",
              "      <td>16600</td>\n",
              "    </tr>\n",
              "  </tbody>\n",
              "</table>\n",
              "</div>"
            ],
            "text/plain": [
              "    Unnamed: 0 country  1989  1990  1991  ...   2011   2012   2013   2014   2015\n",
              "25          25  Brazil  9450  9590  9770  ...  14300  14700  15100  15800  16600\n",
              "\n",
              "[1 rows x 29 columns]"
            ]
          },
          "metadata": {},
          "execution_count": 3
        }
      ]
    },
    {
      "cell_type": "code",
      "metadata": {
        "colab": {
          "base_uri": "https://localhost:8080/",
          "height": 80
        },
        "id": "kBiMQpXyKrci",
        "outputId": "b845d815-157f-4022-bc2c-0091c7c8ff97"
      },
      "source": [
        "female_cancerBR = female_cancer[ female_cancer.country == 'Brazil' ]\n",
        "female_cancerBR\n",
        "\n",
        "#FILTRO BRAZIL FEMALE"
      ],
      "execution_count": null,
      "outputs": [
        {
          "output_type": "execute_result",
          "data": {
            "text/html": [
              "<div>\n",
              "<style scoped>\n",
              "    .dataframe tbody tr th:only-of-type {\n",
              "        vertical-align: middle;\n",
              "    }\n",
              "\n",
              "    .dataframe tbody tr th {\n",
              "        vertical-align: top;\n",
              "    }\n",
              "\n",
              "    .dataframe thead th {\n",
              "        text-align: right;\n",
              "    }\n",
              "</style>\n",
              "<table border=\"1\" class=\"dataframe\">\n",
              "  <thead>\n",
              "    <tr style=\"text-align: right;\">\n",
              "      <th></th>\n",
              "      <th>country</th>\n",
              "      <th>1989</th>\n",
              "      <th>1990</th>\n",
              "      <th>1991</th>\n",
              "      <th>1992</th>\n",
              "      <th>1993</th>\n",
              "      <th>1994</th>\n",
              "      <th>1995</th>\n",
              "      <th>1996</th>\n",
              "      <th>1997</th>\n",
              "      <th>1998</th>\n",
              "      <th>1999</th>\n",
              "      <th>2000</th>\n",
              "      <th>2001</th>\n",
              "      <th>2002</th>\n",
              "      <th>2003</th>\n",
              "      <th>2004</th>\n",
              "      <th>2005</th>\n",
              "      <th>2006</th>\n",
              "      <th>2007</th>\n",
              "      <th>2008</th>\n",
              "      <th>2009</th>\n",
              "      <th>2010</th>\n",
              "      <th>2011</th>\n",
              "      <th>2012</th>\n",
              "      <th>2013</th>\n",
              "      <th>2014</th>\n",
              "      <th>2015</th>\n",
              "    </tr>\n",
              "  </thead>\n",
              "  <tbody>\n",
              "    <tr>\n",
              "      <th>25</th>\n",
              "      <td>Brazil</td>\n",
              "      <td>4340</td>\n",
              "      <td>4360</td>\n",
              "      <td>4470</td>\n",
              "      <td>4530</td>\n",
              "      <td>4620</td>\n",
              "      <td>4720</td>\n",
              "      <td>4840</td>\n",
              "      <td>4960</td>\n",
              "      <td>5040</td>\n",
              "      <td>5180</td>\n",
              "      <td>5290</td>\n",
              "      <td>5350</td>\n",
              "      <td>5450</td>\n",
              "      <td>5590</td>\n",
              "      <td>5720</td>\n",
              "      <td>5820</td>\n",
              "      <td>5930</td>\n",
              "      <td>6020</td>\n",
              "      <td>6080</td>\n",
              "      <td>6170</td>\n",
              "      <td>6340</td>\n",
              "      <td>6460</td>\n",
              "      <td>6610</td>\n",
              "      <td>6760</td>\n",
              "      <td>6950</td>\n",
              "      <td>7170</td>\n",
              "      <td>7410</td>\n",
              "    </tr>\n",
              "  </tbody>\n",
              "</table>\n",
              "</div>"
            ],
            "text/plain": [
              "   country  1989  1990  1991  1992  1993  ...  2010  2011  2012  2013  2014  2015\n",
              "25  Brazil  4340  4360  4470  4530  4620  ...  6460  6610  6760  6950  7170  7410\n",
              "\n",
              "[1 rows x 28 columns]"
            ]
          },
          "metadata": {},
          "execution_count": 4
        }
      ]
    },
    {
      "cell_type": "code",
      "metadata": {
        "colab": {
          "base_uri": "https://localhost:8080/",
          "height": 203
        },
        "id": "WNKbAFKbK3r8",
        "outputId": "d0f00b2e-df4d-40b9-860a-8ef93a25ef03"
      },
      "source": [
        "BR_M = pd.melt(male_cancerBR, id_vars=['country'])\n",
        "BR_M.head()\n",
        "\n",
        "#REPRESENTAÇÃO MALE"
      ],
      "execution_count": null,
      "outputs": [
        {
          "output_type": "execute_result",
          "data": {
            "text/html": [
              "<div>\n",
              "<style scoped>\n",
              "    .dataframe tbody tr th:only-of-type {\n",
              "        vertical-align: middle;\n",
              "    }\n",
              "\n",
              "    .dataframe tbody tr th {\n",
              "        vertical-align: top;\n",
              "    }\n",
              "\n",
              "    .dataframe thead th {\n",
              "        text-align: right;\n",
              "    }\n",
              "</style>\n",
              "<table border=\"1\" class=\"dataframe\">\n",
              "  <thead>\n",
              "    <tr style=\"text-align: right;\">\n",
              "      <th></th>\n",
              "      <th>country</th>\n",
              "      <th>variable</th>\n",
              "      <th>value</th>\n",
              "    </tr>\n",
              "  </thead>\n",
              "  <tbody>\n",
              "    <tr>\n",
              "      <th>0</th>\n",
              "      <td>Brazil</td>\n",
              "      <td>Unnamed: 0</td>\n",
              "      <td>25</td>\n",
              "    </tr>\n",
              "    <tr>\n",
              "      <th>1</th>\n",
              "      <td>Brazil</td>\n",
              "      <td>1989</td>\n",
              "      <td>9450</td>\n",
              "    </tr>\n",
              "    <tr>\n",
              "      <th>2</th>\n",
              "      <td>Brazil</td>\n",
              "      <td>1990</td>\n",
              "      <td>9590</td>\n",
              "    </tr>\n",
              "    <tr>\n",
              "      <th>3</th>\n",
              "      <td>Brazil</td>\n",
              "      <td>1991</td>\n",
              "      <td>9770</td>\n",
              "    </tr>\n",
              "    <tr>\n",
              "      <th>4</th>\n",
              "      <td>Brazil</td>\n",
              "      <td>1992</td>\n",
              "      <td>9910</td>\n",
              "    </tr>\n",
              "  </tbody>\n",
              "</table>\n",
              "</div>"
            ],
            "text/plain": [
              "  country    variable value\n",
              "0  Brazil  Unnamed: 0    25\n",
              "1  Brazil        1989  9450\n",
              "2  Brazil        1990  9590\n",
              "3  Brazil        1991  9770\n",
              "4  Brazil        1992  9910"
            ]
          },
          "metadata": {},
          "execution_count": 5
        }
      ]
    },
    {
      "cell_type": "code",
      "metadata": {
        "colab": {
          "base_uri": "https://localhost:8080/",
          "height": 203
        },
        "id": "_ocda3a1K-OA",
        "outputId": "a0bfd5d9-98e3-4fcb-ef0c-7ceed21b898d"
      },
      "source": [
        "BR_F = pd.melt(female_cancerBR, id_vars=['country'])\n",
        "BR_F.head()\n",
        "\n",
        "#REPRESENTAÇÃO FEMALE"
      ],
      "execution_count": null,
      "outputs": [
        {
          "output_type": "execute_result",
          "data": {
            "text/html": [
              "<div>\n",
              "<style scoped>\n",
              "    .dataframe tbody tr th:only-of-type {\n",
              "        vertical-align: middle;\n",
              "    }\n",
              "\n",
              "    .dataframe tbody tr th {\n",
              "        vertical-align: top;\n",
              "    }\n",
              "\n",
              "    .dataframe thead th {\n",
              "        text-align: right;\n",
              "    }\n",
              "</style>\n",
              "<table border=\"1\" class=\"dataframe\">\n",
              "  <thead>\n",
              "    <tr style=\"text-align: right;\">\n",
              "      <th></th>\n",
              "      <th>country</th>\n",
              "      <th>variable</th>\n",
              "      <th>value</th>\n",
              "    </tr>\n",
              "  </thead>\n",
              "  <tbody>\n",
              "    <tr>\n",
              "      <th>0</th>\n",
              "      <td>Brazil</td>\n",
              "      <td>1989</td>\n",
              "      <td>4340</td>\n",
              "    </tr>\n",
              "    <tr>\n",
              "      <th>1</th>\n",
              "      <td>Brazil</td>\n",
              "      <td>1990</td>\n",
              "      <td>4360</td>\n",
              "    </tr>\n",
              "    <tr>\n",
              "      <th>2</th>\n",
              "      <td>Brazil</td>\n",
              "      <td>1991</td>\n",
              "      <td>4470</td>\n",
              "    </tr>\n",
              "    <tr>\n",
              "      <th>3</th>\n",
              "      <td>Brazil</td>\n",
              "      <td>1992</td>\n",
              "      <td>4530</td>\n",
              "    </tr>\n",
              "    <tr>\n",
              "      <th>4</th>\n",
              "      <td>Brazil</td>\n",
              "      <td>1993</td>\n",
              "      <td>4620</td>\n",
              "    </tr>\n",
              "  </tbody>\n",
              "</table>\n",
              "</div>"
            ],
            "text/plain": [
              "  country variable value\n",
              "0  Brazil     1989  4340\n",
              "1  Brazil     1990  4360\n",
              "2  Brazil     1991  4470\n",
              "3  Brazil     1992  4530\n",
              "4  Brazil     1993  4620"
            ]
          },
          "metadata": {},
          "execution_count": 6
        }
      ]
    },
    {
      "cell_type": "code",
      "metadata": {
        "colab": {
          "base_uri": "https://localhost:8080/",
          "height": 203
        },
        "id": "_EXw3A8xLIL_",
        "outputId": "07a69d35-8303-4f15-b985-6a7df324602e"
      },
      "source": [
        "BR_M = BR_M.rename(columns={'variable':'year','value':'male_cancer'})\n",
        "BR_M.head()\n",
        "\n",
        "#RENAME MALE"
      ],
      "execution_count": null,
      "outputs": [
        {
          "output_type": "execute_result",
          "data": {
            "text/html": [
              "<div>\n",
              "<style scoped>\n",
              "    .dataframe tbody tr th:only-of-type {\n",
              "        vertical-align: middle;\n",
              "    }\n",
              "\n",
              "    .dataframe tbody tr th {\n",
              "        vertical-align: top;\n",
              "    }\n",
              "\n",
              "    .dataframe thead th {\n",
              "        text-align: right;\n",
              "    }\n",
              "</style>\n",
              "<table border=\"1\" class=\"dataframe\">\n",
              "  <thead>\n",
              "    <tr style=\"text-align: right;\">\n",
              "      <th></th>\n",
              "      <th>country</th>\n",
              "      <th>year</th>\n",
              "      <th>male_cancer</th>\n",
              "    </tr>\n",
              "  </thead>\n",
              "  <tbody>\n",
              "    <tr>\n",
              "      <th>0</th>\n",
              "      <td>Brazil</td>\n",
              "      <td>Unnamed: 0</td>\n",
              "      <td>25</td>\n",
              "    </tr>\n",
              "    <tr>\n",
              "      <th>1</th>\n",
              "      <td>Brazil</td>\n",
              "      <td>1989</td>\n",
              "      <td>9450</td>\n",
              "    </tr>\n",
              "    <tr>\n",
              "      <th>2</th>\n",
              "      <td>Brazil</td>\n",
              "      <td>1990</td>\n",
              "      <td>9590</td>\n",
              "    </tr>\n",
              "    <tr>\n",
              "      <th>3</th>\n",
              "      <td>Brazil</td>\n",
              "      <td>1991</td>\n",
              "      <td>9770</td>\n",
              "    </tr>\n",
              "    <tr>\n",
              "      <th>4</th>\n",
              "      <td>Brazil</td>\n",
              "      <td>1992</td>\n",
              "      <td>9910</td>\n",
              "    </tr>\n",
              "  </tbody>\n",
              "</table>\n",
              "</div>"
            ],
            "text/plain": [
              "  country        year male_cancer\n",
              "0  Brazil  Unnamed: 0          25\n",
              "1  Brazil        1989        9450\n",
              "2  Brazil        1990        9590\n",
              "3  Brazil        1991        9770\n",
              "4  Brazil        1992        9910"
            ]
          },
          "metadata": {},
          "execution_count": 7
        }
      ]
    },
    {
      "cell_type": "code",
      "metadata": {
        "colab": {
          "base_uri": "https://localhost:8080/",
          "height": 203
        },
        "id": "KMezcHR2LY7b",
        "outputId": "624f09c5-863c-4e56-bcc7-65192a062bc3"
      },
      "source": [
        "BR_F = BR_F.rename(columns={'variable':'year','value':'female_cancer'})\n",
        "BR_F.head()\n",
        "\n",
        "#RENAME FEMALE"
      ],
      "execution_count": null,
      "outputs": [
        {
          "output_type": "execute_result",
          "data": {
            "text/html": [
              "<div>\n",
              "<style scoped>\n",
              "    .dataframe tbody tr th:only-of-type {\n",
              "        vertical-align: middle;\n",
              "    }\n",
              "\n",
              "    .dataframe tbody tr th {\n",
              "        vertical-align: top;\n",
              "    }\n",
              "\n",
              "    .dataframe thead th {\n",
              "        text-align: right;\n",
              "    }\n",
              "</style>\n",
              "<table border=\"1\" class=\"dataframe\">\n",
              "  <thead>\n",
              "    <tr style=\"text-align: right;\">\n",
              "      <th></th>\n",
              "      <th>country</th>\n",
              "      <th>year</th>\n",
              "      <th>female_cancer</th>\n",
              "    </tr>\n",
              "  </thead>\n",
              "  <tbody>\n",
              "    <tr>\n",
              "      <th>0</th>\n",
              "      <td>Brazil</td>\n",
              "      <td>1989</td>\n",
              "      <td>4340</td>\n",
              "    </tr>\n",
              "    <tr>\n",
              "      <th>1</th>\n",
              "      <td>Brazil</td>\n",
              "      <td>1990</td>\n",
              "      <td>4360</td>\n",
              "    </tr>\n",
              "    <tr>\n",
              "      <th>2</th>\n",
              "      <td>Brazil</td>\n",
              "      <td>1991</td>\n",
              "      <td>4470</td>\n",
              "    </tr>\n",
              "    <tr>\n",
              "      <th>3</th>\n",
              "      <td>Brazil</td>\n",
              "      <td>1992</td>\n",
              "      <td>4530</td>\n",
              "    </tr>\n",
              "    <tr>\n",
              "      <th>4</th>\n",
              "      <td>Brazil</td>\n",
              "      <td>1993</td>\n",
              "      <td>4620</td>\n",
              "    </tr>\n",
              "  </tbody>\n",
              "</table>\n",
              "</div>"
            ],
            "text/plain": [
              "  country  year female_cancer\n",
              "0  Brazil  1989          4340\n",
              "1  Brazil  1990          4360\n",
              "2  Brazil  1991          4470\n",
              "3  Brazil  1992          4530\n",
              "4  Brazil  1993          4620"
            ]
          },
          "metadata": {},
          "execution_count": 8
        }
      ]
    },
    {
      "cell_type": "code",
      "metadata": {
        "colab": {
          "base_uri": "https://localhost:8080/",
          "height": 203
        },
        "id": "ZiJiXyW-MqI-",
        "outputId": "fa4f4575-1ded-466c-a1d5-b3dcd2f3cb7f"
      },
      "source": [
        "BR_T = pd.merge(BR_F, BR_M,on=['country','year'])\n",
        "BR_T.head()\n",
        "\n",
        "#MERGE DOS DADOS FEMALE X MALE"
      ],
      "execution_count": null,
      "outputs": [
        {
          "output_type": "execute_result",
          "data": {
            "text/html": [
              "<div>\n",
              "<style scoped>\n",
              "    .dataframe tbody tr th:only-of-type {\n",
              "        vertical-align: middle;\n",
              "    }\n",
              "\n",
              "    .dataframe tbody tr th {\n",
              "        vertical-align: top;\n",
              "    }\n",
              "\n",
              "    .dataframe thead th {\n",
              "        text-align: right;\n",
              "    }\n",
              "</style>\n",
              "<table border=\"1\" class=\"dataframe\">\n",
              "  <thead>\n",
              "    <tr style=\"text-align: right;\">\n",
              "      <th></th>\n",
              "      <th>country</th>\n",
              "      <th>year</th>\n",
              "      <th>female_cancer</th>\n",
              "      <th>male_cancer</th>\n",
              "    </tr>\n",
              "  </thead>\n",
              "  <tbody>\n",
              "    <tr>\n",
              "      <th>0</th>\n",
              "      <td>Brazil</td>\n",
              "      <td>1989</td>\n",
              "      <td>4340</td>\n",
              "      <td>9450</td>\n",
              "    </tr>\n",
              "    <tr>\n",
              "      <th>1</th>\n",
              "      <td>Brazil</td>\n",
              "      <td>1990</td>\n",
              "      <td>4360</td>\n",
              "      <td>9590</td>\n",
              "    </tr>\n",
              "    <tr>\n",
              "      <th>2</th>\n",
              "      <td>Brazil</td>\n",
              "      <td>1991</td>\n",
              "      <td>4470</td>\n",
              "      <td>9770</td>\n",
              "    </tr>\n",
              "    <tr>\n",
              "      <th>3</th>\n",
              "      <td>Brazil</td>\n",
              "      <td>1992</td>\n",
              "      <td>4530</td>\n",
              "      <td>9910</td>\n",
              "    </tr>\n",
              "    <tr>\n",
              "      <th>4</th>\n",
              "      <td>Brazil</td>\n",
              "      <td>1993</td>\n",
              "      <td>4620</td>\n",
              "      <td>10000</td>\n",
              "    </tr>\n",
              "  </tbody>\n",
              "</table>\n",
              "</div>"
            ],
            "text/plain": [
              "  country  year female_cancer male_cancer\n",
              "0  Brazil  1989          4340        9450\n",
              "1  Brazil  1990          4360        9590\n",
              "2  Brazil  1991          4470        9770\n",
              "3  Brazil  1992          4530        9910\n",
              "4  Brazil  1993          4620       10000"
            ]
          },
          "metadata": {},
          "execution_count": 9
        }
      ]
    },
    {
      "cell_type": "code",
      "metadata": {
        "colab": {
          "base_uri": "https://localhost:8080/"
        },
        "id": "lE-tdRdwHLUq",
        "outputId": "8dfb232b-8bfc-45ed-f32b-5b5d78efa024"
      },
      "source": [
        "print(BR_T)"
      ],
      "execution_count": null,
      "outputs": [
        {
          "output_type": "stream",
          "name": "stdout",
          "text": [
            "   country  year female_cancer male_cancer\n",
            "0   Brazil  1989          4340        9450\n",
            "1   Brazil  1990          4360        9590\n",
            "2   Brazil  1991          4470        9770\n",
            "3   Brazil  1992          4530        9910\n",
            "4   Brazil  1993          4620       10000\n",
            "5   Brazil  1994          4720       10200\n",
            "6   Brazil  1995          4840       10500\n",
            "7   Brazil  1996          4960       10700\n",
            "8   Brazil  1997          5040       11000\n",
            "9   Brazil  1998          5180       11200\n",
            "10  Brazil  1999          5290       11500\n",
            "11  Brazil  2000          5350       11600\n",
            "12  Brazil  2001          5450       11800\n",
            "13  Brazil  2002          5590       12100\n",
            "14  Brazil  2003          5720       12400\n",
            "15  Brazil  2004          5820       12500\n",
            "16  Brazil  2005          5930       12800\n",
            "17  Brazil  2006          6020       13000\n",
            "18  Brazil  2007          6080       13200\n",
            "19  Brazil  2008          6170       13400\n",
            "20  Brazil  2009          6340       13700\n",
            "21  Brazil  2010          6460       14000\n",
            "22  Brazil  2011          6610       14300\n",
            "23  Brazil  2012          6760       14700\n",
            "24  Brazil  2013          6950       15100\n",
            "25  Brazil  2014          7170       15800\n",
            "26  Brazil  2015          7410       16600\n"
          ]
        }
      ]
    },
    {
      "cell_type": "code",
      "metadata": {
        "colab": {
          "base_uri": "https://localhost:8080/"
        },
        "id": "nnnKskAtIi7d",
        "outputId": "f03c7cb3-5d06-4118-f5a5-966587f91b2d"
      },
      "source": [
        "print(BR_T['male_cancer'])"
      ],
      "execution_count": null,
      "outputs": [
        {
          "output_type": "stream",
          "name": "stdout",
          "text": [
            "0      9450\n",
            "1      9590\n",
            "2      9770\n",
            "3      9910\n",
            "4     10000\n",
            "5     10200\n",
            "6     10500\n",
            "7     10700\n",
            "8     11000\n",
            "9     11200\n",
            "10    11500\n",
            "11    11600\n",
            "12    11800\n",
            "13    12100\n",
            "14    12400\n",
            "15    12500\n",
            "16    12800\n",
            "17    13000\n",
            "18    13200\n",
            "19    13400\n",
            "20    13700\n",
            "21    14000\n",
            "22    14300\n",
            "23    14700\n",
            "24    15100\n",
            "25    15800\n",
            "26    16600\n",
            "Name: male_cancer, dtype: object\n"
          ]
        }
      ]
    },
    {
      "cell_type": "markdown",
      "metadata": {
        "id": "ue2xb9cqRJBk"
      },
      "source": [
        "#ARRANJO COM OS HOMENS\n",
        "\n",
        "```\n",
        "# Isto está formatado como código\n",
        "```\n",
        "\n"
      ]
    },
    {
      "cell_type": "code",
      "metadata": {
        "colab": {
          "base_uri": "https://localhost:8080/",
          "height": 237
        },
        "id": "aBiejmfKPMLX",
        "outputId": "cd27e3cd-af13-4e80-b323-98abfb1a48df"
      },
      "source": [
        "male_cancer = pd.read_csv ('https://raw.githubusercontent.com/samuelhenrick1/GoogleCollab/main/File%20name_NEW%20(1).csv')\n",
        "male_cancer.head()"
      ],
      "execution_count": null,
      "outputs": [
        {
          "output_type": "execute_result",
          "data": {
            "text/html": [
              "<div>\n",
              "<style scoped>\n",
              "    .dataframe tbody tr th:only-of-type {\n",
              "        vertical-align: middle;\n",
              "    }\n",
              "\n",
              "    .dataframe tbody tr th {\n",
              "        vertical-align: top;\n",
              "    }\n",
              "\n",
              "    .dataframe thead th {\n",
              "        text-align: right;\n",
              "    }\n",
              "</style>\n",
              "<table border=\"1\" class=\"dataframe\">\n",
              "  <thead>\n",
              "    <tr style=\"text-align: right;\">\n",
              "      <th></th>\n",
              "      <th>Unnamed: 0</th>\n",
              "      <th>country</th>\n",
              "      <th>1989</th>\n",
              "      <th>1990</th>\n",
              "      <th>1991</th>\n",
              "      <th>1992</th>\n",
              "      <th>1993</th>\n",
              "      <th>1994</th>\n",
              "      <th>1995</th>\n",
              "      <th>1996</th>\n",
              "      <th>1997</th>\n",
              "      <th>1998</th>\n",
              "      <th>1999</th>\n",
              "      <th>2000</th>\n",
              "      <th>2001</th>\n",
              "      <th>2002</th>\n",
              "      <th>2003</th>\n",
              "      <th>2004</th>\n",
              "      <th>2005</th>\n",
              "      <th>2006</th>\n",
              "      <th>2007</th>\n",
              "      <th>2008</th>\n",
              "      <th>2009</th>\n",
              "      <th>2010</th>\n",
              "      <th>2011</th>\n",
              "      <th>2012</th>\n",
              "      <th>2013</th>\n",
              "      <th>2014</th>\n",
              "      <th>2015</th>\n",
              "    </tr>\n",
              "  </thead>\n",
              "  <tbody>\n",
              "    <tr>\n",
              "      <th>0</th>\n",
              "      <td>0</td>\n",
              "      <td>Afghanistan</td>\n",
              "      <td>409</td>\n",
              "      <td>439</td>\n",
              "      <td>480</td>\n",
              "      <td>530</td>\n",
              "      <td>586</td>\n",
              "      <td>634</td>\n",
              "      <td>665</td>\n",
              "      <td>687</td>\n",
              "      <td>705</td>\n",
              "      <td>727</td>\n",
              "      <td>755</td>\n",
              "      <td>789</td>\n",
              "      <td>816</td>\n",
              "      <td>846</td>\n",
              "      <td>876</td>\n",
              "      <td>902</td>\n",
              "      <td>923</td>\n",
              "      <td>937</td>\n",
              "      <td>951</td>\n",
              "      <td>961</td>\n",
              "      <td>976</td>\n",
              "      <td>992</td>\n",
              "      <td>1010</td>\n",
              "      <td>1040</td>\n",
              "      <td>1070</td>\n",
              "      <td>1100</td>\n",
              "      <td>1130</td>\n",
              "    </tr>\n",
              "    <tr>\n",
              "      <th>1</th>\n",
              "      <td>1</td>\n",
              "      <td>Angola</td>\n",
              "      <td>295</td>\n",
              "      <td>295</td>\n",
              "      <td>295</td>\n",
              "      <td>299</td>\n",
              "      <td>303</td>\n",
              "      <td>309</td>\n",
              "      <td>309</td>\n",
              "      <td>305</td>\n",
              "      <td>302</td>\n",
              "      <td>296</td>\n",
              "      <td>293</td>\n",
              "      <td>290</td>\n",
              "      <td>286</td>\n",
              "      <td>288</td>\n",
              "      <td>288</td>\n",
              "      <td>287</td>\n",
              "      <td>285</td>\n",
              "      <td>284</td>\n",
              "      <td>284</td>\n",
              "      <td>285</td>\n",
              "      <td>287</td>\n",
              "      <td>289</td>\n",
              "      <td>292</td>\n",
              "      <td>295</td>\n",
              "      <td>298</td>\n",
              "      <td>303</td>\n",
              "      <td>308</td>\n",
              "    </tr>\n",
              "    <tr>\n",
              "      <th>2</th>\n",
              "      <td>2</td>\n",
              "      <td>Albania</td>\n",
              "      <td>201</td>\n",
              "      <td>206</td>\n",
              "      <td>209</td>\n",
              "      <td>209</td>\n",
              "      <td>211</td>\n",
              "      <td>217</td>\n",
              "      <td>224</td>\n",
              "      <td>234</td>\n",
              "      <td>246</td>\n",
              "      <td>255</td>\n",
              "      <td>264</td>\n",
              "      <td>268</td>\n",
              "      <td>277</td>\n",
              "      <td>285</td>\n",
              "      <td>290</td>\n",
              "      <td>294</td>\n",
              "      <td>295</td>\n",
              "      <td>294</td>\n",
              "      <td>297</td>\n",
              "      <td>300</td>\n",
              "      <td>300</td>\n",
              "      <td>298</td>\n",
              "      <td>298</td>\n",
              "      <td>301</td>\n",
              "      <td>304</td>\n",
              "      <td>309</td>\n",
              "      <td>313</td>\n",
              "    </tr>\n",
              "    <tr>\n",
              "      <th>3</th>\n",
              "      <td>3</td>\n",
              "      <td>Andorra</td>\n",
              "      <td>5.34</td>\n",
              "      <td>5.78</td>\n",
              "      <td>6.2</td>\n",
              "      <td>6.36</td>\n",
              "      <td>6.38</td>\n",
              "      <td>6.29</td>\n",
              "      <td>6.25</td>\n",
              "      <td>6.28</td>\n",
              "      <td>6.33</td>\n",
              "      <td>6.36</td>\n",
              "      <td>6.34</td>\n",
              "      <td>6.34</td>\n",
              "      <td>6.39</td>\n",
              "      <td>6.8</td>\n",
              "      <td>7.43</td>\n",
              "      <td>7.83</td>\n",
              "      <td>8.13</td>\n",
              "      <td>8.49</td>\n",
              "      <td>8.79</td>\n",
              "      <td>9.08</td>\n",
              "      <td>9.33</td>\n",
              "      <td>9.62</td>\n",
              "      <td>9.91</td>\n",
              "      <td>10.2</td>\n",
              "      <td>10.4</td>\n",
              "      <td>10.7</td>\n",
              "      <td>10.9</td>\n",
              "    </tr>\n",
              "    <tr>\n",
              "      <th>4</th>\n",
              "      <td>4</td>\n",
              "      <td>United Arab Emirates</td>\n",
              "      <td>20.5</td>\n",
              "      <td>21.5</td>\n",
              "      <td>22.5</td>\n",
              "      <td>23.4</td>\n",
              "      <td>24.4</td>\n",
              "      <td>25.7</td>\n",
              "      <td>26.8</td>\n",
              "      <td>28.1</td>\n",
              "      <td>29.2</td>\n",
              "      <td>30.4</td>\n",
              "      <td>31.4</td>\n",
              "      <td>32.1</td>\n",
              "      <td>33</td>\n",
              "      <td>34.5</td>\n",
              "      <td>37.3</td>\n",
              "      <td>42.6</td>\n",
              "      <td>47.5</td>\n",
              "      <td>53.5</td>\n",
              "      <td>63</td>\n",
              "      <td>73.2</td>\n",
              "      <td>83.3</td>\n",
              "      <td>95.1</td>\n",
              "      <td>106</td>\n",
              "      <td>115</td>\n",
              "      <td>126</td>\n",
              "      <td>136</td>\n",
              "      <td>149</td>\n",
              "    </tr>\n",
              "  </tbody>\n",
              "</table>\n",
              "</div>"
            ],
            "text/plain": [
              "   Unnamed: 0               country  1989  1990  ...  2012  2013  2014  2015\n",
              "0           0           Afghanistan   409   439  ...  1040  1070  1100  1130\n",
              "1           1                Angola   295   295  ...   295   298   303   308\n",
              "2           2               Albania   201   206  ...   301   304   309   313\n",
              "3           3               Andorra  5.34  5.78  ...  10.2  10.4  10.7  10.9\n",
              "4           4  United Arab Emirates  20.5  21.5  ...   115   126   136   149\n",
              "\n",
              "[5 rows x 29 columns]"
            ]
          },
          "metadata": {},
          "execution_count": 12
        }
      ]
    },
    {
      "cell_type": "code",
      "metadata": {
        "colab": {
          "base_uri": "https://localhost:8080/"
        },
        "id": "cfgx7ETnPjIs",
        "outputId": "01ec04c5-839f-4ab4-9a08-09e216b2ae8b"
      },
      "source": [
        "print(male_cancerBR)"
      ],
      "execution_count": null,
      "outputs": [
        {
          "output_type": "stream",
          "name": "stdout",
          "text": [
            "    Unnamed: 0 country  1989  1990  1991  ...   2011   2012   2013   2014   2015\n",
            "25          25  Brazil  9450  9590  9770  ...  14300  14700  15100  15800  16600\n",
            "\n",
            "[1 rows x 29 columns]\n"
          ]
        }
      ]
    },
    {
      "cell_type": "code",
      "metadata": {
        "colab": {
          "base_uri": "https://localhost:8080/",
          "height": 117
        },
        "id": "UDKo0lIhPcy0",
        "outputId": "3a80568e-e470-41b4-e62f-f1de15c7edb4"
      },
      "source": [
        "male_cancerBR = male_cancer[ male_cancer.country == 'Brazil' ]\n",
        "male_cancerBR\n",
        "\n",
        "#FILTRO BRAZIL MALE"
      ],
      "execution_count": null,
      "outputs": [
        {
          "output_type": "execute_result",
          "data": {
            "text/html": [
              "<div>\n",
              "<style scoped>\n",
              "    .dataframe tbody tr th:only-of-type {\n",
              "        vertical-align: middle;\n",
              "    }\n",
              "\n",
              "    .dataframe tbody tr th {\n",
              "        vertical-align: top;\n",
              "    }\n",
              "\n",
              "    .dataframe thead th {\n",
              "        text-align: right;\n",
              "    }\n",
              "</style>\n",
              "<table border=\"1\" class=\"dataframe\">\n",
              "  <thead>\n",
              "    <tr style=\"text-align: right;\">\n",
              "      <th></th>\n",
              "      <th>Unnamed: 0</th>\n",
              "      <th>country</th>\n",
              "      <th>1989</th>\n",
              "      <th>1990</th>\n",
              "      <th>1991</th>\n",
              "      <th>1992</th>\n",
              "      <th>1993</th>\n",
              "      <th>1994</th>\n",
              "      <th>1995</th>\n",
              "      <th>1996</th>\n",
              "      <th>1997</th>\n",
              "      <th>1998</th>\n",
              "      <th>1999</th>\n",
              "      <th>2000</th>\n",
              "      <th>2001</th>\n",
              "      <th>2002</th>\n",
              "      <th>2003</th>\n",
              "      <th>2004</th>\n",
              "      <th>2005</th>\n",
              "      <th>2006</th>\n",
              "      <th>2007</th>\n",
              "      <th>2008</th>\n",
              "      <th>2009</th>\n",
              "      <th>2010</th>\n",
              "      <th>2011</th>\n",
              "      <th>2012</th>\n",
              "      <th>2013</th>\n",
              "      <th>2014</th>\n",
              "      <th>2015</th>\n",
              "    </tr>\n",
              "  </thead>\n",
              "  <tbody>\n",
              "    <tr>\n",
              "      <th>25</th>\n",
              "      <td>25</td>\n",
              "      <td>Brazil</td>\n",
              "      <td>9450</td>\n",
              "      <td>9590</td>\n",
              "      <td>9770</td>\n",
              "      <td>9910</td>\n",
              "      <td>10000</td>\n",
              "      <td>10200</td>\n",
              "      <td>10500</td>\n",
              "      <td>10700</td>\n",
              "      <td>11000</td>\n",
              "      <td>11200</td>\n",
              "      <td>11500</td>\n",
              "      <td>11600</td>\n",
              "      <td>11800</td>\n",
              "      <td>12100</td>\n",
              "      <td>12400</td>\n",
              "      <td>12500</td>\n",
              "      <td>12800</td>\n",
              "      <td>13000</td>\n",
              "      <td>13200</td>\n",
              "      <td>13400</td>\n",
              "      <td>13700</td>\n",
              "      <td>14000</td>\n",
              "      <td>14300</td>\n",
              "      <td>14700</td>\n",
              "      <td>15100</td>\n",
              "      <td>15800</td>\n",
              "      <td>16600</td>\n",
              "    </tr>\n",
              "  </tbody>\n",
              "</table>\n",
              "</div>"
            ],
            "text/plain": [
              "    Unnamed: 0 country  1989  1990  1991  ...   2011   2012   2013   2014   2015\n",
              "25          25  Brazil  9450  9590  9770  ...  14300  14700  15100  15800  16600\n",
              "\n",
              "[1 rows x 29 columns]"
            ]
          },
          "metadata": {},
          "execution_count": 14
        }
      ]
    },
    {
      "cell_type": "code",
      "metadata": {
        "colab": {
          "base_uri": "https://localhost:8080/",
          "height": 203
        },
        "id": "6JeMBsqMQ9fn",
        "outputId": "b34e638a-53bd-4ae7-eaa3-6b2a991c18cf"
      },
      "source": [
        "BR_M = pd.melt(male_cancerBR, id_vars=['country'])\n",
        "BR_M.head()\n",
        "\n",
        "#REPRESENTAÇÃO MALE"
      ],
      "execution_count": null,
      "outputs": [
        {
          "output_type": "execute_result",
          "data": {
            "text/html": [
              "<div>\n",
              "<style scoped>\n",
              "    .dataframe tbody tr th:only-of-type {\n",
              "        vertical-align: middle;\n",
              "    }\n",
              "\n",
              "    .dataframe tbody tr th {\n",
              "        vertical-align: top;\n",
              "    }\n",
              "\n",
              "    .dataframe thead th {\n",
              "        text-align: right;\n",
              "    }\n",
              "</style>\n",
              "<table border=\"1\" class=\"dataframe\">\n",
              "  <thead>\n",
              "    <tr style=\"text-align: right;\">\n",
              "      <th></th>\n",
              "      <th>country</th>\n",
              "      <th>variable</th>\n",
              "      <th>value</th>\n",
              "    </tr>\n",
              "  </thead>\n",
              "  <tbody>\n",
              "    <tr>\n",
              "      <th>0</th>\n",
              "      <td>Brazil</td>\n",
              "      <td>Unnamed: 0</td>\n",
              "      <td>25</td>\n",
              "    </tr>\n",
              "    <tr>\n",
              "      <th>1</th>\n",
              "      <td>Brazil</td>\n",
              "      <td>1989</td>\n",
              "      <td>9450</td>\n",
              "    </tr>\n",
              "    <tr>\n",
              "      <th>2</th>\n",
              "      <td>Brazil</td>\n",
              "      <td>1990</td>\n",
              "      <td>9590</td>\n",
              "    </tr>\n",
              "    <tr>\n",
              "      <th>3</th>\n",
              "      <td>Brazil</td>\n",
              "      <td>1991</td>\n",
              "      <td>9770</td>\n",
              "    </tr>\n",
              "    <tr>\n",
              "      <th>4</th>\n",
              "      <td>Brazil</td>\n",
              "      <td>1992</td>\n",
              "      <td>9910</td>\n",
              "    </tr>\n",
              "  </tbody>\n",
              "</table>\n",
              "</div>"
            ],
            "text/plain": [
              "  country    variable value\n",
              "0  Brazil  Unnamed: 0    25\n",
              "1  Brazil        1989  9450\n",
              "2  Brazil        1990  9590\n",
              "3  Brazil        1991  9770\n",
              "4  Brazil        1992  9910"
            ]
          },
          "metadata": {},
          "execution_count": 15
        }
      ]
    },
    {
      "cell_type": "code",
      "metadata": {
        "colab": {
          "base_uri": "https://localhost:8080/",
          "height": 203
        },
        "id": "Sh0kM6dLRO3F",
        "outputId": "75a89b75-fe44-4729-fa16-cf89b6911607"
      },
      "source": [
        "BR_M = BR_M.rename(columns={'variable':'year','value':'male_cancer'})\n",
        "BR_M.head()\n",
        "\n",
        "#RENAME MALE"
      ],
      "execution_count": null,
      "outputs": [
        {
          "output_type": "execute_result",
          "data": {
            "text/html": [
              "<div>\n",
              "<style scoped>\n",
              "    .dataframe tbody tr th:only-of-type {\n",
              "        vertical-align: middle;\n",
              "    }\n",
              "\n",
              "    .dataframe tbody tr th {\n",
              "        vertical-align: top;\n",
              "    }\n",
              "\n",
              "    .dataframe thead th {\n",
              "        text-align: right;\n",
              "    }\n",
              "</style>\n",
              "<table border=\"1\" class=\"dataframe\">\n",
              "  <thead>\n",
              "    <tr style=\"text-align: right;\">\n",
              "      <th></th>\n",
              "      <th>country</th>\n",
              "      <th>year</th>\n",
              "      <th>male_cancer</th>\n",
              "    </tr>\n",
              "  </thead>\n",
              "  <tbody>\n",
              "    <tr>\n",
              "      <th>0</th>\n",
              "      <td>Brazil</td>\n",
              "      <td>Unnamed: 0</td>\n",
              "      <td>25</td>\n",
              "    </tr>\n",
              "    <tr>\n",
              "      <th>1</th>\n",
              "      <td>Brazil</td>\n",
              "      <td>1989</td>\n",
              "      <td>9450</td>\n",
              "    </tr>\n",
              "    <tr>\n",
              "      <th>2</th>\n",
              "      <td>Brazil</td>\n",
              "      <td>1990</td>\n",
              "      <td>9590</td>\n",
              "    </tr>\n",
              "    <tr>\n",
              "      <th>3</th>\n",
              "      <td>Brazil</td>\n",
              "      <td>1991</td>\n",
              "      <td>9770</td>\n",
              "    </tr>\n",
              "    <tr>\n",
              "      <th>4</th>\n",
              "      <td>Brazil</td>\n",
              "      <td>1992</td>\n",
              "      <td>9910</td>\n",
              "    </tr>\n",
              "  </tbody>\n",
              "</table>\n",
              "</div>"
            ],
            "text/plain": [
              "  country        year male_cancer\n",
              "0  Brazil  Unnamed: 0          25\n",
              "1  Brazil        1989        9450\n",
              "2  Brazil        1990        9590\n",
              "3  Brazil        1991        9770\n",
              "4  Brazil        1992        9910"
            ]
          },
          "metadata": {},
          "execution_count": 16
        }
      ]
    },
    {
      "cell_type": "code",
      "metadata": {
        "colab": {
          "base_uri": "https://localhost:8080/",
          "height": 203
        },
        "id": "_m58vFHORSYO",
        "outputId": "f81551d7-97ae-414d-dcf9-7e635ca1c41e"
      },
      "source": [
        "BR_T = pd.merge(BR_M, BR_F,on=['country','year'])\n",
        "BR_T.head()\n",
        "\n",
        "#MERGE DOS DADOS FEMALE X MALE"
      ],
      "execution_count": null,
      "outputs": [
        {
          "output_type": "execute_result",
          "data": {
            "text/html": [
              "<div>\n",
              "<style scoped>\n",
              "    .dataframe tbody tr th:only-of-type {\n",
              "        vertical-align: middle;\n",
              "    }\n",
              "\n",
              "    .dataframe tbody tr th {\n",
              "        vertical-align: top;\n",
              "    }\n",
              "\n",
              "    .dataframe thead th {\n",
              "        text-align: right;\n",
              "    }\n",
              "</style>\n",
              "<table border=\"1\" class=\"dataframe\">\n",
              "  <thead>\n",
              "    <tr style=\"text-align: right;\">\n",
              "      <th></th>\n",
              "      <th>country</th>\n",
              "      <th>year</th>\n",
              "      <th>male_cancer</th>\n",
              "      <th>female_cancer</th>\n",
              "    </tr>\n",
              "  </thead>\n",
              "  <tbody>\n",
              "    <tr>\n",
              "      <th>0</th>\n",
              "      <td>Brazil</td>\n",
              "      <td>1989</td>\n",
              "      <td>9450</td>\n",
              "      <td>4340</td>\n",
              "    </tr>\n",
              "    <tr>\n",
              "      <th>1</th>\n",
              "      <td>Brazil</td>\n",
              "      <td>1990</td>\n",
              "      <td>9590</td>\n",
              "      <td>4360</td>\n",
              "    </tr>\n",
              "    <tr>\n",
              "      <th>2</th>\n",
              "      <td>Brazil</td>\n",
              "      <td>1991</td>\n",
              "      <td>9770</td>\n",
              "      <td>4470</td>\n",
              "    </tr>\n",
              "    <tr>\n",
              "      <th>3</th>\n",
              "      <td>Brazil</td>\n",
              "      <td>1992</td>\n",
              "      <td>9910</td>\n",
              "      <td>4530</td>\n",
              "    </tr>\n",
              "    <tr>\n",
              "      <th>4</th>\n",
              "      <td>Brazil</td>\n",
              "      <td>1993</td>\n",
              "      <td>10000</td>\n",
              "      <td>4620</td>\n",
              "    </tr>\n",
              "  </tbody>\n",
              "</table>\n",
              "</div>"
            ],
            "text/plain": [
              "  country  year male_cancer female_cancer\n",
              "0  Brazil  1989        9450          4340\n",
              "1  Brazil  1990        9590          4360\n",
              "2  Brazil  1991        9770          4470\n",
              "3  Brazil  1992        9910          4530\n",
              "4  Brazil  1993       10000          4620"
            ]
          },
          "metadata": {},
          "execution_count": 17
        }
      ]
    },
    {
      "cell_type": "code",
      "metadata": {
        "colab": {
          "base_uri": "https://localhost:8080/"
        },
        "id": "esGaH3E9RUrV",
        "outputId": "da0f892c-3b94-4ccd-aeac-d73964f81264"
      },
      "source": [
        "print(BR_T)"
      ],
      "execution_count": null,
      "outputs": [
        {
          "output_type": "stream",
          "name": "stdout",
          "text": [
            "   country  year male_cancer female_cancer\n",
            "0   Brazil  1989        9450          4340\n",
            "1   Brazil  1990        9590          4360\n",
            "2   Brazil  1991        9770          4470\n",
            "3   Brazil  1992        9910          4530\n",
            "4   Brazil  1993       10000          4620\n",
            "5   Brazil  1994       10200          4720\n",
            "6   Brazil  1995       10500          4840\n",
            "7   Brazil  1996       10700          4960\n",
            "8   Brazil  1997       11000          5040\n",
            "9   Brazil  1998       11200          5180\n",
            "10  Brazil  1999       11500          5290\n",
            "11  Brazil  2000       11600          5350\n",
            "12  Brazil  2001       11800          5450\n",
            "13  Brazil  2002       12100          5590\n",
            "14  Brazil  2003       12400          5720\n",
            "15  Brazil  2004       12500          5820\n",
            "16  Brazil  2005       12800          5930\n",
            "17  Brazil  2006       13000          6020\n",
            "18  Brazil  2007       13200          6080\n",
            "19  Brazil  2008       13400          6170\n",
            "20  Brazil  2009       13700          6340\n",
            "21  Brazil  2010       14000          6460\n",
            "22  Brazil  2011       14300          6610\n",
            "23  Brazil  2012       14700          6760\n",
            "24  Brazil  2013       15100          6950\n",
            "25  Brazil  2014       15800          7170\n",
            "26  Brazil  2015       16600          7410\n"
          ]
        }
      ]
    },
    {
      "cell_type": "code",
      "metadata": {
        "colab": {
          "base_uri": "https://localhost:8080/"
        },
        "id": "QikvD5llRVwE",
        "outputId": "dad6be71-e796-4a43-bdc7-f5326cd661df"
      },
      "source": [
        "print(BR_T['male_cancer'])"
      ],
      "execution_count": null,
      "outputs": [
        {
          "output_type": "stream",
          "name": "stdout",
          "text": [
            "0      9450\n",
            "1      9590\n",
            "2      9770\n",
            "3      9910\n",
            "4     10000\n",
            "5     10200\n",
            "6     10500\n",
            "7     10700\n",
            "8     11000\n",
            "9     11200\n",
            "10    11500\n",
            "11    11600\n",
            "12    11800\n",
            "13    12100\n",
            "14    12400\n",
            "15    12500\n",
            "16    12800\n",
            "17    13000\n",
            "18    13200\n",
            "19    13400\n",
            "20    13700\n",
            "21    14000\n",
            "22    14300\n",
            "23    14700\n",
            "24    15100\n",
            "25    15800\n",
            "26    16600\n",
            "Name: male_cancer, dtype: object\n"
          ]
        }
      ]
    },
    {
      "cell_type": "code",
      "metadata": {
        "id": "GSJRyNU9SQM7"
      },
      "source": [
        "ordenação = BR_T['male_cancer']"
      ],
      "execution_count": null,
      "outputs": []
    },
    {
      "cell_type": "code",
      "metadata": {
        "colab": {
          "base_uri": "https://localhost:8080/"
        },
        "id": "SSCtxZ3sT1du",
        "outputId": "cc11d811-c199-40b3-e850-90111ee959f4"
      },
      "source": [
        "print(ordenação)"
      ],
      "execution_count": null,
      "outputs": [
        {
          "output_type": "stream",
          "name": "stdout",
          "text": [
            "0      9450\n",
            "1      9590\n",
            "2      9770\n",
            "3      9910\n",
            "4     10000\n",
            "5     10200\n",
            "6     10500\n",
            "7     10700\n",
            "8     11000\n",
            "9     11200\n",
            "10    11500\n",
            "11    11600\n",
            "12    11800\n",
            "13    12100\n",
            "14    12400\n",
            "15    12500\n",
            "16    12800\n",
            "17    13000\n",
            "18    13200\n",
            "19    13400\n",
            "20    13700\n",
            "21    14000\n",
            "22    14300\n",
            "23    14700\n",
            "24    15100\n",
            "25    15800\n",
            "26    16600\n",
            "Name: male_cancer, dtype: object\n"
          ]
        }
      ]
    },
    {
      "cell_type": "code",
      "metadata": {
        "id": "gkXk8qltUzgd"
      },
      "source": [
        "ordenado = sorted(ordenação, key=int, reverse=True)"
      ],
      "execution_count": null,
      "outputs": []
    },
    {
      "cell_type": "code",
      "metadata": {
        "colab": {
          "base_uri": "https://localhost:8080/"
        },
        "id": "FhCn0zsgU2gE",
        "outputId": "d011ea7c-33a0-4806-a99e-32830e517437"
      },
      "source": [
        "print(ordenado)"
      ],
      "execution_count": null,
      "outputs": [
        {
          "output_type": "stream",
          "name": "stdout",
          "text": [
            "['16600', '15800', '15100', '14700', '14300', '14000', '13700', '13400', '13200', '13000', '12800', '12500', '12400', '12100', '11800', '11600', '11500', '11200', '11000', '10700', '10500', '10200', '10000', '9910', '9770', '9590', '9450']\n"
          ]
        }
      ]
    },
    {
      "cell_type": "code",
      "metadata": {
        "id": "gyB5SYx6U9iM"
      },
      "source": [
        "BR_T['male_cancer'] = ordenado"
      ],
      "execution_count": null,
      "outputs": []
    },
    {
      "cell_type": "code",
      "metadata": {
        "colab": {
          "base_uri": "https://localhost:8080/"
        },
        "id": "l0ObY9jySV4f",
        "outputId": "c0087bcf-def3-42bf-d917-dd2c349ed27d"
      },
      "source": [
        "print(BR_T['male_cancer'])"
      ],
      "execution_count": null,
      "outputs": [
        {
          "output_type": "stream",
          "name": "stdout",
          "text": [
            "0     16600\n",
            "1     15800\n",
            "2     15100\n",
            "3     14700\n",
            "4     14300\n",
            "5     14000\n",
            "6     13700\n",
            "7     13400\n",
            "8     13200\n",
            "9     13000\n",
            "10    12800\n",
            "11    12500\n",
            "12    12400\n",
            "13    12100\n",
            "14    11800\n",
            "15    11600\n",
            "16    11500\n",
            "17    11200\n",
            "18    11000\n",
            "19    10700\n",
            "20    10500\n",
            "21    10200\n",
            "22    10000\n",
            "23     9910\n",
            "24     9770\n",
            "25     9590\n",
            "26     9450\n",
            "Name: male_cancer, dtype: object\n"
          ]
        }
      ]
    },
    {
      "cell_type": "markdown",
      "metadata": {
        "id": "eXYVSquGZww6"
      },
      "source": [
        "#Arranjo com as Mulheres"
      ]
    },
    {
      "cell_type": "code",
      "metadata": {
        "colab": {
          "base_uri": "https://localhost:8080/"
        },
        "id": "R2qUUJ6wZzYQ",
        "outputId": "ccf5d2ec-b10e-4ee6-d6e2-13e97143ec61"
      },
      "source": [
        "print(BR_T)"
      ],
      "execution_count": null,
      "outputs": [
        {
          "output_type": "stream",
          "name": "stdout",
          "text": [
            "   country  year male_cancer female_cancer\n",
            "0   Brazil  1989       16600          4340\n",
            "1   Brazil  1990       15800          4360\n",
            "2   Brazil  1991       15100          4470\n",
            "3   Brazil  1992       14700          4530\n",
            "4   Brazil  1993       14300          4620\n",
            "5   Brazil  1994       14000          4720\n",
            "6   Brazil  1995       13700          4840\n",
            "7   Brazil  1996       13400          4960\n",
            "8   Brazil  1997       13200          5040\n",
            "9   Brazil  1998       13000          5180\n",
            "10  Brazil  1999       12800          5290\n",
            "11  Brazil  2000       12500          5350\n",
            "12  Brazil  2001       12400          5450\n",
            "13  Brazil  2002       12100          5590\n",
            "14  Brazil  2003       11800          5720\n",
            "15  Brazil  2004       11600          5820\n",
            "16  Brazil  2005       11500          5930\n",
            "17  Brazil  2006       11200          6020\n",
            "18  Brazil  2007       11000          6080\n",
            "19  Brazil  2008       10700          6170\n",
            "20  Brazil  2009       10500          6340\n",
            "21  Brazil  2010       10200          6460\n",
            "22  Brazil  2011       10000          6610\n",
            "23  Brazil  2012        9910          6760\n",
            "24  Brazil  2013        9770          6950\n",
            "25  Brazil  2014        9590          7170\n",
            "26  Brazil  2015        9450          7410\n"
          ]
        }
      ]
    },
    {
      "cell_type": "code",
      "metadata": {
        "colab": {
          "base_uri": "https://localhost:8080/"
        },
        "id": "GEpC7a21aawG",
        "outputId": "0c651145-161e-4948-d91b-71737c9cecf5"
      },
      "source": [
        "print(BR_T['female_cancer'])"
      ],
      "execution_count": null,
      "outputs": [
        {
          "output_type": "stream",
          "name": "stdout",
          "text": [
            "0     4340\n",
            "1     4360\n",
            "2     4470\n",
            "3     4530\n",
            "4     4620\n",
            "5     4720\n",
            "6     4840\n",
            "7     4960\n",
            "8     5040\n",
            "9     5180\n",
            "10    5290\n",
            "11    5350\n",
            "12    5450\n",
            "13    5590\n",
            "14    5720\n",
            "15    5820\n",
            "16    5930\n",
            "17    6020\n",
            "18    6080\n",
            "19    6170\n",
            "20    6340\n",
            "21    6460\n",
            "22    6610\n",
            "23    6760\n",
            "24    6950\n",
            "25    7170\n",
            "26    7410\n",
            "Name: female_cancer, dtype: object\n"
          ]
        }
      ]
    },
    {
      "cell_type": "code",
      "metadata": {
        "colab": {
          "base_uri": "https://localhost:8080/"
        },
        "id": "CkgB3I0bafr8",
        "outputId": "a3641a0d-47cc-4180-96f3-0d3535f17368"
      },
      "source": [
        "ordenação_F = BR_T['female_cancer']\n",
        "print(ordenação_F)"
      ],
      "execution_count": null,
      "outputs": [
        {
          "output_type": "stream",
          "name": "stdout",
          "text": [
            "0     4340\n",
            "1     4360\n",
            "2     4470\n",
            "3     4530\n",
            "4     4620\n",
            "5     4720\n",
            "6     4840\n",
            "7     4960\n",
            "8     5040\n",
            "9     5180\n",
            "10    5290\n",
            "11    5350\n",
            "12    5450\n",
            "13    5590\n",
            "14    5720\n",
            "15    5820\n",
            "16    5930\n",
            "17    6020\n",
            "18    6080\n",
            "19    6170\n",
            "20    6340\n",
            "21    6460\n",
            "22    6610\n",
            "23    6760\n",
            "24    6950\n",
            "25    7170\n",
            "26    7410\n",
            "Name: female_cancer, dtype: object\n"
          ]
        }
      ]
    },
    {
      "cell_type": "code",
      "metadata": {
        "colab": {
          "base_uri": "https://localhost:8080/"
        },
        "id": "9RqhdgXwam2_",
        "outputId": "18db4687-84b1-4b8b-f734-562e280945f1"
      },
      "source": [
        "ordenado_F = sorted(ordenação_F, key=int, reverse=True)\n",
        "print(ordenado_F)"
      ],
      "execution_count": null,
      "outputs": [
        {
          "output_type": "stream",
          "name": "stdout",
          "text": [
            "['7410', '7170', '6950', '6760', '6610', '6460', '6340', '6170', '6080', '6020', '5930', '5820', '5720', '5590', '5450', '5350', '5290', '5180', '5040', '4960', '4840', '4720', '4620', '4530', '4470', '4360', '4340']\n"
          ]
        }
      ]
    },
    {
      "cell_type": "code",
      "metadata": {
        "colab": {
          "base_uri": "https://localhost:8080/"
        },
        "id": "DtSTK5HlavR6",
        "outputId": "08ec6362-1db0-4f4e-c8f7-4245217511ef"
      },
      "source": [
        "BR_T['female_cancer'] = ordenado_F\n",
        "print(BR_T['female_cancer'])"
      ],
      "execution_count": null,
      "outputs": [
        {
          "output_type": "stream",
          "name": "stdout",
          "text": [
            "0     7410\n",
            "1     7170\n",
            "2     6950\n",
            "3     6760\n",
            "4     6610\n",
            "5     6460\n",
            "6     6340\n",
            "7     6170\n",
            "8     6080\n",
            "9     6020\n",
            "10    5930\n",
            "11    5820\n",
            "12    5720\n",
            "13    5590\n",
            "14    5450\n",
            "15    5350\n",
            "16    5290\n",
            "17    5180\n",
            "18    5040\n",
            "19    4960\n",
            "20    4840\n",
            "21    4720\n",
            "22    4620\n",
            "23    4530\n",
            "24    4470\n",
            "25    4360\n",
            "26    4340\n",
            "Name: female_cancer, dtype: object\n"
          ]
        }
      ]
    },
    {
      "cell_type": "code",
      "metadata": {
        "colab": {
          "base_uri": "https://localhost:8080/"
        },
        "id": "25Ui2eT4byUu",
        "outputId": "6b072197-a313-45a1-ad0f-65653cd6779f"
      },
      "source": [
        "print(BR_T)"
      ],
      "execution_count": null,
      "outputs": [
        {
          "output_type": "stream",
          "name": "stdout",
          "text": [
            "   country  year male_cancer female_cancer\n",
            "0   Brazil  1989       16600          7410\n",
            "1   Brazil  1990       15800          7170\n",
            "2   Brazil  1991       15100          6950\n",
            "3   Brazil  1992       14700          6760\n",
            "4   Brazil  1993       14300          6610\n",
            "5   Brazil  1994       14000          6460\n",
            "6   Brazil  1995       13700          6340\n",
            "7   Brazil  1996       13400          6170\n",
            "8   Brazil  1997       13200          6080\n",
            "9   Brazil  1998       13000          6020\n",
            "10  Brazil  1999       12800          5930\n",
            "11  Brazil  2000       12500          5820\n",
            "12  Brazil  2001       12400          5720\n",
            "13  Brazil  2002       12100          5590\n",
            "14  Brazil  2003       11800          5450\n",
            "15  Brazil  2004       11600          5350\n",
            "16  Brazil  2005       11500          5290\n",
            "17  Brazil  2006       11200          5180\n",
            "18  Brazil  2007       11000          5040\n",
            "19  Brazil  2008       10700          4960\n",
            "20  Brazil  2009       10500          4840\n",
            "21  Brazil  2010       10200          4720\n",
            "22  Brazil  2011       10000          4620\n",
            "23  Brazil  2012        9910          4530\n",
            "24  Brazil  2013        9770          4470\n",
            "25  Brazil  2014        9590          4360\n",
            "26  Brazil  2015        9450          4340\n"
          ]
        }
      ]
    },
    {
      "cell_type": "markdown",
      "metadata": {
        "id": "gdHrkWjxe9ec"
      },
      "source": [
        "#Arranjo para Ano"
      ]
    },
    {
      "cell_type": "code",
      "metadata": {
        "colab": {
          "base_uri": "https://localhost:8080/"
        },
        "id": "lX-y4dVSe0nq",
        "outputId": "35275a5e-03c1-485c-a193-c05f30908b47"
      },
      "source": [
        "print(BR_T['year'])"
      ],
      "execution_count": null,
      "outputs": [
        {
          "output_type": "stream",
          "name": "stdout",
          "text": [
            "0     1989\n",
            "1     1990\n",
            "2     1991\n",
            "3     1992\n",
            "4     1993\n",
            "5     1994\n",
            "6     1995\n",
            "7     1996\n",
            "8     1997\n",
            "9     1998\n",
            "10    1999\n",
            "11    2000\n",
            "12    2001\n",
            "13    2002\n",
            "14    2003\n",
            "15    2004\n",
            "16    2005\n",
            "17    2006\n",
            "18    2007\n",
            "19    2008\n",
            "20    2009\n",
            "21    2010\n",
            "22    2011\n",
            "23    2012\n",
            "24    2013\n",
            "25    2014\n",
            "26    2015\n",
            "Name: year, dtype: object\n"
          ]
        }
      ]
    },
    {
      "cell_type": "code",
      "metadata": {
        "colab": {
          "base_uri": "https://localhost:8080/"
        },
        "id": "dZbmMNx2fDgx",
        "outputId": "17c0eede-9303-4cab-d9cd-f2b2a69888e8"
      },
      "source": [
        "ordenação_Y = BR_T['year']\n",
        "print(ordenação_Y)"
      ],
      "execution_count": null,
      "outputs": [
        {
          "output_type": "stream",
          "name": "stdout",
          "text": [
            "0     1989\n",
            "1     1990\n",
            "2     1991\n",
            "3     1992\n",
            "4     1993\n",
            "5     1994\n",
            "6     1995\n",
            "7     1996\n",
            "8     1997\n",
            "9     1998\n",
            "10    1999\n",
            "11    2000\n",
            "12    2001\n",
            "13    2002\n",
            "14    2003\n",
            "15    2004\n",
            "16    2005\n",
            "17    2006\n",
            "18    2007\n",
            "19    2008\n",
            "20    2009\n",
            "21    2010\n",
            "22    2011\n",
            "23    2012\n",
            "24    2013\n",
            "25    2014\n",
            "26    2015\n",
            "Name: year, dtype: object\n"
          ]
        }
      ]
    },
    {
      "cell_type": "code",
      "metadata": {
        "colab": {
          "base_uri": "https://localhost:8080/"
        },
        "id": "ALEMs2zwfNkl",
        "outputId": "bc0ae378-fc3a-4837-d78d-ac06048e0034"
      },
      "source": [
        "ordenado_Y = sorted(ordenação_Y, key=int, reverse=True)\n",
        "print(ordenado_Y)"
      ],
      "execution_count": null,
      "outputs": [
        {
          "output_type": "stream",
          "name": "stdout",
          "text": [
            "['2015', '2014', '2013', '2012', '2011', '2010', '2009', '2008', '2007', '2006', '2005', '2004', '2003', '2002', '2001', '2000', '1999', '1998', '1997', '1996', '1995', '1994', '1993', '1992', '1991', '1990', '1989']\n"
          ]
        }
      ]
    },
    {
      "cell_type": "code",
      "metadata": {
        "colab": {
          "base_uri": "https://localhost:8080/"
        },
        "id": "BEfHipGifTcb",
        "outputId": "ad7a6fb0-c7c2-4625-f9c1-5968ec851eb8"
      },
      "source": [
        "BR_T['year'] = ordenado_Y\n",
        "print(BR_T['year'])"
      ],
      "execution_count": null,
      "outputs": [
        {
          "output_type": "stream",
          "name": "stdout",
          "text": [
            "0     2015\n",
            "1     2014\n",
            "2     2013\n",
            "3     2012\n",
            "4     2011\n",
            "5     2010\n",
            "6     2009\n",
            "7     2008\n",
            "8     2007\n",
            "9     2006\n",
            "10    2005\n",
            "11    2004\n",
            "12    2003\n",
            "13    2002\n",
            "14    2001\n",
            "15    2000\n",
            "16    1999\n",
            "17    1998\n",
            "18    1997\n",
            "19    1996\n",
            "20    1995\n",
            "21    1994\n",
            "22    1993\n",
            "23    1992\n",
            "24    1991\n",
            "25    1990\n",
            "26    1989\n",
            "Name: year, dtype: object\n"
          ]
        }
      ]
    },
    {
      "cell_type": "code",
      "metadata": {
        "colab": {
          "base_uri": "https://localhost:8080/"
        },
        "id": "gWUpsK8sfYdG",
        "outputId": "57a62417-ffe4-422c-8413-8c1329162495"
      },
      "source": [
        "print(BR_T)"
      ],
      "execution_count": null,
      "outputs": [
        {
          "output_type": "stream",
          "name": "stdout",
          "text": [
            "   country  year male_cancer female_cancer\n",
            "0   Brazil  2015       16600          7410\n",
            "1   Brazil  2014       15800          7170\n",
            "2   Brazil  2013       15100          6950\n",
            "3   Brazil  2012       14700          6760\n",
            "4   Brazil  2011       14300          6610\n",
            "5   Brazil  2010       14000          6460\n",
            "6   Brazil  2009       13700          6340\n",
            "7   Brazil  2008       13400          6170\n",
            "8   Brazil  2007       13200          6080\n",
            "9   Brazil  2006       13000          6020\n",
            "10  Brazil  2005       12800          5930\n",
            "11  Brazil  2004       12500          5820\n",
            "12  Brazil  2003       12400          5720\n",
            "13  Brazil  2002       12100          5590\n",
            "14  Brazil  2001       11800          5450\n",
            "15  Brazil  2000       11600          5350\n",
            "16  Brazil  1999       11500          5290\n",
            "17  Brazil  1998       11200          5180\n",
            "18  Brazil  1997       11000          5040\n",
            "19  Brazil  1996       10700          4960\n",
            "20  Brazil  1995       10500          4840\n",
            "21  Brazil  1994       10200          4720\n",
            "22  Brazil  1993       10000          4620\n",
            "23  Brazil  1992        9910          4530\n",
            "24  Brazil  1991        9770          4470\n",
            "25  Brazil  1990        9590          4360\n",
            "26  Brazil  1989        9450          4340\n"
          ]
        }
      ]
    },
    {
      "cell_type": "markdown",
      "metadata": {
        "id": "OmUOqXSnNfWo"
      },
      "source": [
        "# Visualização e Análise dos Dados"
      ]
    },
    {
      "cell_type": "code",
      "metadata": {
        "id": "jrbScQErN0Dd"
      },
      "source": [
        "import matplotlib.pyplot as plt\n",
        "import seaborn as sns\n",
        "%matplotlib inline "
      ],
      "execution_count": null,
      "outputs": []
    },
    {
      "cell_type": "markdown",
      "metadata": {
        "id": "6paBBOiHuHGz"
      },
      "source": [
        "Perguntas:\n",
        "1) Quem mais tem diagnostico com cancer entre homens e mulheres? HOMENS\n",
        "2) Os indices apresentam crescimento sempre? INFELIZMENTE, sim\n",
        "3) Os homens representam o dobro de diagnóstico com mulheres? Por diferença minima, podemos falar que sim\n",
        "4) De 1989 à 2015, podemos dizer que o diagnóstico dobrou? Infelizmente, por diferença minima, podemos falar que sim "
      ]
    },
    {
      "cell_type": "code",
      "metadata": {
        "colab": {
          "base_uri": "https://localhost:8080/",
          "height": 782
        },
        "id": "Mi1ynMs6OFdE",
        "outputId": "bac5c9dc-a169-45b2-cbf3-1aad3b26ab6d"
      },
      "source": [
        "plt.figure(figsize=(24,12))\n",
        "\n",
        "sns.lineplot(x=BR_M.year, y=BR_T.male_cancer,  label='male_cancer')\n",
        "sns.lineplot(x=BR_M.year, y=BR_T.female_cancer, label='female_cancer')\n",
        "\n",
        "plt.title('Câncer Estomacal no Brasil: Homens X Mulheres', fontsize=14)\n",
        "plt.legend()\n",
        "plt.xticks(rotation=90)\n",
        "plt.show()"
      ],
      "execution_count": null,
      "outputs": [
        {
          "output_type": "display_data",
          "data": {
            "image/png": "[encoded data removed]",
            "text/plain": [
              "<Figure size 1728x864 with 1 Axes>"
            ]
          },
          "metadata": {
            "needs_background": "light"
          }
        }
      ]
    },
    {
      "cell_type": "markdown",
      "metadata": {
        "id": "9Xei9GZTwt99"
      },
      "source": [
        "# Conclusões"
      ]
    },
    {
      "cell_type": "markdown",
      "metadata": {
        "id": "eJ95rHLirOGS"
      },
      "source": [
        "Para essa atividade, decidi empregar os dados do GAPMINDER sobre casos de cancer em homens e mulheres, onde selecionei o Brasil para essa exploratória\n",
        "\n",
        "Nessa trilha, apliquei imports de CSV do Github, tanto dos homens como também para mulheres. Preparei os dados, tudo de forma metodológica, passo a passo, renomeei os titulos dos dicionários de dados, usei o merge e também o inner_joins. Tive um desafio que fui orientado pelo Professor a tratar os dados \"K\", precisei isolar os números, ordenar e colocar de volta de onde os tirei, repeti para as mulheres, também para os homens e nisso consegui colocar o gráfico em escala.\n",
        "\n",
        "A pergunta do meu interesse foi saber, se os casos de cancer entre homens e mulheres, se eles vem crescendo ao passar dos anos e qual entre ambos os sexos são mais atingidos.\n",
        "\n",
        "Através dessa analise e manipulação, infelizmente, confirmei 4 hipóteses: homens são mais afetados que cancer, todo ano os indices crescem, mulheres são menos diagnosticadas com essas doenças e nenhum dos anos os indices tiveram regressão.\n",
        "\n",
        "\n",
        "Perguntas:\n",
        "1) Quem mais tem diagnostico com cancer entre homens e mulheres? HOMENS\n",
        "2) Os indices apresentam crescimento sempre? INFELIZMENTE, sim\n",
        "3) Os homens representam o dobro de diagnóstico com mulheres? Por diferença minima, podemos falar que sim\n",
        "4) De 1989 à 2015, podemos dizer que o diagnóstico dobrou? Infelizmente, por diferença minima, podemos falar que sim \n",
        "\n",
        "O grafico nos ajuda visualmente a sempre entender a situação como um todo para termos respostas para nossas perguntas"
      ]
    }
  ]
}