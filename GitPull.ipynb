{
  "nbformat": 4,
  "nbformat_minor": 0,
  "metadata": {
    "colab": {
      "name": "GitPull.ipynb",
      "provenance": [],
      "authorship_tag": "ABX9TyN/CaCjdhzzhyOVrd+Fhtqg",
      "include_colab_link": true
    },
    "kernelspec": {
      "name": "python3",
      "display_name": "Python 3"
    },
    "language_info": {
      "name": "python"
    }
  },
  "cells": [
    {
      "cell_type": "markdown",
      "metadata": {
        "id": "view-in-github",
        "colab_type": "text"
      },
      "source": [
        "<a href=\"https://colab.research.google.com/github/samuelhenrick1/GoogleCollab/blob/main/GitPull.ipynb\" target=\"_parent\"><img src=\"https://colab.research.google.com/assets/colab-badge.svg\" alt=\"Open In Colab\"/></a>"
      ]
    },
    {
      "cell_type": "code",
      "metadata": {
        "colab": {
          "base_uri": "https://localhost:8080/"
        },
        "id": "WfpyMgbIOHM0",
        "outputId": "935e2fed-3b28-41fe-f7b1-bd398ba7ab7b"
      },
      "source": [
        "print(\"GitPull.ipynb\")"
      ],
      "execution_count": 1,
      "outputs": [
        {
          "output_type": "stream",
          "text": [
            "GitPull.ipynb\n"
          ],
          "name": "stdout"
        }
      ]
    }
  ]
}