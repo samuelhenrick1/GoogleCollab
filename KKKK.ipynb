{
  "nbformat": 4,
  "nbformat_minor": 0,
  "metadata": {
    "colab": {
      "name": "KKKK.ipynb",
      "provenance": [],
      "authorship_tag": "ABX9TyMkmMNw08qc4Frtv6JYPYx9",
      "include_colab_link": true
    },
    "kernelspec": {
      "name": "python3",
      "display_name": "Python 3"
    },
    "language_info": {
      "name": "python"
    }
  },
  "cells": [
    {
      "cell_type": "markdown",
      "metadata": {
        "id": "view-in-github",
        "colab_type": "text"
      },
      "source": [
        "<a href=\"https://colab.research.google.com/github/samuelhenrick1/GoogleCollab/blob/main/KKKK.ipynb\" target=\"_parent\"><img src=\"https://colab.research.google.com/assets/colab-badge.svg\" alt=\"Open In Colab\"/></a>"
      ]
    },
    {
      "cell_type": "code",
      "metadata": {
        "colab": {
          "base_uri": "https://localhost:8080/"
        },
        "id": "m87j_CH6Mw5e",
        "outputId": "352489ad-b6bb-49a1-9e41-f30a2ac3f4ea"
      },
      "source": [
        "print(\"KKK\")"
      ],
      "execution_count": 1,
      "outputs": [
        {
          "output_type": "stream",
          "text": [
            "KKK\n"
          ],
          "name": "stdout"
        }
      ]
    }
  ]
}