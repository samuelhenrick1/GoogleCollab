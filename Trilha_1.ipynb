{
  "nbformat": 4,
  "nbformat_minor": 0,
  "metadata": {
    "colab": {
      "name": "Trilha 1.ipynb",
      "provenance": [],
      "collapsed_sections": [],
      "authorship_tag": "ABX9TyOvOtaXDtVo+YxFmAQTRBgw",
      "include_colab_link": true
    },
    "kernelspec": {
      "name": "python3",
      "display_name": "Python 3"
    },
    "language_info": {
      "name": "python"
    }
  },
  "cells": [
    {
      "cell_type": "markdown",
      "metadata": {
        "id": "view-in-github",
        "colab_type": "text"
      },
      "source": [
        "<a href=\"https://colab.research.google.com/github/samuelhenrick1/GoogleCollab/blob/main/Trilha_1.ipynb\" target=\"_parent\"><img src=\"https://colab.research.google.com/assets/colab-badge.svg\" alt=\"Open In Colab\"/></a>"
      ]
    },
    {
      "cell_type": "code",
      "metadata": {
        "colab": {
          "base_uri": "https://localhost:8080/"
        },
        "id": "6zjyTd1ZMjqc",
        "outputId": "7f9aad7a-ca0f-48f7-ced7-cb51a314ae3b"
      },
      "source": [
        "numero = float(input('1'))\n",
        "print(numero)"
      ],
      "execution_count": null,
      "outputs": [
        {
          "output_type": "stream",
          "text": [
            "11\n",
            "1.0\n"
          ],
          "name": "stdout"
        }
      ]
    },
    {
      "cell_type": "code",
      "metadata": {
        "id": "-t136-ko6z9A"
      },
      "source": [
        "import pandas as pd\n",
        "import numpy as np\n",
        "import matplotlib.pyplot as plt\n",
        "import matplotlib as mpl\n",
        "\n",
        "%matplotlib inline"
      ],
      "execution_count": null,
      "outputs": []
    },
    {
      "cell_type": "code",
      "metadata": {
        "colab": {
          "base_uri": "https://localhost:8080/"
        },
        "id": "ZYIQglPZ7Z-i",
        "outputId": "8aa74b47-8e80-465c-fdf8-74d600cfad5b"
      },
      "source": [
        "mylist = ['A', 'B', 'C', 'A', 'B']\n",
        "\n",
        "for i in range(len(mylist)):\n",
        "  print(i,mylist[i])\n",
        "\n",
        "for item in mylist:\n",
        "  print(item)"
      ],
      "execution_count": null,
      "outputs": [
        {
          "output_type": "stream",
          "text": [
            "0 A\n",
            "1 B\n",
            "2 C\n",
            "3 A\n",
            "4 B\n",
            "A\n",
            "B\n",
            "C\n",
            "A\n",
            "B\n"
          ],
          "name": "stdout"
        }
      ]
    },
    {
      "cell_type": "code",
      "metadata": {
        "colab": {
          "base_uri": "https://localhost:8080/"
        },
        "id": "1_Wbq-G58aDg",
        "outputId": "646fc76f-ee8e-4831-c526-284f2a54cb4c"
      },
      "source": [
        "import numpy as np\n",
        "\n",
        "array1D = np.array([1,2,3])\n",
        "array2D = np.array([[1,2,3,4],[11,12,13,14],[21,22,23,24]])\n",
        "\n",
        "print(array1D.ndim, array2D.ndim)\n",
        "print(array1D.shape, array2D.shape)\n",
        "print(array1D)\n",
        "print(array2D)\n",
        "print(array1D[1])\n",
        "print(array2D[1:3])\n",
        "print(array2D[1][3])\n"
      ],
      "execution_count": null,
      "outputs": [
        {
          "output_type": "stream",
          "text": [
            "1 2\n",
            "(3,) (3, 4)\n",
            "[1 2 3]\n",
            "[[ 1  2  3  4]\n",
            " [11 12 13 14]\n",
            " [21 22 23 24]]\n",
            "2\n",
            "[[11 12 13 14]\n",
            " [21 22 23 24]]\n",
            "14\n"
          ],
          "name": "stdout"
        }
      ]
    },
    {
      "cell_type": "code",
      "metadata": {
        "colab": {
          "base_uri": "https://localhost:8080/"
        },
        "id": "6q1pvGe4-nuk",
        "outputId": "a1fefc94-1d8a-4f55-c741-593c73ec646e"
      },
      "source": [
        "secound_in_a_day = 24*60*60\n",
        "secound_in_a_day"
      ],
      "execution_count": null,
      "outputs": [
        {
          "output_type": "execute_result",
          "data": {
            "text/plain": [
              "86400"
            ]
          },
          "metadata": {},
          "execution_count": 85
        }
      ]
    },
    {
      "cell_type": "code",
      "metadata": {
        "id": "-4Svqnf7Rw16"
      },
      "source": [
        "import numpy as np"
      ],
      "execution_count": null,
      "outputs": []
    },
    {
      "cell_type": "code",
      "metadata": {
        "colab": {
          "base_uri": "https://localhost:8080/",
          "height": 299
        },
        "id": "_rA-f1h8BKDM",
        "outputId": "5b34d9d9-f99f-463b-a734-e93815ea9117"
      },
      "source": [
        "import numpy as np\n",
        "import matplotlib.pyplot as plt\n",
        "\n",
        "cores = 'rgbcmyk'\n",
        "label = ['red','green','blue','cyan','magenta','yellow','black']\n",
        "\n",
        "n = int (input('Entre com um numero inteiro: '))\n",
        "\n",
        "cor = n % len(cores)\n",
        "\n",
        "x = 200 + np.random.randn(100)\n",
        "plt.plot(x,color=cores[cor])\n",
        "\n",
        "plt.title(label[cor].upper(),fontsize=14)\n",
        "plt.show()\n"
      ],
      "execution_count": null,
      "outputs": [
        {
          "output_type": "stream",
          "text": [
            "Entre com um numero inteiro: 1\n"
          ],
          "name": "stdout"
        },
        {
          "output_type": "display_data",
          "data": {
            "image/png": "[encoded data removed]",
            "text/plain": [
              "<Figure size 432x288 with 1 Axes>"
            ]
          },
          "metadata": {
            "needs_background": "light"
          }
        }
      ]
    },
    {
      "cell_type": "code",
      "metadata": {
        "colab": {
          "base_uri": "https://localhost:8080/"
        },
        "id": "tkpgupW2C2Li",
        "outputId": "656fecb1-4a5a-434e-c55d-8e03bd2d6adf"
      },
      "source": [
        "x = np.random.randint(10)\n",
        "print(x)\n",
        "del x"
      ],
      "execution_count": null,
      "outputs": [
        {
          "output_type": "stream",
          "text": [
            "3\n"
          ],
          "name": "stdout"
        }
      ]
    },
    {
      "cell_type": "markdown",
      "metadata": {
        "id": "nGTFd55KDLJt"
      },
      "source": [
        "> Titulos\n",
        "\n",
        "#Titulo 1\n",
        "##Titulo 2\n",
        "##Titulos 3\n",
        "\n",
        "> Textos\n",
        "\n",
        "**bold**\n",
        "\n",
        "*italic*\n",
        "\n",
        ">Identação\n",
        "\n",
        ">indent 1\n",
        "\n",
        ">> indent 2\n",
        "\n",
        "\n",
        "> Listas\n",
        "\n",
        "* item\n",
        "* item\n",
        "* item\n",
        "\n",
        "1. item 1\n",
        "2. item 2\n",
        "3. item 3\n"
      ]
    },
    {
      "cell_type": "code",
      "metadata": {
        "colab": {
          "base_uri": "https://localhost:8080/"
        },
        "id": "4EQWWbKvH1m0",
        "outputId": "fbd9c9a1-14cf-4ce8-920f-9c1170bf2e27"
      },
      "source": [
        "inteiro = 123\n",
        "real = np.pi\n",
        "texto1 ='123'\n",
        "texto2 = 'Led Zeppelin'\n",
        "\n",
        "print(type(inteiro),type(real),type(texto1),type(texto2))\n",
        "print(inteiro, real, texto1, texto2)"
      ],
      "execution_count": null,
      "outputs": [
        {
          "output_type": "stream",
          "text": [
            "<class 'int'> <class 'float'> <class 'str'> <class 'str'>\n",
            "123 3.141592653589793 123 Led Zeppelin\n"
          ],
          "name": "stdout"
        }
      ]
    },
    {
      "cell_type": "code",
      "metadata": {
        "colab": {
          "base_uri": "https://localhost:8080/"
        },
        "id": "gxIBQmKHJLjl",
        "outputId": "05b1ff52-f18c-4e55-80fb-a6541a3abcf4"
      },
      "source": [
        "inteiro = inteiro + 1\n",
        "real = real + 1\n",
        "texto1 = texto1 + '4'\n",
        "texto2 = texto2 + ': Stairway to Heaven'\n",
        "\n",
        "print(inteiro, real, texto1, texto2)\n",
        "print(inteiro, '\\n', real, '\\n', texto1, '\\n', '\\t'*4,texto2)\n",
        "print('Valor real {:0.2f}'. format(real))"
      ],
      "execution_count": null,
      "outputs": [
        {
          "output_type": "stream",
          "text": [
            "124 4.141592653589793 1234 Led Zeppelin: Stairway to Heaven\n",
            "124 \n",
            " 4.141592653589793 \n",
            " 1234 \n",
            " \t\t\t\t Led Zeppelin: Stairway to Heaven\n",
            "Valor real 4.14\n"
          ],
          "name": "stdout"
        }
      ]
    },
    {
      "cell_type": "code",
      "metadata": {
        "colab": {
          "base_uri": "https://localhost:8080/"
        },
        "id": "XYlXLD2iJ6Rm",
        "outputId": "bebf3830-1a92-4bf4-aa62-82b5411b472f"
      },
      "source": [
        "print(3*4, 3+4, 3-4, 3/4, 3.14, 4.2e-4)\n",
        "print(type(3*4), type(3.14), type (4.2e-4))\n",
        "print(3 ** 2, 3 // 4, 3 % 4)\n",
        "print(4 > 3, 4>=3, 3==3.0, 3 != 4, 3 <=4)\n",
        "print( 1< 2 < 9)"
      ],
      "execution_count": null,
      "outputs": [
        {
          "output_type": "stream",
          "text": [
            "12 7 -1 0.75 3.14 0.00042\n",
            "<class 'int'> <class 'float'> <class 'float'>\n",
            "9 0 3\n",
            "True True True True True\n",
            "True\n"
          ],
          "name": "stdout"
        }
      ]
    },
    {
      "cell_type": "code",
      "metadata": {
        "colab": {
          "base_uri": "https://localhost:8080/"
        },
        "id": "53EmQRqGPCU3",
        "outputId": "dbc730b2-06e7-4347-850d-2cbc22802c88"
      },
      "source": [
        "import numpy as np\n",
        "\n",
        "print (np.pi)\n",
        "print (np.exp(1))\n",
        "\n",
        "print (5 % 2)\n",
        "print (np.mod(5,2))\n",
        "\n",
        "print(np.random.rand(1))\n",
        "print(np.random.sample(10))"
      ],
      "execution_count": null,
      "outputs": [
        {
          "output_type": "stream",
          "text": [
            "3.141592653589793\n",
            "2.718281828459045\n",
            "1\n",
            "1\n",
            "[0.95105171]\n",
            "[0.39648518 0.31838342 0.15056553 0.04122441 0.72606994 0.22241525\n",
            " 0.76410486 0.28144019 0.09305363 0.58603293]\n"
          ],
          "name": "stdout"
        }
      ]
    },
    {
      "cell_type": "code",
      "metadata": {
        "colab": {
          "base_uri": "https://localhost:8080/"
        },
        "id": "j4tivnePPgeU",
        "outputId": "9e2ac33c-9a59-4568-8db4-e7d071e31dd2"
      },
      "source": [
        "print(texto2[0:12])\n",
        "print('0123456789012'[0:12])"
      ],
      "execution_count": null,
      "outputs": [
        {
          "output_type": "stream",
          "text": [
            "Led Zeppelin\n",
            "012345678901\n"
          ],
          "name": "stdout"
        }
      ]
    },
    {
      "cell_type": "code",
      "metadata": {
        "colab": {
          "base_uri": "https://localhost:8080/"
        },
        "id": "w0ixUfEqQLfg",
        "outputId": "a7d458f2-e1f1-4e80-b951-23b46b0d1c9b"
      },
      "source": [
        "str1 = 'A arte existe'\n",
        "\n",
        "print(str1.find('arte'))\n",
        "print(str1.lower())\n",
        "str2 = str1.replace('arte','life')\n",
        "print(str2)"
      ],
      "execution_count": null,
      "outputs": [
        {
          "output_type": "stream",
          "text": [
            "2\n",
            "a arte existe\n",
            "A life existe\n"
          ],
          "name": "stdout"
        }
      ]
    },
    {
      "cell_type": "code",
      "metadata": {
        "colab": {
          "base_uri": "https://localhost:8080/"
        },
        "id": "Y-X8VIXFROYe",
        "outputId": "45648950-44d4-4d3a-cbad-16d5dfe98620"
      },
      "source": [
        "text = input('Entre com seu texto: ')\n",
        "text = 'Texto'\n",
        "print(type(text))\n",
        "\n",
        "numero = float(input('Entre com seu numero: '))\n",
        "numero =2.24\n",
        "print('Seu texto: ', text, '\\n', 'Seu numero: ', '%0.2f' %numero)"
      ],
      "execution_count": null,
      "outputs": [
        {
          "output_type": "stream",
          "text": [
            "Entre com seu texto: oi\n",
            "<class 'str'>\n",
            "Entre com seu numero: 1\n",
            "Seu texto:  Texto \n",
            " Seu numero:  2.24\n"
          ],
          "name": "stdout"
        }
      ]
    },
    {
      "cell_type": "code",
      "metadata": {
        "colab": {
          "base_uri": "https://localhost:8080/"
        },
        "id": "WXsxiHe2SJyz",
        "outputId": "e202f757-1625-498c-b411-ddcedf8857be"
      },
      "source": [
        "a = 1964\n",
        "b = 1984\n",
        "\n",
        "if b > a:\n",
        "  print(\"B é maior que A\")\n",
        "else:\n",
        "  print(\"A é maior que B\")\n",
        "\n",
        "if b > a:\n",
        "  print(\"B é maior que A\")\n",
        "elif a == b:\n",
        "  print(\"A e B são iguais\")\n",
        "else:\n",
        "  print(\"A e maior que B\")"
      ],
      "execution_count": null,
      "outputs": [
        {
          "output_type": "stream",
          "text": [
            "B é maior que A\n",
            "B é maior que A\n"
          ],
          "name": "stdout"
        }
      ]
    },
    {
      "cell_type": "code",
      "metadata": {
        "colab": {
          "base_uri": "https://localhost:8080/"
        },
        "id": "mZUXvOtYTFoU",
        "outputId": "a85e2708-8724-45fc-bbe5-feecfc045398"
      },
      "source": [
        "for i in range (5):\n",
        "  print (i)\n",
        "  if i == 3:\n",
        "    break\n",
        "  \n",
        "i = 1\n",
        "while i < 6:\n",
        "  print(i)\n",
        "  if i == 3:\n",
        "    break\n",
        "  i += 1"
      ],
      "execution_count": null,
      "outputs": [
        {
          "output_type": "stream",
          "text": [
            "0\n",
            "1\n",
            "2\n",
            "3\n",
            "1\n",
            "2\n",
            "3\n"
          ],
          "name": "stdout"
        }
      ]
    },
    {
      "cell_type": "code",
      "metadata": {
        "colab": {
          "base_uri": "https://localhost:8080/"
        },
        "id": "XVsikAc9UYxd",
        "outputId": "afbe6aa9-7403-41fe-a4ab-6782ea7c6a3d"
      },
      "source": [
        "for idade in [12,18,84]:\n",
        "  print(idade)\n",
        "\n",
        "for nome in ['Adriana', 'Daniel', 'Henrique']:\n",
        "  print(nome)"
      ],
      "execution_count": null,
      "outputs": [
        {
          "output_type": "stream",
          "text": [
            "12\n",
            "18\n",
            "84\n",
            "Adriana\n",
            "Daniel\n",
            "Henrique\n"
          ],
          "name": "stdout"
        }
      ]
    },
    {
      "cell_type": "code",
      "metadata": {
        "id": "trPE04gqrlPV",
        "colab": {
          "base_uri": "https://localhost:8080/"
        },
        "outputId": "438bb2ee-cb58-42e7-f5ef-e174e6ee1f62"
      },
      "source": [
        "def mymax (a,b):\n",
        "  if a > b:\n",
        "    return a\n",
        "  else:\n",
        "      return b\n",
        "    \n",
        "mymax(1984,1964)"
      ],
      "execution_count": null,
      "outputs": [
        {
          "output_type": "execute_result",
          "data": {
            "text/plain": [
              "1984"
            ]
          },
          "metadata": {},
          "execution_count": 99
        }
      ]
    },
    {
      "cell_type": "code",
      "metadata": {
        "colab": {
          "base_uri": "https://localhost:8080/"
        },
        "id": "KYRFthTqsXC-",
        "outputId": "8a725de9-95bc-4be2-b5b2-05ae4db908e3"
      },
      "source": [
        "mylist = ['A','B','C','A','B']\n",
        "\n",
        "len(mylist)\n",
        "print(mylist.count('B'))\n",
        "print(mylist.index('B'))\n",
        "print(mylist.index('B',2))\n",
        "mylist.append('D')\n",
        "print(mylist, 'depois de inserir o D')\n",
        "mylist.sort()\n",
        "print(mylist, 'depois de ordenar a lista')\n",
        "mylist[1]= 'ZZ'\n",
        "print(mylist, 'depois de alterar os elementos do indice 1')\n",
        "\n",
        "print ('A' in mylist)\n",
        "if 'A' in mylist:\n",
        "  print('Sim, A está na lista')"
      ],
      "execution_count": null,
      "outputs": [
        {
          "output_type": "stream",
          "text": [
            "2\n",
            "1\n",
            "4\n",
            "['A', 'B', 'C', 'A', 'B', 'D'] depois de inserir o D\n",
            "['A', 'A', 'B', 'B', 'C', 'D'] depois de ordenar a lista\n",
            "['A', 'ZZ', 'B', 'B', 'C', 'D'] depois de alterar os elementos do indice 1\n",
            "True\n",
            "Sim, A está na lista\n"
          ],
          "name": "stdout"
        }
      ]
    },
    {
      "cell_type": "code",
      "metadata": {
        "colab": {
          "base_uri": "https://localhost:8080/"
        },
        "id": "Hfdo-5ZVtxnI",
        "outputId": "b5a5fd2f-8f33-4ad6-b1d6-7357d2ec07b2"
      },
      "source": [
        "mylist = [[1,2,3],[11,11,13],[21,22,23]]\n",
        "print(mylist[1])\n",
        "print(mylist[1][0])\n",
        "\n",
        "print([[1,2,3],['Adriana','Samuel', 'Henrique'], 3, 'Anna', 2.5])"
      ],
      "execution_count": null,
      "outputs": [
        {
          "output_type": "stream",
          "text": [
            "[11, 11, 13]\n",
            "11\n",
            "[[1, 2, 3], ['Adriana', 'Samuel', 'Henrique'], 3, 'Anna', 2.5]\n"
          ],
          "name": "stdout"
        }
      ]
    },
    {
      "cell_type": "code",
      "metadata": {
        "colab": {
          "base_uri": "https://localhost:8080/"
        },
        "id": "UVFgHEn9ucxB",
        "outputId": "1eec7f37-6f45-4467-91d6-dff6fdbbf3a5"
      },
      "source": [
        "mylist = ['A','B','C','A','B']\n",
        "\n",
        "for i in range(len(mylist)):\n",
        "  print(i,mylist[i])\n",
        "\n",
        "for item in mylist:\n",
        "  print(item)\n"
      ],
      "execution_count": null,
      "outputs": [
        {
          "output_type": "stream",
          "text": [
            "0 A\n",
            "1 B\n",
            "2 C\n",
            "3 A\n",
            "4 B\n",
            "A\n",
            "B\n",
            "C\n",
            "A\n",
            "B\n"
          ],
          "name": "stdout"
        }
      ]
    },
    {
      "cell_type": "code",
      "metadata": {
        "colab": {
          "base_uri": "https://localhost:8080/"
        },
        "id": "-X__z-OjZnQ-",
        "outputId": "bb4b5b89-5fc7-4d07-aabc-25be3840f397"
      },
      "source": [
        "mylist = []\n",
        "\n",
        "for elem in ['Bia','Samu','Henrick']:\n",
        "  mylist.append(elem)\n",
        "\n",
        "print(mylist)"
      ],
      "execution_count": null,
      "outputs": [
        {
          "output_type": "stream",
          "text": [
            "['Bia', 'Samu', 'Henrick']\n"
          ],
          "name": "stdout"
        }
      ]
    },
    {
      "cell_type": "code",
      "metadata": {
        "colab": {
          "base_uri": "https://localhost:8080/"
        },
        "id": "sYIQQCrvaDfI",
        "outputId": "45c65efa-e081-496d-8778-5b362b57e3f3"
      },
      "source": [
        "aniversarios = {'Beatriz':1978, 'Henrique':2004, 'Adriana':1984,'Daniel':1996}\n",
        "\n",
        "print(aniversarios.keys())\n",
        "print(aniversarios['Adriana'])"
      ],
      "execution_count": null,
      "outputs": [
        {
          "output_type": "stream",
          "text": [
            "dict_keys(['Beatriz', 'Henrique', 'Adriana', 'Daniel'])\n",
            "1984\n"
          ],
          "name": "stdout"
        }
      ]
    },
    {
      "cell_type": "code",
      "metadata": {
        "colab": {
          "base_uri": "https://localhost:8080/"
        },
        "id": "8Icbc-4Ea4jF",
        "outputId": "32263d1e-e783-43c5-8467-e855b4825b17"
      },
      "source": [
        "contatos = {'Adriana' :{'aniversario':1894, 'telefone':'1234-5678','amigos':{'Henrique':2004,'Anna':1988} }}\n",
        "\n",
        "print(contatos.keys())\n",
        "print(contatos['Adriana'])\n",
        "print(contatos['Adriana']['amigos'])"
      ],
      "execution_count": null,
      "outputs": [
        {
          "output_type": "stream",
          "text": [
            "dict_keys(['Adriana'])\n",
            "{'aniversario': 1894, 'telefone': '1234-5678', 'amigos': {'Henrique': 2004, 'Anna': 1988}}\n",
            "{'Henrique': 2004, 'Anna': 1988}\n"
          ],
          "name": "stdout"
        }
      ]
    },
    {
      "cell_type": "code",
      "metadata": {
        "colab": {
          "base_uri": "https://localhost:8080/"
        },
        "id": "QQivAIFkd5mD",
        "outputId": "e9cd2f60-348c-434e-b5aa-7eda37684317"
      },
      "source": [
        "contatos = {'Adriana' :{'aniversario':1894, 'telefone':'1234-5678','amigos':{'Henrique':2004,'Anna':1988} }}\n",
        "\n",
        "print(contatos.keys())\n",
        "print(contatos['Adriana'])\n",
        "print(contatos['Adriana']['amigos'])\n",
        "\n",
        "for key, item in aniversarios.items():\n",
        "  print(key, item)\n",
        "\n",
        "print(\".....\")\n",
        "\n",
        "for item in aniversarios:\n",
        "  print(item, aniversarios[item])\n",
        "\n",
        "print(\"......\")\n",
        "\n",
        "for key in aniversarios.keys():\n",
        "  print(key)\n",
        "\n",
        "print(\"......\")\n",
        "\n",
        "for item in aniversarios.values():\n",
        "  print(item)"
      ],
      "execution_count": null,
      "outputs": [
        {
          "output_type": "stream",
          "text": [
            "dict_keys(['Adriana'])\n",
            "{'aniversario': 1894, 'telefone': '1234-5678', 'amigos': {'Henrique': 2004, 'Anna': 1988}}\n",
            "{'Henrique': 2004, 'Anna': 1988}\n",
            "Beatriz 1978\n",
            "Henrique 2004\n",
            "Adriana 1984\n",
            "Daniel 1996\n",
            ".....\n",
            "Beatriz 1978\n",
            "Henrique 2004\n",
            "Adriana 1984\n",
            "Daniel 1996\n",
            "......\n",
            "Beatriz\n",
            "Henrique\n",
            "Adriana\n",
            "Daniel\n",
            "......\n",
            "1978\n",
            "2004\n",
            "1984\n",
            "1996\n"
          ],
          "name": "stdout"
        }
      ]
    },
    {
      "cell_type": "code",
      "metadata": {
        "colab": {
          "base_uri": "https://localhost:8080/"
        },
        "id": "KXq5Epy0fDeW",
        "outputId": "400fbfe2-4cbf-4a90-f3e4-6c839cf4c663"
      },
      "source": [
        "lista_nomes = ['Carol', 'Henrique']\n",
        "lista_niver = ['2001','2005']\n",
        "\n",
        "mydict = {}\n",
        "\n",
        "for i in range (len(lista_nomes)):\n",
        "  if lista_nomes[i] not in mydict.keys():\n",
        "    mydict[lista_nomes[i]] = lista_niver[i]\n",
        "\n",
        "if 'Kate' not in mydict.keys():\n",
        "  mydict['kate'] = 2002\n",
        "\n",
        "  print(mydict)"
      ],
      "execution_count": null,
      "outputs": [
        {
          "output_type": "stream",
          "text": [
            "{'Carol': '2001', 'Henrique': '2005', 'kate': 2002}\n"
          ],
          "name": "stdout"
        }
      ]
    },
    {
      "cell_type": "code",
      "metadata": {
        "colab": {
          "base_uri": "https://localhost:8080/"
        },
        "id": "0WYj7bjOfx-x",
        "outputId": "2fcd86f7-c1fe-47cf-9516-8d513776b148"
      },
      "source": [
        "note = ['This is a note']\n",
        "\n",
        "f = open(\"note.txt\", \"w\")\n",
        "for line in note:\n",
        "  f.write(line)\n",
        "  f.close()\n",
        "\n",
        "f = open(\"note.txt\", \"r\")\n",
        "for line in f:\n",
        "  print(line)"
      ],
      "execution_count": null,
      "outputs": [
        {
          "output_type": "stream",
          "text": [
            "This is a note\n"
          ],
          "name": "stdout"
        }
      ]
    },
    {
      "cell_type": "code",
      "metadata": {
        "colab": {
          "base_uri": "https://localhost:8080/"
        },
        "id": "ZiNYZCDvgT7s",
        "outputId": "ab825903-34b3-454d-9548-e21439987b79"
      },
      "source": [
        "import urllib.request\n",
        "\n",
        "data = urllib.request.urlopen('http://meusite.mackenzie.br/rogerio/TIC/PlayBallcsv.csv')\n",
        "\n",
        "for line in data:\n",
        "  print(line.decode('utf-8'))\n",
        "  break"
      ],
      "execution_count": null,
      "outputs": [
        {
          "output_type": "stream",
          "text": [
            "Day,Outlook,Temperature,Humidity,Wind,Play ball\r\n",
            "\n"
          ],
          "name": "stdout"
        }
      ]
    },
    {
      "cell_type": "code",
      "metadata": {
        "colab": {
          "base_uri": "https://localhost:8080/"
        },
        "id": "ybwO5HU6hGXy",
        "outputId": "d694c1e7-0506-4408-984d-787c45b464b2"
      },
      "source": [
        "import numpy as np\n",
        "\n",
        "array1D = np.array([1,2,3])\n",
        "array2D = np.array([[1,2,3,4],[11,12,13,14],[21,22,23,24]])\n",
        "\n",
        "print(array1D.ndim, array2D.ndim)\n",
        "print(array1D.shape, array2D.shape)\n",
        "print(array1D)\n",
        "print(array2D)\n",
        "print(array1D[1])\n",
        "print(array2D[1:3])\n",
        "print(array2D[1][3])\n",
        "\n"
      ],
      "execution_count": null,
      "outputs": [
        {
          "output_type": "stream",
          "text": [
            "1 2\n",
            "(3,) (3, 4)\n",
            "[1 2 3]\n",
            "[[ 1  2  3  4]\n",
            " [11 12 13 14]\n",
            " [21 22 23 24]]\n",
            "2\n",
            "[[11 12 13 14]\n",
            " [21 22 23 24]]\n",
            "14\n"
          ],
          "name": "stdout"
        }
      ]
    },
    {
      "cell_type": "code",
      "metadata": {
        "colab": {
          "base_uri": "https://localhost:8080/"
        },
        "id": "Ye9hm340bt3P",
        "outputId": "aae1fcfd-764e-4254-8cda-6d9111587790"
      },
      "source": [
        "import numpy as np\n",
        "\n",
        "array1D = np.array([1,2,3])\n",
        "array2D = np.array([[1,2,3,4],[11,12,13,14],[21,22,23,24]])\n",
        "\n",
        "for i in range(array1D.shape[0]):\n",
        "  print(i, array1D[i])\n",
        "\n",
        "for i in range(array2D.shape[0]):\n",
        "  for j in range(array2D.shape[1]):\n",
        "    print(i, j, array2D[i,j])"
      ],
      "execution_count": null,
      "outputs": [
        {
          "output_type": "stream",
          "text": [
            "0 1\n",
            "1 2\n",
            "2 3\n",
            "0 0 1\n",
            "0 1 2\n",
            "0 2 3\n",
            "0 3 4\n",
            "1 0 11\n",
            "1 1 12\n",
            "1 2 13\n",
            "1 3 14\n",
            "2 0 21\n",
            "2 1 22\n",
            "2 2 23\n",
            "2 3 24\n"
          ],
          "name": "stdout"
        }
      ]
    },
    {
      "cell_type": "code",
      "metadata": {
        "colab": {
          "base_uri": "https://localhost:8080/"
        },
        "id": "69O29GrjiE-N",
        "outputId": "4aea1564-a1df-4c2c-8fb6-508bc4310874"
      },
      "source": [
        "x = np.array([1,2,3])\n",
        "print(np.mean(x),np.sum(x),np.power(x,2))\n",
        "print(2*x,x+x,x**2 + 2*x+1,np.log(x))"
      ],
      "execution_count": null,
      "outputs": [
        {
          "output_type": "stream",
          "text": [
            "2.0 6 [1 4 9]\n",
            "[2 4 6] [2 4 6] [ 4  9 16] [0.         0.69314718 1.09861229]\n"
          ],
          "name": "stdout"
        }
      ]
    },
    {
      "cell_type": "code",
      "metadata": {
        "colab": {
          "base_uri": "https://localhost:8080/"
        },
        "id": "vb0ACH7iiIdh",
        "outputId": "b869c667-70b2-4b9d-c03e-6729307c2d98"
      },
      "source": [
        "x = np.array([1,2,3])\n",
        "\n",
        "x_list = x.tolist()\n",
        "print (x,x_list)\n",
        "\n",
        "np.random.seed(1984)\n",
        "print(np.random.randint(low=1,high=6,size=10))\n",
        "print(np.random.rand(4))\n",
        "print(np.random.sample(5))\n",
        "\n",
        "print(np.arange(10, 20, 2))\n",
        "\n",
        "print(np.linspace(10, 20, 50))"
      ],
      "execution_count": null,
      "outputs": [
        {
          "output_type": "stream",
          "text": [
            "[1 2 3] [1, 2, 3]\n",
            "[5 4 2 1 1 3 3 2 3 1]\n",
            "[0.99873856 0.89441845 0.26139183 0.73330439]\n",
            "[0.14629798 0.17234917 0.61481704 0.59564882 0.68232631]\n",
            "[10 12 14 16 18]\n",
            "[10.         10.20408163 10.40816327 10.6122449  10.81632653 11.02040816\n",
            " 11.2244898  11.42857143 11.63265306 11.83673469 12.04081633 12.24489796\n",
            " 12.44897959 12.65306122 12.85714286 13.06122449 13.26530612 13.46938776\n",
            " 13.67346939 13.87755102 14.08163265 14.28571429 14.48979592 14.69387755\n",
            " 14.89795918 15.10204082 15.30612245 15.51020408 15.71428571 15.91836735\n",
            " 16.12244898 16.32653061 16.53061224 16.73469388 16.93877551 17.14285714\n",
            " 17.34693878 17.55102041 17.75510204 17.95918367 18.16326531 18.36734694\n",
            " 18.57142857 18.7755102  18.97959184 19.18367347 19.3877551  19.59183673\n",
            " 19.79591837 20.        ]\n"
          ],
          "name": "stdout"
        }
      ]
    },
    {
      "cell_type": "code",
      "metadata": {
        "id": "qdYLw__069sV"
      },
      "source": [
        "def soma (a,b):\n",
        "  return a+b"
      ],
      "execution_count": null,
      "outputs": []
    },
    {
      "cell_type": "code",
      "metadata": {
        "colab": {
          "base_uri": "https://localhost:8080/"
        },
        "id": "pm89Lbqw7CU1",
        "outputId": "25e188a6-d006-4f75-f12f-8336ecb908d7"
      },
      "source": [
        "soma(10,5)\n"
      ],
      "execution_count": null,
      "outputs": [
        {
          "output_type": "execute_result",
          "data": {
            "text/plain": [
              "15"
            ]
          },
          "metadata": {},
          "execution_count": 115
        }
      ]
    }
  ]
}